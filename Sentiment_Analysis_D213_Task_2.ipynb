{
  "cells": [
    {
      "cell_type": "markdown",
      "metadata": {
        "id": "view-in-github",
        "colab_type": "text"
      },
      "source": [
        "<a href=\"https://colab.research.google.com/github/andrew-mecchi/andrew-mecchi.github.io/blob/main/Sentiment_Analysis_D213_Task_2.ipynb\" target=\"_parent\"><img src=\"https://colab.research.google.com/assets/colab-badge.svg\" alt=\"Open In Colab\"/></a>"
      ]
    },
    {
      "cell_type": "code",
      "execution_count": 2,
      "metadata": {
        "id": "FzemZZEXL6RH"
      },
      "outputs": [],
      "source": [
        "# Import libraries and packages\n",
        "import pandas as pd\n",
        "import numpy as np\n",
        "import seaborn as sns\n",
        "import matplotlib.pyplot as plt\n",
        "import re\n",
        "from nltk.corpus import stopwords\n",
        "import nltk\n",
        "from nltk.corpus import stopwords\n",
        "from nltk.tokenize import word_tokenize\n",
        "from nltk.stem.wordnet import WordNetLemmatizer\n",
        "\n",
        "\n",
        "import warnings\n",
        "warnings.filterwarnings('ignore')\n",
        "\n",
        "pd.set_option('display.max_columns', None)\n",
        "plt.style.use('ggplot')"
      ]
    },
    {
      "cell_type": "code",
      "execution_count": null,
      "metadata": {
        "colab": {
          "base_uri": "https://localhost:8080/"
        },
        "id": "bsymw9HlMIni",
        "outputId": "5f617527-017a-4482-9c8d-4bd090d478c2"
      },
      "outputs": [
        {
          "name": "stderr",
          "output_type": "stream",
          "text": [
            "[nltk_data] Downloading collection 'all'\n",
            "[nltk_data]    | \n",
            "[nltk_data]    | Downloading package abc to\n",
            "[nltk_data]    |     C:\\Users\\andrew\\AppData\\Roaming\\nltk_data...\n",
            "[nltk_data]    |   Package abc is already up-to-date!\n",
            "[nltk_data]    | Downloading package alpino to\n",
            "[nltk_data]    |     C:\\Users\\andrew\\AppData\\Roaming\\nltk_data...\n",
            "[nltk_data]    |   Package alpino is already up-to-date!\n",
            "[nltk_data]    | Downloading package averaged_perceptron_tagger to\n",
            "[nltk_data]    |     C:\\Users\\andrew\\AppData\\Roaming\\nltk_data...\n",
            "[nltk_data]    |   Package averaged_perceptron_tagger is already up-\n",
            "[nltk_data]    |       to-date!\n",
            "[nltk_data]    | Downloading package averaged_perceptron_tagger_ru to\n",
            "[nltk_data]    |     C:\\Users\\andrew\\AppData\\Roaming\\nltk_data...\n",
            "[nltk_data]    |   Package averaged_perceptron_tagger_ru is already\n",
            "[nltk_data]    |       up-to-date!\n",
            "[nltk_data]    | Downloading package basque_grammars to\n",
            "[nltk_data]    |     C:\\Users\\andrew\\AppData\\Roaming\\nltk_data...\n",
            "[nltk_data]    |   Package basque_grammars is already up-to-date!\n",
            "[nltk_data]    | Downloading package bcp47 to\n",
            "[nltk_data]    |     C:\\Users\\andrew\\AppData\\Roaming\\nltk_data...\n",
            "[nltk_data]    |   Package bcp47 is already up-to-date!\n",
            "[nltk_data]    | Downloading package biocreative_ppi to\n",
            "[nltk_data]    |     C:\\Users\\andrew\\AppData\\Roaming\\nltk_data...\n",
            "[nltk_data]    |   Package biocreative_ppi is already up-to-date!\n",
            "[nltk_data]    | Downloading package bllip_wsj_no_aux to\n",
            "[nltk_data]    |     C:\\Users\\andrew\\AppData\\Roaming\\nltk_data...\n",
            "[nltk_data]    |   Package bllip_wsj_no_aux is already up-to-date!\n",
            "[nltk_data]    | Downloading package book_grammars to\n",
            "[nltk_data]    |     C:\\Users\\andrew\\AppData\\Roaming\\nltk_data...\n",
            "[nltk_data]    |   Package book_grammars is already up-to-date!\n",
            "[nltk_data]    | Downloading package brown to\n",
            "[nltk_data]    |     C:\\Users\\andrew\\AppData\\Roaming\\nltk_data...\n",
            "[nltk_data]    |   Package brown is already up-to-date!\n",
            "[nltk_data]    | Downloading package brown_tei to\n",
            "[nltk_data]    |     C:\\Users\\andrew\\AppData\\Roaming\\nltk_data...\n",
            "[nltk_data]    |   Package brown_tei is already up-to-date!\n",
            "[nltk_data]    | Downloading package cess_cat to\n",
            "[nltk_data]    |     C:\\Users\\andrew\\AppData\\Roaming\\nltk_data...\n",
            "[nltk_data]    |   Package cess_cat is already up-to-date!\n",
            "[nltk_data]    | Downloading package cess_esp to\n",
            "[nltk_data]    |     C:\\Users\\andrew\\AppData\\Roaming\\nltk_data...\n",
            "[nltk_data]    |   Package cess_esp is already up-to-date!\n",
            "[nltk_data]    | Downloading package chat80 to\n",
            "[nltk_data]    |     C:\\Users\\andrew\\AppData\\Roaming\\nltk_data...\n",
            "[nltk_data]    |   Package chat80 is already up-to-date!\n",
            "[nltk_data]    | Downloading package city_database to\n",
            "[nltk_data]    |     C:\\Users\\andrew\\AppData\\Roaming\\nltk_data...\n",
            "[nltk_data]    |   Package city_database is already up-to-date!\n",
            "[nltk_data]    | Downloading package cmudict to\n",
            "[nltk_data]    |     C:\\Users\\andrew\\AppData\\Roaming\\nltk_data...\n",
            "[nltk_data]    |   Package cmudict is already up-to-date!\n",
            "[nltk_data]    | Downloading package comparative_sentences to\n",
            "[nltk_data]    |     C:\\Users\\andrew\\AppData\\Roaming\\nltk_data...\n",
            "[nltk_data]    |   Package comparative_sentences is already up-to-\n",
            "[nltk_data]    |       date!\n",
            "[nltk_data]    | Downloading package comtrans to\n",
            "[nltk_data]    |     C:\\Users\\andrew\\AppData\\Roaming\\nltk_data...\n",
            "[nltk_data]    |   Package comtrans is already up-to-date!\n",
            "[nltk_data]    | Downloading package conll2000 to\n",
            "[nltk_data]    |     C:\\Users\\andrew\\AppData\\Roaming\\nltk_data...\n",
            "[nltk_data]    |   Package conll2000 is already up-to-date!\n",
            "[nltk_data]    | Downloading package conll2002 to\n",
            "[nltk_data]    |     C:\\Users\\andrew\\AppData\\Roaming\\nltk_data...\n",
            "[nltk_data]    |   Package conll2002 is already up-to-date!\n",
            "[nltk_data]    | Downloading package conll2007 to\n",
            "[nltk_data]    |     C:\\Users\\andrew\\AppData\\Roaming\\nltk_data...\n",
            "[nltk_data]    |   Package conll2007 is already up-to-date!\n",
            "[nltk_data]    | Downloading package crubadan to\n",
            "[nltk_data]    |     C:\\Users\\andrew\\AppData\\Roaming\\nltk_data...\n",
            "[nltk_data]    |   Package crubadan is already up-to-date!\n",
            "[nltk_data]    | Downloading package dependency_treebank to\n",
            "[nltk_data]    |     C:\\Users\\andrew\\AppData\\Roaming\\nltk_data...\n",
            "[nltk_data]    |   Package dependency_treebank is already up-to-date!\n",
            "[nltk_data]    | Downloading package dolch to\n",
            "[nltk_data]    |     C:\\Users\\andrew\\AppData\\Roaming\\nltk_data...\n",
            "[nltk_data]    |   Package dolch is already up-to-date!\n",
            "[nltk_data]    | Downloading package europarl_raw to\n",
            "[nltk_data]    |     C:\\Users\\andrew\\AppData\\Roaming\\nltk_data...\n",
            "[nltk_data]    |   Package europarl_raw is already up-to-date!\n",
            "[nltk_data]    | Downloading package extended_omw to\n",
            "[nltk_data]    |     C:\\Users\\andrew\\AppData\\Roaming\\nltk_data...\n",
            "[nltk_data]    |   Package extended_omw is already up-to-date!\n",
            "[nltk_data]    | Downloading package floresta to\n",
            "[nltk_data]    |     C:\\Users\\andrew\\AppData\\Roaming\\nltk_data...\n",
            "[nltk_data]    |   Package floresta is already up-to-date!\n",
            "[nltk_data]    | Downloading package framenet_v15 to\n",
            "[nltk_data]    |     C:\\Users\\andrew\\AppData\\Roaming\\nltk_data...\n",
            "[nltk_data]    |   Package framenet_v15 is already up-to-date!\n",
            "[nltk_data]    | Downloading package framenet_v17 to\n",
            "[nltk_data]    |     C:\\Users\\andrew\\AppData\\Roaming\\nltk_data...\n",
            "[nltk_data]    |   Package framenet_v17 is already up-to-date!\n",
            "[nltk_data]    | Downloading package gazetteers to\n",
            "[nltk_data]    |     C:\\Users\\andrew\\AppData\\Roaming\\nltk_data...\n",
            "[nltk_data]    |   Package gazetteers is already up-to-date!\n",
            "[nltk_data]    | Downloading package genesis to\n",
            "[nltk_data]    |     C:\\Users\\andrew\\AppData\\Roaming\\nltk_data...\n",
            "[nltk_data]    |   Package genesis is already up-to-date!\n",
            "[nltk_data]    | Downloading package gutenberg to\n",
            "[nltk_data]    |     C:\\Users\\andrew\\AppData\\Roaming\\nltk_data...\n",
            "[nltk_data]    |   Package gutenberg is already up-to-date!\n",
            "[nltk_data]    | Downloading package ieer to\n",
            "[nltk_data]    |     C:\\Users\\andrew\\AppData\\Roaming\\nltk_data...\n",
            "[nltk_data]    |   Package ieer is already up-to-date!\n",
            "[nltk_data]    | Downloading package inaugural to\n",
            "[nltk_data]    |     C:\\Users\\andrew\\AppData\\Roaming\\nltk_data...\n",
            "[nltk_data]    |   Package inaugural is already up-to-date!\n",
            "[nltk_data]    | Downloading package indian to\n",
            "[nltk_data]    |     C:\\Users\\andrew\\AppData\\Roaming\\nltk_data...\n",
            "[nltk_data]    |   Package indian is already up-to-date!\n",
            "[nltk_data]    | Downloading package jeita to\n",
            "[nltk_data]    |     C:\\Users\\andrew\\AppData\\Roaming\\nltk_data...\n",
            "[nltk_data]    |   Package jeita is already up-to-date!\n",
            "[nltk_data]    | Downloading package kimmo to\n",
            "[nltk_data]    |     C:\\Users\\andrew\\AppData\\Roaming\\nltk_data...\n",
            "[nltk_data]    |   Package kimmo is already up-to-date!\n",
            "[nltk_data]    | Downloading package knbc to\n",
            "[nltk_data]    |     C:\\Users\\andrew\\AppData\\Roaming\\nltk_data...\n",
            "[nltk_data]    |   Package knbc is already up-to-date!\n",
            "[nltk_data]    | Downloading package large_grammars to\n",
            "[nltk_data]    |     C:\\Users\\andrew\\AppData\\Roaming\\nltk_data...\n",
            "[nltk_data]    |   Package large_grammars is already up-to-date!\n",
            "[nltk_data]    | Downloading package lin_thesaurus to\n",
            "[nltk_data]    |     C:\\Users\\andrew\\AppData\\Roaming\\nltk_data...\n",
            "[nltk_data]    |   Package lin_thesaurus is already up-to-date!\n",
            "[nltk_data]    | Downloading package mac_morpho to\n",
            "[nltk_data]    |     C:\\Users\\andrew\\AppData\\Roaming\\nltk_data...\n",
            "[nltk_data]    |   Package mac_morpho is already up-to-date!\n",
            "[nltk_data]    | Downloading package machado to\n",
            "[nltk_data]    |     C:\\Users\\andrew\\AppData\\Roaming\\nltk_data...\n",
            "[nltk_data]    |   Package machado is already up-to-date!\n",
            "[nltk_data]    | Downloading package masc_tagged to\n",
            "[nltk_data]    |     C:\\Users\\andrew\\AppData\\Roaming\\nltk_data...\n",
            "[nltk_data]    |   Package masc_tagged is already up-to-date!\n",
            "[nltk_data]    | Downloading package maxent_ne_chunker to\n",
            "[nltk_data]    |     C:\\Users\\andrew\\AppData\\Roaming\\nltk_data...\n",
            "[nltk_data]    |   Package maxent_ne_chunker is already up-to-date!\n",
            "[nltk_data]    | Downloading package maxent_treebank_pos_tagger to\n",
            "[nltk_data]    |     C:\\Users\\andrew\\AppData\\Roaming\\nltk_data...\n",
            "[nltk_data]    |   Package maxent_treebank_pos_tagger is already up-\n",
            "[nltk_data]    |       to-date!\n",
            "[nltk_data]    | Downloading package moses_sample to\n",
            "[nltk_data]    |     C:\\Users\\andrew\\AppData\\Roaming\\nltk_data...\n",
            "[nltk_data]    |   Package moses_sample is already up-to-date!\n",
            "[nltk_data]    | Downloading package movie_reviews to\n",
            "[nltk_data]    |     C:\\Users\\andrew\\AppData\\Roaming\\nltk_data...\n",
            "[nltk_data]    |   Package movie_reviews is already up-to-date!\n",
            "[nltk_data]    | Downloading package mte_teip5 to\n",
            "[nltk_data]    |     C:\\Users\\andrew\\AppData\\Roaming\\nltk_data...\n",
            "[nltk_data]    |   Package mte_teip5 is already up-to-date!\n",
            "[nltk_data]    | Downloading package mwa_ppdb to\n",
            "[nltk_data]    |     C:\\Users\\andrew\\AppData\\Roaming\\nltk_data...\n",
            "[nltk_data]    |   Package mwa_ppdb is already up-to-date!\n",
            "[nltk_data]    | Downloading package names to\n",
            "[nltk_data]    |     C:\\Users\\andrew\\AppData\\Roaming\\nltk_data...\n",
            "[nltk_data]    |   Package names is already up-to-date!\n",
            "[nltk_data]    | Downloading package nombank.1.0 to\n",
            "[nltk_data]    |     C:\\Users\\andrew\\AppData\\Roaming\\nltk_data...\n",
            "[nltk_data]    |   Package nombank.1.0 is already up-to-date!\n",
            "[nltk_data]    | Downloading package nonbreaking_prefixes to\n",
            "[nltk_data]    |     C:\\Users\\andrew\\AppData\\Roaming\\nltk_data...\n",
            "[nltk_data]    |   Package nonbreaking_prefixes is already up-to-date!\n",
            "[nltk_data]    | Downloading package nps_chat to\n",
            "[nltk_data]    |     C:\\Users\\andrew\\AppData\\Roaming\\nltk_data...\n",
            "[nltk_data]    |   Package nps_chat is already up-to-date!\n",
            "[nltk_data]    | Downloading package omw to\n",
            "[nltk_data]    |     C:\\Users\\andrew\\AppData\\Roaming\\nltk_data...\n",
            "[nltk_data]    |   Package omw is already up-to-date!\n",
            "[nltk_data]    | Downloading package omw-1.4 to\n",
            "[nltk_data]    |     C:\\Users\\andrew\\AppData\\Roaming\\nltk_data...\n",
            "[nltk_data]    |   Package omw-1.4 is already up-to-date!\n",
            "[nltk_data]    | Downloading package opinion_lexicon to\n",
            "[nltk_data]    |     C:\\Users\\andrew\\AppData\\Roaming\\nltk_data...\n",
            "[nltk_data]    |   Package opinion_lexicon is already up-to-date!\n",
            "[nltk_data]    | Downloading package panlex_swadesh to\n",
            "[nltk_data]    |     C:\\Users\\andrew\\AppData\\Roaming\\nltk_data...\n",
            "[nltk_data]    |   Package panlex_swadesh is already up-to-date!\n",
            "[nltk_data]    | Downloading package paradigms to\n",
            "[nltk_data]    |     C:\\Users\\andrew\\AppData\\Roaming\\nltk_data...\n",
            "[nltk_data]    |   Package paradigms is already up-to-date!\n",
            "[nltk_data]    | Downloading package pe08 to\n",
            "[nltk_data]    |     C:\\Users\\andrew\\AppData\\Roaming\\nltk_data...\n",
            "[nltk_data]    |   Package pe08 is already up-to-date!\n",
            "[nltk_data]    | Downloading package perluniprops to\n",
            "[nltk_data]    |     C:\\Users\\andrew\\AppData\\Roaming\\nltk_data...\n",
            "[nltk_data]    |   Package perluniprops is already up-to-date!\n",
            "[nltk_data]    | Downloading package pil to\n",
            "[nltk_data]    |     C:\\Users\\andrew\\AppData\\Roaming\\nltk_data...\n",
            "[nltk_data]    |   Package pil is already up-to-date!\n",
            "[nltk_data]    | Downloading package pl196x to\n",
            "[nltk_data]    |     C:\\Users\\andrew\\AppData\\Roaming\\nltk_data...\n",
            "[nltk_data]    |   Package pl196x is already up-to-date!\n",
            "[nltk_data]    | Downloading package porter_test to\n",
            "[nltk_data]    |     C:\\Users\\andrew\\AppData\\Roaming\\nltk_data...\n",
            "[nltk_data]    |   Package porter_test is already up-to-date!\n",
            "[nltk_data]    | Downloading package ppattach to\n",
            "[nltk_data]    |     C:\\Users\\andrew\\AppData\\Roaming\\nltk_data...\n",
            "[nltk_data]    |   Package ppattach is already up-to-date!\n",
            "[nltk_data]    | Downloading package problem_reports to\n",
            "[nltk_data]    |     C:\\Users\\andrew\\AppData\\Roaming\\nltk_data...\n",
            "[nltk_data]    |   Package problem_reports is already up-to-date!\n",
            "[nltk_data]    | Downloading package product_reviews_1 to\n",
            "[nltk_data]    |     C:\\Users\\andrew\\AppData\\Roaming\\nltk_data...\n",
            "[nltk_data]    |   Package product_reviews_1 is already up-to-date!\n",
            "[nltk_data]    | Downloading package product_reviews_2 to\n",
            "[nltk_data]    |     C:\\Users\\andrew\\AppData\\Roaming\\nltk_data...\n",
            "[nltk_data]    |   Package product_reviews_2 is already up-to-date!\n",
            "[nltk_data]    | Downloading package propbank to\n",
            "[nltk_data]    |     C:\\Users\\andrew\\AppData\\Roaming\\nltk_data...\n",
            "[nltk_data]    |   Package propbank is already up-to-date!\n",
            "[nltk_data]    | Downloading package pros_cons to\n",
            "[nltk_data]    |     C:\\Users\\andrew\\AppData\\Roaming\\nltk_data...\n",
            "[nltk_data]    |   Package pros_cons is already up-to-date!\n",
            "[nltk_data]    | Downloading package ptb to\n",
            "[nltk_data]    |     C:\\Users\\andrew\\AppData\\Roaming\\nltk_data...\n",
            "[nltk_data]    |   Package ptb is already up-to-date!\n",
            "[nltk_data]    | Downloading package punkt to\n",
            "[nltk_data]    |     C:\\Users\\andrew\\AppData\\Roaming\\nltk_data...\n",
            "[nltk_data]    |   Package punkt is already up-to-date!\n",
            "[nltk_data]    | Downloading package qc to\n",
            "[nltk_data]    |     C:\\Users\\andrew\\AppData\\Roaming\\nltk_data...\n",
            "[nltk_data]    |   Package qc is already up-to-date!\n",
            "[nltk_data]    | Downloading package reuters to\n",
            "[nltk_data]    |     C:\\Users\\andrew\\AppData\\Roaming\\nltk_data...\n",
            "[nltk_data]    |   Package reuters is already up-to-date!\n",
            "[nltk_data]    | Downloading package rslp to\n",
            "[nltk_data]    |     C:\\Users\\andrew\\AppData\\Roaming\\nltk_data...\n",
            "[nltk_data]    |   Package rslp is already up-to-date!\n",
            "[nltk_data]    | Downloading package rte to\n",
            "[nltk_data]    |     C:\\Users\\andrew\\AppData\\Roaming\\nltk_data...\n",
            "[nltk_data]    |   Package rte is already up-to-date!\n",
            "[nltk_data]    | Downloading package sample_grammars to\n",
            "[nltk_data]    |     C:\\Users\\andrew\\AppData\\Roaming\\nltk_data...\n",
            "[nltk_data]    |   Package sample_grammars is already up-to-date!\n",
            "[nltk_data]    | Downloading package semcor to\n",
            "[nltk_data]    |     C:\\Users\\andrew\\AppData\\Roaming\\nltk_data...\n",
            "[nltk_data]    |   Package semcor is already up-to-date!\n",
            "[nltk_data]    | Downloading package senseval to\n",
            "[nltk_data]    |     C:\\Users\\andrew\\AppData\\Roaming\\nltk_data...\n",
            "[nltk_data]    |   Package senseval is already up-to-date!\n",
            "[nltk_data]    | Downloading package sentence_polarity to\n",
            "[nltk_data]    |     C:\\Users\\andrew\\AppData\\Roaming\\nltk_data...\n",
            "[nltk_data]    |   Package sentence_polarity is already up-to-date!\n",
            "[nltk_data]    | Downloading package sentiwordnet to\n",
            "[nltk_data]    |     C:\\Users\\andrew\\AppData\\Roaming\\nltk_data...\n",
            "[nltk_data]    |   Package sentiwordnet is already up-to-date!\n",
            "[nltk_data]    | Downloading package shakespeare to\n",
            "[nltk_data]    |     C:\\Users\\andrew\\AppData\\Roaming\\nltk_data...\n",
            "[nltk_data]    |   Package shakespeare is already up-to-date!\n",
            "[nltk_data]    | Downloading package sinica_treebank to\n",
            "[nltk_data]    |     C:\\Users\\andrew\\AppData\\Roaming\\nltk_data...\n",
            "[nltk_data]    |   Package sinica_treebank is already up-to-date!\n",
            "[nltk_data]    | Downloading package smultron to\n",
            "[nltk_data]    |     C:\\Users\\andrew\\AppData\\Roaming\\nltk_data...\n",
            "[nltk_data]    |   Package smultron is already up-to-date!\n",
            "[nltk_data]    | Downloading package snowball_data to\n",
            "[nltk_data]    |     C:\\Users\\andrew\\AppData\\Roaming\\nltk_data...\n",
            "[nltk_data]    |   Package snowball_data is already up-to-date!\n",
            "[nltk_data]    | Downloading package spanish_grammars to\n",
            "[nltk_data]    |     C:\\Users\\andrew\\AppData\\Roaming\\nltk_data...\n",
            "[nltk_data]    |   Package spanish_grammars is already up-to-date!\n",
            "[nltk_data]    | Downloading package state_union to\n",
            "[nltk_data]    |     C:\\Users\\andrew\\AppData\\Roaming\\nltk_data...\n",
            "[nltk_data]    |   Package state_union is already up-to-date!\n",
            "[nltk_data]    | Downloading package stopwords to\n",
            "[nltk_data]    |     C:\\Users\\andrew\\AppData\\Roaming\\nltk_data...\n",
            "[nltk_data]    |   Package stopwords is already up-to-date!\n",
            "[nltk_data]    | Downloading package subjectivity to\n",
            "[nltk_data]    |     C:\\Users\\andrew\\AppData\\Roaming\\nltk_data...\n",
            "[nltk_data]    |   Package subjectivity is already up-to-date!\n",
            "[nltk_data]    | Downloading package swadesh to\n",
            "[nltk_data]    |     C:\\Users\\andrew\\AppData\\Roaming\\nltk_data...\n",
            "[nltk_data]    |   Package swadesh is already up-to-date!\n",
            "[nltk_data]    | Downloading package switchboard to\n",
            "[nltk_data]    |     C:\\Users\\andrew\\AppData\\Roaming\\nltk_data...\n",
            "[nltk_data]    |   Package switchboard is already up-to-date!\n",
            "[nltk_data]    | Downloading package tagsets to\n",
            "[nltk_data]    |     C:\\Users\\andrew\\AppData\\Roaming\\nltk_data...\n",
            "[nltk_data]    |   Package tagsets is already up-to-date!\n",
            "[nltk_data]    | Downloading package timit to\n",
            "[nltk_data]    |     C:\\Users\\andrew\\AppData\\Roaming\\nltk_data...\n",
            "[nltk_data]    |   Package timit is already up-to-date!\n",
            "[nltk_data]    | Downloading package toolbox to\n",
            "[nltk_data]    |     C:\\Users\\andrew\\AppData\\Roaming\\nltk_data...\n",
            "[nltk_data]    |   Package toolbox is already up-to-date!\n",
            "[nltk_data]    | Downloading package treebank to\n",
            "[nltk_data]    |     C:\\Users\\andrew\\AppData\\Roaming\\nltk_data...\n",
            "[nltk_data]    |   Package treebank is already up-to-date!\n",
            "[nltk_data]    | Downloading package twitter_samples to\n",
            "[nltk_data]    |     C:\\Users\\andrew\\AppData\\Roaming\\nltk_data...\n",
            "[nltk_data]    |   Package twitter_samples is already up-to-date!\n",
            "[nltk_data]    | Downloading package udhr to\n",
            "[nltk_data]    |     C:\\Users\\andrew\\AppData\\Roaming\\nltk_data...\n",
            "[nltk_data]    |   Package udhr is already up-to-date!\n",
            "[nltk_data]    | Downloading package udhr2 to\n",
            "[nltk_data]    |     C:\\Users\\andrew\\AppData\\Roaming\\nltk_data...\n",
            "[nltk_data]    |   Package udhr2 is already up-to-date!\n",
            "[nltk_data]    | Downloading package unicode_samples to\n",
            "[nltk_data]    |     C:\\Users\\andrew\\AppData\\Roaming\\nltk_data...\n",
            "[nltk_data]    |   Package unicode_samples is already up-to-date!\n",
            "[nltk_data]    | Downloading package universal_tagset to\n",
            "[nltk_data]    |     C:\\Users\\andrew\\AppData\\Roaming\\nltk_data...\n",
            "[nltk_data]    |   Package universal_tagset is already up-to-date!\n",
            "[nltk_data]    | Downloading package universal_treebanks_v20 to\n",
            "[nltk_data]    |     C:\\Users\\andrew\\AppData\\Roaming\\nltk_data...\n",
            "[nltk_data]    |   Package universal_treebanks_v20 is already up-to-\n",
            "[nltk_data]    |       date!\n",
            "[nltk_data]    | Downloading package vader_lexicon to\n",
            "[nltk_data]    |     C:\\Users\\andrew\\AppData\\Roaming\\nltk_data...\n",
            "[nltk_data]    |   Package vader_lexicon is already up-to-date!\n",
            "[nltk_data]    | Downloading package verbnet to\n",
            "[nltk_data]    |     C:\\Users\\andrew\\AppData\\Roaming\\nltk_data...\n",
            "[nltk_data]    |   Package verbnet is already up-to-date!\n",
            "[nltk_data]    | Downloading package verbnet3 to\n",
            "[nltk_data]    |     C:\\Users\\andrew\\AppData\\Roaming\\nltk_data...\n",
            "[nltk_data]    |   Package verbnet3 is already up-to-date!\n",
            "[nltk_data]    | Downloading package webtext to\n",
            "[nltk_data]    |     C:\\Users\\andrew\\AppData\\Roaming\\nltk_data...\n",
            "[nltk_data]    |   Package webtext is already up-to-date!\n",
            "[nltk_data]    | Downloading package wmt15_eval to\n",
            "[nltk_data]    |     C:\\Users\\andrew\\AppData\\Roaming\\nltk_data...\n",
            "[nltk_data]    |   Package wmt15_eval is already up-to-date!\n",
            "[nltk_data]    | Downloading package word2vec_sample to\n",
            "[nltk_data]    |     C:\\Users\\andrew\\AppData\\Roaming\\nltk_data...\n",
            "[nltk_data]    |   Package word2vec_sample is already up-to-date!\n",
            "[nltk_data]    | Downloading package wordnet to\n",
            "[nltk_data]    |     C:\\Users\\andrew\\AppData\\Roaming\\nltk_data...\n",
            "[nltk_data]    |   Package wordnet is already up-to-date!\n",
            "[nltk_data]    | Downloading package wordnet2021 to\n",
            "[nltk_data]    |     C:\\Users\\andrew\\AppData\\Roaming\\nltk_data...\n",
            "[nltk_data]    |   Package wordnet2021 is already up-to-date!\n",
            "[nltk_data]    | Downloading package wordnet2022 to\n",
            "[nltk_data]    |     C:\\Users\\andrew\\AppData\\Roaming\\nltk_data...\n",
            "[nltk_data]    |   Package wordnet2022 is already up-to-date!\n",
            "[nltk_data]    | Downloading package wordnet31 to\n",
            "[nltk_data]    |     C:\\Users\\andrew\\AppData\\Roaming\\nltk_data...\n",
            "[nltk_data]    |   Package wordnet31 is already up-to-date!\n",
            "[nltk_data]    | Downloading package wordnet_ic to\n",
            "[nltk_data]    |     C:\\Users\\andrew\\AppData\\Roaming\\nltk_data...\n",
            "[nltk_data]    |   Package wordnet_ic is already up-to-date!\n",
            "[nltk_data]    | Downloading package words to\n",
            "[nltk_data]    |     C:\\Users\\andrew\\AppData\\Roaming\\nltk_data...\n",
            "[nltk_data]    |   Package words is already up-to-date!\n",
            "[nltk_data]    | Downloading package ycoe to\n",
            "[nltk_data]    |     C:\\Users\\andrew\\AppData\\Roaming\\nltk_data...\n",
            "[nltk_data]    |   Package ycoe is already up-to-date!\n",
            "[nltk_data]    | \n",
            "[nltk_data]  Done downloading collection all\n"
          ]
        },
        {
          "data": {
            "text/plain": [
              "True"
            ]
          },
          "execution_count": 322,
          "metadata": {},
          "output_type": "execute_result"
        }
      ],
      "source": [
        "# Import additional packages for natural language processing\n",
        "\n",
        "#nltk.download('all')   #download all\n",
        "# Import additional packages for natural language processing\n",
        "nltk.download('all')  # Includes stopwords, puncuation, lemmatizer"
      ]
    },
    {
      "cell_type": "code",
      "source": [
        "from google.colab import drive\n",
        "drive.mount('/content/drive')"
      ],
      "metadata": {
        "colab": {
          "base_uri": "https://localhost:8080/"
        },
        "id": "QWjE6lgtDg4e",
        "outputId": "e5dc686a-4fce-4ab9-82c9-da374b754025"
      },
      "execution_count": 1,
      "outputs": [
        {
          "output_type": "stream",
          "name": "stdout",
          "text": [
            "Mounted at /content/drive\n"
          ]
        }
      ]
    },
    {
      "cell_type": "code",
      "execution_count": 3,
      "metadata": {
        "id": "XS3MIuLMMQ_x"
      },
      "outputs": [],
      "source": [
        "# Import review files for amazon, imdb, and yelp\n",
        "amazon = pd.read_csv(r'/content/drive/MyDrive/data_files/amazon_cells_labelled.txt', sep = \"\\t\", header = None, index_col = False, names = ['review', 'sentiment'], engine = 'python')\n",
        "imdb = pd.read_csv(r'/content/drive/MyDrive/data_files/imdb_labelled.txt', sep = \"\\t | \\s\", header = None, index_col = False, names = ['review', 'sentiment'], engine = 'python')\n",
        "yelp = pd.read_csv(r'/content/drive/MyDrive/data_files/yelp_labelled.txt', sep = '\\t', header = None, index_col = False, names = ['review', 'sentiment'], engine = 'python')"
      ]
    },
    {
      "cell_type": "code",
      "execution_count": 4,
      "metadata": {
        "colab": {
          "base_uri": "https://localhost:8080/",
          "height": 334
        },
        "id": "IHaDPUEmMZc0",
        "outputId": "2e6d962a-6571-4fbb-801e-06c928512bde"
      },
      "outputs": [
        {
          "output_type": "stream",
          "name": "stdout",
          "text": [
            "<class 'pandas.core.frame.DataFrame'>\n",
            "RangeIndex: 1000 entries, 0 to 999\n",
            "Data columns (total 2 columns):\n",
            " #   Column     Non-Null Count  Dtype \n",
            "---  ------     --------------  ----- \n",
            " 0   review     1000 non-null   object\n",
            " 1   sentiment  1000 non-null   int64 \n",
            "dtypes: int64(1), object(1)\n",
            "memory usage: 15.8+ KB\n",
            "\n",
            "\n"
          ]
        },
        {
          "output_type": "execute_result",
          "data": {
            "text/plain": [
              "                                              review  sentiment\n",
              "0  So there is no way for me to plug it in here i...          0\n",
              "1                        Good case, Excellent value.          1\n",
              "2                             Great for the jawbone.          1"
            ],
            "text/html": [
              "\n",
              "  <div id=\"df-31034ccd-d37c-44c2-8be0-909992827818\" class=\"colab-df-container\">\n",
              "    <div>\n",
              "<style scoped>\n",
              "    .dataframe tbody tr th:only-of-type {\n",
              "        vertical-align: middle;\n",
              "    }\n",
              "\n",
              "    .dataframe tbody tr th {\n",
              "        vertical-align: top;\n",
              "    }\n",
              "\n",
              "    .dataframe thead th {\n",
              "        text-align: right;\n",
              "    }\n",
              "</style>\n",
              "<table border=\"1\" class=\"dataframe\">\n",
              "  <thead>\n",
              "    <tr style=\"text-align: right;\">\n",
              "      <th></th>\n",
              "      <th>review</th>\n",
              "      <th>sentiment</th>\n",
              "    </tr>\n",
              "  </thead>\n",
              "  <tbody>\n",
              "    <tr>\n",
              "      <th>0</th>\n",
              "      <td>So there is no way for me to plug it in here i...</td>\n",
              "      <td>0</td>\n",
              "    </tr>\n",
              "    <tr>\n",
              "      <th>1</th>\n",
              "      <td>Good case, Excellent value.</td>\n",
              "      <td>1</td>\n",
              "    </tr>\n",
              "    <tr>\n",
              "      <th>2</th>\n",
              "      <td>Great for the jawbone.</td>\n",
              "      <td>1</td>\n",
              "    </tr>\n",
              "  </tbody>\n",
              "</table>\n",
              "</div>\n",
              "    <div class=\"colab-df-buttons\">\n",
              "\n",
              "  <div class=\"colab-df-container\">\n",
              "    <button class=\"colab-df-convert\" onclick=\"convertToInteractive('df-31034ccd-d37c-44c2-8be0-909992827818')\"\n",
              "            title=\"Convert this dataframe to an interactive table.\"\n",
              "            style=\"display:none;\">\n",
              "\n",
              "  <svg xmlns=\"http://www.w3.org/2000/svg\" height=\"24px\" viewBox=\"0 -960 960 960\">\n",
              "    <path d=\"M120-120v-720h720v720H120Zm60-500h600v-160H180v160Zm220 220h160v-160H400v160Zm0 220h160v-160H400v160ZM180-400h160v-160H180v160Zm440 0h160v-160H620v160ZM180-180h160v-160H180v160Zm440 0h160v-160H620v160Z\"/>\n",
              "  </svg>\n",
              "    </button>\n",
              "\n",
              "  <style>\n",
              "    .colab-df-container {\n",
              "      display:flex;\n",
              "      gap: 12px;\n",
              "    }\n",
              "\n",
              "    .colab-df-convert {\n",
              "      background-color: #E8F0FE;\n",
              "      border: none;\n",
              "      border-radius: 50%;\n",
              "      cursor: pointer;\n",
              "      display: none;\n",
              "      fill: #1967D2;\n",
              "      height: 32px;\n",
              "      padding: 0 0 0 0;\n",
              "      width: 32px;\n",
              "    }\n",
              "\n",
              "    .colab-df-convert:hover {\n",
              "      background-color: #E2EBFA;\n",
              "      box-shadow: 0px 1px 2px rgba(60, 64, 67, 0.3), 0px 1px 3px 1px rgba(60, 64, 67, 0.15);\n",
              "      fill: #174EA6;\n",
              "    }\n",
              "\n",
              "    .colab-df-buttons div {\n",
              "      margin-bottom: 4px;\n",
              "    }\n",
              "\n",
              "    [theme=dark] .colab-df-convert {\n",
              "      background-color: #3B4455;\n",
              "      fill: #D2E3FC;\n",
              "    }\n",
              "\n",
              "    [theme=dark] .colab-df-convert:hover {\n",
              "      background-color: #434B5C;\n",
              "      box-shadow: 0px 1px 3px 1px rgba(0, 0, 0, 0.15);\n",
              "      filter: drop-shadow(0px 1px 2px rgba(0, 0, 0, 0.3));\n",
              "      fill: #FFFFFF;\n",
              "    }\n",
              "  </style>\n",
              "\n",
              "    <script>\n",
              "      const buttonEl =\n",
              "        document.querySelector('#df-31034ccd-d37c-44c2-8be0-909992827818 button.colab-df-convert');\n",
              "      buttonEl.style.display =\n",
              "        google.colab.kernel.accessAllowed ? 'block' : 'none';\n",
              "\n",
              "      async function convertToInteractive(key) {\n",
              "        const element = document.querySelector('#df-31034ccd-d37c-44c2-8be0-909992827818');\n",
              "        const dataTable =\n",
              "          await google.colab.kernel.invokeFunction('convertToInteractive',\n",
              "                                                    [key], {});\n",
              "        if (!dataTable) return;\n",
              "\n",
              "        const docLinkHtml = 'Like what you see? Visit the ' +\n",
              "          '<a target=\"_blank\" href=https://colab.research.google.com/notebooks/data_table.ipynb>data table notebook</a>'\n",
              "          + ' to learn more about interactive tables.';\n",
              "        element.innerHTML = '';\n",
              "        dataTable['output_type'] = 'display_data';\n",
              "        await google.colab.output.renderOutput(dataTable, element);\n",
              "        const docLink = document.createElement('div');\n",
              "        docLink.innerHTML = docLinkHtml;\n",
              "        element.appendChild(docLink);\n",
              "      }\n",
              "    </script>\n",
              "  </div>\n",
              "\n",
              "\n",
              "<div id=\"df-0800a6bd-0a61-4599-940a-7eececfe6f3f\">\n",
              "  <button class=\"colab-df-quickchart\" onclick=\"quickchart('df-0800a6bd-0a61-4599-940a-7eececfe6f3f')\"\n",
              "            title=\"Suggest charts\"\n",
              "            style=\"display:none;\">\n",
              "\n",
              "<svg xmlns=\"http://www.w3.org/2000/svg\" height=\"24px\"viewBox=\"0 0 24 24\"\n",
              "     width=\"24px\">\n",
              "    <g>\n",
              "        <path d=\"M19 3H5c-1.1 0-2 .9-2 2v14c0 1.1.9 2 2 2h14c1.1 0 2-.9 2-2V5c0-1.1-.9-2-2-2zM9 17H7v-7h2v7zm4 0h-2V7h2v10zm4 0h-2v-4h2v4z\"/>\n",
              "    </g>\n",
              "</svg>\n",
              "  </button>\n",
              "\n",
              "<style>\n",
              "  .colab-df-quickchart {\n",
              "      --bg-color: #E8F0FE;\n",
              "      --fill-color: #1967D2;\n",
              "      --hover-bg-color: #E2EBFA;\n",
              "      --hover-fill-color: #174EA6;\n",
              "      --disabled-fill-color: #AAA;\n",
              "      --disabled-bg-color: #DDD;\n",
              "  }\n",
              "\n",
              "  [theme=dark] .colab-df-quickchart {\n",
              "      --bg-color: #3B4455;\n",
              "      --fill-color: #D2E3FC;\n",
              "      --hover-bg-color: #434B5C;\n",
              "      --hover-fill-color: #FFFFFF;\n",
              "      --disabled-bg-color: #3B4455;\n",
              "      --disabled-fill-color: #666;\n",
              "  }\n",
              "\n",
              "  .colab-df-quickchart {\n",
              "    background-color: var(--bg-color);\n",
              "    border: none;\n",
              "    border-radius: 50%;\n",
              "    cursor: pointer;\n",
              "    display: none;\n",
              "    fill: var(--fill-color);\n",
              "    height: 32px;\n",
              "    padding: 0;\n",
              "    width: 32px;\n",
              "  }\n",
              "\n",
              "  .colab-df-quickchart:hover {\n",
              "    background-color: var(--hover-bg-color);\n",
              "    box-shadow: 0 1px 2px rgba(60, 64, 67, 0.3), 0 1px 3px 1px rgba(60, 64, 67, 0.15);\n",
              "    fill: var(--button-hover-fill-color);\n",
              "  }\n",
              "\n",
              "  .colab-df-quickchart-complete:disabled,\n",
              "  .colab-df-quickchart-complete:disabled:hover {\n",
              "    background-color: var(--disabled-bg-color);\n",
              "    fill: var(--disabled-fill-color);\n",
              "    box-shadow: none;\n",
              "  }\n",
              "\n",
              "  .colab-df-spinner {\n",
              "    border: 2px solid var(--fill-color);\n",
              "    border-color: transparent;\n",
              "    border-bottom-color: var(--fill-color);\n",
              "    animation:\n",
              "      spin 1s steps(1) infinite;\n",
              "  }\n",
              "\n",
              "  @keyframes spin {\n",
              "    0% {\n",
              "      border-color: transparent;\n",
              "      border-bottom-color: var(--fill-color);\n",
              "      border-left-color: var(--fill-color);\n",
              "    }\n",
              "    20% {\n",
              "      border-color: transparent;\n",
              "      border-left-color: var(--fill-color);\n",
              "      border-top-color: var(--fill-color);\n",
              "    }\n",
              "    30% {\n",
              "      border-color: transparent;\n",
              "      border-left-color: var(--fill-color);\n",
              "      border-top-color: var(--fill-color);\n",
              "      border-right-color: var(--fill-color);\n",
              "    }\n",
              "    40% {\n",
              "      border-color: transparent;\n",
              "      border-right-color: var(--fill-color);\n",
              "      border-top-color: var(--fill-color);\n",
              "    }\n",
              "    60% {\n",
              "      border-color: transparent;\n",
              "      border-right-color: var(--fill-color);\n",
              "    }\n",
              "    80% {\n",
              "      border-color: transparent;\n",
              "      border-right-color: var(--fill-color);\n",
              "      border-bottom-color: var(--fill-color);\n",
              "    }\n",
              "    90% {\n",
              "      border-color: transparent;\n",
              "      border-bottom-color: var(--fill-color);\n",
              "    }\n",
              "  }\n",
              "</style>\n",
              "\n",
              "  <script>\n",
              "    async function quickchart(key) {\n",
              "      const quickchartButtonEl =\n",
              "        document.querySelector('#' + key + ' button');\n",
              "      quickchartButtonEl.disabled = true;  // To prevent multiple clicks.\n",
              "      quickchartButtonEl.classList.add('colab-df-spinner');\n",
              "      try {\n",
              "        const charts = await google.colab.kernel.invokeFunction(\n",
              "            'suggestCharts', [key], {});\n",
              "      } catch (error) {\n",
              "        console.error('Error during call to suggestCharts:', error);\n",
              "      }\n",
              "      quickchartButtonEl.classList.remove('colab-df-spinner');\n",
              "      quickchartButtonEl.classList.add('colab-df-quickchart-complete');\n",
              "    }\n",
              "    (() => {\n",
              "      let quickchartButtonEl =\n",
              "        document.querySelector('#df-0800a6bd-0a61-4599-940a-7eececfe6f3f button');\n",
              "      quickchartButtonEl.style.display =\n",
              "        google.colab.kernel.accessAllowed ? 'block' : 'none';\n",
              "    })();\n",
              "  </script>\n",
              "</div>\n",
              "\n",
              "    </div>\n",
              "  </div>\n"
            ],
            "application/vnd.google.colaboratory.intrinsic+json": {
              "type": "dataframe",
              "variable_name": "amazon",
              "summary": "{\n  \"name\": \"amazon\",\n  \"rows\": 1000,\n  \"fields\": [\n    {\n      \"column\": \"review\",\n      \"properties\": {\n        \"dtype\": \"string\",\n        \"num_unique_values\": 990,\n        \"samples\": [\n          \"The range is very decent, I've been able to roam around my house with the phone in the living room with no reception/sound quality issues.\",\n          \"The reception is excellent!\",\n          \"I would have given no star if I was able.\"\n        ],\n        \"semantic_type\": \"\",\n        \"description\": \"\"\n      }\n    },\n    {\n      \"column\": \"sentiment\",\n      \"properties\": {\n        \"dtype\": \"number\",\n        \"std\": 0,\n        \"min\": 0,\n        \"max\": 1,\n        \"num_unique_values\": 2,\n        \"samples\": [\n          1,\n          0\n        ],\n        \"semantic_type\": \"\",\n        \"description\": \"\"\n      }\n    }\n  ]\n}"
            }
          },
          "metadata": {},
          "execution_count": 4
        }
      ],
      "source": [
        "# View amazon df info and first three rows\n",
        "amazon.info()\n",
        "print('\\n')\n",
        "amazon.head(3)"
      ]
    },
    {
      "cell_type": "code",
      "execution_count": 5,
      "metadata": {
        "colab": {
          "base_uri": "https://localhost:8080/",
          "height": 334
        },
        "id": "ip6VoMwlMaLz",
        "outputId": "79a93be9-03c3-436f-ec3e-6f54dfe986de"
      },
      "outputs": [
        {
          "output_type": "stream",
          "name": "stdout",
          "text": [
            "<class 'pandas.core.frame.DataFrame'>\n",
            "RangeIndex: 1000 entries, 0 to 999\n",
            "Data columns (total 2 columns):\n",
            " #   Column     Non-Null Count  Dtype \n",
            "---  ------     --------------  ----- \n",
            " 0   review     1000 non-null   object\n",
            " 1   sentiment  1000 non-null   int64 \n",
            "dtypes: int64(1), object(1)\n",
            "memory usage: 15.8+ KB\n",
            "\n",
            "\n"
          ]
        },
        {
          "output_type": "execute_result",
          "data": {
            "text/plain": [
              "                                              review  sentiment\n",
              "0  A very, very, very slow-moving, aimless movie ...          0\n",
              "1  Not sure who was more lost - the flat characte...          0\n",
              "2  Attempting artiness with black & white and cle...          0"
            ],
            "text/html": [
              "\n",
              "  <div id=\"df-57caff35-c902-474d-adf6-1f62644cb12f\" class=\"colab-df-container\">\n",
              "    <div>\n",
              "<style scoped>\n",
              "    .dataframe tbody tr th:only-of-type {\n",
              "        vertical-align: middle;\n",
              "    }\n",
              "\n",
              "    .dataframe tbody tr th {\n",
              "        vertical-align: top;\n",
              "    }\n",
              "\n",
              "    .dataframe thead th {\n",
              "        text-align: right;\n",
              "    }\n",
              "</style>\n",
              "<table border=\"1\" class=\"dataframe\">\n",
              "  <thead>\n",
              "    <tr style=\"text-align: right;\">\n",
              "      <th></th>\n",
              "      <th>review</th>\n",
              "      <th>sentiment</th>\n",
              "    </tr>\n",
              "  </thead>\n",
              "  <tbody>\n",
              "    <tr>\n",
              "      <th>0</th>\n",
              "      <td>A very, very, very slow-moving, aimless movie ...</td>\n",
              "      <td>0</td>\n",
              "    </tr>\n",
              "    <tr>\n",
              "      <th>1</th>\n",
              "      <td>Not sure who was more lost - the flat characte...</td>\n",
              "      <td>0</td>\n",
              "    </tr>\n",
              "    <tr>\n",
              "      <th>2</th>\n",
              "      <td>Attempting artiness with black &amp; white and cle...</td>\n",
              "      <td>0</td>\n",
              "    </tr>\n",
              "  </tbody>\n",
              "</table>\n",
              "</div>\n",
              "    <div class=\"colab-df-buttons\">\n",
              "\n",
              "  <div class=\"colab-df-container\">\n",
              "    <button class=\"colab-df-convert\" onclick=\"convertToInteractive('df-57caff35-c902-474d-adf6-1f62644cb12f')\"\n",
              "            title=\"Convert this dataframe to an interactive table.\"\n",
              "            style=\"display:none;\">\n",
              "\n",
              "  <svg xmlns=\"http://www.w3.org/2000/svg\" height=\"24px\" viewBox=\"0 -960 960 960\">\n",
              "    <path d=\"M120-120v-720h720v720H120Zm60-500h600v-160H180v160Zm220 220h160v-160H400v160Zm0 220h160v-160H400v160ZM180-400h160v-160H180v160Zm440 0h160v-160H620v160ZM180-180h160v-160H180v160Zm440 0h160v-160H620v160Z\"/>\n",
              "  </svg>\n",
              "    </button>\n",
              "\n",
              "  <style>\n",
              "    .colab-df-container {\n",
              "      display:flex;\n",
              "      gap: 12px;\n",
              "    }\n",
              "\n",
              "    .colab-df-convert {\n",
              "      background-color: #E8F0FE;\n",
              "      border: none;\n",
              "      border-radius: 50%;\n",
              "      cursor: pointer;\n",
              "      display: none;\n",
              "      fill: #1967D2;\n",
              "      height: 32px;\n",
              "      padding: 0 0 0 0;\n",
              "      width: 32px;\n",
              "    }\n",
              "\n",
              "    .colab-df-convert:hover {\n",
              "      background-color: #E2EBFA;\n",
              "      box-shadow: 0px 1px 2px rgba(60, 64, 67, 0.3), 0px 1px 3px 1px rgba(60, 64, 67, 0.15);\n",
              "      fill: #174EA6;\n",
              "    }\n",
              "\n",
              "    .colab-df-buttons div {\n",
              "      margin-bottom: 4px;\n",
              "    }\n",
              "\n",
              "    [theme=dark] .colab-df-convert {\n",
              "      background-color: #3B4455;\n",
              "      fill: #D2E3FC;\n",
              "    }\n",
              "\n",
              "    [theme=dark] .colab-df-convert:hover {\n",
              "      background-color: #434B5C;\n",
              "      box-shadow: 0px 1px 3px 1px rgba(0, 0, 0, 0.15);\n",
              "      filter: drop-shadow(0px 1px 2px rgba(0, 0, 0, 0.3));\n",
              "      fill: #FFFFFF;\n",
              "    }\n",
              "  </style>\n",
              "\n",
              "    <script>\n",
              "      const buttonEl =\n",
              "        document.querySelector('#df-57caff35-c902-474d-adf6-1f62644cb12f button.colab-df-convert');\n",
              "      buttonEl.style.display =\n",
              "        google.colab.kernel.accessAllowed ? 'block' : 'none';\n",
              "\n",
              "      async function convertToInteractive(key) {\n",
              "        const element = document.querySelector('#df-57caff35-c902-474d-adf6-1f62644cb12f');\n",
              "        const dataTable =\n",
              "          await google.colab.kernel.invokeFunction('convertToInteractive',\n",
              "                                                    [key], {});\n",
              "        if (!dataTable) return;\n",
              "\n",
              "        const docLinkHtml = 'Like what you see? Visit the ' +\n",
              "          '<a target=\"_blank\" href=https://colab.research.google.com/notebooks/data_table.ipynb>data table notebook</a>'\n",
              "          + ' to learn more about interactive tables.';\n",
              "        element.innerHTML = '';\n",
              "        dataTable['output_type'] = 'display_data';\n",
              "        await google.colab.output.renderOutput(dataTable, element);\n",
              "        const docLink = document.createElement('div');\n",
              "        docLink.innerHTML = docLinkHtml;\n",
              "        element.appendChild(docLink);\n",
              "      }\n",
              "    </script>\n",
              "  </div>\n",
              "\n",
              "\n",
              "<div id=\"df-1d7f5984-3016-4a9e-a942-dcb640fc4f6a\">\n",
              "  <button class=\"colab-df-quickchart\" onclick=\"quickchart('df-1d7f5984-3016-4a9e-a942-dcb640fc4f6a')\"\n",
              "            title=\"Suggest charts\"\n",
              "            style=\"display:none;\">\n",
              "\n",
              "<svg xmlns=\"http://www.w3.org/2000/svg\" height=\"24px\"viewBox=\"0 0 24 24\"\n",
              "     width=\"24px\">\n",
              "    <g>\n",
              "        <path d=\"M19 3H5c-1.1 0-2 .9-2 2v14c0 1.1.9 2 2 2h14c1.1 0 2-.9 2-2V5c0-1.1-.9-2-2-2zM9 17H7v-7h2v7zm4 0h-2V7h2v10zm4 0h-2v-4h2v4z\"/>\n",
              "    </g>\n",
              "</svg>\n",
              "  </button>\n",
              "\n",
              "<style>\n",
              "  .colab-df-quickchart {\n",
              "      --bg-color: #E8F0FE;\n",
              "      --fill-color: #1967D2;\n",
              "      --hover-bg-color: #E2EBFA;\n",
              "      --hover-fill-color: #174EA6;\n",
              "      --disabled-fill-color: #AAA;\n",
              "      --disabled-bg-color: #DDD;\n",
              "  }\n",
              "\n",
              "  [theme=dark] .colab-df-quickchart {\n",
              "      --bg-color: #3B4455;\n",
              "      --fill-color: #D2E3FC;\n",
              "      --hover-bg-color: #434B5C;\n",
              "      --hover-fill-color: #FFFFFF;\n",
              "      --disabled-bg-color: #3B4455;\n",
              "      --disabled-fill-color: #666;\n",
              "  }\n",
              "\n",
              "  .colab-df-quickchart {\n",
              "    background-color: var(--bg-color);\n",
              "    border: none;\n",
              "    border-radius: 50%;\n",
              "    cursor: pointer;\n",
              "    display: none;\n",
              "    fill: var(--fill-color);\n",
              "    height: 32px;\n",
              "    padding: 0;\n",
              "    width: 32px;\n",
              "  }\n",
              "\n",
              "  .colab-df-quickchart:hover {\n",
              "    background-color: var(--hover-bg-color);\n",
              "    box-shadow: 0 1px 2px rgba(60, 64, 67, 0.3), 0 1px 3px 1px rgba(60, 64, 67, 0.15);\n",
              "    fill: var(--button-hover-fill-color);\n",
              "  }\n",
              "\n",
              "  .colab-df-quickchart-complete:disabled,\n",
              "  .colab-df-quickchart-complete:disabled:hover {\n",
              "    background-color: var(--disabled-bg-color);\n",
              "    fill: var(--disabled-fill-color);\n",
              "    box-shadow: none;\n",
              "  }\n",
              "\n",
              "  .colab-df-spinner {\n",
              "    border: 2px solid var(--fill-color);\n",
              "    border-color: transparent;\n",
              "    border-bottom-color: var(--fill-color);\n",
              "    animation:\n",
              "      spin 1s steps(1) infinite;\n",
              "  }\n",
              "\n",
              "  @keyframes spin {\n",
              "    0% {\n",
              "      border-color: transparent;\n",
              "      border-bottom-color: var(--fill-color);\n",
              "      border-left-color: var(--fill-color);\n",
              "    }\n",
              "    20% {\n",
              "      border-color: transparent;\n",
              "      border-left-color: var(--fill-color);\n",
              "      border-top-color: var(--fill-color);\n",
              "    }\n",
              "    30% {\n",
              "      border-color: transparent;\n",
              "      border-left-color: var(--fill-color);\n",
              "      border-top-color: var(--fill-color);\n",
              "      border-right-color: var(--fill-color);\n",
              "    }\n",
              "    40% {\n",
              "      border-color: transparent;\n",
              "      border-right-color: var(--fill-color);\n",
              "      border-top-color: var(--fill-color);\n",
              "    }\n",
              "    60% {\n",
              "      border-color: transparent;\n",
              "      border-right-color: var(--fill-color);\n",
              "    }\n",
              "    80% {\n",
              "      border-color: transparent;\n",
              "      border-right-color: var(--fill-color);\n",
              "      border-bottom-color: var(--fill-color);\n",
              "    }\n",
              "    90% {\n",
              "      border-color: transparent;\n",
              "      border-bottom-color: var(--fill-color);\n",
              "    }\n",
              "  }\n",
              "</style>\n",
              "\n",
              "  <script>\n",
              "    async function quickchart(key) {\n",
              "      const quickchartButtonEl =\n",
              "        document.querySelector('#' + key + ' button');\n",
              "      quickchartButtonEl.disabled = true;  // To prevent multiple clicks.\n",
              "      quickchartButtonEl.classList.add('colab-df-spinner');\n",
              "      try {\n",
              "        const charts = await google.colab.kernel.invokeFunction(\n",
              "            'suggestCharts', [key], {});\n",
              "      } catch (error) {\n",
              "        console.error('Error during call to suggestCharts:', error);\n",
              "      }\n",
              "      quickchartButtonEl.classList.remove('colab-df-spinner');\n",
              "      quickchartButtonEl.classList.add('colab-df-quickchart-complete');\n",
              "    }\n",
              "    (() => {\n",
              "      let quickchartButtonEl =\n",
              "        document.querySelector('#df-1d7f5984-3016-4a9e-a942-dcb640fc4f6a button');\n",
              "      quickchartButtonEl.style.display =\n",
              "        google.colab.kernel.accessAllowed ? 'block' : 'none';\n",
              "    })();\n",
              "  </script>\n",
              "</div>\n",
              "\n",
              "    </div>\n",
              "  </div>\n"
            ],
            "application/vnd.google.colaboratory.intrinsic+json": {
              "type": "dataframe",
              "variable_name": "imdb",
              "summary": "{\n  \"name\": \"imdb\",\n  \"rows\": 1000,\n  \"fields\": [\n    {\n      \"column\": \"review\",\n      \"properties\": {\n        \"dtype\": \"string\",\n        \"num_unique_values\": 997,\n        \"samples\": [\n          \"I wasn't expecting Oscar material, but this?\",\n          \"It was clear that she had the range and ability to pull off this part.\",\n          \"Jamie Foxx absolutely IS Ray Charles.\"\n        ],\n        \"semantic_type\": \"\",\n        \"description\": \"\"\n      }\n    },\n    {\n      \"column\": \"sentiment\",\n      \"properties\": {\n        \"dtype\": \"number\",\n        \"std\": 0,\n        \"min\": 0,\n        \"max\": 1,\n        \"num_unique_values\": 2,\n        \"samples\": [\n          1,\n          0\n        ],\n        \"semantic_type\": \"\",\n        \"description\": \"\"\n      }\n    }\n  ]\n}"
            }
          },
          "metadata": {},
          "execution_count": 5
        }
      ],
      "source": [
        "# View imdb df info and first three rows\n",
        "imdb.info()\n",
        "print('\\n')\n",
        "imdb.head(3)"
      ]
    },
    {
      "cell_type": "code",
      "execution_count": 6,
      "metadata": {
        "colab": {
          "base_uri": "https://localhost:8080/",
          "height": 334
        },
        "id": "X0fXM6J3MaOw",
        "outputId": "edee2fd8-64f5-493d-8a0a-c5fbaf18b21f"
      },
      "outputs": [
        {
          "output_type": "stream",
          "name": "stdout",
          "text": [
            "<class 'pandas.core.frame.DataFrame'>\n",
            "RangeIndex: 1000 entries, 0 to 999\n",
            "Data columns (total 2 columns):\n",
            " #   Column     Non-Null Count  Dtype \n",
            "---  ------     --------------  ----- \n",
            " 0   review     1000 non-null   object\n",
            " 1   sentiment  1000 non-null   int64 \n",
            "dtypes: int64(1), object(1)\n",
            "memory usage: 15.8+ KB\n",
            "\n",
            "\n"
          ]
        },
        {
          "output_type": "execute_result",
          "data": {
            "text/plain": [
              "                                      review  sentiment\n",
              "0                   Wow... Loved this place.          1\n",
              "1                         Crust is not good.          0\n",
              "2  Not tasty and the texture was just nasty.          0"
            ],
            "text/html": [
              "\n",
              "  <div id=\"df-a3f9faeb-9f47-4353-9e23-6469d09016ac\" class=\"colab-df-container\">\n",
              "    <div>\n",
              "<style scoped>\n",
              "    .dataframe tbody tr th:only-of-type {\n",
              "        vertical-align: middle;\n",
              "    }\n",
              "\n",
              "    .dataframe tbody tr th {\n",
              "        vertical-align: top;\n",
              "    }\n",
              "\n",
              "    .dataframe thead th {\n",
              "        text-align: right;\n",
              "    }\n",
              "</style>\n",
              "<table border=\"1\" class=\"dataframe\">\n",
              "  <thead>\n",
              "    <tr style=\"text-align: right;\">\n",
              "      <th></th>\n",
              "      <th>review</th>\n",
              "      <th>sentiment</th>\n",
              "    </tr>\n",
              "  </thead>\n",
              "  <tbody>\n",
              "    <tr>\n",
              "      <th>0</th>\n",
              "      <td>Wow... Loved this place.</td>\n",
              "      <td>1</td>\n",
              "    </tr>\n",
              "    <tr>\n",
              "      <th>1</th>\n",
              "      <td>Crust is not good.</td>\n",
              "      <td>0</td>\n",
              "    </tr>\n",
              "    <tr>\n",
              "      <th>2</th>\n",
              "      <td>Not tasty and the texture was just nasty.</td>\n",
              "      <td>0</td>\n",
              "    </tr>\n",
              "  </tbody>\n",
              "</table>\n",
              "</div>\n",
              "    <div class=\"colab-df-buttons\">\n",
              "\n",
              "  <div class=\"colab-df-container\">\n",
              "    <button class=\"colab-df-convert\" onclick=\"convertToInteractive('df-a3f9faeb-9f47-4353-9e23-6469d09016ac')\"\n",
              "            title=\"Convert this dataframe to an interactive table.\"\n",
              "            style=\"display:none;\">\n",
              "\n",
              "  <svg xmlns=\"http://www.w3.org/2000/svg\" height=\"24px\" viewBox=\"0 -960 960 960\">\n",
              "    <path d=\"M120-120v-720h720v720H120Zm60-500h600v-160H180v160Zm220 220h160v-160H400v160Zm0 220h160v-160H400v160ZM180-400h160v-160H180v160Zm440 0h160v-160H620v160ZM180-180h160v-160H180v160Zm440 0h160v-160H620v160Z\"/>\n",
              "  </svg>\n",
              "    </button>\n",
              "\n",
              "  <style>\n",
              "    .colab-df-container {\n",
              "      display:flex;\n",
              "      gap: 12px;\n",
              "    }\n",
              "\n",
              "    .colab-df-convert {\n",
              "      background-color: #E8F0FE;\n",
              "      border: none;\n",
              "      border-radius: 50%;\n",
              "      cursor: pointer;\n",
              "      display: none;\n",
              "      fill: #1967D2;\n",
              "      height: 32px;\n",
              "      padding: 0 0 0 0;\n",
              "      width: 32px;\n",
              "    }\n",
              "\n",
              "    .colab-df-convert:hover {\n",
              "      background-color: #E2EBFA;\n",
              "      box-shadow: 0px 1px 2px rgba(60, 64, 67, 0.3), 0px 1px 3px 1px rgba(60, 64, 67, 0.15);\n",
              "      fill: #174EA6;\n",
              "    }\n",
              "\n",
              "    .colab-df-buttons div {\n",
              "      margin-bottom: 4px;\n",
              "    }\n",
              "\n",
              "    [theme=dark] .colab-df-convert {\n",
              "      background-color: #3B4455;\n",
              "      fill: #D2E3FC;\n",
              "    }\n",
              "\n",
              "    [theme=dark] .colab-df-convert:hover {\n",
              "      background-color: #434B5C;\n",
              "      box-shadow: 0px 1px 3px 1px rgba(0, 0, 0, 0.15);\n",
              "      filter: drop-shadow(0px 1px 2px rgba(0, 0, 0, 0.3));\n",
              "      fill: #FFFFFF;\n",
              "    }\n",
              "  </style>\n",
              "\n",
              "    <script>\n",
              "      const buttonEl =\n",
              "        document.querySelector('#df-a3f9faeb-9f47-4353-9e23-6469d09016ac button.colab-df-convert');\n",
              "      buttonEl.style.display =\n",
              "        google.colab.kernel.accessAllowed ? 'block' : 'none';\n",
              "\n",
              "      async function convertToInteractive(key) {\n",
              "        const element = document.querySelector('#df-a3f9faeb-9f47-4353-9e23-6469d09016ac');\n",
              "        const dataTable =\n",
              "          await google.colab.kernel.invokeFunction('convertToInteractive',\n",
              "                                                    [key], {});\n",
              "        if (!dataTable) return;\n",
              "\n",
              "        const docLinkHtml = 'Like what you see? Visit the ' +\n",
              "          '<a target=\"_blank\" href=https://colab.research.google.com/notebooks/data_table.ipynb>data table notebook</a>'\n",
              "          + ' to learn more about interactive tables.';\n",
              "        element.innerHTML = '';\n",
              "        dataTable['output_type'] = 'display_data';\n",
              "        await google.colab.output.renderOutput(dataTable, element);\n",
              "        const docLink = document.createElement('div');\n",
              "        docLink.innerHTML = docLinkHtml;\n",
              "        element.appendChild(docLink);\n",
              "      }\n",
              "    </script>\n",
              "  </div>\n",
              "\n",
              "\n",
              "<div id=\"df-04d0d3fe-5041-40b8-a55a-dfde72ee5ab0\">\n",
              "  <button class=\"colab-df-quickchart\" onclick=\"quickchart('df-04d0d3fe-5041-40b8-a55a-dfde72ee5ab0')\"\n",
              "            title=\"Suggest charts\"\n",
              "            style=\"display:none;\">\n",
              "\n",
              "<svg xmlns=\"http://www.w3.org/2000/svg\" height=\"24px\"viewBox=\"0 0 24 24\"\n",
              "     width=\"24px\">\n",
              "    <g>\n",
              "        <path d=\"M19 3H5c-1.1 0-2 .9-2 2v14c0 1.1.9 2 2 2h14c1.1 0 2-.9 2-2V5c0-1.1-.9-2-2-2zM9 17H7v-7h2v7zm4 0h-2V7h2v10zm4 0h-2v-4h2v4z\"/>\n",
              "    </g>\n",
              "</svg>\n",
              "  </button>\n",
              "\n",
              "<style>\n",
              "  .colab-df-quickchart {\n",
              "      --bg-color: #E8F0FE;\n",
              "      --fill-color: #1967D2;\n",
              "      --hover-bg-color: #E2EBFA;\n",
              "      --hover-fill-color: #174EA6;\n",
              "      --disabled-fill-color: #AAA;\n",
              "      --disabled-bg-color: #DDD;\n",
              "  }\n",
              "\n",
              "  [theme=dark] .colab-df-quickchart {\n",
              "      --bg-color: #3B4455;\n",
              "      --fill-color: #D2E3FC;\n",
              "      --hover-bg-color: #434B5C;\n",
              "      --hover-fill-color: #FFFFFF;\n",
              "      --disabled-bg-color: #3B4455;\n",
              "      --disabled-fill-color: #666;\n",
              "  }\n",
              "\n",
              "  .colab-df-quickchart {\n",
              "    background-color: var(--bg-color);\n",
              "    border: none;\n",
              "    border-radius: 50%;\n",
              "    cursor: pointer;\n",
              "    display: none;\n",
              "    fill: var(--fill-color);\n",
              "    height: 32px;\n",
              "    padding: 0;\n",
              "    width: 32px;\n",
              "  }\n",
              "\n",
              "  .colab-df-quickchart:hover {\n",
              "    background-color: var(--hover-bg-color);\n",
              "    box-shadow: 0 1px 2px rgba(60, 64, 67, 0.3), 0 1px 3px 1px rgba(60, 64, 67, 0.15);\n",
              "    fill: var(--button-hover-fill-color);\n",
              "  }\n",
              "\n",
              "  .colab-df-quickchart-complete:disabled,\n",
              "  .colab-df-quickchart-complete:disabled:hover {\n",
              "    background-color: var(--disabled-bg-color);\n",
              "    fill: var(--disabled-fill-color);\n",
              "    box-shadow: none;\n",
              "  }\n",
              "\n",
              "  .colab-df-spinner {\n",
              "    border: 2px solid var(--fill-color);\n",
              "    border-color: transparent;\n",
              "    border-bottom-color: var(--fill-color);\n",
              "    animation:\n",
              "      spin 1s steps(1) infinite;\n",
              "  }\n",
              "\n",
              "  @keyframes spin {\n",
              "    0% {\n",
              "      border-color: transparent;\n",
              "      border-bottom-color: var(--fill-color);\n",
              "      border-left-color: var(--fill-color);\n",
              "    }\n",
              "    20% {\n",
              "      border-color: transparent;\n",
              "      border-left-color: var(--fill-color);\n",
              "      border-top-color: var(--fill-color);\n",
              "    }\n",
              "    30% {\n",
              "      border-color: transparent;\n",
              "      border-left-color: var(--fill-color);\n",
              "      border-top-color: var(--fill-color);\n",
              "      border-right-color: var(--fill-color);\n",
              "    }\n",
              "    40% {\n",
              "      border-color: transparent;\n",
              "      border-right-color: var(--fill-color);\n",
              "      border-top-color: var(--fill-color);\n",
              "    }\n",
              "    60% {\n",
              "      border-color: transparent;\n",
              "      border-right-color: var(--fill-color);\n",
              "    }\n",
              "    80% {\n",
              "      border-color: transparent;\n",
              "      border-right-color: var(--fill-color);\n",
              "      border-bottom-color: var(--fill-color);\n",
              "    }\n",
              "    90% {\n",
              "      border-color: transparent;\n",
              "      border-bottom-color: var(--fill-color);\n",
              "    }\n",
              "  }\n",
              "</style>\n",
              "\n",
              "  <script>\n",
              "    async function quickchart(key) {\n",
              "      const quickchartButtonEl =\n",
              "        document.querySelector('#' + key + ' button');\n",
              "      quickchartButtonEl.disabled = true;  // To prevent multiple clicks.\n",
              "      quickchartButtonEl.classList.add('colab-df-spinner');\n",
              "      try {\n",
              "        const charts = await google.colab.kernel.invokeFunction(\n",
              "            'suggestCharts', [key], {});\n",
              "      } catch (error) {\n",
              "        console.error('Error during call to suggestCharts:', error);\n",
              "      }\n",
              "      quickchartButtonEl.classList.remove('colab-df-spinner');\n",
              "      quickchartButtonEl.classList.add('colab-df-quickchart-complete');\n",
              "    }\n",
              "    (() => {\n",
              "      let quickchartButtonEl =\n",
              "        document.querySelector('#df-04d0d3fe-5041-40b8-a55a-dfde72ee5ab0 button');\n",
              "      quickchartButtonEl.style.display =\n",
              "        google.colab.kernel.accessAllowed ? 'block' : 'none';\n",
              "    })();\n",
              "  </script>\n",
              "</div>\n",
              "\n",
              "    </div>\n",
              "  </div>\n"
            ],
            "application/vnd.google.colaboratory.intrinsic+json": {
              "type": "dataframe",
              "variable_name": "yelp",
              "summary": "{\n  \"name\": \"yelp\",\n  \"rows\": 1000,\n  \"fields\": [\n    {\n      \"column\": \"review\",\n      \"properties\": {\n        \"dtype\": \"string\",\n        \"num_unique_values\": 996,\n        \"samples\": [\n          \"They were excellent.\",\n          \"Your servers suck, wait, correction, our server Heimer sucked.\",\n          \"Will be back again!\"\n        ],\n        \"semantic_type\": \"\",\n        \"description\": \"\"\n      }\n    },\n    {\n      \"column\": \"sentiment\",\n      \"properties\": {\n        \"dtype\": \"number\",\n        \"std\": 0,\n        \"min\": 0,\n        \"max\": 1,\n        \"num_unique_values\": 2,\n        \"samples\": [\n          0,\n          1\n        ],\n        \"semantic_type\": \"\",\n        \"description\": \"\"\n      }\n    }\n  ]\n}"
            }
          },
          "metadata": {},
          "execution_count": 6
        }
      ],
      "source": [
        "# View yelp df info and first three rows\n",
        "yelp.info()\n",
        "print('\\n')\n",
        "yelp.head(3)"
      ]
    },
    {
      "cell_type": "code",
      "execution_count": 7,
      "metadata": {
        "colab": {
          "base_uri": "https://localhost:8080/"
        },
        "id": "T5wWznjVMaSI",
        "outputId": "f1103185-81ba-44c9-b326-f5117ad2e437"
      },
      "outputs": [
        {
          "output_type": "execute_result",
          "data": {
            "text/plain": [
              "0    500\n",
              "1    500\n",
              "Name: sentiment, dtype: int64"
            ]
          },
          "metadata": {},
          "execution_count": 7
        }
      ],
      "source": [
        "# View counts\n",
        "amazon['sentiment'].value_counts()"
      ]
    },
    {
      "cell_type": "code",
      "execution_count": 8,
      "metadata": {
        "colab": {
          "base_uri": "https://localhost:8080/"
        },
        "id": "rjtO93yiMaVQ",
        "outputId": "3591cd3e-7d37-4ef1-f224-50446bd1995d"
      },
      "outputs": [
        {
          "output_type": "execute_result",
          "data": {
            "text/plain": [
              "0    500\n",
              "1    500\n",
              "Name: sentiment, dtype: int64"
            ]
          },
          "metadata": {},
          "execution_count": 8
        }
      ],
      "source": [
        "# View counts\n",
        "imdb['sentiment'].value_counts()"
      ]
    },
    {
      "cell_type": "code",
      "execution_count": 9,
      "metadata": {
        "colab": {
          "base_uri": "https://localhost:8080/"
        },
        "id": "STmR79rAMjfb",
        "outputId": "f518a8af-9873-4519-bd5d-d1f4ee5ab558"
      },
      "outputs": [
        {
          "output_type": "execute_result",
          "data": {
            "text/plain": [
              "1    500\n",
              "0    500\n",
              "Name: sentiment, dtype: int64"
            ]
          },
          "metadata": {},
          "execution_count": 9
        }
      ],
      "source": [
        "# View counts\n",
        "yelp['sentiment'].value_counts()"
      ]
    },
    {
      "cell_type": "code",
      "execution_count": null,
      "metadata": {
        "colab": {
          "base_uri": "https://localhost:8080/",
          "height": 441
        },
        "id": "qTbYWT9xMlcA",
        "outputId": "3c23b1f6-be98-4a48-8f9a-1a79c6866495"
      },
      "outputs": [
        {
          "name": "stdout",
          "output_type": "stream",
          "text": [
            "Shape of data:  (3000, 2)\n"
          ]
        },
        {
          "data": {
            "text/html": [
              "<div>\n",
              "<style scoped>\n",
              "    .dataframe tbody tr th:only-of-type {\n",
              "        vertical-align: middle;\n",
              "    }\n",
              "\n",
              "    .dataframe tbody tr th {\n",
              "        vertical-align: top;\n",
              "    }\n",
              "\n",
              "    .dataframe thead th {\n",
              "        text-align: right;\n",
              "    }\n",
              "</style>\n",
              "<table border=\"1\" class=\"dataframe\">\n",
              "  <thead>\n",
              "    <tr style=\"text-align: right;\">\n",
              "      <th></th>\n",
              "      <th>review</th>\n",
              "      <th>sentiment</th>\n",
              "    </tr>\n",
              "  </thead>\n",
              "  <tbody>\n",
              "    <tr>\n",
              "      <th>0</th>\n",
              "      <td>So there is no way for me to plug it in here i...</td>\n",
              "      <td>0</td>\n",
              "    </tr>\n",
              "    <tr>\n",
              "      <th>1</th>\n",
              "      <td>Good case, Excellent value.</td>\n",
              "      <td>1</td>\n",
              "    </tr>\n",
              "    <tr>\n",
              "      <th>2</th>\n",
              "      <td>Great for the jawbone.</td>\n",
              "      <td>1</td>\n",
              "    </tr>\n",
              "    <tr>\n",
              "      <th>3</th>\n",
              "      <td>Tied to charger for conversations lasting more...</td>\n",
              "      <td>0</td>\n",
              "    </tr>\n",
              "    <tr>\n",
              "      <th>4</th>\n",
              "      <td>The mic is great.</td>\n",
              "      <td>1</td>\n",
              "    </tr>\n",
              "    <tr>\n",
              "      <th>...</th>\n",
              "      <td>...</td>\n",
              "      <td>...</td>\n",
              "    </tr>\n",
              "    <tr>\n",
              "      <th>2995</th>\n",
              "      <td>I think food should have flavor and texture an...</td>\n",
              "      <td>0</td>\n",
              "    </tr>\n",
              "    <tr>\n",
              "      <th>2996</th>\n",
              "      <td>Appetite instantly gone.</td>\n",
              "      <td>0</td>\n",
              "    </tr>\n",
              "    <tr>\n",
              "      <th>2997</th>\n",
              "      <td>Overall I was not impressed and would not go b...</td>\n",
              "      <td>0</td>\n",
              "    </tr>\n",
              "    <tr>\n",
              "      <th>2998</th>\n",
              "      <td>The whole experience was underwhelming, and I ...</td>\n",
              "      <td>0</td>\n",
              "    </tr>\n",
              "    <tr>\n",
              "      <th>2999</th>\n",
              "      <td>Then, as if I hadn't wasted enough of my life ...</td>\n",
              "      <td>0</td>\n",
              "    </tr>\n",
              "  </tbody>\n",
              "</table>\n",
              "<p>3000 rows × 2 columns</p>\n",
              "</div>"
            ],
            "text/plain": [
              "                                                 review  sentiment\n",
              "0     So there is no way for me to plug it in here i...          0\n",
              "1                           Good case, Excellent value.          1\n",
              "2                                Great for the jawbone.          1\n",
              "3     Tied to charger for conversations lasting more...          0\n",
              "4                                     The mic is great.          1\n",
              "...                                                 ...        ...\n",
              "2995  I think food should have flavor and texture an...          0\n",
              "2996                           Appetite instantly gone.          0\n",
              "2997  Overall I was not impressed and would not go b...          0\n",
              "2998  The whole experience was underwhelming, and I ...          0\n",
              "2999  Then, as if I hadn't wasted enough of my life ...          0\n",
              "\n",
              "[3000 rows x 2 columns]"
            ]
          },
          "execution_count": 330,
          "metadata": {},
          "output_type": "execute_result"
        }
      ],
      "source": [
        "# Concatenate three review df into one df\n",
        "df = pd.concat((amazon, imdb, yelp), ignore_index = True)\n",
        "\n",
        "# View shape\n",
        "print(\"Shape of data: \", df.shape)\n",
        "\n",
        "# View df\n",
        "df"
      ]
    },
    {
      "cell_type": "code",
      "execution_count": null,
      "metadata": {
        "colab": {
          "base_uri": "https://localhost:8080/"
        },
        "id": "jn9hT_IYMn36",
        "outputId": "1702b0f9-50d9-41b9-9aa8-47755aadb3a7"
      },
      "outputs": [
        {
          "data": {
            "text/plain": [
              "review       0\n",
              "sentiment    0\n",
              "dtype: int64"
            ]
          },
          "execution_count": 331,
          "metadata": {},
          "output_type": "execute_result"
        }
      ],
      "source": [
        "# Search for missing values\n",
        "df.isnull().sum()"
      ]
    },
    {
      "cell_type": "code",
      "execution_count": null,
      "metadata": {
        "colab": {
          "base_uri": "https://localhost:8080/"
        },
        "id": "A974hSNnMsGN",
        "outputId": "6da272b4-6440-4040-b47e-90964f74da8f"
      },
      "outputs": [
        {
          "data": {
            "text/plain": [
              "0    1500\n",
              "1    1500\n",
              "Name: sentiment, dtype: int64"
            ]
          },
          "execution_count": 332,
          "metadata": {},
          "output_type": "execute_result"
        }
      ],
      "source": [
        "# Get an idea of pos/neg review sentiments\n",
        "df['sentiment'].value_counts()"
      ]
    },
    {
      "cell_type": "code",
      "execution_count": null,
      "metadata": {
        "colab": {
          "base_uri": "https://localhost:8080/",
          "height": 143
        },
        "id": "YPad6d5XMu8n",
        "outputId": "2da70c72-46d9-4e3c-a2c3-7d39c0afafe1"
      },
      "outputs": [
        {
          "data": {
            "text/html": [
              "<div>\n",
              "<style scoped>\n",
              "    .dataframe tbody tr th:only-of-type {\n",
              "        vertical-align: middle;\n",
              "    }\n",
              "\n",
              "    .dataframe tbody tr th {\n",
              "        vertical-align: top;\n",
              "    }\n",
              "\n",
              "    .dataframe thead th {\n",
              "        text-align: right;\n",
              "    }\n",
              "</style>\n",
              "<table border=\"1\" class=\"dataframe\">\n",
              "  <thead>\n",
              "    <tr style=\"text-align: right;\">\n",
              "      <th></th>\n",
              "      <th>review</th>\n",
              "      <th>sentiment</th>\n",
              "    </tr>\n",
              "  </thead>\n",
              "  <tbody>\n",
              "    <tr>\n",
              "      <th>0</th>\n",
              "      <td>so there is no way for me to plug it in here i...</td>\n",
              "      <td>0</td>\n",
              "    </tr>\n",
              "    <tr>\n",
              "      <th>1</th>\n",
              "      <td>good case, excellent value.</td>\n",
              "      <td>1</td>\n",
              "    </tr>\n",
              "    <tr>\n",
              "      <th>2</th>\n",
              "      <td>great for the jawbone.</td>\n",
              "      <td>1</td>\n",
              "    </tr>\n",
              "  </tbody>\n",
              "</table>\n",
              "</div>"
            ],
            "text/plain": [
              "                                              review  sentiment\n",
              "0  so there is no way for me to plug it in here i...          0\n",
              "1                        good case, excellent value.          1\n",
              "2                             great for the jawbone.          1"
            ]
          },
          "execution_count": 333,
          "metadata": {},
          "output_type": "execute_result"
        }
      ],
      "source": [
        "# Convert text of reviews into all lowercase strings\n",
        "df['review'] = df['review'].str.lower()\n",
        "\n",
        "# View conversion of reviews\n",
        "df.head(3)"
      ]
    },
    {
      "cell_type": "code",
      "execution_count": null,
      "metadata": {
        "colab": {
          "base_uri": "https://localhost:8080/",
          "height": 143
        },
        "id": "Hu7cJdC1-7EG",
        "outputId": "a7eea8f8-7827-4edf-aca6-e0e432d5d059"
      },
      "outputs": [
        {
          "name": "stdout",
          "output_type": "stream",
          "text": [
            "['s']\n",
            "['s', 'o']\n",
            "['s', 'o', ' ']\n",
            "['s', 'o', ' ', 't']\n",
            "['s', 'o', ' ', 't', 'h']\n",
            "['s', 'o', ' ', 't', 'h', 'e']\n",
            "['s', 'o', ' ', 't', 'h', 'e', 'r']\n",
            "['s', 'o', ' ', 't', 'h', 'e', 'r', 'i']\n",
            "['s', 'o', ' ', 't', 'h', 'e', 'r', 'i', 'n']\n",
            "['s', 'o', ' ', 't', 'h', 'e', 'r', 'i', 'n', 'w']\n",
            "['s', 'o', ' ', 't', 'h', 'e', 'r', 'i', 'n', 'w', 'a']\n",
            "['s', 'o', ' ', 't', 'h', 'e', 'r', 'i', 'n', 'w', 'a', 'y']\n",
            "['s', 'o', ' ', 't', 'h', 'e', 'r', 'i', 'n', 'w', 'a', 'y', 'f']\n",
            "['s', 'o', ' ', 't', 'h', 'e', 'r', 'i', 'n', 'w', 'a', 'y', 'f', 'm']\n",
            "['s', 'o', ' ', 't', 'h', 'e', 'r', 'i', 'n', 'w', 'a', 'y', 'f', 'm', 'p']\n",
            "['s', 'o', ' ', 't', 'h', 'e', 'r', 'i', 'n', 'w', 'a', 'y', 'f', 'm', 'p', 'l']\n",
            "['s', 'o', ' ', 't', 'h', 'e', 'r', 'i', 'n', 'w', 'a', 'y', 'f', 'm', 'p', 'l', 'u']\n",
            "['s', 'o', ' ', 't', 'h', 'e', 'r', 'i', 'n', 'w', 'a', 'y', 'f', 'm', 'p', 'l', 'u', 'g']\n",
            "['s', 'o', ' ', 't', 'h', 'e', 'r', 'i', 'n', 'w', 'a', 'y', 'f', 'm', 'p', 'l', 'u', 'g', 'b']\n",
            "['s', 'o', ' ', 't', 'h', 'e', 'r', 'i', 'n', 'w', 'a', 'y', 'f', 'm', 'p', 'l', 'u', 'g', 'b', 'c']\n",
            "['s', 'o', ' ', 't', 'h', 'e', 'r', 'i', 'n', 'w', 'a', 'y', 'f', 'm', 'p', 'l', 'u', 'g', 'b', 'c', 'v']\n",
            "['s', 'o', ' ', 't', 'h', 'e', 'r', 'i', 'n', 'w', 'a', 'y', 'f', 'm', 'p', 'l', 'u', 'g', 'b', 'c', 'v', '.']\n",
            "['s', 'o', ' ', 't', 'h', 'e', 'r', 'i', 'n', 'w', 'a', 'y', 'f', 'm', 'p', 'l', 'u', 'g', 'b', 'c', 'v', '.', 'd']\n",
            "['s', 'o', ' ', 't', 'h', 'e', 'r', 'i', 'n', 'w', 'a', 'y', 'f', 'm', 'p', 'l', 'u', 'g', 'b', 'c', 'v', '.', 'd', ',']\n",
            "['s', 'o', ' ', 't', 'h', 'e', 'r', 'i', 'n', 'w', 'a', 'y', 'f', 'm', 'p', 'l', 'u', 'g', 'b', 'c', 'v', '.', 'd', ',', 'x']\n",
            "['s', 'o', ' ', 't', 'h', 'e', 'r', 'i', 'n', 'w', 'a', 'y', 'f', 'm', 'p', 'l', 'u', 'g', 'b', 'c', 'v', '.', 'd', ',', 'x', 'j']\n",
            "['s', 'o', ' ', 't', 'h', 'e', 'r', 'i', 'n', 'w', 'a', 'y', 'f', 'm', 'p', 'l', 'u', 'g', 'b', 'c', 'v', '.', 'd', ',', 'x', 'j', '4']\n",
            "['s', 'o', ' ', 't', 'h', 'e', 'r', 'i', 'n', 'w', 'a', 'y', 'f', 'm', 'p', 'l', 'u', 'g', 'b', 'c', 'v', '.', 'd', ',', 'x', 'j', '4', '5']\n",
            "['s', 'o', ' ', 't', 'h', 'e', 'r', 'i', 'n', 'w', 'a', 'y', 'f', 'm', 'p', 'l', 'u', 'g', 'b', 'c', 'v', '.', 'd', ',', 'x', 'j', '4', '5', '!']\n",
            "['s', 'o', ' ', 't', 'h', 'e', 'r', 'i', 'n', 'w', 'a', 'y', 'f', 'm', 'p', 'l', 'u', 'g', 'b', 'c', 'v', '.', 'd', ',', 'x', 'j', '4', '5', '!', 'z']\n",
            "['s', 'o', ' ', 't', 'h', 'e', 'r', 'i', 'n', 'w', 'a', 'y', 'f', 'm', 'p', 'l', 'u', 'g', 'b', 'c', 'v', '.', 'd', ',', 'x', 'j', '4', '5', '!', 'z', 'q']\n",
            "['s', 'o', ' ', 't', 'h', 'e', 'r', 'i', 'n', 'w', 'a', 'y', 'f', 'm', 'p', 'l', 'u', 'g', 'b', 'c', 'v', '.', 'd', ',', 'x', 'j', '4', '5', '!', 'z', 'q', '+']\n",
            "['s', 'o', ' ', 't', 'h', 'e', 'r', 'i', 'n', 'w', 'a', 'y', 'f', 'm', 'p', 'l', 'u', 'g', 'b', 'c', 'v', '.', 'd', ',', 'x', 'j', '4', '5', '!', 'z', 'q', '+', '\"']\n",
            "['s', 'o', ' ', 't', 'h', 'e', 'r', 'i', 'n', 'w', 'a', 'y', 'f', 'm', 'p', 'l', 'u', 'g', 'b', 'c', 'v', '.', 'd', ',', 'x', 'j', '4', '5', '!', 'z', 'q', '+', '\"', 'k']\n",
            "['s', 'o', ' ', 't', 'h', 'e', 'r', 'i', 'n', 'w', 'a', 'y', 'f', 'm', 'p', 'l', 'u', 'g', 'b', 'c', 'v', '.', 'd', ',', 'x', 'j', '4', '5', '!', 'z', 'q', '+', '\"', 'k', \"'\"]\n",
            "['s', 'o', ' ', 't', 'h', 'e', 'r', 'i', 'n', 'w', 'a', 'y', 'f', 'm', 'p', 'l', 'u', 'g', 'b', 'c', 'v', '.', 'd', ',', 'x', 'j', '4', '5', '!', 'z', 'q', '+', '\"', 'k', \"'\", '/']\n",
            "['s', 'o', ' ', 't', 'h', 'e', 'r', 'i', 'n', 'w', 'a', 'y', 'f', 'm', 'p', 'l', 'u', 'g', 'b', 'c', 'v', '.', 'd', ',', 'x', 'j', '4', '5', '!', 'z', 'q', '+', '\"', 'k', \"'\", '/', '7']\n",
            "['s', 'o', ' ', 't', 'h', 'e', 'r', 'i', 'n', 'w', 'a', 'y', 'f', 'm', 'p', 'l', 'u', 'g', 'b', 'c', 'v', '.', 'd', ',', 'x', 'j', '4', '5', '!', 'z', 'q', '+', '\"', 'k', \"'\", '/', '7', '3']\n",
            "['s', 'o', ' ', 't', 'h', 'e', 'r', 'i', 'n', 'w', 'a', 'y', 'f', 'm', 'p', 'l', 'u', 'g', 'b', 'c', 'v', '.', 'd', ',', 'x', 'j', '4', '5', '!', 'z', 'q', '+', '\"', 'k', \"'\", '/', '7', '3', '6']\n",
            "['s', 'o', ' ', 't', 'h', 'e', 'r', 'i', 'n', 'w', 'a', 'y', 'f', 'm', 'p', 'l', 'u', 'g', 'b', 'c', 'v', '.', 'd', ',', 'x', 'j', '4', '5', '!', 'z', 'q', '+', '\"', 'k', \"'\", '/', '7', '3', '6', '8']\n",
            "['s', 'o', ' ', 't', 'h', 'e', 'r', 'i', 'n', 'w', 'a', 'y', 'f', 'm', 'p', 'l', 'u', 'g', 'b', 'c', 'v', '.', 'd', ',', 'x', 'j', '4', '5', '!', 'z', 'q', '+', '\"', 'k', \"'\", '/', '7', '3', '6', '8', '0']\n",
            "['s', 'o', ' ', 't', 'h', 'e', 'r', 'i', 'n', 'w', 'a', 'y', 'f', 'm', 'p', 'l', 'u', 'g', 'b', 'c', 'v', '.', 'd', ',', 'x', 'j', '4', '5', '!', 'z', 'q', '+', '\"', 'k', \"'\", '/', '7', '3', '6', '8', '0', '2']\n",
            "['s', 'o', ' ', 't', 'h', 'e', 'r', 'i', 'n', 'w', 'a', 'y', 'f', 'm', 'p', 'l', 'u', 'g', 'b', 'c', 'v', '.', 'd', ',', 'x', 'j', '4', '5', '!', 'z', 'q', '+', '\"', 'k', \"'\", '/', '7', '3', '6', '8', '0', '2', '?']\n",
            "['s', 'o', ' ', 't', 'h', 'e', 'r', 'i', 'n', 'w', 'a', 'y', 'f', 'm', 'p', 'l', 'u', 'g', 'b', 'c', 'v', '.', 'd', ',', 'x', 'j', '4', '5', '!', 'z', 'q', '+', '\"', 'k', \"'\", '/', '7', '3', '6', '8', '0', '2', '?', '-']\n",
            "['s', 'o', ' ', 't', 'h', 'e', 'r', 'i', 'n', 'w', 'a', 'y', 'f', 'm', 'p', 'l', 'u', 'g', 'b', 'c', 'v', '.', 'd', ',', 'x', 'j', '4', '5', '!', 'z', 'q', '+', '\"', 'k', \"'\", '/', '7', '3', '6', '8', '0', '2', '?', '-', '1']\n",
            "['s', 'o', ' ', 't', 'h', 'e', 'r', 'i', 'n', 'w', 'a', 'y', 'f', 'm', 'p', 'l', 'u', 'g', 'b', 'c', 'v', '.', 'd', ',', 'x', 'j', '4', '5', '!', 'z', 'q', '+', '\"', 'k', \"'\", '/', '7', '3', '6', '8', '0', '2', '?', '-', '1', ':']\n",
            "['s', 'o', ' ', 't', 'h', 'e', 'r', 'i', 'n', 'w', 'a', 'y', 'f', 'm', 'p', 'l', 'u', 'g', 'b', 'c', 'v', '.', 'd', ',', 'x', 'j', '4', '5', '!', 'z', 'q', '+', '\"', 'k', \"'\", '/', '7', '3', '6', '8', '0', '2', '?', '-', '1', ':', ')']\n",
            "['s', 'o', ' ', 't', 'h', 'e', 'r', 'i', 'n', 'w', 'a', 'y', 'f', 'm', 'p', 'l', 'u', 'g', 'b', 'c', 'v', '.', 'd', ',', 'x', 'j', '4', '5', '!', 'z', 'q', '+', '\"', 'k', \"'\", '/', '7', '3', '6', '8', '0', '2', '?', '-', '1', ':', ')', '(']\n",
            "['s', 'o', ' ', 't', 'h', 'e', 'r', 'i', 'n', 'w', 'a', 'y', 'f', 'm', 'p', 'l', 'u', 'g', 'b', 'c', 'v', '.', 'd', ',', 'x', 'j', '4', '5', '!', 'z', 'q', '+', '\"', 'k', \"'\", '/', '7', '3', '6', '8', '0', '2', '?', '-', '1', ':', ')', '(', '&']\n",
            "['s', 'o', ' ', 't', 'h', 'e', 'r', 'i', 'n', 'w', 'a', 'y', 'f', 'm', 'p', 'l', 'u', 'g', 'b', 'c', 'v', '.', 'd', ',', 'x', 'j', '4', '5', '!', 'z', 'q', '+', '\"', 'k', \"'\", '/', '7', '3', '6', '8', '0', '2', '?', '-', '1', ':', ')', '(', '&', '$']\n",
            "['s', 'o', ' ', 't', 'h', 'e', 'r', 'i', 'n', 'w', 'a', 'y', 'f', 'm', 'p', 'l', 'u', 'g', 'b', 'c', 'v', '.', 'd', ',', 'x', 'j', '4', '5', '!', 'z', 'q', '+', '\"', 'k', \"'\", '/', '7', '3', '6', '8', '0', '2', '?', '-', '1', ':', ')', '(', '&', '$', '*']\n",
            "['s', 'o', ' ', 't', 'h', 'e', 'r', 'i', 'n', 'w', 'a', 'y', 'f', 'm', 'p', 'l', 'u', 'g', 'b', 'c', 'v', '.', 'd', ',', 'x', 'j', '4', '5', '!', 'z', 'q', '+', '\"', 'k', \"'\", '/', '7', '3', '6', '8', '0', '2', '?', '-', '1', ':', ')', '(', '&', '$', '*', ';']\n",
            "['s', 'o', ' ', 't', 'h', 'e', 'r', 'i', 'n', 'w', 'a', 'y', 'f', 'm', 'p', 'l', 'u', 'g', 'b', 'c', 'v', '.', 'd', ',', 'x', 'j', '4', '5', '!', 'z', 'q', '+', '\"', 'k', \"'\", '/', '7', '3', '6', '8', '0', '2', '?', '-', '1', ':', ')', '(', '&', '$', '*', ';', '%']\n",
            "['s', 'o', ' ', 't', 'h', 'e', 'r', 'i', 'n', 'w', 'a', 'y', 'f', 'm', 'p', 'l', 'u', 'g', 'b', 'c', 'v', '.', 'd', ',', 'x', 'j', '4', '5', '!', 'z', 'q', '+', '\"', 'k', \"'\", '/', '7', '3', '6', '8', '0', '2', '?', '-', '1', ':', ')', '(', '&', '$', '*', ';', '%', '9']\n",
            "['s', 'o', ' ', 't', 'h', 'e', 'r', 'i', 'n', 'w', 'a', 'y', 'f', 'm', 'p', 'l', 'u', 'g', 'b', 'c', 'v', '.', 'd', ',', 'x', 'j', '4', '5', '!', 'z', 'q', '+', '\"', 'k', \"'\", '/', '7', '3', '6', '8', '0', '2', '?', '-', '1', ':', ')', '(', '&', '$', '*', ';', '%', '9', '#']\n",
            "['s', 'o', ' ', 't', 'h', 'e', 'r', 'i', 'n', 'w', 'a', 'y', 'f', 'm', 'p', 'l', 'u', 'g', 'b', 'c', 'v', '.', 'd', ',', 'x', 'j', '4', '5', '!', 'z', 'q', '+', '\"', 'k', \"'\", '/', '7', '3', '6', '8', '0', '2', '?', '-', '1', ':', ')', '(', '&', '$', '*', ';', '%', '9', '#', '[']\n",
            "['s', 'o', ' ', 't', 'h', 'e', 'r', 'i', 'n', 'w', 'a', 'y', 'f', 'm', 'p', 'l', 'u', 'g', 'b', 'c', 'v', '.', 'd', ',', 'x', 'j', '4', '5', '!', 'z', 'q', '+', '\"', 'k', \"'\", '/', '7', '3', '6', '8', '0', '2', '?', '-', '1', ':', ')', '(', '&', '$', '*', ';', '%', '9', '#', '[', ']']\n"
          ]
        },
        {
          "name": "stdout",
          "output_type": "stream",
          "text": [
            "['s', 'o', ' ', 't', 'h', 'e', 'r', 'i', 'n', 'w', 'a', 'y', 'f', 'm', 'p', 'l', 'u', 'g', 'b', 'c', 'v', '.', 'd', ',', 'x', 'j', '4', '5', '!', 'z', 'q', '+', '\"', 'k', \"'\", '/', '7', '3', '6', '8', '0', '2', '?', '-', '1', ':', ')', '(', '&', '$', '*', ';', '%', '9', '#', '[', ']', '\\x96']\n",
            "['s', 'o', ' ', 't', 'h', 'e', 'r', 'i', 'n', 'w', 'a', 'y', 'f', 'm', 'p', 'l', 'u', 'g', 'b', 'c', 'v', '.', 'd', ',', 'x', 'j', '4', '5', '!', 'z', 'q', '+', '\"', 'k', \"'\", '/', '7', '3', '6', '8', '0', '2', '?', '-', '1', ':', ')', '(', '&', '$', '*', ';', '%', '9', '#', '[', ']', '\\x96', 'é']\n",
            "['s', 'o', ' ', 't', 'h', 'e', 'r', 'i', 'n', 'w', 'a', 'y', 'f', 'm', 'p', 'l', 'u', 'g', 'b', 'c', 'v', '.', 'd', ',', 'x', 'j', '4', '5', '!', 'z', 'q', '+', '\"', 'k', \"'\", '/', '7', '3', '6', '8', '0', '2', '?', '-', '1', ':', ')', '(', '&', '$', '*', ';', '%', '9', '#', '[', ']', '\\x96', 'é', '\\x85']\n",
            "['s', 'o', ' ', 't', 'h', 'e', 'r', 'i', 'n', 'w', 'a', 'y', 'f', 'm', 'p', 'l', 'u', 'g', 'b', 'c', 'v', '.', 'd', ',', 'x', 'j', '4', '5', '!', 'z', 'q', '+', '\"', 'k', \"'\", '/', '7', '3', '6', '8', '0', '2', '?', '-', '1', ':', ')', '(', '&', '$', '*', ';', '%', '9', '#', '[', ']', '\\x96', 'é', '\\x85', 'å']\n",
            "['s', 'o', ' ', 't', 'h', 'e', 'r', 'i', 'n', 'w', 'a', 'y', 'f', 'm', 'p', 'l', 'u', 'g', 'b', 'c', 'v', '.', 'd', ',', 'x', 'j', '4', '5', '!', 'z', 'q', '+', '\"', 'k', \"'\", '/', '7', '3', '6', '8', '0', '2', '?', '-', '1', ':', ')', '(', '&', '$', '*', ';', '%', '9', '#', '[', ']', '\\x96', 'é', '\\x85', 'å', '\\x97']\n",
            "['s', 'o', ' ', 't', 'h', 'e', 'r', 'i', 'n', 'w', 'a', 'y', 'f', 'm', 'p', 'l', 'u', 'g', 'b', 'c', 'v', '.', 'd', ',', 'x', 'j', '4', '5', '!', 'z', 'q', '+', '\"', 'k', \"'\", '/', '7', '3', '6', '8', '0', '2', '?', '-', '1', ':', ')', '(', '&', '$', '*', ';', '%', '9', '#', '[', ']', '\\x96', 'é', '\\x85', 'å', '\\x97', 'ê']\n"
          ]
        }
      ],
      "source": [
        "# Identify characters after in review text\n",
        "character_breakdown = df['review']\n",
        "\n",
        "# Use nested loop to identify all characters\n",
        "# SOURCE --- (Elleh, n.d.)\n",
        "character_list = []\n",
        "\n",
        "for review in character_breakdown:\n",
        "  for character in review:\n",
        "    if character not in character_list:\n",
        "      character_list.append(character)\n",
        "      print(character_list)"
      ]
    },
    {
      "cell_type": "code",
      "execution_count": null,
      "metadata": {
        "id": "e3AshpDUDbYy",
        "outputId": "92c1768e-761c-4dd5-ed86-cccc2f6f29ee"
      },
      "outputs": [
        {
          "data": {
            "text/html": [
              "<div>\n",
              "<style scoped>\n",
              "    .dataframe tbody tr th:only-of-type {\n",
              "        vertical-align: middle;\n",
              "    }\n",
              "\n",
              "    .dataframe tbody tr th {\n",
              "        vertical-align: top;\n",
              "    }\n",
              "\n",
              "    .dataframe thead th {\n",
              "        text-align: right;\n",
              "    }\n",
              "</style>\n",
              "<table border=\"1\" class=\"dataframe\">\n",
              "  <thead>\n",
              "    <tr style=\"text-align: right;\">\n",
              "      <th></th>\n",
              "      <th>review</th>\n",
              "      <th>sentiment</th>\n",
              "    </tr>\n",
              "  </thead>\n",
              "  <tbody>\n",
              "    <tr>\n",
              "      <th>0</th>\n",
              "      <td>so there is no way for me to plug it in here i...</td>\n",
              "      <td>0</td>\n",
              "    </tr>\n",
              "    <tr>\n",
              "      <th>1</th>\n",
              "      <td>good case excellent value</td>\n",
              "      <td>1</td>\n",
              "    </tr>\n",
              "    <tr>\n",
              "      <th>2</th>\n",
              "      <td>great for the jawbone</td>\n",
              "      <td>1</td>\n",
              "    </tr>\n",
              "  </tbody>\n",
              "</table>\n",
              "</div>"
            ],
            "text/plain": [
              "                                              review  sentiment\n",
              "0  so there is no way for me to plug it in here i...          0\n",
              "1                          good case excellent value          1\n",
              "2                              great for the jawbone          1"
            ]
          },
          "execution_count": 335,
          "metadata": {},
          "output_type": "execute_result"
        }
      ],
      "source": [
        "# Remove puncutation using regex\n",
        "# Source --- (Geeks for Geeks, 2023)\n",
        "\n",
        "# Remove punctuation from reviews\n",
        "df['review'] = df['review'].apply(lambda x : re.sub(r'[^\\w\\s]', '', x))\n",
        "\n",
        "# View removal of punctuation in reviews\n",
        "df.head(3)"
      ]
    },
    {
      "cell_type": "code",
      "execution_count": null,
      "metadata": {
        "id": "Upc4i2izMxi9"
      },
      "outputs": [],
      "source": [
        "# Create function to process text\n",
        "def clean(text):\n",
        "  from nltk.corpus import stopwords\n",
        "  stop_words = set(stopwords.words('english'))   # Make set of stop words\n",
        "  stop_words.update('br', 'href', '\\x85')  # Add unusual characters found from chacater loop to stop words\n",
        "  lem = WordNetLemmatizer()   # Instantiate lemmatizer\n",
        "\n",
        "\n",
        "  tokens = word_tokenize(text)  # Tokenize the text\n",
        "\n",
        "  tok_stop = [tok for tok in tokens if tok not in stop_words]   # Remove stopwords\n",
        "\n",
        "  tok_stop_lemma = [lem.lemmatize(tok) for tok in tok_stop]   # Lemmatize text after stopwords removed\n",
        "\n",
        "  clean_text = ' '.join(tok_stop_lemma)\n",
        "\n",
        "  return clean_text"
      ]
    },
    {
      "cell_type": "code",
      "execution_count": null,
      "metadata": {
        "id": "GFiOvuZW8uM-"
      },
      "outputs": [],
      "source": [
        "# Apply clean function to reviews of df\n",
        "\n",
        "df['clean_text'] = df['review'].apply(clean)\n"
      ]
    },
    {
      "cell_type": "code",
      "execution_count": null,
      "metadata": {
        "colab": {
          "base_uri": "https://localhost:8080/",
          "height": 424
        },
        "id": "vrrzhR80-yTD",
        "outputId": "3d47bf70-b312-4b49-f4ef-09f1ec02b5b1"
      },
      "outputs": [
        {
          "data": {
            "text/html": [
              "<div>\n",
              "<style scoped>\n",
              "    .dataframe tbody tr th:only-of-type {\n",
              "        vertical-align: middle;\n",
              "    }\n",
              "\n",
              "    .dataframe tbody tr th {\n",
              "        vertical-align: top;\n",
              "    }\n",
              "\n",
              "    .dataframe thead th {\n",
              "        text-align: right;\n",
              "    }\n",
              "</style>\n",
              "<table border=\"1\" class=\"dataframe\">\n",
              "  <thead>\n",
              "    <tr style=\"text-align: right;\">\n",
              "      <th></th>\n",
              "      <th>review</th>\n",
              "      <th>sentiment</th>\n",
              "      <th>clean_text</th>\n",
              "    </tr>\n",
              "  </thead>\n",
              "  <tbody>\n",
              "    <tr>\n",
              "      <th>0</th>\n",
              "      <td>so there is no way for me to plug it in here i...</td>\n",
              "      <td>0</td>\n",
              "      <td>way plug u unless go converter</td>\n",
              "    </tr>\n",
              "    <tr>\n",
              "      <th>1</th>\n",
              "      <td>good case excellent value</td>\n",
              "      <td>1</td>\n",
              "      <td>good case excellent value</td>\n",
              "    </tr>\n",
              "    <tr>\n",
              "      <th>2</th>\n",
              "      <td>great for the jawbone</td>\n",
              "      <td>1</td>\n",
              "      <td>great jawbone</td>\n",
              "    </tr>\n",
              "    <tr>\n",
              "      <th>3</th>\n",
              "      <td>tied to charger for conversations lasting more...</td>\n",
              "      <td>0</td>\n",
              "      <td>tied charger conversation lasting 45 minutesma...</td>\n",
              "    </tr>\n",
              "    <tr>\n",
              "      <th>4</th>\n",
              "      <td>the mic is great</td>\n",
              "      <td>1</td>\n",
              "      <td>mic great</td>\n",
              "    </tr>\n",
              "    <tr>\n",
              "      <th>...</th>\n",
              "      <td>...</td>\n",
              "      <td>...</td>\n",
              "      <td>...</td>\n",
              "    </tr>\n",
              "    <tr>\n",
              "      <th>2995</th>\n",
              "      <td>i think food should have flavor and texture an...</td>\n",
              "      <td>0</td>\n",
              "      <td>think food flavor texture lacking</td>\n",
              "    </tr>\n",
              "    <tr>\n",
              "      <th>2996</th>\n",
              "      <td>appetite instantly gone</td>\n",
              "      <td>0</td>\n",
              "      <td>appetite instantly gone</td>\n",
              "    </tr>\n",
              "    <tr>\n",
              "      <th>2997</th>\n",
              "      <td>overall i was not impressed and would not go back</td>\n",
              "      <td>0</td>\n",
              "      <td>overall impressed would go back</td>\n",
              "    </tr>\n",
              "    <tr>\n",
              "      <th>2998</th>\n",
              "      <td>the whole experience was underwhelming and i t...</td>\n",
              "      <td>0</td>\n",
              "      <td>whole experience underwhelming think well go n...</td>\n",
              "    </tr>\n",
              "    <tr>\n",
              "      <th>2999</th>\n",
              "      <td>then as if i hadnt wasted enough of my life th...</td>\n",
              "      <td>0</td>\n",
              "      <td>hadnt wasted enough life poured salt wound dra...</td>\n",
              "    </tr>\n",
              "  </tbody>\n",
              "</table>\n",
              "<p>3000 rows × 3 columns</p>\n",
              "</div>"
            ],
            "text/plain": [
              "                                                 review  sentiment  \\\n",
              "0     so there is no way for me to plug it in here i...          0   \n",
              "1                             good case excellent value          1   \n",
              "2                                 great for the jawbone          1   \n",
              "3     tied to charger for conversations lasting more...          0   \n",
              "4                                      the mic is great          1   \n",
              "...                                                 ...        ...   \n",
              "2995  i think food should have flavor and texture an...          0   \n",
              "2996                            appetite instantly gone          0   \n",
              "2997  overall i was not impressed and would not go back          0   \n",
              "2998  the whole experience was underwhelming and i t...          0   \n",
              "2999  then as if i hadnt wasted enough of my life th...          0   \n",
              "\n",
              "                                             clean_text  \n",
              "0                        way plug u unless go converter  \n",
              "1                             good case excellent value  \n",
              "2                                         great jawbone  \n",
              "3     tied charger conversation lasting 45 minutesma...  \n",
              "4                                             mic great  \n",
              "...                                                 ...  \n",
              "2995                  think food flavor texture lacking  \n",
              "2996                            appetite instantly gone  \n",
              "2997                    overall impressed would go back  \n",
              "2998  whole experience underwhelming think well go n...  \n",
              "2999  hadnt wasted enough life poured salt wound dra...  \n",
              "\n",
              "[3000 rows x 3 columns]"
            ]
          },
          "execution_count": 338,
          "metadata": {},
          "output_type": "execute_result"
        }
      ],
      "source": [
        "# View clean text in df\n",
        "df"
      ]
    },
    {
      "cell_type": "code",
      "execution_count": null,
      "metadata": {
        "colab": {
          "base_uri": "https://localhost:8080/"
        },
        "id": "htA3uZRn-1nL",
        "outputId": "482abe7a-3863-485a-d3ae-a19ddee8cb69"
      },
      "outputs": [
        {
          "name": "stdout",
          "output_type": "stream",
          "text": [
            "['w']\n",
            "['w', 'a']\n",
            "['w', 'a', 'y']\n",
            "['w', 'a', 'y', ' ']\n",
            "['w', 'a', 'y', ' ', 'p']\n",
            "['w', 'a', 'y', ' ', 'p', 'l']\n",
            "['w', 'a', 'y', ' ', 'p', 'l', 'u']\n",
            "['w', 'a', 'y', ' ', 'p', 'l', 'u', 'g']\n",
            "['w', 'a', 'y', ' ', 'p', 'l', 'u', 'g', 'n']\n",
            "['w', 'a', 'y', ' ', 'p', 'l', 'u', 'g', 'n', 'e']\n",
            "['w', 'a', 'y', ' ', 'p', 'l', 'u', 'g', 'n', 'e', 's']\n",
            "['w', 'a', 'y', ' ', 'p', 'l', 'u', 'g', 'n', 'e', 's', 'o']\n",
            "['w', 'a', 'y', ' ', 'p', 'l', 'u', 'g', 'n', 'e', 's', 'o', 'c']\n",
            "['w', 'a', 'y', ' ', 'p', 'l', 'u', 'g', 'n', 'e', 's', 'o', 'c', 'v']\n",
            "['w', 'a', 'y', ' ', 'p', 'l', 'u', 'g', 'n', 'e', 's', 'o', 'c', 'v', 'r']\n",
            "['w', 'a', 'y', ' ', 'p', 'l', 'u', 'g', 'n', 'e', 's', 'o', 'c', 'v', 'r', 't']\n",
            "['w', 'a', 'y', ' ', 'p', 'l', 'u', 'g', 'n', 'e', 's', 'o', 'c', 'v', 'r', 't', 'd']\n",
            "['w', 'a', 'y', ' ', 'p', 'l', 'u', 'g', 'n', 'e', 's', 'o', 'c', 'v', 'r', 't', 'd', 'x']\n",
            "['w', 'a', 'y', ' ', 'p', 'l', 'u', 'g', 'n', 'e', 's', 'o', 'c', 'v', 'r', 't', 'd', 'x', 'j']\n",
            "['w', 'a', 'y', ' ', 'p', 'l', 'u', 'g', 'n', 'e', 's', 'o', 'c', 'v', 'r', 't', 'd', 'x', 'j', 'b']\n",
            "['w', 'a', 'y', ' ', 'p', 'l', 'u', 'g', 'n', 'e', 's', 'o', 'c', 'v', 'r', 't', 'd', 'x', 'j', 'b', 'i']\n",
            "['w', 'a', 'y', ' ', 'p', 'l', 'u', 'g', 'n', 'e', 's', 'o', 'c', 'v', 'r', 't', 'd', 'x', 'j', 'b', 'i', 'h']\n",
            "['w', 'a', 'y', ' ', 'p', 'l', 'u', 'g', 'n', 'e', 's', 'o', 'c', 'v', 'r', 't', 'd', 'x', 'j', 'b', 'i', 'h', '4']\n",
            "['w', 'a', 'y', ' ', 'p', 'l', 'u', 'g', 'n', 'e', 's', 'o', 'c', 'v', 'r', 't', 'd', 'x', 'j', 'b', 'i', 'h', '4', '5']\n",
            "['w', 'a', 'y', ' ', 'p', 'l', 'u', 'g', 'n', 'e', 's', 'o', 'c', 'v', 'r', 't', 'd', 'x', 'j', 'b', 'i', 'h', '4', '5', 'm']\n",
            "['w', 'a', 'y', ' ', 'p', 'l', 'u', 'g', 'n', 'e', 's', 'o', 'c', 'v', 'r', 't', 'd', 'x', 'j', 'b', 'i', 'h', '4', '5', 'm', 'z']\n",
            "['w', 'a', 'y', ' ', 'p', 'l', 'u', 'g', 'n', 'e', 's', 'o', 'c', 'v', 'r', 't', 'd', 'x', 'j', 'b', 'i', 'h', '4', '5', 'm', 'z', 'f']\n",
            "['w', 'a', 'y', ' ', 'p', 'l', 'u', 'g', 'n', 'e', 's', 'o', 'c', 'v', 'r', 't', 'd', 'x', 'j', 'b', 'i', 'h', '4', '5', 'm', 'z', 'f', 'q']\n",
            "['w', 'a', 'y', ' ', 'p', 'l', 'u', 'g', 'n', 'e', 's', 'o', 'c', 'v', 'r', 't', 'd', 'x', 'j', 'b', 'i', 'h', '4', '5', 'm', 'z', 'f', 'q', 'k']\n",
            "['w', 'a', 'y', ' ', 'p', 'l', 'u', 'g', 'n', 'e', 's', 'o', 'c', 'v', 'r', 't', 'd', 'x', 'j', 'b', 'i', 'h', '4', '5', 'm', 'z', 'f', 'q', 'k', '7']\n",
            "['w', 'a', 'y', ' ', 'p', 'l', 'u', 'g', 'n', 'e', 's', 'o', 'c', 'v', 'r', 't', 'd', 'x', 'j', 'b', 'i', 'h', '4', '5', 'm', 'z', 'f', 'q', 'k', '7', '3']\n",
            "['w', 'a', 'y', ' ', 'p', 'l', 'u', 'g', 'n', 'e', 's', 'o', 'c', 'v', 'r', 't', 'd', 'x', 'j', 'b', 'i', 'h', '4', '5', 'm', 'z', 'f', 'q', 'k', '7', '3', '6']\n",
            "['w', 'a', 'y', ' ', 'p', 'l', 'u', 'g', 'n', 'e', 's', 'o', 'c', 'v', 'r', 't', 'd', 'x', 'j', 'b', 'i', 'h', '4', '5', 'm', 'z', 'f', 'q', 'k', '7', '3', '6', '8']\n",
            "['w', 'a', 'y', ' ', 'p', 'l', 'u', 'g', 'n', 'e', 's', 'o', 'c', 'v', 'r', 't', 'd', 'x', 'j', 'b', 'i', 'h', '4', '5', 'm', 'z', 'f', 'q', 'k', '7', '3', '6', '8', '0']\n",
            "['w', 'a', 'y', ' ', 'p', 'l', 'u', 'g', 'n', 'e', 's', 'o', 'c', 'v', 'r', 't', 'd', 'x', 'j', 'b', 'i', 'h', '4', '5', 'm', 'z', 'f', 'q', 'k', '7', '3', '6', '8', '0', '2']\n",
            "['w', 'a', 'y', ' ', 'p', 'l', 'u', 'g', 'n', 'e', 's', 'o', 'c', 'v', 'r', 't', 'd', 'x', 'j', 'b', 'i', 'h', '4', '5', 'm', 'z', 'f', 'q', 'k', '7', '3', '6', '8', '0', '2', '1']\n",
            "['w', 'a', 'y', ' ', 'p', 'l', 'u', 'g', 'n', 'e', 's', 'o', 'c', 'v', 'r', 't', 'd', 'x', 'j', 'b', 'i', 'h', '4', '5', 'm', 'z', 'f', 'q', 'k', '7', '3', '6', '8', '0', '2', '1', '9']\n",
            "['w', 'a', 'y', ' ', 'p', 'l', 'u', 'g', 'n', 'e', 's', 'o', 'c', 'v', 'r', 't', 'd', 'x', 'j', 'b', 'i', 'h', '4', '5', 'm', 'z', 'f', 'q', 'k', '7', '3', '6', '8', '0', '2', '1', '9', 'é']\n",
            "['w', 'a', 'y', ' ', 'p', 'l', 'u', 'g', 'n', 'e', 's', 'o', 'c', 'v', 'r', 't', 'd', 'x', 'j', 'b', 'i', 'h', '4', '5', 'm', 'z', 'f', 'q', 'k', '7', '3', '6', '8', '0', '2', '1', '9', 'é', 'å']\n",
            "['w', 'a', 'y', ' ', 'p', 'l', 'u', 'g', 'n', 'e', 's', 'o', 'c', 'v', 'r', 't', 'd', 'x', 'j', 'b', 'i', 'h', '4', '5', 'm', 'z', 'f', 'q', 'k', '7', '3', '6', '8', '0', '2', '1', '9', 'é', 'å', 'ê']\n"
          ]
        }
      ],
      "source": [
        "# Identify characters after in clean text\n",
        "# Source --- (Elleh, n.d.)\n",
        "\n",
        "cleaned_breakdown = df['clean_text']\n",
        "\n",
        "# Use nested loop to identify all characters\n",
        "character_list = []\n",
        "\n",
        "for review in cleaned_breakdown:\n",
        "  for character in review:\n",
        "    if character not in character_list:\n",
        "      character_list.append(character)\n",
        "      print(character_list)"
      ]
    },
    {
      "cell_type": "code",
      "execution_count": null,
      "metadata": {
        "id": "yWfWwa4v_pE7"
      },
      "outputs": [],
      "source": [
        "# Still numeric values, remove previous to running model\n",
        "df['clean'] = df['clean_text'].str.replace('\\d+', '')\n"
      ]
    },
    {
      "cell_type": "code",
      "execution_count": null,
      "metadata": {
        "colab": {
          "base_uri": "https://localhost:8080/",
          "height": 424
        },
        "id": "rlW7qllFtzGz",
        "outputId": "3ddc2301-4bc7-49e3-d47b-567fa159a3bd"
      },
      "outputs": [
        {
          "data": {
            "text/html": [
              "<div>\n",
              "<style scoped>\n",
              "    .dataframe tbody tr th:only-of-type {\n",
              "        vertical-align: middle;\n",
              "    }\n",
              "\n",
              "    .dataframe tbody tr th {\n",
              "        vertical-align: top;\n",
              "    }\n",
              "\n",
              "    .dataframe thead th {\n",
              "        text-align: right;\n",
              "    }\n",
              "</style>\n",
              "<table border=\"1\" class=\"dataframe\">\n",
              "  <thead>\n",
              "    <tr style=\"text-align: right;\">\n",
              "      <th></th>\n",
              "      <th>review</th>\n",
              "      <th>sentiment</th>\n",
              "      <th>clean_text</th>\n",
              "      <th>clean</th>\n",
              "    </tr>\n",
              "  </thead>\n",
              "  <tbody>\n",
              "    <tr>\n",
              "      <th>0</th>\n",
              "      <td>so there is no way for me to plug it in here i...</td>\n",
              "      <td>0</td>\n",
              "      <td>way plug u unless go converter</td>\n",
              "      <td>way plug u unless go converter</td>\n",
              "    </tr>\n",
              "    <tr>\n",
              "      <th>1</th>\n",
              "      <td>good case excellent value</td>\n",
              "      <td>1</td>\n",
              "      <td>good case excellent value</td>\n",
              "      <td>good case excellent value</td>\n",
              "    </tr>\n",
              "    <tr>\n",
              "      <th>2</th>\n",
              "      <td>great for the jawbone</td>\n",
              "      <td>1</td>\n",
              "      <td>great jawbone</td>\n",
              "      <td>great jawbone</td>\n",
              "    </tr>\n",
              "    <tr>\n",
              "      <th>3</th>\n",
              "      <td>tied to charger for conversations lasting more...</td>\n",
              "      <td>0</td>\n",
              "      <td>tied charger conversation lasting 45 minutesma...</td>\n",
              "      <td>tied charger conversation lasting  minutesmajo...</td>\n",
              "    </tr>\n",
              "    <tr>\n",
              "      <th>4</th>\n",
              "      <td>the mic is great</td>\n",
              "      <td>1</td>\n",
              "      <td>mic great</td>\n",
              "      <td>mic great</td>\n",
              "    </tr>\n",
              "    <tr>\n",
              "      <th>...</th>\n",
              "      <td>...</td>\n",
              "      <td>...</td>\n",
              "      <td>...</td>\n",
              "      <td>...</td>\n",
              "    </tr>\n",
              "    <tr>\n",
              "      <th>2995</th>\n",
              "      <td>i think food should have flavor and texture an...</td>\n",
              "      <td>0</td>\n",
              "      <td>think food flavor texture lacking</td>\n",
              "      <td>think food flavor texture lacking</td>\n",
              "    </tr>\n",
              "    <tr>\n",
              "      <th>2996</th>\n",
              "      <td>appetite instantly gone</td>\n",
              "      <td>0</td>\n",
              "      <td>appetite instantly gone</td>\n",
              "      <td>appetite instantly gone</td>\n",
              "    </tr>\n",
              "    <tr>\n",
              "      <th>2997</th>\n",
              "      <td>overall i was not impressed and would not go back</td>\n",
              "      <td>0</td>\n",
              "      <td>overall impressed would go back</td>\n",
              "      <td>overall impressed would go back</td>\n",
              "    </tr>\n",
              "    <tr>\n",
              "      <th>2998</th>\n",
              "      <td>the whole experience was underwhelming and i t...</td>\n",
              "      <td>0</td>\n",
              "      <td>whole experience underwhelming think well go n...</td>\n",
              "      <td>whole experience underwhelming think well go n...</td>\n",
              "    </tr>\n",
              "    <tr>\n",
              "      <th>2999</th>\n",
              "      <td>then as if i hadnt wasted enough of my life th...</td>\n",
              "      <td>0</td>\n",
              "      <td>hadnt wasted enough life poured salt wound dra...</td>\n",
              "      <td>hadnt wasted enough life poured salt wound dra...</td>\n",
              "    </tr>\n",
              "  </tbody>\n",
              "</table>\n",
              "<p>3000 rows × 4 columns</p>\n",
              "</div>"
            ],
            "text/plain": [
              "                                                 review  sentiment  \\\n",
              "0     so there is no way for me to plug it in here i...          0   \n",
              "1                             good case excellent value          1   \n",
              "2                                 great for the jawbone          1   \n",
              "3     tied to charger for conversations lasting more...          0   \n",
              "4                                      the mic is great          1   \n",
              "...                                                 ...        ...   \n",
              "2995  i think food should have flavor and texture an...          0   \n",
              "2996                            appetite instantly gone          0   \n",
              "2997  overall i was not impressed and would not go back          0   \n",
              "2998  the whole experience was underwhelming and i t...          0   \n",
              "2999  then as if i hadnt wasted enough of my life th...          0   \n",
              "\n",
              "                                             clean_text  \\\n",
              "0                        way plug u unless go converter   \n",
              "1                             good case excellent value   \n",
              "2                                         great jawbone   \n",
              "3     tied charger conversation lasting 45 minutesma...   \n",
              "4                                             mic great   \n",
              "...                                                 ...   \n",
              "2995                  think food flavor texture lacking   \n",
              "2996                            appetite instantly gone   \n",
              "2997                    overall impressed would go back   \n",
              "2998  whole experience underwhelming think well go n...   \n",
              "2999  hadnt wasted enough life poured salt wound dra...   \n",
              "\n",
              "                                                  clean  \n",
              "0                        way plug u unless go converter  \n",
              "1                             good case excellent value  \n",
              "2                                         great jawbone  \n",
              "3     tied charger conversation lasting  minutesmajo...  \n",
              "4                                             mic great  \n",
              "...                                                 ...  \n",
              "2995                  think food flavor texture lacking  \n",
              "2996                            appetite instantly gone  \n",
              "2997                    overall impressed would go back  \n",
              "2998  whole experience underwhelming think well go n...  \n",
              "2999  hadnt wasted enough life poured salt wound dra...  \n",
              "\n",
              "[3000 rows x 4 columns]"
            ]
          },
          "execution_count": 341,
          "metadata": {},
          "output_type": "execute_result"
        }
      ],
      "source": [
        "# View clean column with digits removed\n",
        "df"
      ]
    },
    {
      "cell_type": "code",
      "execution_count": null,
      "metadata": {
        "colab": {
          "base_uri": "https://localhost:8080/"
        },
        "id": "-oOoWfR8t0Qd",
        "outputId": "75841971-9b08-4d19-f042-5dbda66a9853"
      },
      "outputs": [
        {
          "name": "stdout",
          "output_type": "stream",
          "text": [
            "['w']\n",
            "['w', 'a']\n",
            "['w', 'a', 'y']\n",
            "['w', 'a', 'y', ' ']\n",
            "['w', 'a', 'y', ' ', 'p']\n",
            "['w', 'a', 'y', ' ', 'p', 'l']\n",
            "['w', 'a', 'y', ' ', 'p', 'l', 'u']\n",
            "['w', 'a', 'y', ' ', 'p', 'l', 'u', 'g']\n",
            "['w', 'a', 'y', ' ', 'p', 'l', 'u', 'g', 'n']\n",
            "['w', 'a', 'y', ' ', 'p', 'l', 'u', 'g', 'n', 'e']\n",
            "['w', 'a', 'y', ' ', 'p', 'l', 'u', 'g', 'n', 'e', 's']\n",
            "['w', 'a', 'y', ' ', 'p', 'l', 'u', 'g', 'n', 'e', 's', 'o']\n",
            "['w', 'a', 'y', ' ', 'p', 'l', 'u', 'g', 'n', 'e', 's', 'o', 'c']\n",
            "['w', 'a', 'y', ' ', 'p', 'l', 'u', 'g', 'n', 'e', 's', 'o', 'c', 'v']\n",
            "['w', 'a', 'y', ' ', 'p', 'l', 'u', 'g', 'n', 'e', 's', 'o', 'c', 'v', 'r']\n",
            "['w', 'a', 'y', ' ', 'p', 'l', 'u', 'g', 'n', 'e', 's', 'o', 'c', 'v', 'r', 't']\n",
            "['w', 'a', 'y', ' ', 'p', 'l', 'u', 'g', 'n', 'e', 's', 'o', 'c', 'v', 'r', 't', 'd']\n",
            "['w', 'a', 'y', ' ', 'p', 'l', 'u', 'g', 'n', 'e', 's', 'o', 'c', 'v', 'r', 't', 'd', 'x']\n",
            "['w', 'a', 'y', ' ', 'p', 'l', 'u', 'g', 'n', 'e', 's', 'o', 'c', 'v', 'r', 't', 'd', 'x', 'j']\n",
            "['w', 'a', 'y', ' ', 'p', 'l', 'u', 'g', 'n', 'e', 's', 'o', 'c', 'v', 'r', 't', 'd', 'x', 'j', 'b']\n",
            "['w', 'a', 'y', ' ', 'p', 'l', 'u', 'g', 'n', 'e', 's', 'o', 'c', 'v', 'r', 't', 'd', 'x', 'j', 'b', 'i']\n",
            "['w', 'a', 'y', ' ', 'p', 'l', 'u', 'g', 'n', 'e', 's', 'o', 'c', 'v', 'r', 't', 'd', 'x', 'j', 'b', 'i', 'h']\n",
            "['w', 'a', 'y', ' ', 'p', 'l', 'u', 'g', 'n', 'e', 's', 'o', 'c', 'v', 'r', 't', 'd', 'x', 'j', 'b', 'i', 'h', 'm']\n",
            "['w', 'a', 'y', ' ', 'p', 'l', 'u', 'g', 'n', 'e', 's', 'o', 'c', 'v', 'r', 't', 'd', 'x', 'j', 'b', 'i', 'h', 'm', 'z']\n",
            "['w', 'a', 'y', ' ', 'p', 'l', 'u', 'g', 'n', 'e', 's', 'o', 'c', 'v', 'r', 't', 'd', 'x', 'j', 'b', 'i', 'h', 'm', 'z', 'f']\n",
            "['w', 'a', 'y', ' ', 'p', 'l', 'u', 'g', 'n', 'e', 's', 'o', 'c', 'v', 'r', 't', 'd', 'x', 'j', 'b', 'i', 'h', 'm', 'z', 'f', 'q']\n",
            "['w', 'a', 'y', ' ', 'p', 'l', 'u', 'g', 'n', 'e', 's', 'o', 'c', 'v', 'r', 't', 'd', 'x', 'j', 'b', 'i', 'h', 'm', 'z', 'f', 'q', 'k']\n",
            "['w', 'a', 'y', ' ', 'p', 'l', 'u', 'g', 'n', 'e', 's', 'o', 'c', 'v', 'r', 't', 'd', 'x', 'j', 'b', 'i', 'h', 'm', 'z', 'f', 'q', 'k', 'é']\n",
            "['w', 'a', 'y', ' ', 'p', 'l', 'u', 'g', 'n', 'e', 's', 'o', 'c', 'v', 'r', 't', 'd', 'x', 'j', 'b', 'i', 'h', 'm', 'z', 'f', 'q', 'k', 'é', 'å']\n",
            "['w', 'a', 'y', ' ', 'p', 'l', 'u', 'g', 'n', 'e', 's', 'o', 'c', 'v', 'r', 't', 'd', 'x', 'j', 'b', 'i', 'h', 'm', 'z', 'f', 'q', 'k', 'é', 'å', 'ê']\n"
          ]
        }
      ],
      "source": [
        "# Identify characters after in review text\n",
        "# (Elleh, n.d.)\n",
        "cleaned_breakdown = df['clean']\n",
        "\n",
        "# Use nested loop to identify all characters\n",
        "# SOURCE --- (Elleh, n.d.)\n",
        "character_list = []\n",
        "\n",
        "for review in cleaned_breakdown:\n",
        "  for character in review:\n",
        "    if character not in character_list:\n",
        "      character_list.append(character)\n",
        "      print(character_list)"
      ]
    },
    {
      "cell_type": "code",
      "execution_count": null,
      "metadata": {
        "id": "x445FP-Wu4t1"
      },
      "outputs": [],
      "source": [
        "# Still numeric values, remove previous to running model\n",
        "df['clean'] = df['clean'].str.replace('é', 'e')\n",
        "df['clean'] = df['clean'].str.replace('ê', 'e')\n",
        "df['clean'] = df['clean'].str.replace('å', 'a')\n",
        "\n",
        "### Re-run loop above to confirm removal/replacement of international characters to letters"
      ]
    },
    {
      "cell_type": "code",
      "execution_count": null,
      "metadata": {
        "id": "_YpucUxOnQ7a"
      },
      "outputs": [],
      "source": [
        "# Create columnn to count number of words in clean text for summary statistics\n",
        "df['word_count_review'] = df['review'].apply(lambda x: len(x.split()))\n",
        "df['word_count_clean'] = df['clean'].apply(lambda x: len(x.split()))"
      ]
    },
    {
      "cell_type": "code",
      "execution_count": null,
      "metadata": {
        "colab": {
          "base_uri": "https://localhost:8080/",
          "height": 424
        },
        "id": "ytVozFxhnRCo",
        "outputId": "bcfb78bf-80a2-484c-f300-57b5ffcf4e91"
      },
      "outputs": [
        {
          "data": {
            "text/html": [
              "<div>\n",
              "<style scoped>\n",
              "    .dataframe tbody tr th:only-of-type {\n",
              "        vertical-align: middle;\n",
              "    }\n",
              "\n",
              "    .dataframe tbody tr th {\n",
              "        vertical-align: top;\n",
              "    }\n",
              "\n",
              "    .dataframe thead th {\n",
              "        text-align: right;\n",
              "    }\n",
              "</style>\n",
              "<table border=\"1\" class=\"dataframe\">\n",
              "  <thead>\n",
              "    <tr style=\"text-align: right;\">\n",
              "      <th></th>\n",
              "      <th>review</th>\n",
              "      <th>sentiment</th>\n",
              "      <th>clean_text</th>\n",
              "      <th>clean</th>\n",
              "      <th>word_count_review</th>\n",
              "      <th>word_count_clean</th>\n",
              "    </tr>\n",
              "  </thead>\n",
              "  <tbody>\n",
              "    <tr>\n",
              "      <th>0</th>\n",
              "      <td>so there is no way for me to plug it in here i...</td>\n",
              "      <td>0</td>\n",
              "      <td>way plug u unless go converter</td>\n",
              "      <td>way plug u unless go converter</td>\n",
              "      <td>21</td>\n",
              "      <td>6</td>\n",
              "    </tr>\n",
              "    <tr>\n",
              "      <th>1</th>\n",
              "      <td>good case excellent value</td>\n",
              "      <td>1</td>\n",
              "      <td>good case excellent value</td>\n",
              "      <td>good case excellent value</td>\n",
              "      <td>4</td>\n",
              "      <td>4</td>\n",
              "    </tr>\n",
              "    <tr>\n",
              "      <th>2</th>\n",
              "      <td>great for the jawbone</td>\n",
              "      <td>1</td>\n",
              "      <td>great jawbone</td>\n",
              "      <td>great jawbone</td>\n",
              "      <td>4</td>\n",
              "      <td>2</td>\n",
              "    </tr>\n",
              "    <tr>\n",
              "      <th>3</th>\n",
              "      <td>tied to charger for conversations lasting more...</td>\n",
              "      <td>0</td>\n",
              "      <td>tied charger conversation lasting 45 minutesma...</td>\n",
              "      <td>tied charger conversation lasting  minutesmajo...</td>\n",
              "      <td>11</td>\n",
              "      <td>6</td>\n",
              "    </tr>\n",
              "    <tr>\n",
              "      <th>4</th>\n",
              "      <td>the mic is great</td>\n",
              "      <td>1</td>\n",
              "      <td>mic great</td>\n",
              "      <td>mic great</td>\n",
              "      <td>4</td>\n",
              "      <td>2</td>\n",
              "    </tr>\n",
              "    <tr>\n",
              "      <th>...</th>\n",
              "      <td>...</td>\n",
              "      <td>...</td>\n",
              "      <td>...</td>\n",
              "      <td>...</td>\n",
              "      <td>...</td>\n",
              "      <td>...</td>\n",
              "    </tr>\n",
              "    <tr>\n",
              "      <th>2995</th>\n",
              "      <td>i think food should have flavor and texture an...</td>\n",
              "      <td>0</td>\n",
              "      <td>think food flavor texture lacking</td>\n",
              "      <td>think food flavor texture lacking</td>\n",
              "      <td>12</td>\n",
              "      <td>5</td>\n",
              "    </tr>\n",
              "    <tr>\n",
              "      <th>2996</th>\n",
              "      <td>appetite instantly gone</td>\n",
              "      <td>0</td>\n",
              "      <td>appetite instantly gone</td>\n",
              "      <td>appetite instantly gone</td>\n",
              "      <td>3</td>\n",
              "      <td>3</td>\n",
              "    </tr>\n",
              "    <tr>\n",
              "      <th>2997</th>\n",
              "      <td>overall i was not impressed and would not go back</td>\n",
              "      <td>0</td>\n",
              "      <td>overall impressed would go back</td>\n",
              "      <td>overall impressed would go back</td>\n",
              "      <td>10</td>\n",
              "      <td>5</td>\n",
              "    </tr>\n",
              "    <tr>\n",
              "      <th>2998</th>\n",
              "      <td>the whole experience was underwhelming and i t...</td>\n",
              "      <td>0</td>\n",
              "      <td>whole experience underwhelming think well go n...</td>\n",
              "      <td>whole experience underwhelming think well go n...</td>\n",
              "      <td>16</td>\n",
              "      <td>10</td>\n",
              "    </tr>\n",
              "    <tr>\n",
              "      <th>2999</th>\n",
              "      <td>then as if i hadnt wasted enough of my life th...</td>\n",
              "      <td>0</td>\n",
              "      <td>hadnt wasted enough life poured salt wound dra...</td>\n",
              "      <td>hadnt wasted enough life poured salt wound dra...</td>\n",
              "      <td>28</td>\n",
              "      <td>12</td>\n",
              "    </tr>\n",
              "  </tbody>\n",
              "</table>\n",
              "<p>3000 rows × 6 columns</p>\n",
              "</div>"
            ],
            "text/plain": [
              "                                                 review  sentiment  \\\n",
              "0     so there is no way for me to plug it in here i...          0   \n",
              "1                             good case excellent value          1   \n",
              "2                                 great for the jawbone          1   \n",
              "3     tied to charger for conversations lasting more...          0   \n",
              "4                                      the mic is great          1   \n",
              "...                                                 ...        ...   \n",
              "2995  i think food should have flavor and texture an...          0   \n",
              "2996                            appetite instantly gone          0   \n",
              "2997  overall i was not impressed and would not go back          0   \n",
              "2998  the whole experience was underwhelming and i t...          0   \n",
              "2999  then as if i hadnt wasted enough of my life th...          0   \n",
              "\n",
              "                                             clean_text  \\\n",
              "0                        way plug u unless go converter   \n",
              "1                             good case excellent value   \n",
              "2                                         great jawbone   \n",
              "3     tied charger conversation lasting 45 minutesma...   \n",
              "4                                             mic great   \n",
              "...                                                 ...   \n",
              "2995                  think food flavor texture lacking   \n",
              "2996                            appetite instantly gone   \n",
              "2997                    overall impressed would go back   \n",
              "2998  whole experience underwhelming think well go n...   \n",
              "2999  hadnt wasted enough life poured salt wound dra...   \n",
              "\n",
              "                                                  clean  word_count_review  \\\n",
              "0                        way plug u unless go converter                 21   \n",
              "1                             good case excellent value                  4   \n",
              "2                                         great jawbone                  4   \n",
              "3     tied charger conversation lasting  minutesmajo...                 11   \n",
              "4                                             mic great                  4   \n",
              "...                                                 ...                ...   \n",
              "2995                  think food flavor texture lacking                 12   \n",
              "2996                            appetite instantly gone                  3   \n",
              "2997                    overall impressed would go back                 10   \n",
              "2998  whole experience underwhelming think well go n...                 16   \n",
              "2999  hadnt wasted enough life poured salt wound dra...                 28   \n",
              "\n",
              "      word_count_clean  \n",
              "0                    6  \n",
              "1                    4  \n",
              "2                    2  \n",
              "3                    6  \n",
              "4                    2  \n",
              "...                ...  \n",
              "2995                 5  \n",
              "2996                 3  \n",
              "2997                 5  \n",
              "2998                10  \n",
              "2999                12  \n",
              "\n",
              "[3000 rows x 6 columns]"
            ]
          },
          "execution_count": 345,
          "metadata": {},
          "output_type": "execute_result"
        }
      ],
      "source": [
        "# View df with word counts after cleaning and normalization of text\n",
        "df"
      ]
    },
    {
      "cell_type": "code",
      "execution_count": null,
      "metadata": {
        "colab": {
          "base_uri": "https://localhost:8080/"
        },
        "id": "BtTCUJQdnW29",
        "outputId": "e201be29-77c9-47e5-d57d-cf3aeebcc55b"
      },
      "outputs": [
        {
          "name": "stdout",
          "output_type": "stream",
          "text": [
            "Max Length Original:  70 \n",
            "\n",
            "Max Length Cleaned:  41\n"
          ]
        }
      ],
      "source": [
        "# Review word count analysis for padding sequences\n",
        "review_orig = df['word_count_review']\n",
        "review_clean = df['word_count_clean']\n",
        "\n",
        "# Max review length\n",
        "max_sent_orig = max(review_orig)\n",
        "max_sent_clean = max(review_clean)\n",
        "\n",
        "print(\"Max Length Original: \", max_sent_orig, '\\n')\n",
        "print(\"Max Length Cleaned: \", max_sent_clean)"
      ]
    },
    {
      "cell_type": "code",
      "execution_count": null,
      "metadata": {
        "colab": {
          "base_uri": "https://localhost:8080/"
        },
        "id": "RhRgHwb4nZxr",
        "outputId": "25768adc-d4c8-472a-8322-ed370144b1cc"
      },
      "outputs": [
        {
          "name": "stdout",
          "output_type": "stream",
          "text": [
            "Average Length Original:  12.0 \n",
            "\n",
            "Average Length Cleaned:  6.0\n"
          ]
        }
      ],
      "source": [
        "# Average review length\n",
        "avg_sent_orig = np.mean(review_orig)\n",
        "avg_sent_clean = np.mean(review_clean)\n",
        "\n",
        "print(\"Average Length Original: \", round(avg_sent_orig, 0), '\\n')\n",
        "print(\"Average Length Cleaned: \", round(avg_sent_clean, 0))"
      ]
    },
    {
      "cell_type": "code",
      "execution_count": null,
      "metadata": {
        "colab": {
          "base_uri": "https://localhost:8080/"
        },
        "id": "hCgx6ZphnZ0x",
        "outputId": "732406fa-e94a-42bd-ed09-0d8d5bc9e56c"
      },
      "outputs": [
        {
          "name": "stdout",
          "output_type": "stream",
          "text": [
            "Median Length Original:  10.0 \n",
            "\n",
            "Median Length Cleaned:  5.0\n"
          ]
        }
      ],
      "source": [
        "# Average review length\n",
        "med_sent_orig = np.median(review_orig)\n",
        "med_sent_clean = np.median(review_clean)\n",
        "\n",
        "print(\"Median Length Original: \", round(med_sent_orig, 2), '\\n')\n",
        "print(\"Median Length Cleaned: \", round(med_sent_clean, 2))"
      ]
    },
    {
      "cell_type": "code",
      "execution_count": null,
      "metadata": {
        "colab": {
          "base_uri": "https://localhost:8080/",
          "height": 477
        },
        "id": "Be-dLZkgnZ3R",
        "outputId": "bc096fe4-8e13-4de1-c0ff-eeb2444cfab5"
      },
      "outputs": [
        {
          "data": {
            "image/png": "[encoded data removed]",
            "text/plain": [
              "<Figure size 864x360 with 1 Axes>"
            ]
          },
          "metadata": {},
          "output_type": "display_data"
        }
      ],
      "source": [
        "# View distribution of cleaned review lengths\n",
        "plt.figure(figsize = (12,5))\n",
        "sns.histplot(x = 'word_count_clean', data = df)\n",
        "plt.title(\"Distribution of Word Counts after Cleaning\")\n",
        "plt.xlabel(\"Word Count\")\n",
        "plt.ylabel(\"Count\");"
      ]
    },
    {
      "cell_type": "code",
      "execution_count": null,
      "metadata": {
        "colab": {
          "base_uri": "https://localhost:8080/"
        },
        "id": "Xh3NnPrOnjyc",
        "outputId": "ff680679-d942-4a1d-e1e7-e5edf19bcb5a"
      },
      "outputs": [
        {
          "data": {
            "text/plain": [
              "count    3000.000000\n",
              "mean        6.121000\n",
              "std         4.126423\n",
              "min         0.000000\n",
              "25%         3.000000\n",
              "50%         5.000000\n",
              "75%         8.000000\n",
              "max        41.000000\n",
              "Name: word_count_clean, dtype: float64"
            ]
          },
          "execution_count": 350,
          "metadata": {},
          "output_type": "execute_result"
        }
      ],
      "source": [
        "df['word_count_clean'].describe()"
      ]
    },
    {
      "cell_type": "code",
      "execution_count": null,
      "metadata": {
        "colab": {
          "base_uri": "https://localhost:8080/"
        },
        "id": "oMo5dG76nmrZ",
        "outputId": "33410af1-e5e0-4340-e807-65318fc2a6ef"
      },
      "outputs": [
        {
          "name": "stdout",
          "output_type": "stream",
          "text": [
            "Upper Fence Value:  16.0 \n",
            "\n",
            "Lower Fence Value:  -4.5\n"
          ]
        }
      ],
      "source": [
        "# Find value of fences - mainly upper value\n",
        "q1 = 3\n",
        "q3 = 8\n",
        "iqr = q3-q1\n",
        "upper_fence = q3 + 1.5*iqr\n",
        "lower_fence = q1 - 1.5*iqr\n",
        "\n",
        "print(\"Upper Fence Value: \", round(upper_fence, 0), '\\n')\n",
        "print(\"Lower Fence Value: \", lower_fence)"
      ]
    },
    {
      "cell_type": "code",
      "execution_count": null,
      "metadata": {
        "colab": {
          "base_uri": "https://localhost:8080/"
        },
        "id": "hJZICui3no7e",
        "outputId": "7a037952-bcae-4f1f-91f3-07ef8e9705b7"
      },
      "outputs": [
        {
          "data": {
            "text/plain": [
              "64"
            ]
          },
          "execution_count": 352,
          "metadata": {},
          "output_type": "execute_result"
        }
      ],
      "source": [
        "# summary statistics show q1 = 3 and q3 = 8 with a max value of 41 therefore outliers are present\n",
        "# View counts of lengthy reviews --- reviews greater than 16 words as determined by rounding the upper fence value for outliers\n",
        "lengthy_reviews = df[df['word_count_clean'] > 16]\n",
        "lengthy_reviews['word_count_clean'].value_counts().sum()"
      ]
    },
    {
      "cell_type": "code",
      "execution_count": null,
      "metadata": {
        "id": "rY30HWVGnsta"
      },
      "outputs": [],
      "source": [
        "# Filter df for reviews with reviews with lengths between 1 and 16\n",
        "df_model = df[(df['word_count_clean'] >= 1) & (df['word_count_clean'] <= 16)]"
      ]
    },
    {
      "cell_type": "code",
      "execution_count": null,
      "metadata": {
        "colab": {
          "base_uri": "https://localhost:8080/",
          "height": 477
        },
        "id": "tUlcxaQnnusf",
        "outputId": "d537ab06-e41e-4f22-f06c-cb5b029015aa"
      },
      "outputs": [
        {
          "data": {
            "image/png": "[encoded data removed]",
            "text/plain": [
              "<Figure size 864x360 with 1 Axes>"
            ]
          },
          "metadata": {},
          "output_type": "display_data"
        }
      ],
      "source": [
        "# View distribution of filtered df\n",
        "plt.figure(figsize = (12,5))\n",
        "sns.histplot(x = 'word_count_clean', data = df_model)\n",
        "plt.title(\"Distribution of Word Counts after Filtering <=16 Words\")\n",
        "plt.xlabel(\"Word Count\")\n",
        "plt.ylabel(\"Count\");"
      ]
    },
    {
      "cell_type": "code",
      "execution_count": null,
      "metadata": {
        "colab": {
          "base_uri": "https://localhost:8080/"
        },
        "id": "IcjQ2nI_nzZs",
        "outputId": "d0fae2eb-b5dc-4168-f4fe-8bba183a3bfd"
      },
      "outputs": [
        {
          "data": {
            "text/plain": [
              "3     424\n",
              "2     376\n",
              "4     367\n",
              "5     343\n",
              "7     259\n",
              "6     256\n",
              "8     202\n",
              "9     144\n",
              "10    119\n",
              "1     110\n",
              "11     96\n",
              "12     92\n",
              "13     55\n",
              "14     42\n",
              "15     26\n",
              "16     23\n",
              "Name: word_count_clean, dtype: int64"
            ]
          },
          "execution_count": 355,
          "metadata": {},
          "output_type": "execute_result"
        }
      ],
      "source": [
        "df_model['word_count_clean'].value_counts(ascending = False)"
      ]
    },
    {
      "cell_type": "code",
      "execution_count": null,
      "metadata": {
        "id": "g5oP8hR8yxiy"
      },
      "outputs": [],
      "source": [
        "# Prepare for model, tokenize data\n",
        "from nltk.corpus import stopwords\n",
        "stopwords = set(stopwords.words('english'))\n",
        "\n",
        "clean_review = df_model['clean']\n",
        "\n",
        "clean_text = []\n",
        "\n",
        "for sentence in clean_review:\n",
        "  clean_text.append([word for word in word_tokenize(sentence) if word not in stopwords ])"
      ]
    },
    {
      "cell_type": "code",
      "execution_count": null,
      "metadata": {
        "colab": {
          "base_uri": "https://localhost:8080/"
        },
        "id": "5fLsEnP50I3n",
        "outputId": "f17d9ee0-9934-47cd-dee9-9ef25c71ae0d"
      },
      "outputs": [
        {
          "data": {
            "text/plain": [
              "[['way', 'plug', 'u', 'unless', 'go', 'converter'],\n",
              " ['good', 'case', 'excellent', 'value'],\n",
              " ['great', 'jawbone'],\n",
              " ['tied', 'charger', 'conversation', 'lasting', 'minutesmajor', 'problem'],\n",
              " ['mic', 'great']]"
            ]
          },
          "execution_count": 357,
          "metadata": {},
          "output_type": "execute_result"
        }
      ],
      "source": [
        "# View first 5 reviews as tokenized\n",
        "clean_text[:5]"
      ]
    },
    {
      "cell_type": "code",
      "execution_count": null,
      "metadata": {
        "id": "SHllPcNmDbY3",
        "outputId": "0ed810a2-bad6-4cce-cb79-c674375dbea6"
      },
      "outputs": [
        {
          "name": "stdout",
          "output_type": "stream",
          "text": [
            "Requirement already satisfied: pip in c:\\users\\andrew\\anaconda3\\lib\\site-packages (23.3)\n",
            "Requirement already satisfied: keras in c:\\users\\andrew\\anaconda3\\lib\\site-packages (2.14.0)\n",
            "Requirement already satisfied: tensorflow in c:\\users\\andrew\\anaconda3\\lib\\site-packages (2.14.0)\n",
            "Requirement already satisfied: tensorflow-intel==2.14.0 in c:\\users\\andrew\\anaconda3\\lib\\site-packages (from tensorflow) (2.14.0)\n",
            "Requirement already satisfied: absl-py>=1.0.0 in c:\\users\\andrew\\anaconda3\\lib\\site-packages (from tensorflow-intel==2.14.0->tensorflow) (2.0.0)\n",
            "Requirement already satisfied: astunparse>=1.6.0 in c:\\users\\andrew\\anaconda3\\lib\\site-packages (from tensorflow-intel==2.14.0->tensorflow) (1.6.3)\n",
            "Requirement already satisfied: flatbuffers>=23.5.26 in c:\\users\\andrew\\anaconda3\\lib\\site-packages (from tensorflow-intel==2.14.0->tensorflow) (23.5.26)\n",
            "Requirement already satisfied: gast!=0.5.0,!=0.5.1,!=0.5.2,>=0.2.1 in c:\\users\\andrew\\anaconda3\\lib\\site-packages (from tensorflow-intel==2.14.0->tensorflow) (0.5.4)\n",
            "Requirement already satisfied: google-pasta>=0.1.1 in c:\\users\\andrew\\anaconda3\\lib\\site-packages (from tensorflow-intel==2.14.0->tensorflow) (0.2.0)\n",
            "Requirement already satisfied: h5py>=2.9.0 in c:\\users\\andrew\\anaconda3\\lib\\site-packages (from tensorflow-intel==2.14.0->tensorflow) (3.6.0)\n",
            "Requirement already satisfied: libclang>=13.0.0 in c:\\users\\andrew\\anaconda3\\lib\\site-packages (from tensorflow-intel==2.14.0->tensorflow) (16.0.6)\n",
            "Requirement already satisfied: ml-dtypes==0.2.0 in c:\\users\\andrew\\anaconda3\\lib\\site-packages (from tensorflow-intel==2.14.0->tensorflow) (0.2.0)\n",
            "Requirement already satisfied: numpy>=1.23.5 in c:\\users\\andrew\\anaconda3\\lib\\site-packages (from tensorflow-intel==2.14.0->tensorflow) (1.26.1)\n",
            "Requirement already satisfied: opt-einsum>=2.3.2 in c:\\users\\andrew\\anaconda3\\lib\\site-packages (from tensorflow-intel==2.14.0->tensorflow) (3.3.0)\n",
            "Requirement already satisfied: packaging in c:\\users\\andrew\\anaconda3\\lib\\site-packages (from tensorflow-intel==2.14.0->tensorflow) (21.3)\n",
            "Requirement already satisfied: protobuf!=4.21.0,!=4.21.1,!=4.21.2,!=4.21.3,!=4.21.4,!=4.21.5,<5.0.0dev,>=3.20.3 in c:\\users\\andrew\\anaconda3\\lib\\site-packages (from tensorflow-intel==2.14.0->tensorflow) (4.24.4)\n",
            "Requirement already satisfied: setuptools in c:\\users\\andrew\\anaconda3\\lib\\site-packages (from tensorflow-intel==2.14.0->tensorflow) (61.2.0)\n",
            "Requirement already satisfied: six>=1.12.0 in c:\\users\\andrew\\anaconda3\\lib\\site-packages (from tensorflow-intel==2.14.0->tensorflow) (1.16.0)\n",
            "Requirement already satisfied: termcolor>=1.1.0 in c:\\users\\andrew\\anaconda3\\lib\\site-packages (from tensorflow-intel==2.14.0->tensorflow) (2.3.0)\n",
            "Requirement already satisfied: typing-extensions>=3.6.6 in c:\\users\\andrew\\anaconda3\\lib\\site-packages (from tensorflow-intel==2.14.0->tensorflow) (4.1.1)\n",
            "Requirement already satisfied: wrapt<1.15,>=1.11.0 in c:\\users\\andrew\\anaconda3\\lib\\site-packages (from tensorflow-intel==2.14.0->tensorflow) (1.12.1)\n",
            "Requirement already satisfied: tensorflow-io-gcs-filesystem>=0.23.1 in c:\\users\\andrew\\anaconda3\\lib\\site-packages (from tensorflow-intel==2.14.0->tensorflow) (0.31.0)\n",
            "Requirement already satisfied: grpcio<2.0,>=1.24.3 in c:\\users\\andrew\\anaconda3\\lib\\site-packages (from tensorflow-intel==2.14.0->tensorflow) (1.59.0)\n",
            "Requirement already satisfied: tensorboard<2.15,>=2.14 in c:\\users\\andrew\\anaconda3\\lib\\site-packages (from tensorflow-intel==2.14.0->tensorflow) (2.14.1)\n",
            "Requirement already satisfied: tensorflow-estimator<2.15,>=2.14.0 in c:\\users\\andrew\\anaconda3\\lib\\site-packages (from tensorflow-intel==2.14.0->tensorflow) (2.14.0)\n",
            "Requirement already satisfied: wheel<1.0,>=0.23.0 in c:\\users\\andrew\\anaconda3\\lib\\site-packages (from astunparse>=1.6.0->tensorflow-intel==2.14.0->tensorflow) (0.37.1)\n",
            "Requirement already satisfied: google-auth<3,>=1.6.3 in c:\\users\\andrew\\anaconda3\\lib\\site-packages (from tensorboard<2.15,>=2.14->tensorflow-intel==2.14.0->tensorflow) (2.23.3)\n",
            "Requirement already satisfied: google-auth-oauthlib<1.1,>=0.5 in c:\\users\\andrew\\anaconda3\\lib\\site-packages (from tensorboard<2.15,>=2.14->tensorflow-intel==2.14.0->tensorflow) (1.0.0)\n",
            "Requirement already satisfied: markdown>=2.6.8 in c:\\users\\andrew\\anaconda3\\lib\\site-packages (from tensorboard<2.15,>=2.14->tensorflow-intel==2.14.0->tensorflow) (3.3.4)\n",
            "Requirement already satisfied: requests<3,>=2.21.0 in c:\\users\\andrew\\anaconda3\\lib\\site-packages (from tensorboard<2.15,>=2.14->tensorflow-intel==2.14.0->tensorflow) (2.27.1)\n",
            "Requirement already satisfied: tensorboard-data-server<0.8.0,>=0.7.0 in c:\\users\\andrew\\anaconda3\\lib\\site-packages (from tensorboard<2.15,>=2.14->tensorflow-intel==2.14.0->tensorflow) (0.7.1)\n",
            "Requirement already satisfied: werkzeug>=1.0.1 in c:\\users\\andrew\\anaconda3\\lib\\site-packages (from tensorboard<2.15,>=2.14->tensorflow-intel==2.14.0->tensorflow) (2.0.3)\n",
            "Requirement already satisfied: pyparsing!=3.0.5,>=2.0.2 in c:\\users\\andrew\\anaconda3\\lib\\site-packages (from packaging->tensorflow-intel==2.14.0->tensorflow) (3.0.4)\n",
            "Requirement already satisfied: cachetools<6.0,>=2.0.0 in c:\\users\\andrew\\anaconda3\\lib\\site-packages (from google-auth<3,>=1.6.3->tensorboard<2.15,>=2.14->tensorflow-intel==2.14.0->tensorflow) (4.2.2)\n",
            "Requirement already satisfied: pyasn1-modules>=0.2.1 in c:\\users\\andrew\\anaconda3\\lib\\site-packages (from google-auth<3,>=1.6.3->tensorboard<2.15,>=2.14->tensorflow-intel==2.14.0->tensorflow) (0.2.8)\n",
            "Requirement already satisfied: rsa<5,>=3.1.4 in c:\\users\\andrew\\anaconda3\\lib\\site-packages (from google-auth<3,>=1.6.3->tensorboard<2.15,>=2.14->tensorflow-intel==2.14.0->tensorflow) (4.7.2)\n",
            "Requirement already satisfied: requests-oauthlib>=0.7.0 in c:\\users\\andrew\\anaconda3\\lib\\site-packages (from google-auth-oauthlib<1.1,>=0.5->tensorboard<2.15,>=2.14->tensorflow-intel==2.14.0->tensorflow) (1.3.1)\n",
            "Requirement already satisfied: urllib3<1.27,>=1.21.1 in c:\\users\\andrew\\anaconda3\\lib\\site-packages (from requests<3,>=2.21.0->tensorboard<2.15,>=2.14->tensorflow-intel==2.14.0->tensorflow) (1.26.9)\n",
            "Requirement already satisfied: certifi>=2017.4.17 in c:\\users\\andrew\\anaconda3\\lib\\site-packages (from requests<3,>=2.21.0->tensorboard<2.15,>=2.14->tensorflow-intel==2.14.0->tensorflow) (2021.10.8)\n",
            "Requirement already satisfied: charset-normalizer~=2.0.0 in c:\\users\\andrew\\anaconda3\\lib\\site-packages (from requests<3,>=2.21.0->tensorboard<2.15,>=2.14->tensorflow-intel==2.14.0->tensorflow) (2.0.4)\n",
            "Requirement already satisfied: idna<4,>=2.5 in c:\\users\\andrew\\anaconda3\\lib\\site-packages (from requests<3,>=2.21.0->tensorboard<2.15,>=2.14->tensorflow-intel==2.14.0->tensorflow) (3.3)\n",
            "Requirement already satisfied: pyasn1<0.5.0,>=0.4.6 in c:\\users\\andrew\\anaconda3\\lib\\site-packages (from pyasn1-modules>=0.2.1->google-auth<3,>=1.6.3->tensorboard<2.15,>=2.14->tensorflow-intel==2.14.0->tensorflow) (0.4.8)\n",
            "Requirement already satisfied: oauthlib>=3.0.0 in c:\\users\\andrew\\anaconda3\\lib\\site-packages (from requests-oauthlib>=0.7.0->google-auth-oauthlib<1.1,>=0.5->tensorboard<2.15,>=2.14->tensorflow-intel==2.14.0->tensorflow) (3.2.2)\n",
            "Note: you may need to restart the kernel to use updated packages.\n"
          ]
        },
        {
          "name": "stderr",
          "output_type": "stream",
          "text": [
            "WARNING: Ignoring invalid distribution -illow (c:\\users\\andrew\\anaconda3\\lib\\site-packages)\n",
            "WARNING: Ignoring invalid distribution -illow (c:\\users\\andrew\\anaconda3\\lib\\site-packages)\n",
            "WARNING: There was an error checking the latest version of pip.\n"
          ]
        }
      ],
      "source": [
        "pip install -U pip keras tensorflow"
      ]
    },
    {
      "cell_type": "code",
      "execution_count": null,
      "metadata": {
        "id": "QuW9DEzEG9U5"
      },
      "outputs": [],
      "source": [
        "# Define embedding\n",
        "# Prepare data and parameters\n",
        "vocab_size = 50000\n",
        "x_clean = clean_text\n",
        "y = df_model['sentiment']"
      ]
    },
    {
      "cell_type": "code",
      "execution_count": null,
      "metadata": {
        "id": "23O1LDCr1v7W"
      },
      "outputs": [],
      "source": [
        "import tensorflow as tf\n",
        "from tensorflow.keras.preprocessing.text import Tokenizer\n",
        "\n",
        "# Instantiate tokenizer\n",
        "tokenizer = Tokenizer(num_words = vocab_size)\n",
        "\n",
        "# Fit tokenizer on text\n",
        "tokenizer.fit_on_texts(x_clean)"
      ]
    },
    {
      "cell_type": "code",
      "execution_count": null,
      "metadata": {
        "id": "beJ3cdTG12la"
      },
      "outputs": [],
      "source": [
        "# Vectorize text to numeric representation\n",
        "x_vectors = tokenizer.texts_to_sequences(x_clean)\n"
      ]
    },
    {
      "cell_type": "code",
      "execution_count": null,
      "metadata": {
        "colab": {
          "base_uri": "https://localhost:8080/"
        },
        "id": "QfPr4hYeta25",
        "outputId": "72a6e157-de4c-4d78-d312-e3275ed77fc0"
      },
      "outputs": [
        {
          "data": {
            "text/plain": [
              "[[45, 231, 91, 506, 23, 1825],\n",
              " [1, 55, 32, 312],\n",
              " [2, 881],\n",
              " [1826, 117, 584, 882, 1827, 75],\n",
              " [690, 2]]"
            ]
          },
          "execution_count": 362,
          "metadata": {},
          "output_type": "execute_result"
        }
      ],
      "source": [
        "x_vectors[:5]"
      ]
    },
    {
      "cell_type": "code",
      "execution_count": null,
      "metadata": {
        "colab": {
          "base_uri": "https://localhost:8080/"
        },
        "id": "dDtq23DO2XL2",
        "outputId": "c014596c-bef3-4ea7-c115-31558babe09a"
      },
      "outputs": [
        {
          "name": "stdout",
          "output_type": "stream",
          "text": [
            "original:  [['way', 'plug', 'u', 'unless', 'go', 'converter']] \n",
            "\n",
            "vectorized:  [[45, 231, 91, 506, 23, 1825]]\n"
          ]
        }
      ],
      "source": [
        "# View text and vectorized text\n",
        "print(\"original: \", x_clean[:1], '\\n')\n",
        "print(\"vectorized: \", x_vectors[:1])"
      ]
    },
    {
      "cell_type": "code",
      "execution_count": null,
      "metadata": {
        "colab": {
          "base_uri": "https://localhost:8080/"
        },
        "id": "uwRIEcqCo3Y0",
        "outputId": "9f361176-207b-464e-a1d6-086114c06477"
      },
      "outputs": [
        {
          "name": "stdout",
          "output_type": "stream",
          "text": [
            "4360\n"
          ]
        }
      ],
      "source": [
        "# #View total count of indexed vectorized words\n",
        "vocab_len = len(tokenizer.word_index)\n",
        "print(vocab_len)"
      ]
    },
    {
      "cell_type": "code",
      "execution_count": null,
      "metadata": {
        "colab": {
          "base_uri": "https://localhost:8080/"
        },
        "id": "af29t9A59XFS",
        "outputId": "c4d44091-61f8-4f83-c70f-9721a1b8048f"
      },
      "outputs": [
        {
          "data": {
            "text/plain": [
              "16"
            ]
          },
          "execution_count": 365,
          "metadata": {},
          "output_type": "execute_result"
        }
      ],
      "source": [
        "# Define max of clean reviews\n",
        "max_sent_clean = max(df_model['word_count_clean'])\n",
        "\n",
        "max_sent_clean"
      ]
    },
    {
      "cell_type": "code",
      "execution_count": null,
      "metadata": {
        "colab": {
          "base_uri": "https://localhost:8080/"
        },
        "id": "teh8JHTY3Cz5",
        "outputId": "4d12ef40-feb7-43ae-bfaa-c77c189cf846"
      },
      "outputs": [
        {
          "data": {
            "text/plain": [
              "(2934, 17)"
            ]
          },
          "execution_count": 366,
          "metadata": {},
          "output_type": "execute_result"
        }
      ],
      "source": [
        "# Import pad sequences\n",
        "from tensorflow.keras.preprocessing.sequence import pad_sequences\n",
        "\n",
        "# Define max length for padding\n",
        "max_length = max_sent_clean + 1\n",
        "\n",
        "x_pad = pad_sequences(x_vectors, maxlen = max_length, padding = 'pre', truncating = 'post')\n",
        "\n",
        "x_pad.shape"
      ]
    },
    {
      "cell_type": "code",
      "execution_count": null,
      "metadata": {
        "colab": {
          "base_uri": "https://localhost:8080/"
        },
        "id": "H7x5n6Qgps86",
        "outputId": "44c28a2a-a455-4d74-c35c-201b68b2f30c"
      },
      "outputs": [
        {
          "name": "stdout",
          "output_type": "stream",
          "text": [
            "[['way', 'plug', 'u', 'unless', 'go', 'converter']]\n",
            "[[   0    0    0    0    0    0    0    0    0    0    0   45  231   91\n",
            "   506   23 1825]]\n"
          ]
        }
      ],
      "source": [
        "# View padded and vectorized review example compared to clean text\n",
        "print(x_clean[:1])\n",
        "print(x_pad[:1])"
      ]
    },
    {
      "cell_type": "code",
      "execution_count": null,
      "metadata": {
        "id": "BPz5wml0_1kS"
      },
      "outputs": [],
      "source": [
        "# Split cleaned, vectorized, and padded data into train test split\n",
        "from sklearn.model_selection import train_test_split\n",
        "\n",
        "X_train, X_test, y_train, y_test = train_test_split(x_pad, y, train_size = 0.90, test_size = 0.10, random_state = 61, stratify = y)"
      ]
    },
    {
      "cell_type": "code",
      "execution_count": null,
      "metadata": {
        "colab": {
          "base_uri": "https://localhost:8080/"
        },
        "id": "EzjvS9TIAhVD",
        "outputId": "77b1cdfa-22be-4a92-e2b0-14fa6e45e2fc"
      },
      "outputs": [
        {
          "name": "stdout",
          "output_type": "stream",
          "text": [
            "Training Data Breakdown\n",
            "(2640, 17)\n",
            "(2640,) \n",
            "\n",
            "Test Data Breakdown\n",
            "(294, 17)\n",
            "(294,)\n"
          ]
        }
      ],
      "source": [
        "# Confirm train test split and shape\n",
        "print(\"Training Data Breakdown\")\n",
        "print(X_train.shape)\n",
        "print(y_train.shape, '\\n')\n",
        "print(\"Test Data Breakdown\")\n",
        "print(X_test.shape)\n",
        "print(y_test.shape)"
      ]
    },
    {
      "cell_type": "code",
      "execution_count": null,
      "metadata": {
        "id": "wCeZAecEDbY6"
      },
      "outputs": [],
      "source": [
        "# Make train and test arrays into dataframes in preparation for exporting csv files\n",
        "X_train_df = pd.DataFrame(X_train)\n",
        "X_test_df = pd.DataFrame(X_test)\n",
        "\n",
        "y_train_df = pd.DataFrame(y_train)\n",
        "y_test_df = pd.DataFrame(y_test)\n",
        "\n",
        "# Export clean and prepared train and test sets\n",
        "X_train_df.to_csv(r'C:\\\\Users\\\\andrew\\\\Desktop\\\\WGU_MSDA\\\\D213_Advanced_Data_Analytics\\\\PA\\\\Task_2\\\\X_train.csv', index = False)\n",
        "X_test_df.to_csv(r'C:\\\\Users\\\\andrew\\\\Desktop\\\\WGU_MSDA\\\\D213_Advanced_Data_Analytics\\\\PA\\\\Task_2\\\\X_test.csv', index = False)\n",
        "\n",
        "y_train_df.to_csv(r'C:\\\\Users\\\\andrew\\\\Desktop\\\\WGU_MSDA\\\\D213_Advanced_Data_Analytics\\\\PA\\\\Task_2\\\\y_train.csv', index = False)\n",
        "y_test_df.to_csv(r'C:\\\\Users\\\\andrew\\\\Desktop\\\\WGU_MSDA\\\\D213_Advanced_Data_Analytics\\\\PA\\\\Task_2\\\\y_test.csv', index = False)"
      ]
    },
    {
      "cell_type": "code",
      "execution_count": null,
      "metadata": {
        "colab": {
          "base_uri": "https://localhost:8080/"
        },
        "id": "woCY9mkBiT_q",
        "outputId": "3f8d4a45-d0e9-44ec-adfe-51093e53b763"
      },
      "outputs": [
        {
          "name": "stdout",
          "output_type": "stream",
          "text": [
            "4360\n"
          ]
        }
      ],
      "source": [
        "# #View total count of indexed vectorized words\n",
        "vocab_len = len(tokenizer.word_index)\n",
        "print(vocab_len)"
      ]
    },
    {
      "cell_type": "code",
      "execution_count": null,
      "metadata": {
        "colab": {
          "base_uri": "https://localhost:8080/"
        },
        "id": "EXkSMGS2YLv5",
        "outputId": "5e594c70-c820-4779-8219-5dcb083ca6c5"
      },
      "outputs": [
        {
          "data": {
            "text/plain": [
              "8"
            ]
          },
          "execution_count": 372,
          "metadata": {},
          "output_type": "execute_result"
        }
      ],
      "source": [
        "# Define maximum embedding based on 4th root of vocab size\n",
        "max_sequence_embedding = int(round(np.sqrt(np.sqrt(vocab_len)), 0))\n",
        "max_sequence_embedding"
      ]
    },
    {
      "cell_type": "code",
      "execution_count": null,
      "metadata": {
        "colab": {
          "base_uri": "https://localhost:8080/"
        },
        "id": "xi-D3mOzAwJx",
        "outputId": "ea28e246-0257-41ee-84f1-1704d676f2e0"
      },
      "outputs": [
        {
          "name": "stdout",
          "output_type": "stream",
          "text": [
            "Model: \"sequential_5\"\n",
            "_________________________________________________________________\n",
            " Layer (type)                Output Shape              Param #   \n",
            "=================================================================\n",
            " embedding_5 (Embedding)     (None, 17, 8)             34888     \n",
            "                                                                 \n",
            " spatial_dropout1d_5 (Spati  (None, 17, 8)             0         \n",
            " alDropout1D)                                                    \n",
            "                                                                 \n",
            " bidirectional_5 (Bidirecti  (None, 128)               37376     \n",
            " onal)                                                           \n",
            "                                                                 \n",
            " dense_layer_32 (Dense)      (None, 32)                4128      \n",
            "                                                                 \n",
            " dense_layer_1 (Dense)       (None, 1)                 33        \n",
            "                                                                 \n",
            "=================================================================\n",
            "Total params: 76425 (298.54 KB)\n",
            "Trainable params: 76425 (298.54 KB)\n",
            "Non-trainable params: 0 (0.00 Byte)\n",
            "_________________________________________________________________\n",
            "None\n"
          ]
        }
      ],
      "source": [
        "# Build model using LSTM\n",
        "from tensorflow.keras.models import Sequential\n",
        "from tensorflow.keras.layers import Embedding, SpatialDropout1D,Bidirectional, LSTM, Dense\n",
        "from tensorflow.keras.callbacks import EarlyStopping\n",
        "\n",
        "vocab_len = len(tokenizer.word_counts) + 1\n",
        "embedding_length = max_sequence_embedding\n",
        "early_stop = EarlyStopping(monitor = 'val_loss', patience = 5)\n",
        "\n",
        "# Instantiate model\n",
        "model= Sequential()\n",
        "\n",
        "model.add(Embedding(vocab_len, embedding_length, input_length = 17))\n",
        "model.add(SpatialDropout1D(0.25))\n",
        "model.add(Bidirectional(LSTM(64, dropout = 0.25, recurrent_dropout = 0.25)))\n",
        "model.add(Dense(32, activation = 'relu', name = 'dense_layer_32'))\n",
        "model.add(Dense(1, activation = 'sigmoid', name = 'dense_layer_1'))\n",
        "model.compile(loss = 'binary_crossentropy', optimizer = 'adam', metrics = ['accuracy'])\n",
        "\n",
        "print(model.summary())"
      ]
    },
    {
      "cell_type": "code",
      "execution_count": null,
      "metadata": {
        "colab": {
          "base_uri": "https://localhost:8080/"
        },
        "id": "V4W0LmGnaBgY",
        "outputId": "68114488-7dd8-4577-d911-78d03655bece"
      },
      "outputs": [
        {
          "name": "stdout",
          "output_type": "stream",
          "text": [
            "Epoch 1/50\n",
            "75/75 [==============================] - 11s 38ms/step - loss: 0.6924 - accuracy: 0.5391 - val_loss: 0.6909 - val_accuracy: 0.5114\n",
            "Epoch 2/50\n",
            "75/75 [==============================] - 2s 31ms/step - loss: 0.6308 - accuracy: 0.6566 - val_loss: 0.4820 - val_accuracy: 0.7765\n",
            "Epoch 3/50\n",
            "75/75 [==============================] - 2s 30ms/step - loss: 0.3647 - accuracy: 0.8468 - val_loss: 0.4199 - val_accuracy: 0.8220\n",
            "Epoch 4/50\n",
            "75/75 [==============================] - 2s 30ms/step - loss: 0.2462 - accuracy: 0.9049 - val_loss: 0.4640 - val_accuracy: 0.8144\n",
            "Epoch 5/50\n",
            "75/75 [==============================] - 3s 35ms/step - loss: 0.1689 - accuracy: 0.9386 - val_loss: 0.4371 - val_accuracy: 0.8258\n",
            "Epoch 6/50\n",
            "75/75 [==============================] - 3s 35ms/step - loss: 0.1425 - accuracy: 0.9512 - val_loss: 0.4175 - val_accuracy: 0.8144\n",
            "Epoch 7/50\n",
            "75/75 [==============================] - 3s 35ms/step - loss: 0.1166 - accuracy: 0.9596 - val_loss: 0.4400 - val_accuracy: 0.8220\n",
            "Epoch 8/50\n",
            "75/75 [==============================] - 2s 32ms/step - loss: 0.1040 - accuracy: 0.9646 - val_loss: 0.4996 - val_accuracy: 0.8068\n",
            "Epoch 9/50\n",
            "75/75 [==============================] - 2s 31ms/step - loss: 0.1001 - accuracy: 0.9689 - val_loss: 0.5442 - val_accuracy: 0.8068\n",
            "Epoch 10/50\n",
            "75/75 [==============================] - 2s 30ms/step - loss: 0.0863 - accuracy: 0.9726 - val_loss: 0.5909 - val_accuracy: 0.8030\n",
            "Epoch 11/50\n",
            "75/75 [==============================] - 2s 33ms/step - loss: 0.0892 - accuracy: 0.9718 - val_loss: 0.5420 - val_accuracy: 0.7955\n"
          ]
        }
      ],
      "source": [
        "history = model.fit(X_train, y_train, validation_split = 0.10, epochs = 50, batch_size = 32, callbacks = early_stop)"
      ]
    },
    {
      "cell_type": "code",
      "execution_count": null,
      "metadata": {
        "colab": {
          "base_uri": "https://localhost:8080/",
          "height": 974
        },
        "id": "VTx-u5TSadmA",
        "outputId": "6bc99cf4-ceeb-4905-d09f-ea6f5a8df97b"
      },
      "outputs": [
        {
          "data": {
            "text/plain": [
              "Text(0.5, 1.0, 'Model Loss')"
            ]
          },
          "execution_count": 375,
          "metadata": {},
          "output_type": "execute_result"
        },
        {
          "data": {
            "image/png": "[encoded data removed]",
            "text/plain": [
              "<Figure size 864x360 with 1 Axes>"
            ]
          },
          "metadata": {},
          "output_type": "display_data"
        },
        {
          "data": {
            "image/png": "[encoded data removed]",
            "text/plain": [
              "<Figure size 864x360 with 1 Axes>"
            ]
          },
          "metadata": {},
          "output_type": "display_data"
        }
      ],
      "source": [
        " # Plotting the accuracy curve\n",
        "plt.figure(figsize=[12,5])\n",
        "plt.plot(history.history['accuracy'], 'red', linewidth=2.0, label = \"Training Accuracy\")\n",
        "plt.plot(history.history['val_accuracy'], 'blue', linewidth=2.0, label = \"Val Accuracy\")\n",
        "plt.legend(loc = 'best')\n",
        "plt.xlabel('Epochs')\n",
        "plt.ylabel('Accuracy')\n",
        "plt.title('Accuracy Curves')\n",
        "\n",
        "# Plotting the loss curve\n",
        "plt.figure(figsize=[12,5])\n",
        "plt.plot(history.history['loss'], 'red', linewidth=2.0, label = \"Training Loss\")\n",
        "plt.plot(history.history['val_loss'], 'blue', linewidth=2.0, label = 'Val Loss')\n",
        "plt.legend(loc = 'best')\n",
        "plt.xlabel('Epochs')\n",
        "plt.ylabel('Loss')\n",
        "plt.title('Model Loss')"
      ]
    },
    {
      "cell_type": "code",
      "execution_count": null,
      "metadata": {
        "id": "cKIfl6coDbY8",
        "outputId": "70cccf8e-c8d6-483a-e5bf-7970e71e227c"
      },
      "outputs": [
        {
          "name": "stdout",
          "output_type": "stream",
          "text": [
            "Test Accuracy:  76.19 \n",
            "\n",
            "Test Loss:  0.756\n"
          ]
        }
      ],
      "source": [
        "# Evaluate model\n",
        "eval = model.evaluate(X_test, y_test, verbose = 0)\n",
        "\n",
        "# Isolate accuracy and loss metrics\n",
        "acc = round(eval[1]*100, 2)\n",
        "loss = round(eval[0], 3)\n",
        "\n",
        "# View metrics\n",
        "print(\"Test Accuracy: \", acc, '\\n')\n",
        "print(\"Test Loss: \", loss)"
      ]
    },
    {
      "cell_type": "code",
      "execution_count": null,
      "metadata": {
        "colab": {
          "base_uri": "https://localhost:8080/"
        },
        "id": "-_3q1Szoo2Zp",
        "outputId": "c67fcdba-d433-42e5-aa71-588b6ab87f91"
      },
      "outputs": [
        {
          "name": "stdout",
          "output_type": "stream",
          "text": [
            "10/10 [==============================] - 1s 7ms/step\n"
          ]
        }
      ],
      "source": [
        "# Find labels for predictions using y test data\n",
        "# Compute predictions\n",
        "prediction = model.predict(X_test)\n",
        "\n",
        "# Get labels based on predicted values 1 if p >= 0.5 else 0\n",
        "pred = []\n",
        "for p in prediction:\n",
        "    if p >= 0.5:\n",
        "        pred.append(1)\n",
        "    else:\n",
        "        pred.append(0)\n",
        "\n"
      ]
    },
    {
      "cell_type": "code",
      "execution_count": null,
      "metadata": {
        "id": "CWBaxSANDbY8",
        "outputId": "676033fe-cf36-472b-926b-972049dcf468"
      },
      "outputs": [
        {
          "name": "stdout",
          "output_type": "stream",
          "text": [
            "[[0.9069329 ]\n",
            " [0.9474819 ]\n",
            " [0.996027  ]\n",
            " [0.6259457 ]\n",
            " [0.00704312]]\n",
            "[1, 1, 1, 1, 0]\n"
          ]
        }
      ],
      "source": [
        "# View predictions\n",
        "print(prediction[:5])\n",
        "print(pred[:5])"
      ]
    },
    {
      "cell_type": "code",
      "execution_count": null,
      "metadata": {
        "colab": {
          "base_uri": "https://localhost:8080/"
        },
        "id": "shusaDcXUbIr",
        "outputId": "5e60da13-2966-4ed2-de7b-b534d55dd17d"
      },
      "outputs": [
        {
          "name": "stdout",
          "output_type": "stream",
          "text": [
            "Accuracy Score: 76.19%\n"
          ]
        }
      ],
      "source": [
        "from sklearn.metrics import accuracy_score\n",
        "\n",
        "# Calculate Accuracy score of test predictions\n",
        "acc_score = accuracy_score(y_test, pred)\n",
        "\n",
        "print(\"Accuracy Score: %0.2f\" % (acc_score*100) + \"%\")"
      ]
    },
    {
      "cell_type": "code",
      "execution_count": null,
      "metadata": {
        "colab": {
          "base_uri": "https://localhost:8080/",
          "height": 581
        },
        "id": "wrT4kodHUeQg",
        "outputId": "4c4e0f90-56e2-4797-b8a1-c0d18425ec2a"
      },
      "outputs": [
        {
          "name": "stdout",
          "output_type": "stream",
          "text": [
            "Confusion Matrix \n",
            "\n",
            "[[110  38]\n",
            " [ 32 114]]\n",
            "\n",
            "\n"
          ]
        },
        {
          "data": {
            "image/png": "[encoded data removed]",
            "text/plain": [
              "<Figure size 432x288 with 2 Axes>"
            ]
          },
          "metadata": {},
          "output_type": "display_data"
        }
      ],
      "source": [
        "# Assess metrics\n",
        "from sklearn.metrics import confusion_matrix\n",
        "from sklearn import metrics\n",
        "\n",
        "# Run confusion matrix\n",
        "matrix = confusion_matrix(y_test, pred)\n",
        "\n",
        "# Print results\n",
        "print(\"Confusion Matrix\", '\\n')\n",
        "print(matrix)\n",
        "print('\\n')\n",
        "matrix_visual = metrics.ConfusionMatrixDisplay(confusion_matrix = matrix, display_labels = [False, True])\n",
        "matrix_visual.plot()\n",
        "plt.grid(False)\n",
        "plt.title(\"Confusion Matrix Results\")\n",
        "plt.show()"
      ]
    },
    {
      "cell_type": "code",
      "execution_count": null,
      "metadata": {
        "colab": {
          "base_uri": "https://localhost:8080/"
        },
        "id": "Z5Rt91PNUiLL",
        "outputId": "559edf78-e1a2-4427-bd0d-0b12617298dc"
      },
      "outputs": [
        {
          "name": "stdout",
          "output_type": "stream",
          "text": [
            "True Negatives: 110\n",
            "False Negatives: 32\n",
            "True Positives: 114\n",
            "False Positives: 38\n"
          ]
        }
      ],
      "source": [
        "# define true postive, true negative, false positive, false negative variables\n",
        "tn = matrix[0,0]\n",
        "fp = matrix[0,1]\n",
        "fn = matrix[1,0]\n",
        "tp = matrix[1,1]\n",
        "\n",
        "print('True Negatives: ' + str(tn))\n",
        "print('False Negatives: ' + str(fn))\n",
        "print('True Positives: ' + str(tp))\n",
        "print('False Positives: ' + str(fp))\n"
      ]
    },
    {
      "cell_type": "code",
      "execution_count": null,
      "metadata": {
        "colab": {
          "base_uri": "https://localhost:8080/"
        },
        "id": "msS6CDChUita",
        "outputId": "df59e521-e572-4e0b-f373-83f584a255b6"
      },
      "outputs": [
        {
          "name": "stdout",
          "output_type": "stream",
          "text": [
            "Accuracy: 76.19 %\n",
            "Precision:  75.00 %\n",
            "Sensitivity/Recall: 78.08 %\n",
            "Specificity: 74.32 %\n"
          ]
        }
      ],
      "source": [
        "# Performance Calculations - Accruacy, Precision, Sensitivity/Recall, Specificity\n",
        "# Population total\n",
        "population = tp + tn + fp + fn\n",
        "\n",
        "\n",
        "# Accuracy calculation --- sum true pos + true neg / population\n",
        "# How often is the model correct?\n",
        "accuracy = (tp + tn) / population\n",
        "\n",
        "# Precision calcualtion --- true pos / sum of true pos + false pos\n",
        "# Of the positives predicted, what percentage is truly positive?\n",
        "precision = tp / (tp+fp)\n",
        "\n",
        "\n",
        "# Sensitivity/Recall calculation --- true positivies / sum of true pos + false neg\n",
        "# Of all the positive cases, what percentage are predicted positive? / how good is model at predicting positive cases\n",
        "sensitivity = tp / (tp + fn)\n",
        "\n",
        "# Specificity calculation --- true negatives / sum of true neg + false pos\n",
        "# How well the model is at prediciting negative results?\n",
        "specificity = tn / (tn + fp)\n",
        "\n",
        "\n",
        "print(\"Accuracy: %0.2f\" % (accuracy*100) + \" %\")\n",
        "print(\"Precision:  %0.2f\" % (precision*100) + \" %\")\n",
        "print(\"Sensitivity/Recall: %0.2f\" % (sensitivity*100) + \" %\")\n",
        "print(\"Specificity: %0.2f\" % (specificity*100) + \" %\")\n"
      ]
    },
    {
      "cell_type": "code",
      "execution_count": null,
      "metadata": {
        "id": "JfQXh_Rb0FZy"
      },
      "outputs": [],
      "source": [
        "# Save model to hierarchal format\n",
        "model.save(r'C:\\Users\\andrew\\Desktop\\WGU_MSDA\\D213_Advanced_Data_Analytics\\PA\\Task_2\\sentiment_reveiw_model.h5')"
      ]
    },
    {
      "cell_type": "code",
      "execution_count": null,
      "metadata": {
        "id": "Y4V3aJa70Fcw"
      },
      "outputs": [],
      "source": [
        "# For model recreation\n",
        "reanimate_model = tf.keras.models.load_model(r'C:\\Users\\andrew\\Desktop\\WGU_MSDA\\D213_Advanced_Data_Analytics\\PA\\Task_2\\sentiment_reveiw_model.h5')"
      ]
    },
    {
      "cell_type": "code",
      "execution_count": null,
      "metadata": {
        "id": "oqhuNce_0FfP",
        "outputId": "8bf52a9a-2d1e-414e-e27e-58287d5f8095"
      },
      "outputs": [
        {
          "name": "stdout",
          "output_type": "stream",
          "text": [
            "Model: \"sequential_5\"\n",
            "_________________________________________________________________\n",
            " Layer (type)                Output Shape              Param #   \n",
            "=================================================================\n",
            " embedding_5 (Embedding)     (None, 17, 8)             34888     \n",
            "                                                                 \n",
            " spatial_dropout1d_5 (Spati  (None, 17, 8)             0         \n",
            " alDropout1D)                                                    \n",
            "                                                                 \n",
            " bidirectional_5 (Bidirecti  (None, 128)               37376     \n",
            " onal)                                                           \n",
            "                                                                 \n",
            " dense_layer_32 (Dense)      (None, 32)                4128      \n",
            "                                                                 \n",
            " dense_layer_1 (Dense)       (None, 1)                 33        \n",
            "                                                                 \n",
            "=================================================================\n",
            "Total params: 76425 (298.54 KB)\n",
            "Trainable params: 76425 (298.54 KB)\n",
            "Non-trainable params: 0 (0.00 Byte)\n",
            "_________________________________________________________________\n"
          ]
        }
      ],
      "source": [
        "# Show the reanimated model structure\n",
        "reanimate_model.summary()"
      ]
    },
    {
      "cell_type": "code",
      "execution_count": null,
      "metadata": {
        "id": "I3mWub81DbY-"
      },
      "outputs": [],
      "source": [
        "##################################### END"
      ]
    }
  ],
  "metadata": {
    "colab": {
      "provenance": [],
      "include_colab_link": true
    },
    "kernelspec": {
      "display_name": "Python 3 (ipykernel)",
      "language": "python",
      "name": "python3"
    },
    "language_info": {
      "codemirror_mode": {
        "name": "ipython",
        "version": 3
      },
      "file_extension": ".py",
      "mimetype": "text/x-python",
      "name": "python",
      "nbconvert_exporter": "python",
      "pygments_lexer": "ipython3",
      "version": "3.9.12"
    }
  },
  "nbformat": 4,
  "nbformat_minor": 0
}