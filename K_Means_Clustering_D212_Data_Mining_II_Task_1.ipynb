{
  "cells": [
    {
      "cell_type": "markdown",
      "metadata": {
        "id": "view-in-github",
        "colab_type": "text"
      },
      "source": [
        "<a href=\"https://colab.research.google.com/github/andrew-mecchi/andrew-mecchi.github.io/blob/main/K_Means_Clustering_D212_Data_Mining_II_Task_1.ipynb\" target=\"_parent\"><img src=\"https://colab.research.google.com/assets/colab-badge.svg\" alt=\"Open In Colab\"/></a>"
      ]
    },
    {
      "cell_type": "code",
      "execution_count": 1,
      "id": "128c863a-ac07-43d7-9afc-1df678cc6242",
      "metadata": {
        "id": "128c863a-ac07-43d7-9afc-1df678cc6242"
      },
      "outputs": [],
      "source": [
        "# Import libraries\n",
        "\n",
        "import pandas as pd\n",
        "import matplotlib.pyplot as plt\n",
        "%matplotlib inline\n",
        "import seaborn as sns\n",
        "from sklearn.cluster import KMeans\n",
        "from sklearn.preprocessing import StandardScaler\n",
        "from sklearn.pipeline import make_pipeline\n",
        "from sklearn.metrics import silhouette_score"
      ]
    },
    {
      "cell_type": "code",
      "source": [
        "from google.colab import drive\n",
        "drive.mount('/content/drive')"
      ],
      "metadata": {
        "colab": {
          "base_uri": "https://localhost:8080/"
        },
        "id": "wz24BswyN6rT",
        "outputId": "851c6311-2a5e-4452-9155-ccd4addf1d7b"
      },
      "id": "wz24BswyN6rT",
      "execution_count": 2,
      "outputs": [
        {
          "output_type": "stream",
          "name": "stdout",
          "text": [
            "Mounted at /content/drive\n"
          ]
        }
      ]
    },
    {
      "cell_type": "code",
      "execution_count": 3,
      "id": "2ba85b69-e1f3-4af4-8ccd-63914f0235e8",
      "metadata": {
        "colab": {
          "base_uri": "https://localhost:8080/",
          "height": 349
        },
        "id": "2ba85b69-e1f3-4af4-8ccd-63914f0235e8",
        "outputId": "2095ac7c-61d3-4334-8192-c15f7a6af572"
      },
      "outputs": [
        {
          "output_type": "execute_result",
          "data": {
            "text/plain": [
              "   CaseOrder Customer_id                           Interaction  \\\n",
              "0          1     K409198  aa90260b-4141-4a24-8e36-b04ce1f4f77b   \n",
              "1          2     S120509  fb76459f-c047-4a9d-8af9-e0f7d4ac2524   \n",
              "2          3     K191035  344d114c-3736-4be5-98f7-c72c281e2d35   \n",
              "\n",
              "                                UID         City State                 County  \\\n",
              "0  e885b299883d4f9fb18e39c75155d990  Point Baker    AK  Prince of Wales-Hyder   \n",
              "1  f2de8bef964785f41a2959829830fb8a  West Branch    MI                 Ogemaw   \n",
              "2  f1784cfa9f6d92ae816197eb175d3c71      Yamhill    OR                Yamhill   \n",
              "\n",
              "     Zip       Lat        Lng  ...  MonthlyCharge Bandwidth_GB_Year  \\\n",
              "0  99927  56.25100 -133.37571  ...     172.455519        904.536110   \n",
              "1  48661  44.32893  -84.24080  ...     242.632554        800.982766   \n",
              "2  97148  45.35589 -123.24657  ...     159.947583       2054.706961   \n",
              "\n",
              "  Timely_response Timely_fixes  Timely_replacements  Reliability  Options  \\\n",
              "0               5            5                    5            3        4   \n",
              "1               3            4                    3            3        4   \n",
              "2               4            4                    2            4        4   \n",
              "\n",
              "  Respectful_response Courteous_staff Active_listeners  \n",
              "0                   4               3                4  \n",
              "1                   3               4                4  \n",
              "2                   3               3                3  \n",
              "\n",
              "[3 rows x 50 columns]"
            ],
            "text/html": [
              "\n",
              "  <div id=\"df-f82c33a4-073f-4631-bb31-8dbd7907831f\" class=\"colab-df-container\">\n",
              "    <div>\n",
              "<style scoped>\n",
              "    .dataframe tbody tr th:only-of-type {\n",
              "        vertical-align: middle;\n",
              "    }\n",
              "\n",
              "    .dataframe tbody tr th {\n",
              "        vertical-align: top;\n",
              "    }\n",
              "\n",
              "    .dataframe thead th {\n",
              "        text-align: right;\n",
              "    }\n",
              "</style>\n",
              "<table border=\"1\" class=\"dataframe\">\n",
              "  <thead>\n",
              "    <tr style=\"text-align: right;\">\n",
              "      <th></th>\n",
              "      <th>CaseOrder</th>\n",
              "      <th>Customer_id</th>\n",
              "      <th>Interaction</th>\n",
              "      <th>UID</th>\n",
              "      <th>City</th>\n",
              "      <th>State</th>\n",
              "      <th>County</th>\n",
              "      <th>Zip</th>\n",
              "      <th>Lat</th>\n",
              "      <th>Lng</th>\n",
              "      <th>...</th>\n",
              "      <th>MonthlyCharge</th>\n",
              "      <th>Bandwidth_GB_Year</th>\n",
              "      <th>Timely_response</th>\n",
              "      <th>Timely_fixes</th>\n",
              "      <th>Timely_replacements</th>\n",
              "      <th>Reliability</th>\n",
              "      <th>Options</th>\n",
              "      <th>Respectful_response</th>\n",
              "      <th>Courteous_staff</th>\n",
              "      <th>Active_listeners</th>\n",
              "    </tr>\n",
              "  </thead>\n",
              "  <tbody>\n",
              "    <tr>\n",
              "      <th>0</th>\n",
              "      <td>1</td>\n",
              "      <td>K409198</td>\n",
              "      <td>aa90260b-4141-4a24-8e36-b04ce1f4f77b</td>\n",
              "      <td>e885b299883d4f9fb18e39c75155d990</td>\n",
              "      <td>Point Baker</td>\n",
              "      <td>AK</td>\n",
              "      <td>Prince of Wales-Hyder</td>\n",
              "      <td>99927</td>\n",
              "      <td>56.25100</td>\n",
              "      <td>-133.37571</td>\n",
              "      <td>...</td>\n",
              "      <td>172.455519</td>\n",
              "      <td>904.536110</td>\n",
              "      <td>5</td>\n",
              "      <td>5</td>\n",
              "      <td>5</td>\n",
              "      <td>3</td>\n",
              "      <td>4</td>\n",
              "      <td>4</td>\n",
              "      <td>3</td>\n",
              "      <td>4</td>\n",
              "    </tr>\n",
              "    <tr>\n",
              "      <th>1</th>\n",
              "      <td>2</td>\n",
              "      <td>S120509</td>\n",
              "      <td>fb76459f-c047-4a9d-8af9-e0f7d4ac2524</td>\n",
              "      <td>f2de8bef964785f41a2959829830fb8a</td>\n",
              "      <td>West Branch</td>\n",
              "      <td>MI</td>\n",
              "      <td>Ogemaw</td>\n",
              "      <td>48661</td>\n",
              "      <td>44.32893</td>\n",
              "      <td>-84.24080</td>\n",
              "      <td>...</td>\n",
              "      <td>242.632554</td>\n",
              "      <td>800.982766</td>\n",
              "      <td>3</td>\n",
              "      <td>4</td>\n",
              "      <td>3</td>\n",
              "      <td>3</td>\n",
              "      <td>4</td>\n",
              "      <td>3</td>\n",
              "      <td>4</td>\n",
              "      <td>4</td>\n",
              "    </tr>\n",
              "    <tr>\n",
              "      <th>2</th>\n",
              "      <td>3</td>\n",
              "      <td>K191035</td>\n",
              "      <td>344d114c-3736-4be5-98f7-c72c281e2d35</td>\n",
              "      <td>f1784cfa9f6d92ae816197eb175d3c71</td>\n",
              "      <td>Yamhill</td>\n",
              "      <td>OR</td>\n",
              "      <td>Yamhill</td>\n",
              "      <td>97148</td>\n",
              "      <td>45.35589</td>\n",
              "      <td>-123.24657</td>\n",
              "      <td>...</td>\n",
              "      <td>159.947583</td>\n",
              "      <td>2054.706961</td>\n",
              "      <td>4</td>\n",
              "      <td>4</td>\n",
              "      <td>2</td>\n",
              "      <td>4</td>\n",
              "      <td>4</td>\n",
              "      <td>3</td>\n",
              "      <td>3</td>\n",
              "      <td>3</td>\n",
              "    </tr>\n",
              "  </tbody>\n",
              "</table>\n",
              "<p>3 rows × 50 columns</p>\n",
              "</div>\n",
              "    <div class=\"colab-df-buttons\">\n",
              "\n",
              "  <div class=\"colab-df-container\">\n",
              "    <button class=\"colab-df-convert\" onclick=\"convertToInteractive('df-f82c33a4-073f-4631-bb31-8dbd7907831f')\"\n",
              "            title=\"Convert this dataframe to an interactive table.\"\n",
              "            style=\"display:none;\">\n",
              "\n",
              "  <svg xmlns=\"http://www.w3.org/2000/svg\" height=\"24px\" viewBox=\"0 -960 960 960\">\n",
              "    <path d=\"M120-120v-720h720v720H120Zm60-500h600v-160H180v160Zm220 220h160v-160H400v160Zm0 220h160v-160H400v160ZM180-400h160v-160H180v160Zm440 0h160v-160H620v160ZM180-180h160v-160H180v160Zm440 0h160v-160H620v160Z\"/>\n",
              "  </svg>\n",
              "    </button>\n",
              "\n",
              "  <style>\n",
              "    .colab-df-container {\n",
              "      display:flex;\n",
              "      gap: 12px;\n",
              "    }\n",
              "\n",
              "    .colab-df-convert {\n",
              "      background-color: #E8F0FE;\n",
              "      border: none;\n",
              "      border-radius: 50%;\n",
              "      cursor: pointer;\n",
              "      display: none;\n",
              "      fill: #1967D2;\n",
              "      height: 32px;\n",
              "      padding: 0 0 0 0;\n",
              "      width: 32px;\n",
              "    }\n",
              "\n",
              "    .colab-df-convert:hover {\n",
              "      background-color: #E2EBFA;\n",
              "      box-shadow: 0px 1px 2px rgba(60, 64, 67, 0.3), 0px 1px 3px 1px rgba(60, 64, 67, 0.15);\n",
              "      fill: #174EA6;\n",
              "    }\n",
              "\n",
              "    .colab-df-buttons div {\n",
              "      margin-bottom: 4px;\n",
              "    }\n",
              "\n",
              "    [theme=dark] .colab-df-convert {\n",
              "      background-color: #3B4455;\n",
              "      fill: #D2E3FC;\n",
              "    }\n",
              "\n",
              "    [theme=dark] .colab-df-convert:hover {\n",
              "      background-color: #434B5C;\n",
              "      box-shadow: 0px 1px 3px 1px rgba(0, 0, 0, 0.15);\n",
              "      filter: drop-shadow(0px 1px 2px rgba(0, 0, 0, 0.3));\n",
              "      fill: #FFFFFF;\n",
              "    }\n",
              "  </style>\n",
              "\n",
              "    <script>\n",
              "      const buttonEl =\n",
              "        document.querySelector('#df-f82c33a4-073f-4631-bb31-8dbd7907831f button.colab-df-convert');\n",
              "      buttonEl.style.display =\n",
              "        google.colab.kernel.accessAllowed ? 'block' : 'none';\n",
              "\n",
              "      async function convertToInteractive(key) {\n",
              "        const element = document.querySelector('#df-f82c33a4-073f-4631-bb31-8dbd7907831f');\n",
              "        const dataTable =\n",
              "          await google.colab.kernel.invokeFunction('convertToInteractive',\n",
              "                                                    [key], {});\n",
              "        if (!dataTable) return;\n",
              "\n",
              "        const docLinkHtml = 'Like what you see? Visit the ' +\n",
              "          '<a target=\"_blank\" href=https://colab.research.google.com/notebooks/data_table.ipynb>data table notebook</a>'\n",
              "          + ' to learn more about interactive tables.';\n",
              "        element.innerHTML = '';\n",
              "        dataTable['output_type'] = 'display_data';\n",
              "        await google.colab.output.renderOutput(dataTable, element);\n",
              "        const docLink = document.createElement('div');\n",
              "        docLink.innerHTML = docLinkHtml;\n",
              "        element.appendChild(docLink);\n",
              "      }\n",
              "    </script>\n",
              "  </div>\n",
              "\n",
              "\n",
              "<div id=\"df-072e8b44-74d1-4c04-a12c-ef5b0578e34e\">\n",
              "  <button class=\"colab-df-quickchart\" onclick=\"quickchart('df-072e8b44-74d1-4c04-a12c-ef5b0578e34e')\"\n",
              "            title=\"Suggest charts\"\n",
              "            style=\"display:none;\">\n",
              "\n",
              "<svg xmlns=\"http://www.w3.org/2000/svg\" height=\"24px\"viewBox=\"0 0 24 24\"\n",
              "     width=\"24px\">\n",
              "    <g>\n",
              "        <path d=\"M19 3H5c-1.1 0-2 .9-2 2v14c0 1.1.9 2 2 2h14c1.1 0 2-.9 2-2V5c0-1.1-.9-2-2-2zM9 17H7v-7h2v7zm4 0h-2V7h2v10zm4 0h-2v-4h2v4z\"/>\n",
              "    </g>\n",
              "</svg>\n",
              "  </button>\n",
              "\n",
              "<style>\n",
              "  .colab-df-quickchart {\n",
              "      --bg-color: #E8F0FE;\n",
              "      --fill-color: #1967D2;\n",
              "      --hover-bg-color: #E2EBFA;\n",
              "      --hover-fill-color: #174EA6;\n",
              "      --disabled-fill-color: #AAA;\n",
              "      --disabled-bg-color: #DDD;\n",
              "  }\n",
              "\n",
              "  [theme=dark] .colab-df-quickchart {\n",
              "      --bg-color: #3B4455;\n",
              "      --fill-color: #D2E3FC;\n",
              "      --hover-bg-color: #434B5C;\n",
              "      --hover-fill-color: #FFFFFF;\n",
              "      --disabled-bg-color: #3B4455;\n",
              "      --disabled-fill-color: #666;\n",
              "  }\n",
              "\n",
              "  .colab-df-quickchart {\n",
              "    background-color: var(--bg-color);\n",
              "    border: none;\n",
              "    border-radius: 50%;\n",
              "    cursor: pointer;\n",
              "    display: none;\n",
              "    fill: var(--fill-color);\n",
              "    height: 32px;\n",
              "    padding: 0;\n",
              "    width: 32px;\n",
              "  }\n",
              "\n",
              "  .colab-df-quickchart:hover {\n",
              "    background-color: var(--hover-bg-color);\n",
              "    box-shadow: 0 1px 2px rgba(60, 64, 67, 0.3), 0 1px 3px 1px rgba(60, 64, 67, 0.15);\n",
              "    fill: var(--button-hover-fill-color);\n",
              "  }\n",
              "\n",
              "  .colab-df-quickchart-complete:disabled,\n",
              "  .colab-df-quickchart-complete:disabled:hover {\n",
              "    background-color: var(--disabled-bg-color);\n",
              "    fill: var(--disabled-fill-color);\n",
              "    box-shadow: none;\n",
              "  }\n",
              "\n",
              "  .colab-df-spinner {\n",
              "    border: 2px solid var(--fill-color);\n",
              "    border-color: transparent;\n",
              "    border-bottom-color: var(--fill-color);\n",
              "    animation:\n",
              "      spin 1s steps(1) infinite;\n",
              "  }\n",
              "\n",
              "  @keyframes spin {\n",
              "    0% {\n",
              "      border-color: transparent;\n",
              "      border-bottom-color: var(--fill-color);\n",
              "      border-left-color: var(--fill-color);\n",
              "    }\n",
              "    20% {\n",
              "      border-color: transparent;\n",
              "      border-left-color: var(--fill-color);\n",
              "      border-top-color: var(--fill-color);\n",
              "    }\n",
              "    30% {\n",
              "      border-color: transparent;\n",
              "      border-left-color: var(--fill-color);\n",
              "      border-top-color: var(--fill-color);\n",
              "      border-right-color: var(--fill-color);\n",
              "    }\n",
              "    40% {\n",
              "      border-color: transparent;\n",
              "      border-right-color: var(--fill-color);\n",
              "      border-top-color: var(--fill-color);\n",
              "    }\n",
              "    60% {\n",
              "      border-color: transparent;\n",
              "      border-right-color: var(--fill-color);\n",
              "    }\n",
              "    80% {\n",
              "      border-color: transparent;\n",
              "      border-right-color: var(--fill-color);\n",
              "      border-bottom-color: var(--fill-color);\n",
              "    }\n",
              "    90% {\n",
              "      border-color: transparent;\n",
              "      border-bottom-color: var(--fill-color);\n",
              "    }\n",
              "  }\n",
              "</style>\n",
              "\n",
              "  <script>\n",
              "    async function quickchart(key) {\n",
              "      const quickchartButtonEl =\n",
              "        document.querySelector('#' + key + ' button');\n",
              "      quickchartButtonEl.disabled = true;  // To prevent multiple clicks.\n",
              "      quickchartButtonEl.classList.add('colab-df-spinner');\n",
              "      try {\n",
              "        const charts = await google.colab.kernel.invokeFunction(\n",
              "            'suggestCharts', [key], {});\n",
              "      } catch (error) {\n",
              "        console.error('Error during call to suggestCharts:', error);\n",
              "      }\n",
              "      quickchartButtonEl.classList.remove('colab-df-spinner');\n",
              "      quickchartButtonEl.classList.add('colab-df-quickchart-complete');\n",
              "    }\n",
              "    (() => {\n",
              "      let quickchartButtonEl =\n",
              "        document.querySelector('#df-072e8b44-74d1-4c04-a12c-ef5b0578e34e button');\n",
              "      quickchartButtonEl.style.display =\n",
              "        google.colab.kernel.accessAllowed ? 'block' : 'none';\n",
              "    })();\n",
              "  </script>\n",
              "</div>\n",
              "\n",
              "    </div>\n",
              "  </div>\n"
            ],
            "application/vnd.google.colaboratory.intrinsic+json": {
              "type": "dataframe",
              "variable_name": "data"
            }
          },
          "metadata": {},
          "execution_count": 3
        }
      ],
      "source": [
        "# Upload CSV file and create backup\n",
        "data = pd.read_csv(r'/content/drive/MyDrive/data_files/churn_clean_d212_t1.csv')\n",
        "data_backup = data.copy(deep = True)\n",
        "\n",
        "# Rename Item columns to represent their corresponding survey category\n",
        "data.rename(columns = {'Item1':'Timely_response',\n",
        "                       'Item2': 'Timely_fixes',\n",
        "                       'Item3':'Timely_replacements',\n",
        "                       'Item4':'Reliability',\n",
        "                       'Item5':'Options',\n",
        "                       'Item6':'Respectful_response',\n",
        "                       'Item7':'Courteous_staff',\n",
        "                       'Item8':'Active_listeners'}, inplace = True)\n",
        "\n",
        "\n",
        "# View first 3 rows of dataframe\n",
        "data.head(3)\n"
      ]
    },
    {
      "cell_type": "code",
      "execution_count": 4,
      "id": "4642d134-ba1d-4a80-82b7-0a15e7b0c50b",
      "metadata": {
        "colab": {
          "base_uri": "https://localhost:8080/"
        },
        "id": "4642d134-ba1d-4a80-82b7-0a15e7b0c50b",
        "outputId": "5fd2f4d6-da87-4931-81cb-dd9ab9b92ba4"
      },
      "outputs": [
        {
          "output_type": "execute_result",
          "data": {
            "text/plain": [
              "False    10000\n",
              "Name: Customer_id, dtype: int64"
            ]
          },
          "metadata": {},
          "execution_count": 4
        }
      ],
      "source": [
        "# Explore data\n",
        "# Confirm no duplicate entries for data by checking for unique customer ids\n",
        "\n",
        "data['Customer_id'].duplicated().value_counts()\n"
      ]
    },
    {
      "cell_type": "code",
      "execution_count": 5,
      "id": "36c638c1-3515-49c5-867a-d30672a8c3cc",
      "metadata": {
        "colab": {
          "base_uri": "https://localhost:8080/"
        },
        "id": "36c638c1-3515-49c5-867a-d30672a8c3cc",
        "outputId": "309479c2-c62e-44a1-b609-9126fa034947"
      },
      "outputs": [
        {
          "output_type": "execute_result",
          "data": {
            "text/plain": [
              "CaseOrder               0\n",
              "Customer_id             0\n",
              "Interaction             0\n",
              "UID                     0\n",
              "City                    0\n",
              "State                   0\n",
              "County                  0\n",
              "Zip                     0\n",
              "Lat                     0\n",
              "Lng                     0\n",
              "Population              0\n",
              "Area                    0\n",
              "TimeZone                0\n",
              "Job                     0\n",
              "Children                0\n",
              "Age                     0\n",
              "Income                  0\n",
              "Marital                 0\n",
              "Gender                  0\n",
              "Churn                   0\n",
              "Outage_sec_perweek      0\n",
              "Email                   0\n",
              "Contacts                0\n",
              "Yearly_equip_failure    0\n",
              "Techie                  0\n",
              "Contract                0\n",
              "Port_modem              0\n",
              "Tablet                  0\n",
              "InternetService         0\n",
              "Phone                   0\n",
              "Multiple                0\n",
              "OnlineSecurity          0\n",
              "OnlineBackup            0\n",
              "DeviceProtection        0\n",
              "TechSupport             0\n",
              "StreamingTV             0\n",
              "StreamingMovies         0\n",
              "PaperlessBilling        0\n",
              "PaymentMethod           0\n",
              "Tenure                  0\n",
              "MonthlyCharge           0\n",
              "Bandwidth_GB_Year       0\n",
              "Timely_response         0\n",
              "Timely_fixes            0\n",
              "Timely_replacements     0\n",
              "Reliability             0\n",
              "Options                 0\n",
              "Respectful_response     0\n",
              "Courteous_staff         0\n",
              "Active_listeners        0\n",
              "dtype: int64"
            ]
          },
          "metadata": {},
          "execution_count": 5
        }
      ],
      "source": [
        "# Search for null values\n",
        "\n",
        "data.isnull().sum()\n"
      ]
    },
    {
      "cell_type": "code",
      "execution_count": null,
      "id": "8ac183a9-569d-4811-9306-ae9c7978bf47",
      "metadata": {
        "colab": {
          "base_uri": "https://localhost:8080/"
        },
        "id": "8ac183a9-569d-4811-9306-ae9c7978bf47",
        "outputId": "129945d1-8153-4715-ca3a-1fefd6edcf71"
      },
      "outputs": [
        {
          "name": "stdout",
          "output_type": "stream",
          "text": [
            "<class 'pandas.core.frame.DataFrame'>\n",
            "RangeIndex: 10000 entries, 0 to 9999\n",
            "Data columns (total 50 columns):\n",
            " #   Column                Non-Null Count  Dtype  \n",
            "---  ------                --------------  -----  \n",
            " 0   CaseOrder             10000 non-null  int64  \n",
            " 1   Customer_id           10000 non-null  object \n",
            " 2   Interaction           10000 non-null  object \n",
            " 3   UID                   10000 non-null  object \n",
            " 4   City                  10000 non-null  object \n",
            " 5   State                 10000 non-null  object \n",
            " 6   County                10000 non-null  object \n",
            " 7   Zip                   10000 non-null  int64  \n",
            " 8   Lat                   10000 non-null  float64\n",
            " 9   Lng                   10000 non-null  float64\n",
            " 10  Population            10000 non-null  int64  \n",
            " 11  Area                  10000 non-null  object \n",
            " 12  TimeZone              10000 non-null  object \n",
            " 13  Job                   10000 non-null  object \n",
            " 14  Children              10000 non-null  int64  \n",
            " 15  Age                   10000 non-null  int64  \n",
            " 16  Income                10000 non-null  float64\n",
            " 17  Marital               10000 non-null  object \n",
            " 18  Gender                10000 non-null  object \n",
            " 19  Churn                 10000 non-null  object \n",
            " 20  Outage_sec_perweek    10000 non-null  float64\n",
            " 21  Email                 10000 non-null  int64  \n",
            " 22  Contacts              10000 non-null  int64  \n",
            " 23  Yearly_equip_failure  10000 non-null  int64  \n",
            " 24  Techie                10000 non-null  object \n",
            " 25  Contract              10000 non-null  object \n",
            " 26  Port_modem            10000 non-null  object \n",
            " 27  Tablet                10000 non-null  object \n",
            " 28  InternetService       10000 non-null  object \n",
            " 29  Phone                 10000 non-null  object \n",
            " 30  Multiple              10000 non-null  object \n",
            " 31  OnlineSecurity        10000 non-null  object \n",
            " 32  OnlineBackup          10000 non-null  object \n",
            " 33  DeviceProtection      10000 non-null  object \n",
            " 34  TechSupport           10000 non-null  object \n",
            " 35  StreamingTV           10000 non-null  object \n",
            " 36  StreamingMovies       10000 non-null  object \n",
            " 37  PaperlessBilling      10000 non-null  object \n",
            " 38  PaymentMethod         10000 non-null  object \n",
            " 39  Tenure                10000 non-null  float64\n",
            " 40  MonthlyCharge         10000 non-null  float64\n",
            " 41  Bandwidth_GB_Year     10000 non-null  float64\n",
            " 42  Timely_response       10000 non-null  int64  \n",
            " 43  Timely_fixes          10000 non-null  int64  \n",
            " 44  Timely_replacements   10000 non-null  int64  \n",
            " 45  Reliability           10000 non-null  int64  \n",
            " 46  Options               10000 non-null  int64  \n",
            " 47  Respectful_response   10000 non-null  int64  \n",
            " 48  Courteous_staff       10000 non-null  int64  \n",
            " 49  Active_listeners      10000 non-null  int64  \n",
            "dtypes: float64(7), int64(16), object(27)\n",
            "memory usage: 3.8+ MB\n"
          ]
        }
      ],
      "source": [
        "# Explore data types, identify target variables\n",
        "# Search df info\n",
        "\n",
        "data.info()"
      ]
    },
    {
      "cell_type": "code",
      "execution_count": null,
      "id": "hNgcqQNhTzRS",
      "metadata": {
        "colab": {
          "base_uri": "https://localhost:8080/"
        },
        "id": "hNgcqQNhTzRS",
        "outputId": "0f78e3c4-e9ff-4514-db0b-ce6e307e8031"
      },
      "outputs": [
        {
          "name": "stdout",
          "output_type": "stream",
          "text": [
            "<class 'pandas.core.frame.DataFrame'>\n",
            "RangeIndex: 10000 entries, 0 to 9999\n",
            "Data columns (total 6 columns):\n",
            " #   Column             Non-Null Count  Dtype  \n",
            "---  ------             --------------  -----  \n",
            " 0   Age                10000 non-null  int64  \n",
            " 1   Children           10000 non-null  int64  \n",
            " 2   Income             10000 non-null  float64\n",
            " 3   MonthlyCharge      10000 non-null  float64\n",
            " 4   Bandwidth_GB_Year  10000 non-null  float64\n",
            " 5   Tenure             10000 non-null  float64\n",
            "dtypes: float64(4), int64(2)\n",
            "memory usage: 468.9 KB\n"
          ]
        }
      ],
      "source": [
        "# What features are most common for patients who churn vs. remain loyal?\n",
        "# CONTINUOUS/DISCRETE numerical -- age, children, income, monthly charges, bandwidth/gb/year, tenure\n",
        "\n",
        "t1 = data[['Age', 'Children', 'Income', 'MonthlyCharge', 'Bandwidth_GB_Year', 'Tenure']]\n",
        "\n",
        "# View new df\n",
        "\n",
        "t1.info()\n"
      ]
    },
    {
      "cell_type": "code",
      "execution_count": null,
      "id": "RzYsAVYpRZGO",
      "metadata": {
        "colab": {
          "base_uri": "https://localhost:8080/",
          "height": 300
        },
        "id": "RzYsAVYpRZGO",
        "outputId": "509c1844-b13d-43f3-a8ff-05bc9272b380"
      },
      "outputs": [
        {
          "data": {
            "text/html": [
              "<div>\n",
              "<style scoped>\n",
              "    .dataframe tbody tr th:only-of-type {\n",
              "        vertical-align: middle;\n",
              "    }\n",
              "\n",
              "    .dataframe tbody tr th {\n",
              "        vertical-align: top;\n",
              "    }\n",
              "\n",
              "    .dataframe thead th {\n",
              "        text-align: right;\n",
              "    }\n",
              "</style>\n",
              "<table border=\"1\" class=\"dataframe\">\n",
              "  <thead>\n",
              "    <tr style=\"text-align: right;\">\n",
              "      <th></th>\n",
              "      <th>Age</th>\n",
              "      <th>Children</th>\n",
              "      <th>Income</th>\n",
              "      <th>MonthlyCharge</th>\n",
              "      <th>Bandwidth_GB_Year</th>\n",
              "      <th>Tenure</th>\n",
              "    </tr>\n",
              "  </thead>\n",
              "  <tbody>\n",
              "    <tr>\n",
              "      <th>count</th>\n",
              "      <td>10000.000000</td>\n",
              "      <td>10000.0000</td>\n",
              "      <td>10000.000000</td>\n",
              "      <td>10000.000000</td>\n",
              "      <td>10000.000000</td>\n",
              "      <td>10000.000000</td>\n",
              "    </tr>\n",
              "    <tr>\n",
              "      <th>mean</th>\n",
              "      <td>53.078400</td>\n",
              "      <td>2.0877</td>\n",
              "      <td>39806.926771</td>\n",
              "      <td>172.624816</td>\n",
              "      <td>3392.341550</td>\n",
              "      <td>34.526188</td>\n",
              "    </tr>\n",
              "    <tr>\n",
              "      <th>std</th>\n",
              "      <td>20.698882</td>\n",
              "      <td>2.1472</td>\n",
              "      <td>28199.916702</td>\n",
              "      <td>42.943094</td>\n",
              "      <td>2185.294852</td>\n",
              "      <td>26.443063</td>\n",
              "    </tr>\n",
              "    <tr>\n",
              "      <th>min</th>\n",
              "      <td>18.000000</td>\n",
              "      <td>0.0000</td>\n",
              "      <td>348.670000</td>\n",
              "      <td>79.978860</td>\n",
              "      <td>155.506715</td>\n",
              "      <td>1.000259</td>\n",
              "    </tr>\n",
              "    <tr>\n",
              "      <th>25%</th>\n",
              "      <td>35.000000</td>\n",
              "      <td>0.0000</td>\n",
              "      <td>19224.717500</td>\n",
              "      <td>139.979239</td>\n",
              "      <td>1236.470827</td>\n",
              "      <td>7.917694</td>\n",
              "    </tr>\n",
              "    <tr>\n",
              "      <th>50%</th>\n",
              "      <td>53.000000</td>\n",
              "      <td>1.0000</td>\n",
              "      <td>33170.605000</td>\n",
              "      <td>167.484700</td>\n",
              "      <td>3279.536903</td>\n",
              "      <td>35.430507</td>\n",
              "    </tr>\n",
              "    <tr>\n",
              "      <th>75%</th>\n",
              "      <td>71.000000</td>\n",
              "      <td>3.0000</td>\n",
              "      <td>53246.170000</td>\n",
              "      <td>200.734725</td>\n",
              "      <td>5586.141370</td>\n",
              "      <td>61.479795</td>\n",
              "    </tr>\n",
              "    <tr>\n",
              "      <th>max</th>\n",
              "      <td>89.000000</td>\n",
              "      <td>10.0000</td>\n",
              "      <td>258900.700000</td>\n",
              "      <td>290.160419</td>\n",
              "      <td>7158.981530</td>\n",
              "      <td>71.999280</td>\n",
              "    </tr>\n",
              "  </tbody>\n",
              "</table>\n",
              "</div>"
            ],
            "text/plain": [
              "                Age    Children         Income  MonthlyCharge  \\\n",
              "count  10000.000000  10000.0000   10000.000000   10000.000000   \n",
              "mean      53.078400      2.0877   39806.926771     172.624816   \n",
              "std       20.698882      2.1472   28199.916702      42.943094   \n",
              "min       18.000000      0.0000     348.670000      79.978860   \n",
              "25%       35.000000      0.0000   19224.717500     139.979239   \n",
              "50%       53.000000      1.0000   33170.605000     167.484700   \n",
              "75%       71.000000      3.0000   53246.170000     200.734725   \n",
              "max       89.000000     10.0000  258900.700000     290.160419   \n",
              "\n",
              "       Bandwidth_GB_Year        Tenure  \n",
              "count       10000.000000  10000.000000  \n",
              "mean         3392.341550     34.526188  \n",
              "std          2185.294852     26.443063  \n",
              "min           155.506715      1.000259  \n",
              "25%          1236.470827      7.917694  \n",
              "50%          3279.536903     35.430507  \n",
              "75%          5586.141370     61.479795  \n",
              "max          7158.981530     71.999280  "
            ]
          },
          "execution_count": 8,
          "metadata": {},
          "output_type": "execute_result"
        }
      ],
      "source": [
        "# View summary statistics - data to be scaled using standard scaler\n",
        "t1.describe()\n"
      ]
    },
    {
      "cell_type": "code",
      "execution_count": null,
      "id": "m0yyVfvpVyHm",
      "metadata": {
        "id": "m0yyVfvpVyHm"
      },
      "outputs": [],
      "source": [
        "# Create copy of t1 for k-means analysis\n",
        "df_km = t1.copy(deep = True)\n",
        "\n",
        "# View first three rows to confirm\n",
        "df_km.head(3)\n",
        "\n",
        "# Export dataframe used for analysis to csv file\n",
        "df_km.to_csv(r'C:\\\\Users\\\\andrew\\\\Desktop\\\\WGU_MSDA\\\\D212_Data_Mining_II\\\\PA\\\\Task_1\\\\df_km_clean_data_set.csv')\n"
      ]
    },
    {
      "cell_type": "code",
      "execution_count": null,
      "id": "Yi_4NzT1RGh6",
      "metadata": {
        "colab": {
          "base_uri": "https://localhost:8080/"
        },
        "id": "Yi_4NzT1RGh6",
        "outputId": "99679fa0-923f-482a-eb7d-a7db6eedf9dc"
      },
      "outputs": [
        {
          "data": {
            "text/plain": [
              "array([[ 0.72092524, -0.97233791, -0.39877774, -0.00394256, -1.13848703,\n",
              "        -1.04874621],\n",
              "       [-1.25995716, -0.50659192, -0.64195445,  1.6303259 , -1.18587584,\n",
              "        -1.26200116],\n",
              "       [-0.14873045,  0.89064606, -1.07088496, -0.29522482, -0.61213775,\n",
              "        -0.7099398 ]])"
            ]
          },
          "execution_count": 10,
          "metadata": {},
          "output_type": "execute_result"
        }
      ],
      "source": [
        "# Instantiate standard scaler\n",
        "scaler = StandardScaler()\n",
        "\n",
        "# Scale data for optimal cluster analysis\n",
        "scaled_opt = scaler.fit_transform(df_km)\n",
        "\n",
        "# View array of scaled data --- first three values\n",
        "scaled_opt[:3]"
      ]
    },
    {
      "cell_type": "code",
      "execution_count": null,
      "id": "NSbsMQmwarT9",
      "metadata": {
        "id": "NSbsMQmwarT9"
      },
      "outputs": [],
      "source": [
        "# Find optimal number of clusters\n",
        "# Use Elbow method identifying upto 9 clusters\n",
        "# Optimal number determined by \"elbow\" in plot\n",
        "\n",
        "# Define Cluster range and empty list of inertia values\n",
        "cluster = range(1, 10)\n",
        "inertia_value = []\n",
        "\n",
        "# Create loop to iterate number of clusters 1-9\n",
        "for k in cluster:\n",
        "  km = KMeans(n_clusters = k, init = 'k-means++', n_init = 1, random_state = 61)\n",
        "  km.fit(scaled_opt)\n",
        "  inertia_value.append(km.inertia_)\n"
      ]
    },
    {
      "cell_type": "code",
      "execution_count": null,
      "id": "NgCsQPZueQ5J",
      "metadata": {
        "colab": {
          "base_uri": "https://localhost:8080/",
          "height": 472
        },
        "id": "NgCsQPZueQ5J",
        "outputId": "afa822a5-7636-4b12-ba8e-d84d7f49775b"
      },
      "outputs": [
        {
          "data": {
            "image/png": "[encoded data removed]",
            "text/plain": [
              "<Figure size 432x288 with 1 Axes>"
            ]
          },
          "metadata": {
            "needs_background": "light"
          },
          "output_type": "display_data"
        }
      ],
      "source": [
        "# Elbow Plot of optimal clusters\n",
        "plt.plot(cluster, inertia_value, '-o')\n",
        "plt.title(\"Optimal number of Clusters --- SCALED\")\n",
        "plt.xlabel(\"Number of Clusters, k\")\n",
        "plt.ylabel(\"Inertia Value\")\n",
        "plt.xticks(cluster)\n",
        "plt.show()"
      ]
    },
    {
      "cell_type": "code",
      "execution_count": null,
      "id": "4YoOomxymZZP",
      "metadata": {
        "id": "4YoOomxymZZP"
      },
      "outputs": [],
      "source": [
        "# Elbow plot unclear if 2, 3, or 4 clusters are optimal\n",
        "# Assess values of \"k\" using Silhouette Method\n",
        "# SOURCE --- (Banerji, 2023)\n",
        "\n",
        "#create loop for silhouette scores\n",
        "clusters = range(2, 10)\n",
        "silhouette_scores = []\n",
        "\n",
        "for k in clusters:\n",
        " kmeans = KMeans(n_clusters = k, init = 'k-means++', n_init = 1, random_state = 61)\n",
        " kmeans.fit_transform(scaled_opt)\n",
        " labels = kmeans.labels_\n",
        " silhouette_scores.append(silhouette_score(scaled_opt, labels))\n"
      ]
    },
    {
      "cell_type": "code",
      "execution_count": null,
      "id": "AeBA8FLVnghG",
      "metadata": {
        "colab": {
          "base_uri": "https://localhost:8080/",
          "height": 472
        },
        "id": "AeBA8FLVnghG",
        "outputId": "f66ba11b-1202-4d8f-acac-a111915e8e47"
      },
      "outputs": [
        {
          "data": {
            "image/png": "[encoded data removed]",
            "text/plain": [
              "<Figure size 432x288 with 1 Axes>"
            ]
          },
          "metadata": {
            "needs_background": "light"
          },
          "output_type": "display_data"
        }
      ],
      "source": [
        "# plot silhouette scores\n",
        "plt.plot(clusters, silhouette_scores, '-o')\n",
        "plt.xlabel(\"Values of K\")\n",
        "plt.ylabel(\"Silhouette score\")\n",
        "plt.title(\"Silhouette analysis For Optimal k\")\n",
        "plt.show()"
      ]
    },
    {
      "cell_type": "code",
      "execution_count": null,
      "id": "l1sEjC8PiqlJ",
      "metadata": {
        "colab": {
          "base_uri": "https://localhost:8080/"
        },
        "id": "l1sEjC8PiqlJ",
        "outputId": "1d2ae80f-d525-4f30-ffec-aed34bcdb9e2"
      },
      "outputs": [
        {
          "name": "stdout",
          "output_type": "stream",
          "text": [
            "For n_clusters = 2 The average silhouette_score is : 0.302\n",
            "For n_clusters = 3 The average silhouette_score is : 0.223\n",
            "For n_clusters = 4 The average silhouette_score is : 0.179\n",
            "For n_clusters = 5 The average silhouette_score is : 0.173\n",
            "For n_clusters = 6 The average silhouette_score is : 0.19\n",
            "For n_clusters = 7 The average silhouette_score is : 0.202\n",
            "For n_clusters = 8 The average silhouette_score is : 0.205\n",
            "For n_clusters = 9 The average silhouette_score is : 0.199\n"
          ]
        }
      ],
      "source": [
        "# Silhouette Score Values\n",
        "# SOURCE --- (Scikit-learn, n.d)\n",
        "clusters = range(2, 10)\n",
        "\n",
        "for k in clusters:\n",
        "   kmeans = KMeans(n_clusters = k, init = 'k-means++', n_init = 1, random_state = 61)\n",
        "   labels = kmeans.fit_predict(scaled_opt)\n",
        "   sil_score = silhouette_score(scaled_opt, labels)\n",
        "   print(\"For n_clusters =\", k, \"The average silhouette_score is :\", round(sil_score, 3))"
      ]
    },
    {
      "cell_type": "code",
      "execution_count": null,
      "id": "dARhIlJedzPJ",
      "metadata": {
        "id": "dARhIlJedzPJ"
      },
      "outputs": [],
      "source": [
        "# Optimal number of clusters confirmed to be 2, with the highest silhouette score\n",
        "# 2 clusters has silhouette score of 0.302\n",
        "# Define clusters as 2\n",
        "\n",
        "from sklearn.cluster import KMeans\n",
        "from sklearn.preprocessing import StandardScaler\n",
        "from sklearn.pipeline import make_pipeline\n",
        "\n",
        "# Instantiate scaler and define k-means model with number of clusters = 2\n",
        "scaler = StandardScaler()\n",
        "km_model = KMeans(n_clusters = 2, init = 'k-means++', n_init = 1, random_state = 61)\n",
        "\n",
        "# Create pipeline\n",
        "pipeline = make_pipeline(scaler, km_model)\n"
      ]
    },
    {
      "cell_type": "code",
      "execution_count": null,
      "id": "x_9uDJs5dP9q",
      "metadata": {
        "id": "x_9uDJs5dP9q"
      },
      "outputs": [],
      "source": [
        "# Fit the pipeline to df_km\n",
        "pipeline.fit(df_km)\n",
        "\n",
        "# Identify Labels\n",
        "labels = pipeline.predict(df_km)"
      ]
    },
    {
      "cell_type": "code",
      "execution_count": null,
      "id": "ZTq5Qfoz_LpU",
      "metadata": {
        "colab": {
          "base_uri": "https://localhost:8080/"
        },
        "id": "ZTq5Qfoz_LpU",
        "outputId": "19fe8f0a-9797-41e0-ffbf-9a9bc8876b00"
      },
      "outputs": [
        {
          "data": {
            "text/plain": [
              "array([0, 0, 0, ..., 1, 1, 1])"
            ]
          },
          "execution_count": 18,
          "metadata": {},
          "output_type": "execute_result"
        }
      ],
      "source": [
        "# Confrim array of label clusters\n",
        "labels"
      ]
    },
    {
      "cell_type": "code",
      "execution_count": null,
      "id": "pkKM9dpcWSYL",
      "metadata": {
        "id": "pkKM9dpcWSYL"
      },
      "outputs": [],
      "source": [
        "# Create new dataframe from original df to add cluster labels\n",
        "\n",
        "results = df_km.copy(deep = True)\n",
        "\n",
        "# Add cluster labels back to df with readmissions included for comparison of features\n",
        "# Add labels to km results df\n",
        "results['clusters'] = labels\n"
      ]
    },
    {
      "cell_type": "code",
      "execution_count": null,
      "id": "HFMGQeuJWSbO",
      "metadata": {
        "colab": {
          "base_uri": "https://localhost:8080/",
          "height": 143
        },
        "id": "HFMGQeuJWSbO",
        "outputId": "895baa24-2684-4c03-9c3d-477f0c2477ab"
      },
      "outputs": [
        {
          "data": {
            "text/html": [
              "<div>\n",
              "<style scoped>\n",
              "    .dataframe tbody tr th:only-of-type {\n",
              "        vertical-align: middle;\n",
              "    }\n",
              "\n",
              "    .dataframe tbody tr th {\n",
              "        vertical-align: top;\n",
              "    }\n",
              "\n",
              "    .dataframe thead th {\n",
              "        text-align: right;\n",
              "    }\n",
              "</style>\n",
              "<table border=\"1\" class=\"dataframe\">\n",
              "  <thead>\n",
              "    <tr style=\"text-align: right;\">\n",
              "      <th></th>\n",
              "      <th>Age</th>\n",
              "      <th>Children</th>\n",
              "      <th>Income</th>\n",
              "      <th>MonthlyCharge</th>\n",
              "      <th>Bandwidth_GB_Year</th>\n",
              "      <th>Tenure</th>\n",
              "      <th>clusters</th>\n",
              "    </tr>\n",
              "  </thead>\n",
              "  <tbody>\n",
              "    <tr>\n",
              "      <th>0</th>\n",
              "      <td>68</td>\n",
              "      <td>0</td>\n",
              "      <td>28561.99</td>\n",
              "      <td>172.455519</td>\n",
              "      <td>904.536110</td>\n",
              "      <td>6.795513</td>\n",
              "      <td>0</td>\n",
              "    </tr>\n",
              "    <tr>\n",
              "      <th>1</th>\n",
              "      <td>27</td>\n",
              "      <td>1</td>\n",
              "      <td>21704.77</td>\n",
              "      <td>242.632554</td>\n",
              "      <td>800.982766</td>\n",
              "      <td>1.156681</td>\n",
              "      <td>0</td>\n",
              "    </tr>\n",
              "    <tr>\n",
              "      <th>2</th>\n",
              "      <td>50</td>\n",
              "      <td>4</td>\n",
              "      <td>9609.57</td>\n",
              "      <td>159.947583</td>\n",
              "      <td>2054.706961</td>\n",
              "      <td>15.754144</td>\n",
              "      <td>0</td>\n",
              "    </tr>\n",
              "  </tbody>\n",
              "</table>\n",
              "</div>"
            ],
            "text/plain": [
              "   Age  Children    Income  MonthlyCharge  Bandwidth_GB_Year     Tenure  \\\n",
              "0   68         0  28561.99     172.455519         904.536110   6.795513   \n",
              "1   27         1  21704.77     242.632554         800.982766   1.156681   \n",
              "2   50         4   9609.57     159.947583        2054.706961  15.754144   \n",
              "\n",
              "   clusters  \n",
              "0         0  \n",
              "1         0  \n",
              "2         0  "
            ]
          },
          "execution_count": 20,
          "metadata": {},
          "output_type": "execute_result"
        }
      ],
      "source": [
        "# View results dataframe\n",
        "results.head(3)"
      ]
    },
    {
      "cell_type": "code",
      "execution_count": null,
      "id": "XDoVDkcGUNWF",
      "metadata": {
        "colab": {
          "base_uri": "https://localhost:8080/"
        },
        "id": "XDoVDkcGUNWF",
        "outputId": "d29954c9-7d97-4cfc-ea27-d08abd5cf19e"
      },
      "outputs": [
        {
          "data": {
            "text/plain": [
              "0    5002\n",
              "1    4998\n",
              "Name: clusters, dtype: int64"
            ]
          },
          "execution_count": 21,
          "metadata": {},
          "output_type": "execute_result"
        }
      ],
      "source": [
        "# View value counts of cluster analysis\n",
        "results['clusters'].value_counts()"
      ]
    },
    {
      "cell_type": "code",
      "execution_count": null,
      "id": "AqeV2Mk-ljJi",
      "metadata": {
        "colab": {
          "base_uri": "https://localhost:8080/"
        },
        "id": "AqeV2Mk-ljJi",
        "outputId": "6a167c8d-8010-4b0e-9e76-b02c193e0eca"
      },
      "outputs": [
        {
          "name": "stdout",
          "output_type": "stream",
          "text": [
            "For the 2-cluster k-means model, the Silhouette Score is:  0.302\n"
          ]
        }
      ],
      "source": [
        "# Analyze k-means cluster model\n",
        "scaler = StandardScaler()\n",
        "km_model = KMeans(n_clusters = 2, init = 'k-means++', n_init = 1, random_state = 61)\n",
        "X = scaler.fit_transform(df_km)\n",
        "labels = km_model.fit_predict(X)\n",
        "\n",
        "\n",
        "# The silhouette_score gives the average value for all the samples.\n",
        "# This gives a perspective into the density and separation of the formed clusters\n",
        "silhouette_avg = silhouette_score(X, labels, metric = 'euclidean')\n",
        "print(\"For the 2-cluster k-means model, the Silhouette Score is: \", round(silhouette_avg, 3))"
      ]
    },
    {
      "cell_type": "code",
      "execution_count": null,
      "id": "59578538-2023-40c0-a745-305b27f016c1",
      "metadata": {
        "id": "59578538-2023-40c0-a745-305b27f016c1",
        "outputId": "160d626c-ceca-4d0c-b4b9-2af1fb1370f1"
      },
      "outputs": [
        {
          "data": {
            "text/html": [
              "<div>\n",
              "<style scoped>\n",
              "    .dataframe tbody tr th:only-of-type {\n",
              "        vertical-align: middle;\n",
              "    }\n",
              "\n",
              "    .dataframe tbody tr th {\n",
              "        vertical-align: top;\n",
              "    }\n",
              "\n",
              "    .dataframe thead th {\n",
              "        text-align: right;\n",
              "    }\n",
              "</style>\n",
              "<table border=\"1\" class=\"dataframe\">\n",
              "  <thead>\n",
              "    <tr style=\"text-align: right;\">\n",
              "      <th></th>\n",
              "      <th>Age</th>\n",
              "      <th>Children</th>\n",
              "      <th>Income</th>\n",
              "      <th>MonthlyCharge</th>\n",
              "      <th>Bandwidth_GB_Year</th>\n",
              "      <th>Tenure</th>\n",
              "      <th>clusters</th>\n",
              "    </tr>\n",
              "  </thead>\n",
              "  <tbody>\n",
              "    <tr>\n",
              "      <th>count</th>\n",
              "      <td>10000.000000</td>\n",
              "      <td>10000.0000</td>\n",
              "      <td>10000.000000</td>\n",
              "      <td>10000.000000</td>\n",
              "      <td>10000.000000</td>\n",
              "      <td>10000.000000</td>\n",
              "      <td>10000.000000</td>\n",
              "    </tr>\n",
              "    <tr>\n",
              "      <th>mean</th>\n",
              "      <td>53.078400</td>\n",
              "      <td>2.0877</td>\n",
              "      <td>39806.926771</td>\n",
              "      <td>172.624816</td>\n",
              "      <td>3392.341550</td>\n",
              "      <td>34.526188</td>\n",
              "      <td>0.499800</td>\n",
              "    </tr>\n",
              "    <tr>\n",
              "      <th>std</th>\n",
              "      <td>20.698882</td>\n",
              "      <td>2.1472</td>\n",
              "      <td>28199.916702</td>\n",
              "      <td>42.943094</td>\n",
              "      <td>2185.294852</td>\n",
              "      <td>26.443063</td>\n",
              "      <td>0.500025</td>\n",
              "    </tr>\n",
              "    <tr>\n",
              "      <th>min</th>\n",
              "      <td>18.000000</td>\n",
              "      <td>0.0000</td>\n",
              "      <td>348.670000</td>\n",
              "      <td>79.978860</td>\n",
              "      <td>155.506715</td>\n",
              "      <td>1.000259</td>\n",
              "      <td>0.000000</td>\n",
              "    </tr>\n",
              "    <tr>\n",
              "      <th>25%</th>\n",
              "      <td>35.000000</td>\n",
              "      <td>0.0000</td>\n",
              "      <td>19224.717500</td>\n",
              "      <td>139.979239</td>\n",
              "      <td>1236.470827</td>\n",
              "      <td>7.917694</td>\n",
              "      <td>0.000000</td>\n",
              "    </tr>\n",
              "    <tr>\n",
              "      <th>50%</th>\n",
              "      <td>53.000000</td>\n",
              "      <td>1.0000</td>\n",
              "      <td>33170.605000</td>\n",
              "      <td>167.484700</td>\n",
              "      <td>3279.536903</td>\n",
              "      <td>35.430507</td>\n",
              "      <td>0.000000</td>\n",
              "    </tr>\n",
              "    <tr>\n",
              "      <th>75%</th>\n",
              "      <td>71.000000</td>\n",
              "      <td>3.0000</td>\n",
              "      <td>53246.170000</td>\n",
              "      <td>200.734725</td>\n",
              "      <td>5586.141370</td>\n",
              "      <td>61.479795</td>\n",
              "      <td>1.000000</td>\n",
              "    </tr>\n",
              "    <tr>\n",
              "      <th>max</th>\n",
              "      <td>89.000000</td>\n",
              "      <td>10.0000</td>\n",
              "      <td>258900.700000</td>\n",
              "      <td>290.160419</td>\n",
              "      <td>7158.981530</td>\n",
              "      <td>71.999280</td>\n",
              "      <td>1.000000</td>\n",
              "    </tr>\n",
              "  </tbody>\n",
              "</table>\n",
              "</div>"
            ],
            "text/plain": [
              "                Age    Children         Income  MonthlyCharge  \\\n",
              "count  10000.000000  10000.0000   10000.000000   10000.000000   \n",
              "mean      53.078400      2.0877   39806.926771     172.624816   \n",
              "std       20.698882      2.1472   28199.916702      42.943094   \n",
              "min       18.000000      0.0000     348.670000      79.978860   \n",
              "25%       35.000000      0.0000   19224.717500     139.979239   \n",
              "50%       53.000000      1.0000   33170.605000     167.484700   \n",
              "75%       71.000000      3.0000   53246.170000     200.734725   \n",
              "max       89.000000     10.0000  258900.700000     290.160419   \n",
              "\n",
              "       Bandwidth_GB_Year        Tenure      clusters  \n",
              "count       10000.000000  10000.000000  10000.000000  \n",
              "mean         3392.341550     34.526188      0.499800  \n",
              "std          2185.294852     26.443063      0.500025  \n",
              "min           155.506715      1.000259      0.000000  \n",
              "25%          1236.470827      7.917694      0.000000  \n",
              "50%          3279.536903     35.430507      0.000000  \n",
              "75%          5586.141370     61.479795      1.000000  \n",
              "max          7158.981530     71.999280      1.000000  "
            ]
          },
          "execution_count": 23,
          "metadata": {},
          "output_type": "execute_result"
        }
      ],
      "source": [
        "results.describe()"
      ]
    },
    {
      "cell_type": "code",
      "execution_count": null,
      "id": "c61fab90-3141-4aa0-bef2-7d9be055e535",
      "metadata": {
        "id": "c61fab90-3141-4aa0-bef2-7d9be055e535",
        "outputId": "6c74a998-8f37-4077-f610-45e27e658722"
      },
      "outputs": [
        {
          "data": {
            "image/png": "[encoded data removed]",
            "text/plain": [
              "<Figure size 1152x1440 with 6 Axes>"
            ]
          },
          "metadata": {
            "needs_background": "light"
          },
          "output_type": "display_data"
        }
      ],
      "source": [
        "# Histogram plot loop of variables selected for k-means analysis\n",
        "results_hist = results[['Age', 'Children', 'Income', 'MonthlyCharge', 'Bandwidth_GB_Year', 'Tenure']]\n",
        "fig_hist = plt.figure(figsize=(16, 20))\n",
        "clusters = results['clusters']\n",
        "\n",
        "for i, col in enumerate(results_hist):\n",
        "\n",
        "    ax = fig_hist.add_subplot(3, 3, i+1)\n",
        "\n",
        "    sns.histplot(x = results[col], ax = ax, hue = clusters )\n",
        "    plt.xticks(rotation = 45)\n",
        "    fig_hist.tight_layout();"
      ]
    },
    {
      "cell_type": "code",
      "execution_count": null,
      "id": "d391068e-6181-4313-af20-dad435aa1265",
      "metadata": {
        "id": "d391068e-6181-4313-af20-dad435aa1265",
        "outputId": "01b321b7-e88a-44ec-d8a8-1f29661935af"
      },
      "outputs": [
        {
          "data": {
            "image/png": "[encoded data removed]",
            "text/plain": [
              "<Figure size 432x288 with 1 Axes>"
            ]
          },
          "metadata": {
            "needs_background": "light"
          },
          "output_type": "display_data"
        }
      ],
      "source": [
        "# Closer look at Bandwidth and cluster placement\n",
        "sns.histplot(x = 'Bandwidth_GB_Year', hue = 'clusters', data = results)\n",
        "plt.title(\"Cluster Placement of Bandwidth (gigabytes/year)\");"
      ]
    },
    {
      "cell_type": "code",
      "execution_count": null,
      "id": "33c7edf5-eb82-4fc1-9049-bb92479eafd1",
      "metadata": {
        "id": "33c7edf5-eb82-4fc1-9049-bb92479eafd1",
        "outputId": "78af5c0a-94ba-4995-ba20-159984055452"
      },
      "outputs": [
        {
          "data": {
            "image/png": "[encoded data removed]",
            "text/plain": [
              "<Figure size 432x288 with 1 Axes>"
            ]
          },
          "metadata": {
            "needs_background": "light"
          },
          "output_type": "display_data"
        }
      ],
      "source": [
        "# Closer look at Tenure and cluster placement\n",
        "sns.histplot(x = 'Tenure', hue = 'clusters', data = results)\n",
        "plt.title(\"Cluster Placement of Tenure\");"
      ]
    },
    {
      "cell_type": "code",
      "execution_count": null,
      "id": "4MO2pnuWTx5i",
      "metadata": {
        "id": "4MO2pnuWTx5i"
      },
      "outputs": [],
      "source": [
        "# Cluster analysis\n",
        "cluster_0 = results[results['clusters'] == 0]\n",
        "cluster_1 = results[results['clusters'] == 1]\n"
      ]
    },
    {
      "cell_type": "code",
      "execution_count": null,
      "id": "IiDwKf2AUQGq",
      "metadata": {
        "colab": {
          "base_uri": "https://localhost:8080/",
          "height": 300
        },
        "id": "IiDwKf2AUQGq",
        "outputId": "57924f4d-0038-4638-9f94-c591147db449"
      },
      "outputs": [
        {
          "data": {
            "text/html": [
              "<div>\n",
              "<style scoped>\n",
              "    .dataframe tbody tr th:only-of-type {\n",
              "        vertical-align: middle;\n",
              "    }\n",
              "\n",
              "    .dataframe tbody tr th {\n",
              "        vertical-align: top;\n",
              "    }\n",
              "\n",
              "    .dataframe thead th {\n",
              "        text-align: right;\n",
              "    }\n",
              "</style>\n",
              "<table border=\"1\" class=\"dataframe\">\n",
              "  <thead>\n",
              "    <tr style=\"text-align: right;\">\n",
              "      <th></th>\n",
              "      <th>Age</th>\n",
              "      <th>Children</th>\n",
              "      <th>Income</th>\n",
              "      <th>MonthlyCharge</th>\n",
              "      <th>Bandwidth_GB_Year</th>\n",
              "      <th>Tenure</th>\n",
              "      <th>clusters</th>\n",
              "    </tr>\n",
              "  </thead>\n",
              "  <tbody>\n",
              "    <tr>\n",
              "      <th>count</th>\n",
              "      <td>5002.000000</td>\n",
              "      <td>5002.000000</td>\n",
              "      <td>5002.000000</td>\n",
              "      <td>5002.000000</td>\n",
              "      <td>5002.000000</td>\n",
              "      <td>5002.000000</td>\n",
              "      <td>5002.0</td>\n",
              "    </tr>\n",
              "    <tr>\n",
              "      <th>mean</th>\n",
              "      <td>52.680928</td>\n",
              "      <td>2.094962</td>\n",
              "      <td>39742.893623</td>\n",
              "      <td>172.717941</td>\n",
              "      <td>1312.667000</td>\n",
              "      <td>9.139358</td>\n",
              "      <td>0.0</td>\n",
              "    </tr>\n",
              "    <tr>\n",
              "      <th>std</th>\n",
              "      <td>20.697432</td>\n",
              "      <td>2.154495</td>\n",
              "      <td>28030.075671</td>\n",
              "      <td>42.879005</td>\n",
              "      <td>573.211784</td>\n",
              "      <td>6.049647</td>\n",
              "      <td>0.0</td>\n",
              "    </tr>\n",
              "    <tr>\n",
              "      <th>min</th>\n",
              "      <td>18.000000</td>\n",
              "      <td>0.000000</td>\n",
              "      <td>348.670000</td>\n",
              "      <td>79.978860</td>\n",
              "      <td>155.506715</td>\n",
              "      <td>1.000259</td>\n",
              "      <td>0.0</td>\n",
              "    </tr>\n",
              "    <tr>\n",
              "      <th>25%</th>\n",
              "      <td>35.000000</td>\n",
              "      <td>0.000000</td>\n",
              "      <td>19287.632500</td>\n",
              "      <td>139.981600</td>\n",
              "      <td>886.340948</td>\n",
              "      <td>4.333129</td>\n",
              "      <td>0.0</td>\n",
              "    </tr>\n",
              "    <tr>\n",
              "      <th>50%</th>\n",
              "      <td>52.000000</td>\n",
              "      <td>1.000000</td>\n",
              "      <td>33385.635000</td>\n",
              "      <td>169.937800</td>\n",
              "      <td>1236.830103</td>\n",
              "      <td>7.918159</td>\n",
              "      <td>0.0</td>\n",
              "    </tr>\n",
              "    <tr>\n",
              "      <th>75%</th>\n",
              "      <td>71.000000</td>\n",
              "      <td>3.000000</td>\n",
              "      <td>53519.085000</td>\n",
              "      <td>200.160512</td>\n",
              "      <td>1671.435057</td>\n",
              "      <td>12.574988</td>\n",
              "      <td>0.0</td>\n",
              "    </tr>\n",
              "    <tr>\n",
              "      <th>max</th>\n",
              "      <td>89.000000</td>\n",
              "      <td>10.000000</td>\n",
              "      <td>258900.700000</td>\n",
              "      <td>290.160419</td>\n",
              "      <td>3575.871459</td>\n",
              "      <td>37.119120</td>\n",
              "      <td>0.0</td>\n",
              "    </tr>\n",
              "  </tbody>\n",
              "</table>\n",
              "</div>"
            ],
            "text/plain": [
              "               Age     Children         Income  MonthlyCharge  \\\n",
              "count  5002.000000  5002.000000    5002.000000    5002.000000   \n",
              "mean     52.680928     2.094962   39742.893623     172.717941   \n",
              "std      20.697432     2.154495   28030.075671      42.879005   \n",
              "min      18.000000     0.000000     348.670000      79.978860   \n",
              "25%      35.000000     0.000000   19287.632500     139.981600   \n",
              "50%      52.000000     1.000000   33385.635000     169.937800   \n",
              "75%      71.000000     3.000000   53519.085000     200.160512   \n",
              "max      89.000000    10.000000  258900.700000     290.160419   \n",
              "\n",
              "       Bandwidth_GB_Year       Tenure  clusters  \n",
              "count        5002.000000  5002.000000    5002.0  \n",
              "mean         1312.667000     9.139358       0.0  \n",
              "std           573.211784     6.049647       0.0  \n",
              "min           155.506715     1.000259       0.0  \n",
              "25%           886.340948     4.333129       0.0  \n",
              "50%          1236.830103     7.918159       0.0  \n",
              "75%          1671.435057    12.574988       0.0  \n",
              "max          3575.871459    37.119120       0.0  "
            ]
          },
          "execution_count": 39,
          "metadata": {},
          "output_type": "execute_result"
        }
      ],
      "source": [
        "# Cluster 0 summary statistics\n",
        "cluster_0.describe()\n"
      ]
    },
    {
      "cell_type": "code",
      "execution_count": null,
      "id": "t-ye8IFkm--j",
      "metadata": {
        "colab": {
          "base_uri": "https://localhost:8080/",
          "height": 300
        },
        "id": "t-ye8IFkm--j",
        "outputId": "2202ba0d-c615-4e75-e79d-14d02922b71c"
      },
      "outputs": [
        {
          "data": {
            "text/html": [
              "<div>\n",
              "<style scoped>\n",
              "    .dataframe tbody tr th:only-of-type {\n",
              "        vertical-align: middle;\n",
              "    }\n",
              "\n",
              "    .dataframe tbody tr th {\n",
              "        vertical-align: top;\n",
              "    }\n",
              "\n",
              "    .dataframe thead th {\n",
              "        text-align: right;\n",
              "    }\n",
              "</style>\n",
              "<table border=\"1\" class=\"dataframe\">\n",
              "  <thead>\n",
              "    <tr style=\"text-align: right;\">\n",
              "      <th></th>\n",
              "      <th>Age</th>\n",
              "      <th>Children</th>\n",
              "      <th>Income</th>\n",
              "      <th>MonthlyCharge</th>\n",
              "      <th>Bandwidth_GB_Year</th>\n",
              "      <th>Tenure</th>\n",
              "      <th>clusters</th>\n",
              "    </tr>\n",
              "  </thead>\n",
              "  <tbody>\n",
              "    <tr>\n",
              "      <th>count</th>\n",
              "      <td>4998.00000</td>\n",
              "      <td>4998.000000</td>\n",
              "      <td>4998.000000</td>\n",
              "      <td>4998.000000</td>\n",
              "      <td>4998.000000</td>\n",
              "      <td>4998.000000</td>\n",
              "      <td>4998.0</td>\n",
              "    </tr>\n",
              "    <tr>\n",
              "      <th>mean</th>\n",
              "      <td>53.47619</td>\n",
              "      <td>2.080432</td>\n",
              "      <td>39871.011166</td>\n",
              "      <td>172.531617</td>\n",
              "      <td>5473.680505</td>\n",
              "      <td>59.933335</td>\n",
              "      <td>1.0</td>\n",
              "    </tr>\n",
              "    <tr>\n",
              "      <th>std</th>\n",
              "      <td>20.69476</td>\n",
              "      <td>2.140066</td>\n",
              "      <td>28371.535684</td>\n",
              "      <td>43.011227</td>\n",
              "      <td>751.503936</td>\n",
              "      <td>8.470829</td>\n",
              "      <td>0.0</td>\n",
              "    </tr>\n",
              "    <tr>\n",
              "      <th>min</th>\n",
              "      <td>18.00000</td>\n",
              "      <td>0.000000</td>\n",
              "      <td>643.200000</td>\n",
              "      <td>79.978860</td>\n",
              "      <td>3170.023123</td>\n",
              "      <td>34.807934</td>\n",
              "      <td>1.0</td>\n",
              "    </tr>\n",
              "    <tr>\n",
              "      <th>25%</th>\n",
              "      <td>35.00000</td>\n",
              "      <td>0.000000</td>\n",
              "      <td>19166.002500</td>\n",
              "      <td>139.967800</td>\n",
              "      <td>4967.387548</td>\n",
              "      <td>54.380205</td>\n",
              "      <td>1.0</td>\n",
              "    </tr>\n",
              "    <tr>\n",
              "      <th>50%</th>\n",
              "      <td>53.00000</td>\n",
              "      <td>1.000000</td>\n",
              "      <td>33010.660000</td>\n",
              "      <td>167.456400</td>\n",
              "      <td>5586.594665</td>\n",
              "      <td>61.480545</td>\n",
              "      <td>1.0</td>\n",
              "    </tr>\n",
              "    <tr>\n",
              "      <th>75%</th>\n",
              "      <td>71.00000</td>\n",
              "      <td>3.000000</td>\n",
              "      <td>52997.942500</td>\n",
              "      <td>202.443300</td>\n",
              "      <td>6036.335497</td>\n",
              "      <td>66.858477</td>\n",
              "      <td>1.0</td>\n",
              "    </tr>\n",
              "    <tr>\n",
              "      <th>max</th>\n",
              "      <td>89.00000</td>\n",
              "      <td>10.000000</td>\n",
              "      <td>256998.400000</td>\n",
              "      <td>290.160400</td>\n",
              "      <td>7158.981530</td>\n",
              "      <td>71.999280</td>\n",
              "      <td>1.0</td>\n",
              "    </tr>\n",
              "  </tbody>\n",
              "</table>\n",
              "</div>"
            ],
            "text/plain": [
              "              Age     Children         Income  MonthlyCharge  \\\n",
              "count  4998.00000  4998.000000    4998.000000    4998.000000   \n",
              "mean     53.47619     2.080432   39871.011166     172.531617   \n",
              "std      20.69476     2.140066   28371.535684      43.011227   \n",
              "min      18.00000     0.000000     643.200000      79.978860   \n",
              "25%      35.00000     0.000000   19166.002500     139.967800   \n",
              "50%      53.00000     1.000000   33010.660000     167.456400   \n",
              "75%      71.00000     3.000000   52997.942500     202.443300   \n",
              "max      89.00000    10.000000  256998.400000     290.160400   \n",
              "\n",
              "       Bandwidth_GB_Year       Tenure  clusters  \n",
              "count        4998.000000  4998.000000    4998.0  \n",
              "mean         5473.680505    59.933335       1.0  \n",
              "std           751.503936     8.470829       0.0  \n",
              "min          3170.023123    34.807934       1.0  \n",
              "25%          4967.387548    54.380205       1.0  \n",
              "50%          5586.594665    61.480545       1.0  \n",
              "75%          6036.335497    66.858477       1.0  \n",
              "max          7158.981530    71.999280       1.0  "
            ]
          },
          "execution_count": 40,
          "metadata": {},
          "output_type": "execute_result"
        }
      ],
      "source": [
        "# Cluster 1 summary statistics\n",
        "cluster_1.describe()"
      ]
    },
    {
      "cell_type": "code",
      "execution_count": null,
      "id": "tEUenWnwm_CI",
      "metadata": {
        "colab": {
          "base_uri": "https://localhost:8080/"
        },
        "id": "tEUenWnwm_CI",
        "outputId": "2be8c568-c5d4-4e3d-a04f-26ac757cd9fe"
      },
      "outputs": [
        {
          "name": "stdout",
          "output_type": "stream",
          "text": [
            "Cluster 0\n",
            "       Bandwidth_GB_Year       Tenure\n",
            "count        5002.000000  5002.000000\n",
            "mean         1312.667000     9.139358\n",
            "std           573.211784     6.049647\n",
            "min           155.506715     1.000259\n",
            "25%           886.340948     4.333129\n",
            "50%          1236.830103     7.918159\n",
            "75%          1671.435057    12.574988\n",
            "max          3575.871459    37.119120\n",
            "\n",
            "\n",
            "Cluster 1\n",
            "       Bandwidth_GB_Year       Tenure\n",
            "count        4998.000000  4998.000000\n",
            "mean         5473.680505    59.933335\n",
            "std           751.503936     8.470829\n",
            "min          3170.023123    34.807934\n",
            "25%          4967.387548    54.380205\n",
            "50%          5586.594665    61.480545\n",
            "75%          6036.335497    66.858477\n",
            "max          7158.981530    71.999280\n"
          ]
        }
      ],
      "source": [
        "# Closer look at bandwidth and tenure between clusters 0 and 1\n",
        "print(\"Cluster 0\")\n",
        "print(cluster_0[['Bandwidth_GB_Year', 'Tenure']].describe())\n",
        "print('\\n')\n",
        "print(\"Cluster 1\")\n",
        "print(cluster_1[['Bandwidth_GB_Year', 'Tenure']].describe())"
      ]
    },
    {
      "cell_type": "code",
      "execution_count": null,
      "id": "r2l2sn6K6sUM",
      "metadata": {
        "id": "r2l2sn6K6sUM"
      },
      "outputs": [],
      "source": [
        "# Isolate mean, min, max of bandwidth and tenure from clusters 0 and 1\n",
        "# Cluster 0 bandwidth\n",
        "c0_band_mean = cluster_0['Bandwidth_GB_Year'].mean()\n",
        "c0_band_min = cluster_0['Bandwidth_GB_Year'].min()\n",
        "c0_band_max = cluster_0['Bandwidth_GB_Year'].max()\n",
        "\n",
        "# Cluster 1 bandwidth\n",
        "c1_band_mean = cluster_1['Bandwidth_GB_Year'].mean()\n",
        "c1_band_min = cluster_1['Bandwidth_GB_Year'].min()\n",
        "c1_band_max = cluster_1['Bandwidth_GB_Year'].max()\n",
        "\n",
        "# Cluster 0 tenure\n",
        "c0_tenure_mean = cluster_0['Tenure'].mean()\n",
        "c0_tenure_min = cluster_0['Tenure'].min()\n",
        "c0_tenure_max = cluster_0['Tenure'].max()\n",
        "\n",
        "# Cluster 1 tenure\n",
        "c1_tenure_mean = cluster_1['Tenure'].mean()\n",
        "c1_tenure_min = cluster_1['Tenure'].min()\n",
        "c1_tenure_max = cluster_1['Tenure'].max()"
      ]
    },
    {
      "cell_type": "code",
      "execution_count": null,
      "id": "r43Lu990m_I0",
      "metadata": {
        "id": "r43Lu990m_I0"
      },
      "outputs": [],
      "source": [
        "# Prepare statistics for feature summary\n",
        "dictionary = {'cluster_0' : [c0_band_mean, c0_band_min, c0_band_max, c0_tenure_mean, c0_tenure_min, c0_tenure_max], 'cluster_1' : [c1_band_mean, c1_band_min, c1_band_max, c1_tenure_mean, c1_tenure_min, c1_tenure_max]}\n",
        "\n",
        "# Create dataframe for feature summary\n",
        "feature_summary = pd.DataFrame(data = dictionary, index=['Bandwidth - Mean(avg.)', 'Bandwidth - Min', 'Bandwidth - Maximum', 'Tenure - Mean(avg.)', 'Tenure - Min', 'Tenure - Maximum'])"
      ]
    },
    {
      "cell_type": "code",
      "execution_count": null,
      "id": "CA1MeSEQm_Nc",
      "metadata": {
        "colab": {
          "base_uri": "https://localhost:8080/",
          "height": 237
        },
        "id": "CA1MeSEQm_Nc",
        "outputId": "c7bba9ed-b127-419c-8f86-e45f1928123e"
      },
      "outputs": [
        {
          "data": {
            "text/html": [
              "<div>\n",
              "<style scoped>\n",
              "    .dataframe tbody tr th:only-of-type {\n",
              "        vertical-align: middle;\n",
              "    }\n",
              "\n",
              "    .dataframe tbody tr th {\n",
              "        vertical-align: top;\n",
              "    }\n",
              "\n",
              "    .dataframe thead th {\n",
              "        text-align: right;\n",
              "    }\n",
              "</style>\n",
              "<table border=\"1\" class=\"dataframe\">\n",
              "  <thead>\n",
              "    <tr style=\"text-align: right;\">\n",
              "      <th></th>\n",
              "      <th>cluster_0</th>\n",
              "      <th>cluster_1</th>\n",
              "    </tr>\n",
              "  </thead>\n",
              "  <tbody>\n",
              "    <tr>\n",
              "      <th>Bandwidth - Mean(avg.)</th>\n",
              "      <td>1312.667000</td>\n",
              "      <td>5473.680505</td>\n",
              "    </tr>\n",
              "    <tr>\n",
              "      <th>Bandwidth - Min</th>\n",
              "      <td>155.506715</td>\n",
              "      <td>3170.023123</td>\n",
              "    </tr>\n",
              "    <tr>\n",
              "      <th>Bandwidth - Maximum</th>\n",
              "      <td>3575.871459</td>\n",
              "      <td>7158.981530</td>\n",
              "    </tr>\n",
              "    <tr>\n",
              "      <th>Tenure - Mean(avg.)</th>\n",
              "      <td>9.139358</td>\n",
              "      <td>59.933335</td>\n",
              "    </tr>\n",
              "    <tr>\n",
              "      <th>Tenure - Min</th>\n",
              "      <td>1.000259</td>\n",
              "      <td>34.807934</td>\n",
              "    </tr>\n",
              "    <tr>\n",
              "      <th>Tenure - Maximum</th>\n",
              "      <td>37.119120</td>\n",
              "      <td>71.999280</td>\n",
              "    </tr>\n",
              "  </tbody>\n",
              "</table>\n",
              "</div>"
            ],
            "text/plain": [
              "                          cluster_0    cluster_1\n",
              "Bandwidth - Mean(avg.)  1312.667000  5473.680505\n",
              "Bandwidth - Min          155.506715  3170.023123\n",
              "Bandwidth - Maximum     3575.871459  7158.981530\n",
              "Tenure - Mean(avg.)        9.139358    59.933335\n",
              "Tenure - Min               1.000259    34.807934\n",
              "Tenure - Maximum          37.119120    71.999280"
            ]
          },
          "execution_count": 44,
          "metadata": {},
          "output_type": "execute_result"
        }
      ],
      "source": [
        "# View feature summary\n",
        "feature_summary"
      ]
    },
    {
      "cell_type": "code",
      "execution_count": null,
      "id": "b54165a4-c352-4144-80bd-0480ff52a6b9",
      "metadata": {
        "id": "b54165a4-c352-4144-80bd-0480ff52a6b9"
      },
      "outputs": [],
      "source": []
    }
  ],
  "metadata": {
    "colab": {
      "provenance": [],
      "include_colab_link": true
    },
    "kernelspec": {
      "display_name": "Python 3 (ipykernel)",
      "language": "python",
      "name": "python3"
    },
    "language_info": {
      "codemirror_mode": {
        "name": "ipython",
        "version": 3
      },
      "file_extension": ".py",
      "mimetype": "text/x-python",
      "name": "python",
      "nbconvert_exporter": "python",
      "pygments_lexer": "ipython3",
      "version": "3.9.12"
    }
  },
  "nbformat": 4,
  "nbformat_minor": 5
}