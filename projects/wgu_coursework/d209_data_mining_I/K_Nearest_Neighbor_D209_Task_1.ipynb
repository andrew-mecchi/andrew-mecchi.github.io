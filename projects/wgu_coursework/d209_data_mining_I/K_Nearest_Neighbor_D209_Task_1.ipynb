{
  "cells": [
    {
      "cell_type": "markdown",
      "source": [
        "# K-Nearest Neighbor Classifier Analysis\n",
        "\n",
        "**Project Summary:**\n",
        "The primary goal of the analysis is to design an algorithm using the k-nearest neighbors (KNN) classifier and refine its performance with quantitative metrics suited to improve predictive accuracy. Implementing Select K Best as a feature selection method identifies the most suitable predictive features to include in the model. These selected features build the model and are optimized through hyperparameter analysis using GridSearhCV. The grid search results aid in the design of the final, optimized machine learning model.\n",
        "<br><br>\n",
        "\n",
        "**Research Question:**\n",
        "Can the k-nearest neighbor classifier be used to accurately predict\n",
        "patient Readmissions?\n",
        "<br><br>\n",
        "## **Table of Contents**\n",
        "1. [Importing Dataset](#import-data)\n",
        "\n",
        "2. [Preprocessing](#pre)\n",
        "\n",
        "3. [Model Preperation](#model-prep)\n",
        "\n",
        "4. [Model Refining](#model-tune)\n",
        "\n",
        "5. [KNN Classifier Model](#model)\n",
        "\n",
        "6. [Results](#results)"
      ],
      "metadata": {
        "id": "lT0K-goE4lSX"
      },
      "id": "lT0K-goE4lSX"
    },
    {
      "cell_type": "code",
      "execution_count": null,
      "id": "577bb24c-a6f3-450f-b04a-aac23cfcea21",
      "metadata": {
        "id": "577bb24c-a6f3-450f-b04a-aac23cfcea21"
      },
      "outputs": [],
      "source": [
        "# Import libraries\n",
        "\n",
        "import pandas as pd\n",
        "import numpy as np\n",
        "import matplotlib.pyplot as plt\n",
        "import seaborn as sns\n",
        "import sklearn\n",
        "import scipy.stats as stats"
      ]
    },
    {
      "cell_type": "code",
      "source": [
        "from google.colab import drive\n",
        "drive.mount('/content/drive')"
      ],
      "metadata": {
        "colab": {
          "base_uri": "https://localhost:8080/"
        },
        "id": "EL10YoOY-m5C",
        "outputId": "3c1f89e3-aada-40ca-eb8f-9f337b1dc791"
      },
      "id": "EL10YoOY-m5C",
      "execution_count": null,
      "outputs": [
        {
          "output_type": "stream",
          "name": "stdout",
          "text": [
            "Mounted at /content/drive\n"
          ]
        }
      ]
    },
    {
      "cell_type": "markdown",
      "source": [
        "<a name=\"import-data\"></a>\n",
        "\n",
        "# Import Dataset\n",
        "- Rename itemized features to corresponding names in data dictionary\n",
        "- View first few rows of data\n",
        "- Look for duplicate records\n",
        "- Search for any null values"
      ],
      "metadata": {
        "id": "fWYLCSIr40pb"
      },
      "id": "fWYLCSIr40pb"
    },
    {
      "cell_type": "code",
      "execution_count": null,
      "id": "2ba85b69-e1f3-4af4-8ccd-63914f0235e8",
      "metadata": {
        "colab": {
          "base_uri": "https://localhost:8080/",
          "height": 349
        },
        "id": "2ba85b69-e1f3-4af4-8ccd-63914f0235e8",
        "outputId": "4d96b508-d58b-4ea9-f42f-7c62bb13bcf9"
      },
      "outputs": [
        {
          "output_type": "execute_result",
          "data": {
            "text/plain": [
              "   CaseOrder Customer_id                           Interaction  \\\n",
              "0          1     C412403  8cd49b13-f45a-4b47-a2bd-173ffa932c2f   \n",
              "1          2     Z919181  d2450b70-0337-4406-bdbb-bc1037f1734c   \n",
              "2          3     F995323  a2057123-abf5-4a2c-abad-8ffe33512562   \n",
              "\n",
              "                                UID         City State     County    Zip  \\\n",
              "0  3a83ddb66e2ae73798bdf1d705dc0932          Eva    AL     Morgan  35621   \n",
              "1  176354c5eef714957d486009feabf195     Marianna    FL    Jackson  32446   \n",
              "2  e19a0fa00aeda885b8a436757e889bc9  Sioux Falls    SD  Minnehaha  57110   \n",
              "\n",
              "        Lat       Lng  ...  TotalCharge Additional_charges Timely_admission  \\\n",
              "0  34.34960 -86.72508  ...  3726.702860        17939.40342                3   \n",
              "1  30.84513 -85.22907  ...  4193.190458        17612.99812                3   \n",
              "2  43.54321 -96.63772  ...  2434.234222        17505.19246                2   \n",
              "\n",
              "  Timely_treatment  Timely_visits  Reliability  Options Hours_of_treatment  \\\n",
              "0                3              2            2        4                  3   \n",
              "1                4              3            4        4                  4   \n",
              "2                4              4            4        3                  4   \n",
              "\n",
              "  Courteous_staff Listening_doctor  \n",
              "0               3                4  \n",
              "1               3                3  \n",
              "2               3                3  \n",
              "\n",
              "[3 rows x 50 columns]"
            ],
            "text/html": [
              "\n",
              "  <div id=\"df-bd83b932-ff3e-4b87-bacc-7c18da104ac8\" class=\"colab-df-container\">\n",
              "    <div>\n",
              "<style scoped>\n",
              "    .dataframe tbody tr th:only-of-type {\n",
              "        vertical-align: middle;\n",
              "    }\n",
              "\n",
              "    .dataframe tbody tr th {\n",
              "        vertical-align: top;\n",
              "    }\n",
              "\n",
              "    .dataframe thead th {\n",
              "        text-align: right;\n",
              "    }\n",
              "</style>\n",
              "<table border=\"1\" class=\"dataframe\">\n",
              "  <thead>\n",
              "    <tr style=\"text-align: right;\">\n",
              "      <th></th>\n",
              "      <th>CaseOrder</th>\n",
              "      <th>Customer_id</th>\n",
              "      <th>Interaction</th>\n",
              "      <th>UID</th>\n",
              "      <th>City</th>\n",
              "      <th>State</th>\n",
              "      <th>County</th>\n",
              "      <th>Zip</th>\n",
              "      <th>Lat</th>\n",
              "      <th>Lng</th>\n",
              "      <th>...</th>\n",
              "      <th>TotalCharge</th>\n",
              "      <th>Additional_charges</th>\n",
              "      <th>Timely_admission</th>\n",
              "      <th>Timely_treatment</th>\n",
              "      <th>Timely_visits</th>\n",
              "      <th>Reliability</th>\n",
              "      <th>Options</th>\n",
              "      <th>Hours_of_treatment</th>\n",
              "      <th>Courteous_staff</th>\n",
              "      <th>Listening_doctor</th>\n",
              "    </tr>\n",
              "  </thead>\n",
              "  <tbody>\n",
              "    <tr>\n",
              "      <th>0</th>\n",
              "      <td>1</td>\n",
              "      <td>C412403</td>\n",
              "      <td>8cd49b13-f45a-4b47-a2bd-173ffa932c2f</td>\n",
              "      <td>3a83ddb66e2ae73798bdf1d705dc0932</td>\n",
              "      <td>Eva</td>\n",
              "      <td>AL</td>\n",
              "      <td>Morgan</td>\n",
              "      <td>35621</td>\n",
              "      <td>34.34960</td>\n",
              "      <td>-86.72508</td>\n",
              "      <td>...</td>\n",
              "      <td>3726.702860</td>\n",
              "      <td>17939.40342</td>\n",
              "      <td>3</td>\n",
              "      <td>3</td>\n",
              "      <td>2</td>\n",
              "      <td>2</td>\n",
              "      <td>4</td>\n",
              "      <td>3</td>\n",
              "      <td>3</td>\n",
              "      <td>4</td>\n",
              "    </tr>\n",
              "    <tr>\n",
              "      <th>1</th>\n",
              "      <td>2</td>\n",
              "      <td>Z919181</td>\n",
              "      <td>d2450b70-0337-4406-bdbb-bc1037f1734c</td>\n",
              "      <td>176354c5eef714957d486009feabf195</td>\n",
              "      <td>Marianna</td>\n",
              "      <td>FL</td>\n",
              "      <td>Jackson</td>\n",
              "      <td>32446</td>\n",
              "      <td>30.84513</td>\n",
              "      <td>-85.22907</td>\n",
              "      <td>...</td>\n",
              "      <td>4193.190458</td>\n",
              "      <td>17612.99812</td>\n",
              "      <td>3</td>\n",
              "      <td>4</td>\n",
              "      <td>3</td>\n",
              "      <td>4</td>\n",
              "      <td>4</td>\n",
              "      <td>4</td>\n",
              "      <td>3</td>\n",
              "      <td>3</td>\n",
              "    </tr>\n",
              "    <tr>\n",
              "      <th>2</th>\n",
              "      <td>3</td>\n",
              "      <td>F995323</td>\n",
              "      <td>a2057123-abf5-4a2c-abad-8ffe33512562</td>\n",
              "      <td>e19a0fa00aeda885b8a436757e889bc9</td>\n",
              "      <td>Sioux Falls</td>\n",
              "      <td>SD</td>\n",
              "      <td>Minnehaha</td>\n",
              "      <td>57110</td>\n",
              "      <td>43.54321</td>\n",
              "      <td>-96.63772</td>\n",
              "      <td>...</td>\n",
              "      <td>2434.234222</td>\n",
              "      <td>17505.19246</td>\n",
              "      <td>2</td>\n",
              "      <td>4</td>\n",
              "      <td>4</td>\n",
              "      <td>4</td>\n",
              "      <td>3</td>\n",
              "      <td>4</td>\n",
              "      <td>3</td>\n",
              "      <td>3</td>\n",
              "    </tr>\n",
              "  </tbody>\n",
              "</table>\n",
              "<p>3 rows × 50 columns</p>\n",
              "</div>\n",
              "    <div class=\"colab-df-buttons\">\n",
              "\n",
              "  <div class=\"colab-df-container\">\n",
              "    <button class=\"colab-df-convert\" onclick=\"convertToInteractive('df-bd83b932-ff3e-4b87-bacc-7c18da104ac8')\"\n",
              "            title=\"Convert this dataframe to an interactive table.\"\n",
              "            style=\"display:none;\">\n",
              "\n",
              "  <svg xmlns=\"http://www.w3.org/2000/svg\" height=\"24px\" viewBox=\"0 -960 960 960\">\n",
              "    <path d=\"M120-120v-720h720v720H120Zm60-500h600v-160H180v160Zm220 220h160v-160H400v160Zm0 220h160v-160H400v160ZM180-400h160v-160H180v160Zm440 0h160v-160H620v160ZM180-180h160v-160H180v160Zm440 0h160v-160H620v160Z\"/>\n",
              "  </svg>\n",
              "    </button>\n",
              "\n",
              "  <style>\n",
              "    .colab-df-container {\n",
              "      display:flex;\n",
              "      gap: 12px;\n",
              "    }\n",
              "\n",
              "    .colab-df-convert {\n",
              "      background-color: #E8F0FE;\n",
              "      border: none;\n",
              "      border-radius: 50%;\n",
              "      cursor: pointer;\n",
              "      display: none;\n",
              "      fill: #1967D2;\n",
              "      height: 32px;\n",
              "      padding: 0 0 0 0;\n",
              "      width: 32px;\n",
              "    }\n",
              "\n",
              "    .colab-df-convert:hover {\n",
              "      background-color: #E2EBFA;\n",
              "      box-shadow: 0px 1px 2px rgba(60, 64, 67, 0.3), 0px 1px 3px 1px rgba(60, 64, 67, 0.15);\n",
              "      fill: #174EA6;\n",
              "    }\n",
              "\n",
              "    .colab-df-buttons div {\n",
              "      margin-bottom: 4px;\n",
              "    }\n",
              "\n",
              "    [theme=dark] .colab-df-convert {\n",
              "      background-color: #3B4455;\n",
              "      fill: #D2E3FC;\n",
              "    }\n",
              "\n",
              "    [theme=dark] .colab-df-convert:hover {\n",
              "      background-color: #434B5C;\n",
              "      box-shadow: 0px 1px 3px 1px rgba(0, 0, 0, 0.15);\n",
              "      filter: drop-shadow(0px 1px 2px rgba(0, 0, 0, 0.3));\n",
              "      fill: #FFFFFF;\n",
              "    }\n",
              "  </style>\n",
              "\n",
              "    <script>\n",
              "      const buttonEl =\n",
              "        document.querySelector('#df-bd83b932-ff3e-4b87-bacc-7c18da104ac8 button.colab-df-convert');\n",
              "      buttonEl.style.display =\n",
              "        google.colab.kernel.accessAllowed ? 'block' : 'none';\n",
              "\n",
              "      async function convertToInteractive(key) {\n",
              "        const element = document.querySelector('#df-bd83b932-ff3e-4b87-bacc-7c18da104ac8');\n",
              "        const dataTable =\n",
              "          await google.colab.kernel.invokeFunction('convertToInteractive',\n",
              "                                                    [key], {});\n",
              "        if (!dataTable) return;\n",
              "\n",
              "        const docLinkHtml = 'Like what you see? Visit the ' +\n",
              "          '<a target=\"_blank\" href=https://colab.research.google.com/notebooks/data_table.ipynb>data table notebook</a>'\n",
              "          + ' to learn more about interactive tables.';\n",
              "        element.innerHTML = '';\n",
              "        dataTable['output_type'] = 'display_data';\n",
              "        await google.colab.output.renderOutput(dataTable, element);\n",
              "        const docLink = document.createElement('div');\n",
              "        docLink.innerHTML = docLinkHtml;\n",
              "        element.appendChild(docLink);\n",
              "      }\n",
              "    </script>\n",
              "  </div>\n",
              "\n",
              "\n",
              "<div id=\"df-8cac5323-419a-4935-8101-b391e6a5efc9\">\n",
              "  <button class=\"colab-df-quickchart\" onclick=\"quickchart('df-8cac5323-419a-4935-8101-b391e6a5efc9')\"\n",
              "            title=\"Suggest charts\"\n",
              "            style=\"display:none;\">\n",
              "\n",
              "<svg xmlns=\"http://www.w3.org/2000/svg\" height=\"24px\"viewBox=\"0 0 24 24\"\n",
              "     width=\"24px\">\n",
              "    <g>\n",
              "        <path d=\"M19 3H5c-1.1 0-2 .9-2 2v14c0 1.1.9 2 2 2h14c1.1 0 2-.9 2-2V5c0-1.1-.9-2-2-2zM9 17H7v-7h2v7zm4 0h-2V7h2v10zm4 0h-2v-4h2v4z\"/>\n",
              "    </g>\n",
              "</svg>\n",
              "  </button>\n",
              "\n",
              "<style>\n",
              "  .colab-df-quickchart {\n",
              "      --bg-color: #E8F0FE;\n",
              "      --fill-color: #1967D2;\n",
              "      --hover-bg-color: #E2EBFA;\n",
              "      --hover-fill-color: #174EA6;\n",
              "      --disabled-fill-color: #AAA;\n",
              "      --disabled-bg-color: #DDD;\n",
              "  }\n",
              "\n",
              "  [theme=dark] .colab-df-quickchart {\n",
              "      --bg-color: #3B4455;\n",
              "      --fill-color: #D2E3FC;\n",
              "      --hover-bg-color: #434B5C;\n",
              "      --hover-fill-color: #FFFFFF;\n",
              "      --disabled-bg-color: #3B4455;\n",
              "      --disabled-fill-color: #666;\n",
              "  }\n",
              "\n",
              "  .colab-df-quickchart {\n",
              "    background-color: var(--bg-color);\n",
              "    border: none;\n",
              "    border-radius: 50%;\n",
              "    cursor: pointer;\n",
              "    display: none;\n",
              "    fill: var(--fill-color);\n",
              "    height: 32px;\n",
              "    padding: 0;\n",
              "    width: 32px;\n",
              "  }\n",
              "\n",
              "  .colab-df-quickchart:hover {\n",
              "    background-color: var(--hover-bg-color);\n",
              "    box-shadow: 0 1px 2px rgba(60, 64, 67, 0.3), 0 1px 3px 1px rgba(60, 64, 67, 0.15);\n",
              "    fill: var(--button-hover-fill-color);\n",
              "  }\n",
              "\n",
              "  .colab-df-quickchart-complete:disabled,\n",
              "  .colab-df-quickchart-complete:disabled:hover {\n",
              "    background-color: var(--disabled-bg-color);\n",
              "    fill: var(--disabled-fill-color);\n",
              "    box-shadow: none;\n",
              "  }\n",
              "\n",
              "  .colab-df-spinner {\n",
              "    border: 2px solid var(--fill-color);\n",
              "    border-color: transparent;\n",
              "    border-bottom-color: var(--fill-color);\n",
              "    animation:\n",
              "      spin 1s steps(1) infinite;\n",
              "  }\n",
              "\n",
              "  @keyframes spin {\n",
              "    0% {\n",
              "      border-color: transparent;\n",
              "      border-bottom-color: var(--fill-color);\n",
              "      border-left-color: var(--fill-color);\n",
              "    }\n",
              "    20% {\n",
              "      border-color: transparent;\n",
              "      border-left-color: var(--fill-color);\n",
              "      border-top-color: var(--fill-color);\n",
              "    }\n",
              "    30% {\n",
              "      border-color: transparent;\n",
              "      border-left-color: var(--fill-color);\n",
              "      border-top-color: var(--fill-color);\n",
              "      border-right-color: var(--fill-color);\n",
              "    }\n",
              "    40% {\n",
              "      border-color: transparent;\n",
              "      border-right-color: var(--fill-color);\n",
              "      border-top-color: var(--fill-color);\n",
              "    }\n",
              "    60% {\n",
              "      border-color: transparent;\n",
              "      border-right-color: var(--fill-color);\n",
              "    }\n",
              "    80% {\n",
              "      border-color: transparent;\n",
              "      border-right-color: var(--fill-color);\n",
              "      border-bottom-color: var(--fill-color);\n",
              "    }\n",
              "    90% {\n",
              "      border-color: transparent;\n",
              "      border-bottom-color: var(--fill-color);\n",
              "    }\n",
              "  }\n",
              "</style>\n",
              "\n",
              "  <script>\n",
              "    async function quickchart(key) {\n",
              "      const quickchartButtonEl =\n",
              "        document.querySelector('#' + key + ' button');\n",
              "      quickchartButtonEl.disabled = true;  // To prevent multiple clicks.\n",
              "      quickchartButtonEl.classList.add('colab-df-spinner');\n",
              "      try {\n",
              "        const charts = await google.colab.kernel.invokeFunction(\n",
              "            'suggestCharts', [key], {});\n",
              "      } catch (error) {\n",
              "        console.error('Error during call to suggestCharts:', error);\n",
              "      }\n",
              "      quickchartButtonEl.classList.remove('colab-df-spinner');\n",
              "      quickchartButtonEl.classList.add('colab-df-quickchart-complete');\n",
              "    }\n",
              "    (() => {\n",
              "      let quickchartButtonEl =\n",
              "        document.querySelector('#df-8cac5323-419a-4935-8101-b391e6a5efc9 button');\n",
              "      quickchartButtonEl.style.display =\n",
              "        google.colab.kernel.accessAllowed ? 'block' : 'none';\n",
              "    })();\n",
              "  </script>\n",
              "</div>\n",
              "\n",
              "    </div>\n",
              "  </div>\n"
            ],
            "application/vnd.google.colaboratory.intrinsic+json": {
              "type": "dataframe",
              "variable_name": "data"
            }
          },
          "metadata": {},
          "execution_count": 3
        }
      ],
      "source": [
        "# Upload CSV file and create backup\n",
        "\n",
        "data = pd.read_csv(r'/content/drive/MyDrive/data_files/medical_clean_d207_8_9.csv')\n",
        "data_backup = data\n",
        "\n",
        "# Rename Item columns to represent their corresponding survey category\n",
        "data.rename(columns = {'Item1':'Timely_admission',\n",
        "                       'Item2': 'Timely_treatment',\n",
        "                       'Item3':'Timely_visits',\n",
        "                       'Item4':'Reliability',\n",
        "                       'Item5':'Options',\n",
        "                       'Item6':'Hours_of_treatment',\n",
        "                       'Item7':'Courteous_staff',\n",
        "                       'Item8':'Listening_doctor'}, inplace = True)\n",
        "\n",
        "\n",
        "# View first 3 rows of dataframe\n",
        "data.head(3)\n"
      ]
    },
    {
      "cell_type": "code",
      "execution_count": null,
      "id": "4642d134-ba1d-4a80-82b7-0a15e7b0c50b",
      "metadata": {
        "colab": {
          "base_uri": "https://localhost:8080/"
        },
        "id": "4642d134-ba1d-4a80-82b7-0a15e7b0c50b",
        "outputId": "2e568f9d-8b57-494a-c43f-a0b26ce9807f"
      },
      "outputs": [
        {
          "data": {
            "text/plain": [
              "False    10000\n",
              "Name: Customer_id, dtype: int64"
            ]
          },
          "execution_count": 196,
          "metadata": {},
          "output_type": "execute_result"
        }
      ],
      "source": [
        "# Explore data before preping for predictive modeling\n",
        "# Confirm no duplicate entries for data by checking for unique patient ids\n",
        "\n",
        "data['Customer_id'].duplicated().value_counts()"
      ]
    },
    {
      "cell_type": "code",
      "execution_count": null,
      "id": "36c638c1-3515-49c5-867a-d30672a8c3cc",
      "metadata": {
        "colab": {
          "base_uri": "https://localhost:8080/"
        },
        "id": "36c638c1-3515-49c5-867a-d30672a8c3cc",
        "outputId": "a7b0840f-ee25-49ff-e56e-abfd1632cacd"
      },
      "outputs": [
        {
          "data": {
            "text/plain": [
              "CaseOrder             0\n",
              "Customer_id           0\n",
              "Interaction           0\n",
              "UID                   0\n",
              "City                  0\n",
              "State                 0\n",
              "County                0\n",
              "Zip                   0\n",
              "Lat                   0\n",
              "Lng                   0\n",
              "Population            0\n",
              "Area                  0\n",
              "TimeZone              0\n",
              "Job                   0\n",
              "Children              0\n",
              "Age                   0\n",
              "Income                0\n",
              "Marital               0\n",
              "Gender                0\n",
              "ReAdmis               0\n",
              "VitD_levels           0\n",
              "Doc_visits            0\n",
              "Full_meals_eaten      0\n",
              "vitD_supp             0\n",
              "Soft_drink            0\n",
              "Initial_admin         0\n",
              "HighBlood             0\n",
              "Stroke                0\n",
              "Complication_risk     0\n",
              "Overweight            0\n",
              "Arthritis             0\n",
              "Diabetes              0\n",
              "Hyperlipidemia        0\n",
              "BackPain              0\n",
              "Anxiety               0\n",
              "Allergic_rhinitis     0\n",
              "Reflux_esophagitis    0\n",
              "Asthma                0\n",
              "Services              0\n",
              "Initial_days          0\n",
              "TotalCharge           0\n",
              "Additional_charges    0\n",
              "Timely_admission      0\n",
              "Timely_treatment      0\n",
              "Timely_visits         0\n",
              "Reliability           0\n",
              "Options               0\n",
              "Hours_of_treatment    0\n",
              "Courteous_staff       0\n",
              "Listening_doctor      0\n",
              "dtype: int64"
            ]
          },
          "execution_count": 197,
          "metadata": {},
          "output_type": "execute_result"
        }
      ],
      "source": [
        "# Search for null values\n",
        "# Cannot have missing data in KNN analysis\n",
        "\n",
        "data.isnull().sum()"
      ]
    },
    {
      "cell_type": "code",
      "execution_count": null,
      "id": "8ac183a9-569d-4811-9306-ae9c7978bf47",
      "metadata": {
        "colab": {
          "base_uri": "https://localhost:8080/"
        },
        "id": "8ac183a9-569d-4811-9306-ae9c7978bf47",
        "outputId": "edaf3806-d937-4aa7-cbff-9d9437cbc0a4"
      },
      "outputs": [
        {
          "name": "stdout",
          "output_type": "stream",
          "text": [
            "<class 'pandas.core.frame.DataFrame'>\n",
            "RangeIndex: 10000 entries, 0 to 9999\n",
            "Data columns (total 50 columns):\n",
            " #   Column              Non-Null Count  Dtype  \n",
            "---  ------              --------------  -----  \n",
            " 0   CaseOrder           10000 non-null  int64  \n",
            " 1   Customer_id         10000 non-null  object \n",
            " 2   Interaction         10000 non-null  object \n",
            " 3   UID                 10000 non-null  object \n",
            " 4   City                10000 non-null  object \n",
            " 5   State               10000 non-null  object \n",
            " 6   County              10000 non-null  object \n",
            " 7   Zip                 10000 non-null  int64  \n",
            " 8   Lat                 10000 non-null  float64\n",
            " 9   Lng                 10000 non-null  float64\n",
            " 10  Population          10000 non-null  int64  \n",
            " 11  Area                10000 non-null  object \n",
            " 12  TimeZone            10000 non-null  object \n",
            " 13  Job                 10000 non-null  object \n",
            " 14  Children            10000 non-null  int64  \n",
            " 15  Age                 10000 non-null  int64  \n",
            " 16  Income              10000 non-null  float64\n",
            " 17  Marital             10000 non-null  object \n",
            " 18  Gender              10000 non-null  object \n",
            " 19  ReAdmis             10000 non-null  object \n",
            " 20  VitD_levels         10000 non-null  float64\n",
            " 21  Doc_visits          10000 non-null  int64  \n",
            " 22  Full_meals_eaten    10000 non-null  int64  \n",
            " 23  vitD_supp           10000 non-null  int64  \n",
            " 24  Soft_drink          10000 non-null  object \n",
            " 25  Initial_admin       10000 non-null  object \n",
            " 26  HighBlood           10000 non-null  object \n",
            " 27  Stroke              10000 non-null  object \n",
            " 28  Complication_risk   10000 non-null  object \n",
            " 29  Overweight          10000 non-null  object \n",
            " 30  Arthritis           10000 non-null  object \n",
            " 31  Diabetes            10000 non-null  object \n",
            " 32  Hyperlipidemia      10000 non-null  object \n",
            " 33  BackPain            10000 non-null  object \n",
            " 34  Anxiety             10000 non-null  object \n",
            " 35  Allergic_rhinitis   10000 non-null  object \n",
            " 36  Reflux_esophagitis  10000 non-null  object \n",
            " 37  Asthma              10000 non-null  object \n",
            " 38  Services            10000 non-null  object \n",
            " 39  Initial_days        10000 non-null  float64\n",
            " 40  TotalCharge         10000 non-null  float64\n",
            " 41  Additional_charges  10000 non-null  float64\n",
            " 42  Timely_admission    10000 non-null  int64  \n",
            " 43  Timely_treatment    10000 non-null  int64  \n",
            " 44  Timely_visits       10000 non-null  int64  \n",
            " 45  Reliability         10000 non-null  int64  \n",
            " 46  Options             10000 non-null  int64  \n",
            " 47  Hours_of_treatment  10000 non-null  int64  \n",
            " 48  Courteous_staff     10000 non-null  int64  \n",
            " 49  Listening_doctor    10000 non-null  int64  \n",
            "dtypes: float64(7), int64(16), object(27)\n",
            "memory usage: 3.8+ MB\n"
          ]
        }
      ],
      "source": [
        "# Explore data types, identify target variable and explanatory variables\n",
        "# Search df info\n",
        "\n",
        "data.info()"
      ]
    },
    {
      "cell_type": "markdown",
      "source": [
        "<a name=\"pre\"></a>\n",
        "# Preprocessing\n",
        "- View summary stastics of numeric and categorical features\n",
        "- Re-express target feature to numeric\n",
        "- Identify statistical outliers\n",
        "  - Z-scores for normal distributions\n",
        "  - Inter-quartile method for positive/negative skewed data\n",
        "- Tedium of outlier removal is intentional as required for assessment"
      ],
      "metadata": {
        "id": "Ne1Aab6_5yVk"
      },
      "id": "Ne1Aab6_5yVk"
    },
    {
      "cell_type": "code",
      "execution_count": null,
      "id": "O4yCVUb-mwXx",
      "metadata": {
        "id": "O4yCVUb-mwXx"
      },
      "outputs": [],
      "source": [
        "# Task 1 dataframe\n",
        "t1 = data.copy(deep = True)\n",
        "\n",
        "# Re-express response variable ReAdmis yes/no to 0/1\n",
        "t1['ReAdmis'].replace(['Yes', 'No'], [1, 0], inplace = True)"
      ]
    },
    {
      "cell_type": "code",
      "execution_count": null,
      "id": "RzYsAVYpRZGO",
      "metadata": {
        "colab": {
          "base_uri": "https://localhost:8080/",
          "height": 394
        },
        "id": "RzYsAVYpRZGO",
        "outputId": "bd2c5640-d25c-4171-b184-454f50d11a76"
      },
      "outputs": [
        {
          "data": {
            "text/html": [
              "<div>\n",
              "<style scoped>\n",
              "    .dataframe tbody tr th:only-of-type {\n",
              "        vertical-align: middle;\n",
              "    }\n",
              "\n",
              "    .dataframe tbody tr th {\n",
              "        vertical-align: top;\n",
              "    }\n",
              "\n",
              "    .dataframe thead th {\n",
              "        text-align: right;\n",
              "    }\n",
              "</style>\n",
              "<table border=\"1\" class=\"dataframe\">\n",
              "  <thead>\n",
              "    <tr style=\"text-align: right;\">\n",
              "      <th></th>\n",
              "      <th>CaseOrder</th>\n",
              "      <th>Zip</th>\n",
              "      <th>Lat</th>\n",
              "      <th>Lng</th>\n",
              "      <th>Population</th>\n",
              "      <th>Children</th>\n",
              "      <th>Age</th>\n",
              "      <th>Income</th>\n",
              "      <th>ReAdmis</th>\n",
              "      <th>VitD_levels</th>\n",
              "      <th>...</th>\n",
              "      <th>TotalCharge</th>\n",
              "      <th>Additional_charges</th>\n",
              "      <th>Timely_admission</th>\n",
              "      <th>Timely_treatment</th>\n",
              "      <th>Timely_visits</th>\n",
              "      <th>Reliability</th>\n",
              "      <th>Options</th>\n",
              "      <th>Hours_of_treatment</th>\n",
              "      <th>Courteous_staff</th>\n",
              "      <th>Listening_doctor</th>\n",
              "    </tr>\n",
              "  </thead>\n",
              "  <tbody>\n",
              "    <tr>\n",
              "      <th>count</th>\n",
              "      <td>10000.00000</td>\n",
              "      <td>10000.000000</td>\n",
              "      <td>10000.000000</td>\n",
              "      <td>10000.000000</td>\n",
              "      <td>10000.000000</td>\n",
              "      <td>10000.000000</td>\n",
              "      <td>10000.000000</td>\n",
              "      <td>10000.000000</td>\n",
              "      <td>10000.000000</td>\n",
              "      <td>10000.000000</td>\n",
              "      <td>...</td>\n",
              "      <td>10000.000000</td>\n",
              "      <td>10000.000000</td>\n",
              "      <td>10000.000000</td>\n",
              "      <td>10000.000000</td>\n",
              "      <td>10000.000000</td>\n",
              "      <td>10000.000000</td>\n",
              "      <td>10000.000000</td>\n",
              "      <td>10000.000000</td>\n",
              "      <td>10000.000000</td>\n",
              "      <td>10000.000000</td>\n",
              "    </tr>\n",
              "    <tr>\n",
              "      <th>mean</th>\n",
              "      <td>5000.50000</td>\n",
              "      <td>50159.323900</td>\n",
              "      <td>38.751099</td>\n",
              "      <td>-91.243080</td>\n",
              "      <td>9965.253800</td>\n",
              "      <td>2.097200</td>\n",
              "      <td>53.511700</td>\n",
              "      <td>40490.495160</td>\n",
              "      <td>0.366900</td>\n",
              "      <td>17.964262</td>\n",
              "      <td>...</td>\n",
              "      <td>5312.172769</td>\n",
              "      <td>12934.528587</td>\n",
              "      <td>3.518800</td>\n",
              "      <td>3.506700</td>\n",
              "      <td>3.511100</td>\n",
              "      <td>3.515100</td>\n",
              "      <td>3.496900</td>\n",
              "      <td>3.522500</td>\n",
              "      <td>3.494000</td>\n",
              "      <td>3.509700</td>\n",
              "    </tr>\n",
              "    <tr>\n",
              "      <th>std</th>\n",
              "      <td>2886.89568</td>\n",
              "      <td>27469.588208</td>\n",
              "      <td>5.403085</td>\n",
              "      <td>15.205998</td>\n",
              "      <td>14824.758614</td>\n",
              "      <td>2.163659</td>\n",
              "      <td>20.638538</td>\n",
              "      <td>28521.153293</td>\n",
              "      <td>0.481983</td>\n",
              "      <td>2.017231</td>\n",
              "      <td>...</td>\n",
              "      <td>2180.393838</td>\n",
              "      <td>6542.601544</td>\n",
              "      <td>1.031966</td>\n",
              "      <td>1.034825</td>\n",
              "      <td>1.032755</td>\n",
              "      <td>1.036282</td>\n",
              "      <td>1.030192</td>\n",
              "      <td>1.032376</td>\n",
              "      <td>1.021405</td>\n",
              "      <td>1.042312</td>\n",
              "    </tr>\n",
              "    <tr>\n",
              "      <th>min</th>\n",
              "      <td>1.00000</td>\n",
              "      <td>610.000000</td>\n",
              "      <td>17.967190</td>\n",
              "      <td>-174.209700</td>\n",
              "      <td>0.000000</td>\n",
              "      <td>0.000000</td>\n",
              "      <td>18.000000</td>\n",
              "      <td>154.080000</td>\n",
              "      <td>0.000000</td>\n",
              "      <td>9.806483</td>\n",
              "      <td>...</td>\n",
              "      <td>1938.312067</td>\n",
              "      <td>3125.703000</td>\n",
              "      <td>1.000000</td>\n",
              "      <td>1.000000</td>\n",
              "      <td>1.000000</td>\n",
              "      <td>1.000000</td>\n",
              "      <td>1.000000</td>\n",
              "      <td>1.000000</td>\n",
              "      <td>1.000000</td>\n",
              "      <td>1.000000</td>\n",
              "    </tr>\n",
              "    <tr>\n",
              "      <th>25%</th>\n",
              "      <td>2500.75000</td>\n",
              "      <td>27592.000000</td>\n",
              "      <td>35.255120</td>\n",
              "      <td>-97.352982</td>\n",
              "      <td>694.750000</td>\n",
              "      <td>0.000000</td>\n",
              "      <td>36.000000</td>\n",
              "      <td>19598.775000</td>\n",
              "      <td>0.000000</td>\n",
              "      <td>16.626439</td>\n",
              "      <td>...</td>\n",
              "      <td>3179.374015</td>\n",
              "      <td>7986.487755</td>\n",
              "      <td>3.000000</td>\n",
              "      <td>3.000000</td>\n",
              "      <td>3.000000</td>\n",
              "      <td>3.000000</td>\n",
              "      <td>3.000000</td>\n",
              "      <td>3.000000</td>\n",
              "      <td>3.000000</td>\n",
              "      <td>3.000000</td>\n",
              "    </tr>\n",
              "    <tr>\n",
              "      <th>50%</th>\n",
              "      <td>5000.50000</td>\n",
              "      <td>50207.000000</td>\n",
              "      <td>39.419355</td>\n",
              "      <td>-88.397230</td>\n",
              "      <td>2769.000000</td>\n",
              "      <td>1.000000</td>\n",
              "      <td>53.000000</td>\n",
              "      <td>33768.420000</td>\n",
              "      <td>0.000000</td>\n",
              "      <td>17.951122</td>\n",
              "      <td>...</td>\n",
              "      <td>5213.952000</td>\n",
              "      <td>11573.977735</td>\n",
              "      <td>4.000000</td>\n",
              "      <td>3.000000</td>\n",
              "      <td>4.000000</td>\n",
              "      <td>4.000000</td>\n",
              "      <td>3.000000</td>\n",
              "      <td>4.000000</td>\n",
              "      <td>3.000000</td>\n",
              "      <td>3.000000</td>\n",
              "    </tr>\n",
              "    <tr>\n",
              "      <th>75%</th>\n",
              "      <td>7500.25000</td>\n",
              "      <td>72411.750000</td>\n",
              "      <td>42.044175</td>\n",
              "      <td>-80.438050</td>\n",
              "      <td>13945.000000</td>\n",
              "      <td>3.000000</td>\n",
              "      <td>71.000000</td>\n",
              "      <td>54296.402500</td>\n",
              "      <td>1.000000</td>\n",
              "      <td>19.347963</td>\n",
              "      <td>...</td>\n",
              "      <td>7459.699750</td>\n",
              "      <td>15626.490000</td>\n",
              "      <td>4.000000</td>\n",
              "      <td>4.000000</td>\n",
              "      <td>4.000000</td>\n",
              "      <td>4.000000</td>\n",
              "      <td>4.000000</td>\n",
              "      <td>4.000000</td>\n",
              "      <td>4.000000</td>\n",
              "      <td>4.000000</td>\n",
              "    </tr>\n",
              "    <tr>\n",
              "      <th>max</th>\n",
              "      <td>10000.00000</td>\n",
              "      <td>99929.000000</td>\n",
              "      <td>70.560990</td>\n",
              "      <td>-65.290170</td>\n",
              "      <td>122814.000000</td>\n",
              "      <td>10.000000</td>\n",
              "      <td>89.000000</td>\n",
              "      <td>207249.100000</td>\n",
              "      <td>1.000000</td>\n",
              "      <td>26.394449</td>\n",
              "      <td>...</td>\n",
              "      <td>9180.728000</td>\n",
              "      <td>30566.070000</td>\n",
              "      <td>8.000000</td>\n",
              "      <td>7.000000</td>\n",
              "      <td>8.000000</td>\n",
              "      <td>7.000000</td>\n",
              "      <td>7.000000</td>\n",
              "      <td>7.000000</td>\n",
              "      <td>7.000000</td>\n",
              "      <td>7.000000</td>\n",
              "    </tr>\n",
              "  </tbody>\n",
              "</table>\n",
              "<p>8 rows × 24 columns</p>\n",
              "</div>"
            ],
            "text/plain": [
              "         CaseOrder           Zip           Lat           Lng     Population  \\\n",
              "count  10000.00000  10000.000000  10000.000000  10000.000000   10000.000000   \n",
              "mean    5000.50000  50159.323900     38.751099    -91.243080    9965.253800   \n",
              "std     2886.89568  27469.588208      5.403085     15.205998   14824.758614   \n",
              "min        1.00000    610.000000     17.967190   -174.209700       0.000000   \n",
              "25%     2500.75000  27592.000000     35.255120    -97.352982     694.750000   \n",
              "50%     5000.50000  50207.000000     39.419355    -88.397230    2769.000000   \n",
              "75%     7500.25000  72411.750000     42.044175    -80.438050   13945.000000   \n",
              "max    10000.00000  99929.000000     70.560990    -65.290170  122814.000000   \n",
              "\n",
              "           Children           Age         Income       ReAdmis   VitD_levels  \\\n",
              "count  10000.000000  10000.000000   10000.000000  10000.000000  10000.000000   \n",
              "mean       2.097200     53.511700   40490.495160      0.366900     17.964262   \n",
              "std        2.163659     20.638538   28521.153293      0.481983      2.017231   \n",
              "min        0.000000     18.000000     154.080000      0.000000      9.806483   \n",
              "25%        0.000000     36.000000   19598.775000      0.000000     16.626439   \n",
              "50%        1.000000     53.000000   33768.420000      0.000000     17.951122   \n",
              "75%        3.000000     71.000000   54296.402500      1.000000     19.347963   \n",
              "max       10.000000     89.000000  207249.100000      1.000000     26.394449   \n",
              "\n",
              "       ...   TotalCharge  Additional_charges  Timely_admission  \\\n",
              "count  ...  10000.000000        10000.000000      10000.000000   \n",
              "mean   ...   5312.172769        12934.528587          3.518800   \n",
              "std    ...   2180.393838         6542.601544          1.031966   \n",
              "min    ...   1938.312067         3125.703000          1.000000   \n",
              "25%    ...   3179.374015         7986.487755          3.000000   \n",
              "50%    ...   5213.952000        11573.977735          4.000000   \n",
              "75%    ...   7459.699750        15626.490000          4.000000   \n",
              "max    ...   9180.728000        30566.070000          8.000000   \n",
              "\n",
              "       Timely_treatment  Timely_visits   Reliability       Options  \\\n",
              "count      10000.000000   10000.000000  10000.000000  10000.000000   \n",
              "mean           3.506700       3.511100      3.515100      3.496900   \n",
              "std            1.034825       1.032755      1.036282      1.030192   \n",
              "min            1.000000       1.000000      1.000000      1.000000   \n",
              "25%            3.000000       3.000000      3.000000      3.000000   \n",
              "50%            3.000000       4.000000      4.000000      3.000000   \n",
              "75%            4.000000       4.000000      4.000000      4.000000   \n",
              "max            7.000000       8.000000      7.000000      7.000000   \n",
              "\n",
              "       Hours_of_treatment  Courteous_staff  Listening_doctor  \n",
              "count        10000.000000     10000.000000      10000.000000  \n",
              "mean             3.522500         3.494000          3.509700  \n",
              "std              1.032376         1.021405          1.042312  \n",
              "min              1.000000         1.000000          1.000000  \n",
              "25%              3.000000         3.000000          3.000000  \n",
              "50%              4.000000         3.000000          3.000000  \n",
              "75%              4.000000         4.000000          4.000000  \n",
              "max              7.000000         7.000000          7.000000  \n",
              "\n",
              "[8 rows x 24 columns]"
            ]
          },
          "execution_count": 200,
          "metadata": {},
          "output_type": "execute_result"
        }
      ],
      "source": [
        "# View summary statistics before selecting variables for model\n",
        "t1.describe()\n",
        "\n",
        "# Numeric data to be cleaned and explored\n",
        "# Features to address --- Initial Days, Total Charge, Additional Charges, Doctor Visits, Vitamin D Levels, Vitamin D Supplements, Full Meals Eaten, Children, Age, Population, Zip\n",
        "# Note: Lat/Lng not to be cleaned due to nature of coordinate data being precise"
      ]
    },
    {
      "cell_type": "code",
      "execution_count": null,
      "id": "vdX24Wv8dA1E",
      "metadata": {
        "colab": {
          "base_uri": "https://localhost:8080/",
          "height": 320
        },
        "id": "vdX24Wv8dA1E",
        "outputId": "fd784699-9c69-405d-8178-171c3358ffcb"
      },
      "outputs": [
        {
          "data": {
            "text/html": [
              "<div>\n",
              "<style scoped>\n",
              "    .dataframe tbody tr th:only-of-type {\n",
              "        vertical-align: middle;\n",
              "    }\n",
              "\n",
              "    .dataframe tbody tr th {\n",
              "        vertical-align: top;\n",
              "    }\n",
              "\n",
              "    .dataframe thead th {\n",
              "        text-align: right;\n",
              "    }\n",
              "</style>\n",
              "<table border=\"1\" class=\"dataframe\">\n",
              "  <thead>\n",
              "    <tr style=\"text-align: right;\">\n",
              "      <th></th>\n",
              "      <th>Customer_id</th>\n",
              "      <th>Interaction</th>\n",
              "      <th>UID</th>\n",
              "      <th>City</th>\n",
              "      <th>State</th>\n",
              "      <th>County</th>\n",
              "      <th>Area</th>\n",
              "      <th>TimeZone</th>\n",
              "      <th>Job</th>\n",
              "      <th>Marital</th>\n",
              "      <th>...</th>\n",
              "      <th>Overweight</th>\n",
              "      <th>Arthritis</th>\n",
              "      <th>Diabetes</th>\n",
              "      <th>Hyperlipidemia</th>\n",
              "      <th>BackPain</th>\n",
              "      <th>Anxiety</th>\n",
              "      <th>Allergic_rhinitis</th>\n",
              "      <th>Reflux_esophagitis</th>\n",
              "      <th>Asthma</th>\n",
              "      <th>Services</th>\n",
              "    </tr>\n",
              "  </thead>\n",
              "  <tbody>\n",
              "    <tr>\n",
              "      <th>count</th>\n",
              "      <td>10000</td>\n",
              "      <td>10000</td>\n",
              "      <td>10000</td>\n",
              "      <td>10000</td>\n",
              "      <td>10000</td>\n",
              "      <td>10000</td>\n",
              "      <td>10000</td>\n",
              "      <td>10000</td>\n",
              "      <td>10000</td>\n",
              "      <td>10000</td>\n",
              "      <td>...</td>\n",
              "      <td>10000</td>\n",
              "      <td>10000</td>\n",
              "      <td>10000</td>\n",
              "      <td>10000</td>\n",
              "      <td>10000</td>\n",
              "      <td>10000</td>\n",
              "      <td>10000</td>\n",
              "      <td>10000</td>\n",
              "      <td>10000</td>\n",
              "      <td>10000</td>\n",
              "    </tr>\n",
              "    <tr>\n",
              "      <th>unique</th>\n",
              "      <td>10000</td>\n",
              "      <td>10000</td>\n",
              "      <td>10000</td>\n",
              "      <td>6072</td>\n",
              "      <td>52</td>\n",
              "      <td>1607</td>\n",
              "      <td>3</td>\n",
              "      <td>26</td>\n",
              "      <td>639</td>\n",
              "      <td>5</td>\n",
              "      <td>...</td>\n",
              "      <td>2</td>\n",
              "      <td>2</td>\n",
              "      <td>2</td>\n",
              "      <td>2</td>\n",
              "      <td>2</td>\n",
              "      <td>2</td>\n",
              "      <td>2</td>\n",
              "      <td>2</td>\n",
              "      <td>2</td>\n",
              "      <td>4</td>\n",
              "    </tr>\n",
              "    <tr>\n",
              "      <th>top</th>\n",
              "      <td>C412403</td>\n",
              "      <td>8cd49b13-f45a-4b47-a2bd-173ffa932c2f</td>\n",
              "      <td>3a83ddb66e2ae73798bdf1d705dc0932</td>\n",
              "      <td>Houston</td>\n",
              "      <td>TX</td>\n",
              "      <td>Jefferson</td>\n",
              "      <td>Rural</td>\n",
              "      <td>America/New_York</td>\n",
              "      <td>Outdoor activities/education manager</td>\n",
              "      <td>Widowed</td>\n",
              "      <td>...</td>\n",
              "      <td>Yes</td>\n",
              "      <td>No</td>\n",
              "      <td>No</td>\n",
              "      <td>No</td>\n",
              "      <td>No</td>\n",
              "      <td>No</td>\n",
              "      <td>No</td>\n",
              "      <td>No</td>\n",
              "      <td>No</td>\n",
              "      <td>Blood Work</td>\n",
              "    </tr>\n",
              "    <tr>\n",
              "      <th>freq</th>\n",
              "      <td>1</td>\n",
              "      <td>1</td>\n",
              "      <td>1</td>\n",
              "      <td>36</td>\n",
              "      <td>553</td>\n",
              "      <td>118</td>\n",
              "      <td>3369</td>\n",
              "      <td>3889</td>\n",
              "      <td>29</td>\n",
              "      <td>2045</td>\n",
              "      <td>...</td>\n",
              "      <td>7094</td>\n",
              "      <td>6426</td>\n",
              "      <td>7262</td>\n",
              "      <td>6628</td>\n",
              "      <td>5886</td>\n",
              "      <td>6785</td>\n",
              "      <td>6059</td>\n",
              "      <td>5865</td>\n",
              "      <td>7107</td>\n",
              "      <td>5265</td>\n",
              "    </tr>\n",
              "  </tbody>\n",
              "</table>\n",
              "<p>4 rows × 26 columns</p>\n",
              "</div>"
            ],
            "text/plain": [
              "       Customer_id                           Interaction  \\\n",
              "count        10000                                 10000   \n",
              "unique       10000                                 10000   \n",
              "top        C412403  8cd49b13-f45a-4b47-a2bd-173ffa932c2f   \n",
              "freq             1                                     1   \n",
              "\n",
              "                                     UID     City  State     County   Area  \\\n",
              "count                              10000    10000  10000      10000  10000   \n",
              "unique                             10000     6072     52       1607      3   \n",
              "top     3a83ddb66e2ae73798bdf1d705dc0932  Houston     TX  Jefferson  Rural   \n",
              "freq                                   1       36    553        118   3369   \n",
              "\n",
              "                TimeZone                                   Job  Marital  ...  \\\n",
              "count              10000                                 10000    10000  ...   \n",
              "unique                26                                   639        5  ...   \n",
              "top     America/New_York  Outdoor activities/education manager  Widowed  ...   \n",
              "freq                3889                                    29     2045  ...   \n",
              "\n",
              "       Overweight Arthritis Diabetes Hyperlipidemia BackPain Anxiety  \\\n",
              "count       10000     10000    10000          10000    10000   10000   \n",
              "unique          2         2        2              2        2       2   \n",
              "top           Yes        No       No             No       No      No   \n",
              "freq         7094      6426     7262           6628     5886    6785   \n",
              "\n",
              "       Allergic_rhinitis Reflux_esophagitis Asthma    Services  \n",
              "count              10000              10000  10000       10000  \n",
              "unique                 2                  2      2           4  \n",
              "top                   No                 No     No  Blood Work  \n",
              "freq                6059               5865   7107        5265  \n",
              "\n",
              "[4 rows x 26 columns]"
            ]
          },
          "execution_count": 201,
          "metadata": {},
          "output_type": "execute_result"
        }
      ],
      "source": [
        "# View summary statistics of categorical data\n",
        "t1.describe(include = 'object')"
      ]
    },
    {
      "cell_type": "code",
      "execution_count": null,
      "id": "10cde5ec-845c-4ef6-8b7a-b03a08aef712",
      "metadata": {
        "colab": {
          "base_uri": "https://localhost:8080/",
          "height": 1000
        },
        "id": "10cde5ec-845c-4ef6-8b7a-b03a08aef712",
        "outputId": "b43ee808-808c-46e6-dd59-dd2c72e4b5c9"
      },
      "outputs": [
        {
          "data": {
            "image/png": "[encoded data removed]",
            "text/plain": [
              "<Figure size 432x288 with 1 Axes>"
            ]
          },
          "metadata": {
            "needs_background": "light"
          },
          "output_type": "display_data"
        },
        {
          "name": "stdout",
          "output_type": "stream",
          "text": [
            "\n",
            " ----------------------------------------------------- \n",
            "\n",
            "count    10000.000000\n",
            "mean        34.455299\n",
            "std         26.309341\n",
            "min          1.001981\n",
            "25%          7.896215\n",
            "50%         35.836244\n",
            "75%         61.161020\n",
            "max         71.981490\n",
            "Name: Initial_days, dtype: float64\n",
            "\n",
            " ----------------------------------------------------- \n",
            "\n"
          ]
        },
        {
          "data": {
            "image/png": "[encoded data removed]",
            "text/plain": [
              "<Figure size 432x288 with 1 Axes>"
            ]
          },
          "metadata": {
            "needs_background": "light"
          },
          "output_type": "display_data"
        }
      ],
      "source": [
        "# Explore Data for cleaning\n",
        "# Start Treatment for Outliers\n",
        "\n",
        "# Initial Days\n",
        "# Detect and treat - Initial_days\n",
        "\n",
        "# Plot histogram of initial days\n",
        "plt.hist(t1['Initial_days'])\n",
        "plt.xlabel(\"Initial_days\")\n",
        "plt.ylabel(\"Frequency\")\n",
        "plt.show()\n",
        "\n",
        "print('\\n ----------------------------------------------------- \\n')\n",
        "\n",
        "# Summary statistics of initial days\n",
        "print(t1['Initial_days'].describe())\n",
        "\n",
        "print('\\n ----------------------------------------------------- \\n')\n",
        "\n",
        "# Plot boxplot of initial days\n",
        "sns.boxplot(x='Initial_days', data = t1);"
      ]
    },
    {
      "cell_type": "code",
      "execution_count": null,
      "id": "91OsOC72ymgq",
      "metadata": {
        "colab": {
          "base_uri": "https://localhost:8080/"
        },
        "id": "91OsOC72ymgq",
        "outputId": "56167a90-cc8f-4191-d1c3-c4d82f48efa2"
      },
      "outputs": [
        {
          "name": "stdout",
          "output_type": "stream",
          "text": [
            "False    10000\n",
            "Name: Initial_days, dtype: int64\n",
            "\n",
            " ---------- \n",
            "\n",
            "False    10000\n",
            "Name: Initial_days, dtype: int64\n"
          ]
        }
      ],
      "source": [
        "# Look for  outliers using z-scores\n",
        "days_z = stats.zscore(t1['Initial_days'])\n",
        "\n",
        "print((days_z > 3).value_counts())\n",
        "print('\\n ---------- \\n')\n",
        "print((days_z < -3).value_counts())"
      ]
    },
    {
      "cell_type": "code",
      "execution_count": null,
      "id": "7ce1acd4-d86b-4e18-b11e-cd49d97ab358",
      "metadata": {
        "colab": {
          "base_uri": "https://localhost:8080/",
          "height": 1000
        },
        "id": "7ce1acd4-d86b-4e18-b11e-cd49d97ab358",
        "outputId": "ba676a6f-3543-4d3b-9292-ffdf11d47532"
      },
      "outputs": [
        {
          "data": {
            "image/png": "[encoded data removed]",
            "text/plain": [
              "<Figure size 432x288 with 1 Axes>"
            ]
          },
          "metadata": {
            "needs_background": "light"
          },
          "output_type": "display_data"
        },
        {
          "name": "stdout",
          "output_type": "stream",
          "text": [
            "\n",
            " ----------------------------------------------------- \n",
            "\n",
            "count    10000.000000\n",
            "mean      5312.172769\n",
            "std       2180.393838\n",
            "min       1938.312067\n",
            "25%       3179.374015\n",
            "50%       5213.952000\n",
            "75%       7459.699750\n",
            "max       9180.728000\n",
            "Name: TotalCharge, dtype: float64\n",
            "\n",
            " ----------------------------------------------------- \n",
            "\n"
          ]
        },
        {
          "data": {
            "image/png": "[encoded data removed]",
            "text/plain": [
              "<Figure size 432x288 with 1 Axes>"
            ]
          },
          "metadata": {
            "needs_background": "light"
          },
          "output_type": "display_data"
        }
      ],
      "source": [
        "# Total Charge\n",
        "# Detect and treat - Total Charge\n",
        "# Plot histogram of Total Charge\n",
        "\n",
        "\n",
        "# Plot histogram of total charge\n",
        "plt.hist(t1['TotalCharge'])\n",
        "plt.xlabel(\"TotalCharge\")\n",
        "plt.ylabel(\"Frequency\")\n",
        "plt.show()\n",
        "\n",
        "print('\\n ----------------------------------------------------- \\n')\n",
        "\n",
        "# Summary statistics of Total Charge\n",
        "print(t1['TotalCharge'].describe())\n",
        "\n",
        "print('\\n ----------------------------------------------------- \\n')\n",
        "\n",
        "# Plot boxplot of Total Charge\n",
        "sns.boxplot(x='TotalCharge', data = t1);"
      ]
    },
    {
      "cell_type": "code",
      "execution_count": null,
      "id": "tfb2HfWMz1B4",
      "metadata": {
        "colab": {
          "base_uri": "https://localhost:8080/"
        },
        "id": "tfb2HfWMz1B4",
        "outputId": "f919d6e5-b787-44a4-956a-6a42165e76e1"
      },
      "outputs": [
        {
          "name": "stdout",
          "output_type": "stream",
          "text": [
            "False    10000\n",
            "Name: TotalCharge, dtype: int64\n",
            "\n",
            " ---------- \n",
            "\n",
            "False    10000\n",
            "Name: TotalCharge, dtype: int64\n"
          ]
        }
      ],
      "source": [
        "# Look for outliers using z-scores\n",
        "totalcharge_z = stats.zscore(t1['TotalCharge'])\n",
        "\n",
        "print((totalcharge_z > 3).value_counts())\n",
        "print('\\n ---------- \\n')\n",
        "print((totalcharge_z < -3).value_counts())"
      ]
    },
    {
      "cell_type": "code",
      "execution_count": null,
      "id": "92f78335-e99a-48e0-918e-8f79c9714923",
      "metadata": {
        "colab": {
          "base_uri": "https://localhost:8080/",
          "height": 1000
        },
        "id": "92f78335-e99a-48e0-918e-8f79c9714923",
        "outputId": "ae65c748-4d06-415d-f2f3-84418174bfda"
      },
      "outputs": [
        {
          "data": {
            "image/png": "[encoded data removed]",
            "text/plain": [
              "<Figure size 432x288 with 1 Axes>"
            ]
          },
          "metadata": {
            "needs_background": "light"
          },
          "output_type": "display_data"
        },
        {
          "name": "stdout",
          "output_type": "stream",
          "text": [
            "\n",
            " ----------------------------------------------------- \n",
            "\n",
            "count    10000.000000\n",
            "mean     12934.528587\n",
            "std       6542.601544\n",
            "min       3125.703000\n",
            "25%       7986.487755\n",
            "50%      11573.977735\n",
            "75%      15626.490000\n",
            "max      30566.070000\n",
            "Name: Additional_charges, dtype: float64\n",
            "\n",
            " ----------------------------------------------------- \n",
            "\n"
          ]
        },
        {
          "data": {
            "image/png": "[encoded data removed]",
            "text/plain": [
              "<Figure size 432x288 with 1 Axes>"
            ]
          },
          "metadata": {
            "needs_background": "light"
          },
          "output_type": "display_data"
        }
      ],
      "source": [
        "# Additional_charges\n",
        "# Detect and treat - Additional Charges\n",
        "# Plot histogram of Additional Charges\n",
        "\n",
        "\n",
        "# Plot histogram of Additional Charges\n",
        "plt.hist(t1['Additional_charges'])\n",
        "plt.xlabel(\"Additional_Charges\")\n",
        "plt.ylabel(\"Frequency\")\n",
        "plt.show()\n",
        "\n",
        "print('\\n ----------------------------------------------------- \\n')\n",
        "\n",
        "# Summary statistics of Additional Charges\n",
        "print(t1['Additional_charges'].describe())\n",
        "\n",
        "print('\\n ----------------------------------------------------- \\n')\n",
        "\n",
        "# Plot boxplot of Additional Charges\n",
        "sns.boxplot(x='Additional_charges', data = t1);\n",
        "\n"
      ]
    },
    {
      "cell_type": "code",
      "execution_count": null,
      "id": "bec02cff-c66a-404a-8f67-daa19b1323a0",
      "metadata": {
        "colab": {
          "base_uri": "https://localhost:8080/"
        },
        "id": "bec02cff-c66a-404a-8f67-daa19b1323a0",
        "outputId": "c8608d6e-f425-4268-e696-17e11c438f57"
      },
      "outputs": [
        {
          "name": "stdout",
          "output_type": "stream",
          "text": [
            "Original Dataframe: 10000\n",
            "Number of Additional Charges Outilers: 424\n",
            "Confirm removal of Additional Charges Outliers: 9576\n"
          ]
        }
      ],
      "source": [
        "# Treat Outliers - Additional Charges\n",
        "# Identify q1, q3, iqr, upper and lower fences\n",
        "q1_add  = t1['Additional_charges'].quantile(0.25)\n",
        "q3_add  = t1['Additional_charges'].quantile(0.75)\n",
        "iqr_add  = q3_add - q1_add\n",
        "\n",
        "upper_add = q3_add + 1.5*iqr_add\n",
        "lower_add = q1_add - 1.5*iqr_add\n",
        "\n",
        "# Subset of Additional Charges outlers\n",
        "Additional_charges_outliers = pd.DataFrame(t1[ (t1['Additional_charges'] >= (upper_add)) | (t1['Additional_charges'] <= (lower_add))])\n",
        "\n",
        "# create new dataframe with removal of outliers\n",
        "# filter dataframe to only include samples within range of fences\n",
        "t1_clean_1 = pd.DataFrame(t1[ (t1['Additional_charges'] < (upper_add)) & (t1['Additional_charges'] > (lower_add))])\n",
        "t1_clean_1.reset_index(drop = True)\n",
        "\n",
        "# Confirm removal of outliers\n",
        "print(\"Original Dataframe: \" + str(t1.shape[0]))\n",
        "print(\"Number of Additional Charges Outilers: \" +str(Additional_charges_outliers.shape[0]))\n",
        "print(\"Confirm removal of Additional Charges Outliers: \" + str(t1_clean_1.shape[0]))"
      ]
    },
    {
      "cell_type": "code",
      "execution_count": null,
      "id": "6568ffb0-9123-4ab4-ad89-26a9d8d468e8",
      "metadata": {
        "colab": {
          "base_uri": "https://localhost:8080/",
          "height": 1000
        },
        "id": "6568ffb0-9123-4ab4-ad89-26a9d8d468e8",
        "outputId": "ce15a214-f94a-4abc-c4eb-ff3b99c04e3c"
      },
      "outputs": [
        {
          "data": {
            "image/png": "[encoded data removed]",
            "text/plain": [
              "<Figure size 432x288 with 1 Axes>"
            ]
          },
          "metadata": {
            "needs_background": "light"
          },
          "output_type": "display_data"
        },
        {
          "name": "stdout",
          "output_type": "stream",
          "text": [
            "\n",
            " ----------------------------------------------------- \n",
            "\n",
            "count    9576.000000\n",
            "mean        5.010547\n",
            "std         1.045389\n",
            "min         1.000000\n",
            "25%         4.000000\n",
            "50%         5.000000\n",
            "75%         6.000000\n",
            "max         9.000000\n",
            "Name: Doc_visits, dtype: float64\n",
            "\n",
            " ----------------------------------------------------- \n",
            "\n"
          ]
        },
        {
          "data": {
            "image/png": "[encoded data removed]",
            "text/plain": [
              "<Figure size 432x288 with 1 Axes>"
            ]
          },
          "metadata": {
            "needs_background": "light"
          },
          "output_type": "display_data"
        }
      ],
      "source": [
        "# Doc_visits\n",
        "# Detect and treat - Doc Visits\n",
        "\n",
        "# Plot histogram of Doc Visits\n",
        "plt.hist(t1_clean_1['Doc_visits'])\n",
        "plt.xlabel(\"Doc_visits\")\n",
        "plt.ylabel(\"Frequency\")\n",
        "plt.show()\n",
        "\n",
        "print('\\n ----------------------------------------------------- \\n')\n",
        "\n",
        "# Summary statistics of Doc Visits\n",
        "print(t1_clean_1['Doc_visits'].describe())\n",
        "\n",
        "print('\\n ----------------------------------------------------- \\n')\n",
        "\n",
        "# Plot boxplot of Doc Visits\n",
        "sns.boxplot(x='Doc_visits', data = t1_clean_1);"
      ]
    },
    {
      "cell_type": "code",
      "execution_count": null,
      "id": "d66cb8a5-166a-42f8-906d-09e7c4ed69b1",
      "metadata": {
        "colab": {
          "base_uri": "https://localhost:8080/"
        },
        "id": "d66cb8a5-166a-42f8-906d-09e7c4ed69b1",
        "outputId": "6e6740ca-fc48-4512-aae6-3a55f0cc1708"
      },
      "outputs": [
        {
          "name": "stdout",
          "output_type": "stream",
          "text": [
            "Current dataframe: 9576\n",
            "Number of Doctor Visit Outliers: 7\n",
            "Confirm removal of Doctor Visit Outilers: 9569\n"
          ]
        }
      ],
      "source": [
        "# Treat outliers - Doctor Vists\n",
        "# Search for outliers on normal distribution using z-scores\n",
        "t1_clean_1['Doc_visits_z'] = stats.zscore(t1_clean_1['Doc_visits'])\n",
        "\n",
        "\n",
        "# Remove outliers --  -3 > df > 3\n",
        "t1_clean_2 = pd.DataFrame(t1_clean_1[ (t1_clean_1['Doc_visits_z'] < 3) & (t1_clean_1['Doc_visits_z'] > -3)])\n",
        "t1_clean_2.reset_index(drop = True)\n",
        "\n",
        "\n",
        "# Subset of Doctor Visits outliers\n",
        "Doc_visits_outliers = pd.DataFrame(t1_clean_1[ (t1_clean_1['Doc_visits_z'] > 3) | (t1_clean_1['Doc_visits_z'] < -3)])\n",
        "\n",
        "\n",
        "# Confirm removal of outliers\n",
        "print(\"Current dataframe: \" + str(t1_clean_1.shape[0]))\n",
        "print(\"Number of Doctor Visit Outliers: \" + str(Doc_visits_outliers.shape[0]))\n",
        "print(\"Confirm removal of Doctor Visit Outilers: \" + str(t1_clean_2.shape[0]))"
      ]
    },
    {
      "cell_type": "code",
      "execution_count": null,
      "id": "b156035a-66cd-40a4-b4c7-a0d0c85a3dbc",
      "metadata": {
        "colab": {
          "base_uri": "https://localhost:8080/",
          "height": 1000
        },
        "id": "b156035a-66cd-40a4-b4c7-a0d0c85a3dbc",
        "outputId": "97332bdc-497b-4902-f7cd-a5b02596bb10"
      },
      "outputs": [
        {
          "data": {
            "image/png": "[encoded data removed]",
            "text/plain": [
              "<Figure size 432x288 with 1 Axes>"
            ]
          },
          "metadata": {
            "needs_background": "light"
          },
          "output_type": "display_data"
        },
        {
          "name": "stdout",
          "output_type": "stream",
          "text": [
            "\n",
            " ----------------------------------------------------- \n",
            "\n",
            "count    9569.000000\n",
            "mean       17.963320\n",
            "std         2.016458\n",
            "min         9.806483\n",
            "25%        16.629982\n",
            "50%        17.946411\n",
            "75%        19.341870\n",
            "max        26.394449\n",
            "Name: VitD_levels, dtype: float64\n",
            "\n",
            " ----------------------------------------------------- \n",
            "\n"
          ]
        },
        {
          "data": {
            "image/png": "[encoded data removed]",
            "text/plain": [
              "<Figure size 432x288 with 1 Axes>"
            ]
          },
          "metadata": {
            "needs_background": "light"
          },
          "output_type": "display_data"
        }
      ],
      "source": [
        "# Vitamin D Levels\n",
        "# Detect and treat - Vitamin D Levels\n",
        "\n",
        "# Plot histogram of Vitamin D Levels\n",
        "plt.hist(t1_clean_2['VitD_levels'])\n",
        "plt.xlabel(\"VitD_levels\")\n",
        "plt.ylabel(\"Frequency\")\n",
        "plt.show()\n",
        "\n",
        "print('\\n ----------------------------------------------------- \\n')\n",
        "\n",
        "# Summary statistics of Vitamin D Levels\n",
        "print(t1_clean_2['VitD_levels'].describe())\n",
        "\n",
        "print('\\n ----------------------------------------------------- \\n')\n",
        "\n",
        "# Plot boxplot of Vitamin D Levels\n",
        "sns.boxplot(x='VitD_levels', data = t1_clean_2);\n",
        "\n",
        "\n",
        "\n",
        "\n"
      ]
    },
    {
      "cell_type": "code",
      "execution_count": null,
      "id": "7690d9b2-50ea-4503-8776-b968f6fe1455",
      "metadata": {
        "colab": {
          "base_uri": "https://localhost:8080/"
        },
        "id": "7690d9b2-50ea-4503-8776-b968f6fe1455",
        "outputId": "6cf16e82-e663-4cfe-d326-55a308d93739"
      },
      "outputs": [
        {
          "name": "stdout",
          "output_type": "stream",
          "text": [
            "Current dataframe: 9569\n",
            "Number of Vitamin D Level Outliers: 24\n",
            "Confirm removal of Vitamin D Level Outliers: 9545\n"
          ]
        }
      ],
      "source": [
        "# Treat outliers - Vitamin D Levels\n",
        "# Search for outliers on normal distribution using z-scores\n",
        "t1_clean_2['VitD_levels_z'] = stats.zscore(t1_clean_2['VitD_levels'])\n",
        "\n",
        "\n",
        "# Subset of Additional Charges outlers\n",
        "VitD_levels_outliers = pd.DataFrame(t1_clean_2[ (t1_clean_2['VitD_levels_z'] > 3) | (t1_clean_2['VitD_levels_z'] < -3)])\n",
        "\n",
        "\n",
        "# Remove outliers --  -3 > df > 3\n",
        "t1_clean_3 = pd.DataFrame(t1_clean_2[ (t1_clean_2['VitD_levels_z'] < 3) & (t1_clean_2['VitD_levels_z'] > -3)])\n",
        "t1_clean_3.reset_index(drop = True)\n",
        "\n",
        "\n",
        "# Confirm removal of outliers\n",
        "print(\"Current dataframe: \" + str(t1_clean_2.shape[0]))\n",
        "print(\"Number of Vitamin D Level Outliers: \" + str(VitD_levels_outliers.shape[0]))\n",
        "print(\"Confirm removal of Vitamin D Level Outliers: \" + str(t1_clean_3.shape[0]))\n"
      ]
    },
    {
      "cell_type": "code",
      "execution_count": null,
      "id": "44a246fa-cf0d-48f8-a82a-501c5d4f4db5",
      "metadata": {
        "colab": {
          "base_uri": "https://localhost:8080/",
          "height": 1000
        },
        "id": "44a246fa-cf0d-48f8-a82a-501c5d4f4db5",
        "outputId": "8eae9929-0361-41da-8159-2916c7bd6470"
      },
      "outputs": [
        {
          "data": {
            "image/png": "[encoded data removed]",
            "text/plain": [
              "<Figure size 432x288 with 1 Axes>"
            ]
          },
          "metadata": {
            "needs_background": "light"
          },
          "output_type": "display_data"
        },
        {
          "name": "stdout",
          "output_type": "stream",
          "text": [
            "\n",
            " ----------------------------------------------------- \n",
            "\n",
            "count    9545.000000\n",
            "mean        0.395495\n",
            "std         0.626831\n",
            "min         0.000000\n",
            "25%         0.000000\n",
            "50%         0.000000\n",
            "75%         1.000000\n",
            "max         5.000000\n",
            "Name: vitD_supp, dtype: float64\n",
            "\n",
            " ----------------------------------------------------- \n",
            "\n"
          ]
        },
        {
          "data": {
            "image/png": "[encoded data removed]",
            "text/plain": [
              "<Figure size 432x288 with 1 Axes>"
            ]
          },
          "metadata": {
            "needs_background": "light"
          },
          "output_type": "display_data"
        }
      ],
      "source": [
        "# Vitamin D Supplement --- df = t1_clean_3\n",
        "# Detect and treat - Vitamin D Supplement\n",
        "\n",
        "# Plot histogram of Vitamin D Supplement\n",
        "plt.hist(t1_clean_3['vitD_supp'])\n",
        "plt.xlabel(\"Vitamin D Supplement(s)\")\n",
        "plt.ylabel(\"Frequency\")\n",
        "plt.show()\n",
        "\n",
        "print('\\n ----------------------------------------------------- \\n')\n",
        "\n",
        "# Summary statistics of Vitamin D Supplement\n",
        "print(t1_clean_3['vitD_supp'].describe())\n",
        "\n",
        "print('\\n ----------------------------------------------------- \\n')\n",
        "\n",
        "# Plot boxplot of Vitamin D Supplement\n",
        "sns.boxplot(x='vitD_supp', data = t1_clean_3);\n",
        "\n"
      ]
    },
    {
      "cell_type": "code",
      "execution_count": null,
      "id": "eef054f7-1044-4574-8347-61af9cd427fc",
      "metadata": {
        "colab": {
          "base_uri": "https://localhost:8080/"
        },
        "id": "eef054f7-1044-4574-8347-61af9cd427fc",
        "outputId": "e23d8850-fa9f-49d6-cc57-05453743ac8e"
      },
      "outputs": [
        {
          "name": "stdout",
          "output_type": "stream",
          "text": [
            "Current dataframe: 9545\n",
            "Number of Vitamin D Supplement Outlers: 68\n",
            "Confirm removal of Vitamin D Supplement Outliers: 9477\n"
          ]
        }
      ],
      "source": [
        "# Treate Outliers - Vitamin D Supplement\n",
        "# Identify q1, q3, iqr, upper and lower fences\n",
        "\n",
        "q1_vitd_supp  = t1_clean_3['vitD_supp'].quantile(0.25)\n",
        "q3_vitd_supp  = t1_clean_3['vitD_supp'].quantile(0.75)\n",
        "iqr_vitd_supp  = q3_vitd_supp - q1_vitd_supp\n",
        "\n",
        "\n",
        "upper_vitd_supp = q3_vitd_supp + 1.5*iqr_vitd_supp\n",
        "lower_vitd_supp = q1_vitd_supp - 1.5*iqr_vitd_supp\n",
        "\n",
        "# Subset of Vitamin D Supplement outliers\n",
        "vitD_supp_outliers = pd.DataFrame(t1_clean_3[ (t1_clean_3['vitD_supp'] >= (upper_vitd_supp)) | (t1_clean_3['vitD_supp'] <= (lower_vitd_supp))])\n",
        "\n",
        "\n",
        "# create new dataframe with removal of outliers\n",
        "# filter dataframe to only include samples within range of fences\n",
        "t1_clean_4 = t1_clean_3[ (t1_clean_3['vitD_supp'] < (upper_vitd_supp)) & (t1_clean_3['vitD_supp'] > (lower_vitd_supp))]\n",
        "t1_clean_4.reset_index(drop = True)\n",
        "\n",
        "\n",
        "# Confirm removal of outliers\n",
        "print(\"Current dataframe: \"+ str(t1_clean_3.shape[0]))\n",
        "print(\"Number of Vitamin D Supplement Outlers: \" + str(vitD_supp_outliers.shape[0]))\n",
        "print(\"Confirm removal of Vitamin D Supplement Outliers: \" + str(t1_clean_4.shape[0]))\n"
      ]
    },
    {
      "cell_type": "code",
      "execution_count": null,
      "id": "9f541892-a15b-4885-84b4-55a658ae2c4a",
      "metadata": {
        "colab": {
          "base_uri": "https://localhost:8080/",
          "height": 1000
        },
        "id": "9f541892-a15b-4885-84b4-55a658ae2c4a",
        "outputId": "c6154874-df1d-4b48-9dbe-cc911276b5ec"
      },
      "outputs": [
        {
          "data": {
            "image/png": "[encoded data removed]",
            "text/plain": [
              "<Figure size 432x288 with 1 Axes>"
            ]
          },
          "metadata": {
            "needs_background": "light"
          },
          "output_type": "display_data"
        },
        {
          "name": "stdout",
          "output_type": "stream",
          "text": [
            "\n",
            " ----------------------------------------------------- \n",
            "\n",
            "count    9477.000000\n",
            "mean        1.001161\n",
            "std         1.007412\n",
            "min         0.000000\n",
            "25%         0.000000\n",
            "50%         1.000000\n",
            "75%         2.000000\n",
            "max         7.000000\n",
            "Name: Full_meals_eaten, dtype: float64\n",
            "\n",
            " ----------------------------------------------------- \n",
            "\n"
          ]
        },
        {
          "data": {
            "image/png": "[encoded data removed]",
            "text/plain": [
              "<Figure size 432x288 with 1 Axes>"
            ]
          },
          "metadata": {
            "needs_background": "light"
          },
          "output_type": "display_data"
        }
      ],
      "source": [
        "# Full Meals Eaten --- t1_clean4 - current df\n",
        "# Detect and treat - Full Meals Eaten\n",
        "\n",
        "\n",
        "# Plot histogram of Full Meals Eaten\n",
        "plt.hist(t1_clean_4['Full_meals_eaten'])\n",
        "plt.xlabel(\"Full Meals Eaten\")\n",
        "plt.ylabel(\"Frequency\")\n",
        "plt.show()\n",
        "\n",
        "print('\\n ----------------------------------------------------- \\n')\n",
        "\n",
        "# Summary statistics of Full Meals Eaten\n",
        "print(t1_clean_4['Full_meals_eaten'].describe())\n",
        "\n",
        "print('\\n ----------------------------------------------------- \\n')\n",
        "\n",
        "# Plot boxplot of Full Meals Eaten\n",
        "sns.boxplot(x='Full_meals_eaten', data = t1_clean_4);"
      ]
    },
    {
      "cell_type": "code",
      "execution_count": null,
      "id": "bd6743a4-3ea7-4e6a-97b7-02991bfeaa9e",
      "metadata": {
        "colab": {
          "base_uri": "https://localhost:8080/"
        },
        "id": "bd6743a4-3ea7-4e6a-97b7-02991bfeaa9e",
        "outputId": "e4c10651-d6d6-404a-f0f7-cd82b3a9b621"
      },
      "outputs": [
        {
          "name": "stdout",
          "output_type": "stream",
          "text": [
            "Current dataframe: 9477\n",
            "Number of Full Meals Eaten Outliers: 31\n",
            "Confirm removal of Full Meals Eaten Outliers: 9446\n"
          ]
        }
      ],
      "source": [
        "# Treat Outliers - Full Meals Eaten\n",
        "\n",
        "# Identify q1, q3, iqr, upper and lower fences\n",
        "\n",
        "q1_full  = t1_clean_4['Full_meals_eaten'].quantile(0.25)\n",
        "q3_full  = t1_clean_4['Full_meals_eaten'].quantile(0.75)\n",
        "iqr_full  = q3_full - q1_full\n",
        "\n",
        "\n",
        "upper_full = q3_full + 1.5*iqr_full\n",
        "lower_full = q1_full - 1.5*iqr_full\n",
        "\n",
        "# Subset of Full Meals Eaten outliers\n",
        "Full_meals_eaten_outliers = pd.DataFrame(t1_clean_4[ (t1_clean_4['Full_meals_eaten'] >= (upper_full)) | (t1_clean_4['Full_meals_eaten'] <= (lower_full))])\n",
        "\n",
        "\n",
        "# create new dataframe with removal of outliers\n",
        "# filter dataframe to only include samples within range of fences\n",
        "t1_clean_5 = t1_clean_4[ (t1_clean_4['Full_meals_eaten'] < (upper_full)) & (t1_clean_4['Full_meals_eaten'] > (lower_full))]\n",
        "t1_clean_5.reset_index(drop = True)\n",
        "\n",
        "# Confirm removal of outliers\n",
        "print(\"Current dataframe: \" + str(t1_clean_4.shape[0]))\n",
        "print(\"Number of Full Meals Eaten Outliers: \" + str(Full_meals_eaten_outliers.shape[0]))\n",
        "print(\"Confirm removal of Full Meals Eaten Outliers: \" + str(t1_clean_5.shape[0]))\n"
      ]
    },
    {
      "cell_type": "code",
      "execution_count": null,
      "id": "1a61b4cd-d1de-4726-9314-2f241c789170",
      "metadata": {
        "colab": {
          "base_uri": "https://localhost:8080/",
          "height": 1000
        },
        "id": "1a61b4cd-d1de-4726-9314-2f241c789170",
        "outputId": "a179ba0a-8c2a-4a34-8eb5-8a100991c23e"
      },
      "outputs": [
        {
          "data": {
            "image/png": "[encoded data removed]",
            "text/plain": [
              "<Figure size 432x288 with 1 Axes>"
            ]
          },
          "metadata": {
            "needs_background": "light"
          },
          "output_type": "display_data"
        },
        {
          "name": "stdout",
          "output_type": "stream",
          "text": [
            "\n",
            " ----------------------------------------------------- \n",
            "\n",
            "count    9446.000000\n",
            "mean        2.094114\n",
            "std         2.155455\n",
            "min         0.000000\n",
            "25%         0.000000\n",
            "50%         1.000000\n",
            "75%         3.000000\n",
            "max        10.000000\n",
            "Name: Children, dtype: float64\n",
            "\n",
            " ----------------------------------------------------- \n",
            "\n"
          ]
        },
        {
          "data": {
            "image/png": "[encoded data removed]",
            "text/plain": [
              "<Figure size 432x288 with 1 Axes>"
            ]
          },
          "metadata": {
            "needs_background": "light"
          },
          "output_type": "display_data"
        }
      ],
      "source": [
        "# Children --- t1_clean_5\n",
        "# Detect and treat - Children\n",
        "\n",
        "# Plot histogram of Children\n",
        "plt.hist(t1_clean_5['Children'])\n",
        "plt.xlabel(\"Number of Children\")\n",
        "plt.ylabel(\"Frequency\")\n",
        "plt.show()\n",
        "\n",
        "print('\\n ----------------------------------------------------- \\n')\n",
        "\n",
        "# Summary statistics of Children\n",
        "print(t1_clean_5['Children'].describe())\n",
        "\n",
        "print('\\n ----------------------------------------------------- \\n')\n",
        "\n",
        "# Plot boxplot of Children\n",
        "sns.boxplot(x='Children', data = t1_clean_5);"
      ]
    },
    {
      "cell_type": "code",
      "execution_count": null,
      "id": "bb894ee1-48cc-487a-919f-2dd03b599aca",
      "metadata": {
        "colab": {
          "base_uri": "https://localhost:8080/"
        },
        "id": "bb894ee1-48cc-487a-919f-2dd03b599aca",
        "outputId": "6cfc6ca4-277d-4b7d-d327-8b0822e61988"
      },
      "outputs": [
        {
          "name": "stdout",
          "output_type": "stream",
          "text": [
            "Current dataframe: 9446\n",
            "Number of Children Outliers: 379\n",
            "Confirm removal of Children Outliers: 9067\n"
          ]
        }
      ],
      "source": [
        "# Treat Outliers - Children\n",
        "\n",
        "# Identify q1, q3, iqr, upper and lower fences\n",
        "\n",
        "q1_children  = t1_clean_5['Children'].quantile(0.25)\n",
        "q3_children  = t1_clean_5['Children'].quantile(0.75)\n",
        "iqr_children  = q3_children - q1_children\n",
        "\n",
        "\n",
        "upper_children = q3_children + 1.5*iqr_children\n",
        "lower_children = q1_children - 1.5*iqr_children\n",
        "\n",
        "# Subset of Children outliers\n",
        "Children_outliers = pd.DataFrame(t1_clean_5[ (t1_clean_5['Children'] >= (upper_children)) | (t1_clean_5['Children'] <= (lower_children))])\n",
        "\n",
        "# create new dataframe with removal of outliers\n",
        "# filter dataframe to only include samples within range of fences\n",
        "t1_clean_6 = t1_clean_5[ (t1_clean_5['Children'] < (upper_children)) & (t1_clean_5['Children'] > (lower_children))]\n",
        "t1_clean_6.reset_index(drop = True)\n",
        "\n",
        "# Confirm removal of outliers\n",
        "print(\"Current dataframe: \" + str(t1_clean_5.shape[0]))\n",
        "print(\"Number of Children Outliers: \" + str(Children_outliers.shape[0]))\n",
        "print(\"Confirm removal of Children Outliers: \" + str(t1_clean_6.shape[0]))"
      ]
    },
    {
      "cell_type": "code",
      "execution_count": null,
      "id": "d85270db-5e7f-43b5-af50-0f8ca3cf9e35",
      "metadata": {
        "colab": {
          "base_uri": "https://localhost:8080/",
          "height": 1000
        },
        "id": "d85270db-5e7f-43b5-af50-0f8ca3cf9e35",
        "outputId": "ea5851a6-6eb3-4b39-b4c1-21c17034fd63"
      },
      "outputs": [
        {
          "data": {
            "image/png": "[encoded data removed]",
            "text/plain": [
              "<Figure size 432x288 with 1 Axes>"
            ]
          },
          "metadata": {
            "needs_background": "light"
          },
          "output_type": "display_data"
        },
        {
          "name": "stdout",
          "output_type": "stream",
          "text": [
            "\n",
            " ----------------------------------------------------- \n",
            "\n",
            "count    9067.000000\n",
            "mean       51.991839\n",
            "std        19.945440\n",
            "min        18.000000\n",
            "25%        35.000000\n",
            "50%        52.000000\n",
            "75%        69.000000\n",
            "max        89.000000\n",
            "Name: Age, dtype: float64\n",
            "\n",
            " ----------------------------------------------------- \n",
            "\n"
          ]
        },
        {
          "data": {
            "image/png": "[encoded data removed]",
            "text/plain": [
              "<Figure size 432x288 with 1 Axes>"
            ]
          },
          "metadata": {
            "needs_background": "light"
          },
          "output_type": "display_data"
        }
      ],
      "source": [
        "# Age  ---  t1_clean_6\n",
        "# Detect and treat - Age\n",
        "\n",
        "# Plot histogram of Age\n",
        "plt.hist(t1_clean_6['Age'])\n",
        "plt.xlabel(\"Age\")\n",
        "plt.ylabel(\"Frequency\")\n",
        "plt.show()\n",
        "\n",
        "print('\\n ----------------------------------------------------- \\n')\n",
        "\n",
        "# Summary statistics of Age\n",
        "print(t1_clean_6['Age'].describe())\n",
        "\n",
        "print('\\n ----------------------------------------------------- \\n')\n",
        "\n",
        "# Plot boxplot of Age\n",
        "sns.boxplot(x='Age', data = t1_clean_6);"
      ]
    },
    {
      "cell_type": "code",
      "execution_count": null,
      "id": "99507b9a-be65-470c-897e-fa8778cf1a42",
      "metadata": {
        "colab": {
          "base_uri": "https://localhost:8080/"
        },
        "id": "99507b9a-be65-470c-897e-fa8778cf1a42",
        "outputId": "57d3a046-2a8d-46d4-a2e1-a18923f723e1"
      },
      "outputs": [
        {
          "name": "stdout",
          "output_type": "stream",
          "text": [
            "Current dataframe: 9067\n",
            "Number of Age Outliers: 0\n",
            "Confirm removal of Age Outlers: 9067\n"
          ]
        }
      ],
      "source": [
        "# Treat outliers - Age\n",
        "# Search for outliers on normal distribution using z-scores\n",
        "\n",
        "# if copy error shows use below\n",
        "#pd.options.mode.chained_assignment = None  # default='warn'\n",
        "\n",
        "t1_clean_6['Age_z'] = stats.zscore(t1_clean_6['Age'])\n",
        "\n",
        "\n",
        "# Remove outliers --  -3 > df > 3\n",
        "t1_clean_7 = pd.DataFrame(t1_clean_6[ (t1_clean_6['Age_z'] < 3) & (t1_clean_6['Age_z'] > -3)])\n",
        "t1_clean_7.reset_index(drop = True)\n",
        "\n",
        "\n",
        "# Subset of Age outlers\n",
        "Age_outliers = pd.DataFrame(t1_clean_6[ (t1_clean_6['Age_z'] > 3) | (t1_clean_6['Age_z'] < -3)])\n",
        "\n",
        "\n",
        "# Confirm removal of outliers\n",
        "print(\"Current dataframe: \" + str(t1_clean_6.shape[0]))\n",
        "print(\"Number of Age Outliers: \" + str(Age_outliers.shape[0]))\n",
        "print(\"Confirm removal of Age Outlers: \" + str(t1_clean_7.shape[0]))\n"
      ]
    },
    {
      "cell_type": "code",
      "execution_count": null,
      "id": "b822c772-6f10-4257-a34e-0a971bb86dd8",
      "metadata": {
        "colab": {
          "base_uri": "https://localhost:8080/",
          "height": 1000
        },
        "id": "b822c772-6f10-4257-a34e-0a971bb86dd8",
        "outputId": "17193f72-00d8-42a7-bf37-6776226d5f70"
      },
      "outputs": [
        {
          "data": {
            "image/png": "[encoded data removed]",
            "text/plain": [
              "<Figure size 432x288 with 1 Axes>"
            ]
          },
          "metadata": {
            "needs_background": "light"
          },
          "output_type": "display_data"
        },
        {
          "name": "stdout",
          "output_type": "stream",
          "text": [
            "\n",
            " ----------------------------------------------------- \n",
            "\n",
            "count      9067.000000\n",
            "mean       9956.987758\n",
            "std       14790.992979\n",
            "min           0.000000\n",
            "25%         690.000000\n",
            "50%        2793.000000\n",
            "75%       13924.500000\n",
            "max      122814.000000\n",
            "Name: Population, dtype: float64\n",
            "\n",
            " ----------------------------------------------------- \n",
            "\n"
          ]
        },
        {
          "data": {
            "image/png": "[encoded data removed]",
            "text/plain": [
              "<Figure size 432x288 with 1 Axes>"
            ]
          },
          "metadata": {
            "needs_background": "light"
          },
          "output_type": "display_data"
        }
      ],
      "source": [
        "# Population --- t1_clean_7\n",
        "# Detect and treat - Population\n",
        "\n",
        "# Plot histogram of Population\n",
        "plt.hist(t1_clean_7['Population'])\n",
        "plt.xlabel(\"Population\")\n",
        "plt.ylabel(\"Frequency\")\n",
        "plt.show()\n",
        "\n",
        "print('\\n ----------------------------------------------------- \\n')\n",
        "\n",
        "# Summary statistics of Population\n",
        "print(t1_clean_7['Population'].describe())\n",
        "\n",
        "print('\\n ----------------------------------------------------- \\n')\n",
        "\n",
        "# Plot boxplot of Population\n",
        "sns.boxplot(x='Population', data = t1_clean_7);"
      ]
    },
    {
      "cell_type": "code",
      "execution_count": null,
      "id": "65603c20-6217-4a7b-bbdc-756b2392d339",
      "metadata": {
        "colab": {
          "base_uri": "https://localhost:8080/"
        },
        "id": "65603c20-6217-4a7b-bbdc-756b2392d339",
        "outputId": "e9c07c77-2059-4b96-dc84-7f95ad058eb2"
      },
      "outputs": [
        {
          "name": "stdout",
          "output_type": "stream",
          "text": [
            "Current dataframe: 9067\n",
            "Number of Population Outliers: 775\n",
            "Confirm removal of Population Outliers: 8292\n"
          ]
        }
      ],
      "source": [
        "# Treate Outliers - Population\n",
        "\n",
        "# Identify q1, q3, iqr, upper and lower fences\n",
        "\n",
        "q1_population  = t1_clean_7['Population'].quantile(0.25)\n",
        "q3_population  = t1_clean_7['Population'].quantile(0.75)\n",
        "iqr_population  = q3_population - q1_population\n",
        "\n",
        "\n",
        "upper_population = q3_population + 1.5*iqr_population\n",
        "lower_population = q1_population - 1.5*iqr_population\n",
        "\n",
        "# Subset of Population outliers\n",
        "Population_outliers = pd.DataFrame(t1_clean_7[ (t1_clean_7['Population'] >= (upper_population)) | (t1_clean_7['Population'] <= (lower_population))])\n",
        "\n",
        "# create new dataframe with removal of outliers\n",
        "# filter dataframe to only include samples within range of fences\n",
        "t1_clean_8 = t1_clean_7[ (t1_clean_7['Population'] <= (upper_population)) & (t1_clean_7['Population'] >= (lower_population))]\n",
        "t1_clean_8.reset_index(drop = True)\n",
        "\n",
        "\n",
        "# Confirm removal of outliers\n",
        "print(\"Current dataframe: \" + str(t1_clean_7.shape[0]))\n",
        "print(\"Number of Population Outliers: \" + str(Population_outliers.shape[0]))\n",
        "print(\"Confirm removal of Population Outliers: \" + str(t1_clean_8.shape[0]))"
      ]
    },
    {
      "cell_type": "code",
      "execution_count": null,
      "id": "44eca328-a094-4436-b4bb-c469e422da9c",
      "metadata": {
        "colab": {
          "base_uri": "https://localhost:8080/",
          "height": 1000
        },
        "id": "44eca328-a094-4436-b4bb-c469e422da9c",
        "outputId": "447ce289-3adf-4077-c6f5-67ce758e6f67"
      },
      "outputs": [
        {
          "data": {
            "image/png": "[encoded data removed]",
            "text/plain": [
              "<Figure size 432x288 with 1 Axes>"
            ]
          },
          "metadata": {
            "needs_background": "light"
          },
          "output_type": "display_data"
        },
        {
          "name": "stdout",
          "output_type": "stream",
          "text": [
            "count     8292.000000\n",
            "mean     49433.173058\n",
            "std      26921.450834\n",
            "min        610.000000\n",
            "25%      27089.500000\n",
            "50%      49884.000000\n",
            "75%      70753.500000\n",
            "max      99929.000000\n",
            "Name: Zip, dtype: float64\n"
          ]
        },
        {
          "data": {
            "image/png": "[encoded data removed]",
            "text/plain": [
              "<Figure size 432x288 with 1 Axes>"
            ]
          },
          "metadata": {
            "needs_background": "light"
          },
          "output_type": "display_data"
        }
      ],
      "source": [
        "# Income --- t1_clean_8\n",
        "# Detect and treat - Zip\n",
        "\n",
        "# Plot histogram of Zip\n",
        "plt.hist(t1_clean_8['Zip'])\n",
        "plt.xlabel(\"Zip\")\n",
        "plt.ylabel(\"Frequency\")\n",
        "plt.show()\n",
        "\n",
        "# Summary statistics of Income\n",
        "print(t1_clean_8['Zip'].describe())\n",
        "\n",
        "# Plot boxplot of Income\n",
        "sns.boxplot(x='Zip', data = t1_clean_8);"
      ]
    },
    {
      "cell_type": "code",
      "execution_count": null,
      "id": "4a2d1bf9-f651-45bc-b816-9a54495305bb",
      "metadata": {
        "colab": {
          "base_uri": "https://localhost:8080/"
        },
        "id": "4a2d1bf9-f651-45bc-b816-9a54495305bb",
        "outputId": "5ed10816-bce6-45d7-fc85-4bc217ac6a3c"
      },
      "outputs": [
        {
          "name": "stdout",
          "output_type": "stream",
          "text": [
            "Current dataframe: 8292\n",
            "Number of Zip Outliers: 0\n",
            "Confirm removal of Zip Outliers: 8292\n"
          ]
        }
      ],
      "source": [
        "# Treat outliers - Zip\n",
        "# Search for outliers on normal distribution using z-scores\n",
        "t1_clean_8['Zip_z'] = stats.zscore(t1_clean_8['Zip'])\n",
        "\n",
        "\n",
        "# Remove outliers --  -3 > df > 3\n",
        "t1_clean_9 = pd.DataFrame(t1_clean_8[ (t1_clean_8['Zip_z'] < 3) & (t1_clean_8['Zip_z'] > -3)])\n",
        "t1_clean_9.reset_index(drop = True)\n",
        "\n",
        "\n",
        "# Subset of Zip outlers\n",
        "Zip_outliers = pd.DataFrame(t1_clean_8[ (t1_clean_8['Zip_z'] > 3) | (t1_clean_8['Zip_z'] < -3)])\n",
        "\n",
        "\n",
        "# Confirm removal of outliers\n",
        "print(\"Current dataframe: \" + str(t1_clean_8.shape[0]))\n",
        "print(\"Number of Zip Outliers: \" + str(Zip_outliers.shape[0]))\n",
        "print(\"Confirm removal of Zip Outliers: \" + str(t1_clean_9.shape[0]))\n"
      ]
    },
    {
      "cell_type": "code",
      "execution_count": null,
      "id": "eb30be43-0245-45ba-a544-8e7a284958a6",
      "metadata": {
        "colab": {
          "base_uri": "https://localhost:8080/",
          "height": 1000
        },
        "id": "eb30be43-0245-45ba-a544-8e7a284958a6",
        "outputId": "b2e78869-a821-46b9-833d-3b07e5bf614c"
      },
      "outputs": [
        {
          "data": {
            "image/png": "[encoded data removed]",
            "text/plain": [
              "<Figure size 432x288 with 1 Axes>"
            ]
          },
          "metadata": {
            "needs_background": "light"
          },
          "output_type": "display_data"
        },
        {
          "name": "stdout",
          "output_type": "stream",
          "text": [
            "\n",
            " ----------------------------------------------------- \n",
            "\n",
            "count      8292.000000\n",
            "mean      40425.658243\n",
            "std       28351.932085\n",
            "min         300.790000\n",
            "25%       19659.330000\n",
            "50%       33733.965000\n",
            "75%       54062.097500\n",
            "max      204542.410000\n",
            "Name: Income, dtype: float64\n",
            "\n",
            " ----------------------------------------------------- \n",
            "\n"
          ]
        },
        {
          "data": {
            "image/png": "[encoded data removed]",
            "text/plain": [
              "<Figure size 432x288 with 1 Axes>"
            ]
          },
          "metadata": {
            "needs_background": "light"
          },
          "output_type": "display_data"
        }
      ],
      "source": [
        "# Income --- t1_clean_9\n",
        "# Detect and treat - Income\n",
        "\n",
        "# Plot histogram of Income\n",
        "plt.hist(t1_clean_9['Income'])\n",
        "plt.xlabel(\"Income\")\n",
        "plt.ylabel(\"Frequency\")\n",
        "plt.show()\n",
        "\n",
        "print('\\n ----------------------------------------------------- \\n')\n",
        "\n",
        "# Summary statistics of Income\n",
        "print(t1_clean_9['Income'].describe())\n",
        "\n",
        "print('\\n ----------------------------------------------------- \\n')\n",
        "\n",
        "# Plot boxplot of Income\n",
        "sns.boxplot(x='Income', data = t1_clean_9);"
      ]
    },
    {
      "cell_type": "code",
      "execution_count": null,
      "id": "d7e4838b-b742-4396-8ef0-e6229b2d7d66",
      "metadata": {
        "colab": {
          "base_uri": "https://localhost:8080/"
        },
        "id": "d7e4838b-b742-4396-8ef0-e6229b2d7d66",
        "outputId": "fe9edd9c-b5f0-4f13-ba93-9786572eabe1"
      },
      "outputs": [
        {
          "name": "stdout",
          "output_type": "stream",
          "text": [
            "Current dataframe: 8292\n",
            "Number of Income Outliers: 277\n",
            "Confirm removal of Income Outliers: 8015\n"
          ]
        }
      ],
      "source": [
        "# Treate Outliers - Income\n",
        "\n",
        "# Identify q1, q3, iqr, upper and lower fences\n",
        "\n",
        "q1_income  = t1_clean_9['Income'].quantile(0.25)\n",
        "q3_income  = t1_clean_9['Income'].quantile(0.75)\n",
        "iqr_income  = q3_income - q1_income\n",
        "\n",
        "\n",
        "upper_income = q3_income + 1.5*iqr_income\n",
        "lower_income = q1_income - 1.5*iqr_income\n",
        "\n",
        "# Subset of Income outliers\n",
        "Income_outliers = pd.DataFrame(t1_clean_9[ (t1_clean_9['Income'] >= (upper_income)) | (t1_clean_9['Income'] <= (lower_income))])\n",
        "\n",
        "# create new dataframe with removal of outliers\n",
        "# filter dataframe to only include samples within range of fences\n",
        "t1_clean_10 = t1_clean_9[ (t1_clean_9['Income'] <= (upper_income)) & (t1_clean_9['Income'] >= (lower_income))]\n",
        "t1_clean_10.reset_index(drop = True)\n",
        "\n",
        "\n",
        "# Confirm removal of outliers\n",
        "print(\"Current dataframe: \" + str(t1_clean_9.shape[0]))\n",
        "print(\"Number of Income Outliers: \" + str(Income_outliers.shape[0]))\n",
        "print(\"Confirm removal of Income Outliers: \" + str(t1_clean_10.shape[0]))"
      ]
    },
    {
      "cell_type": "markdown",
      "source": [
        "<a name=\"model-prep\"></a>\n",
        "# Model Preperation\n",
        "- Drop z-score columns\n",
        "- Drop features not related to task\n",
        "- Encode binary categorical variables to numeric\n",
        "- Encode remaining categorical variables with dummies\n",
        "- Calculate correlation coefficients and plot heatmap"
      ],
      "metadata": {
        "id": "O9xIS4OhAKXl"
      },
      "id": "O9xIS4OhAKXl"
    },
    {
      "cell_type": "code",
      "execution_count": null,
      "id": "wzohCe_mM7Ol",
      "metadata": {
        "id": "wzohCe_mM7Ol"
      },
      "outputs": [],
      "source": [
        "# Drop z score columns\n",
        "t1_clean_10.drop(columns = ['Doc_visits_z', 'Age_z', 'Zip_z', 'VitD_levels_z'], axis = 1, inplace = True)\n",
        "\n"
      ]
    },
    {
      "cell_type": "code",
      "execution_count": null,
      "id": "f3c944db-9a96-4191-a628-cddea8c5a951",
      "metadata": {
        "colab": {
          "base_uri": "https://localhost:8080/"
        },
        "id": "f3c944db-9a96-4191-a628-cddea8c5a951",
        "outputId": "66c73038-ec88-41d8-a084-63e7d1b5c9d5"
      },
      "outputs": [
        {
          "name": "stdout",
          "output_type": "stream",
          "text": [
            "(8015, 50)\n"
          ]
        }
      ],
      "source": [
        "# Define model dataframe from cleaned data\n",
        "df = t1_clean_10.copy(deep = True)\n",
        "print(df.shape)\n",
        "\n",
        "# Backup and testing df\n",
        "df_backup = df.copy(deep = True)\n",
        "\n"
      ]
    },
    {
      "cell_type": "code",
      "execution_count": null,
      "id": "ulfOi_HZaogv",
      "metadata": {
        "colab": {
          "base_uri": "https://localhost:8080/"
        },
        "id": "ulfOi_HZaogv",
        "outputId": "f1736b06-2927-40d3-b025-b8e947722cdd"
      },
      "outputs": [
        {
          "name": "stdout",
          "output_type": "stream",
          "text": [
            "<class 'pandas.core.frame.DataFrame'>\n",
            "Int64Index: 8015 entries, 0 to 9998\n",
            "Data columns (total 40 columns):\n",
            " #   Column              Non-Null Count  Dtype  \n",
            "---  ------              --------------  -----  \n",
            " 0   Zip                 8015 non-null   int64  \n",
            " 1   Lat                 8015 non-null   float64\n",
            " 2   Lng                 8015 non-null   float64\n",
            " 3   Population          8015 non-null   int64  \n",
            " 4   Area                8015 non-null   object \n",
            " 5   Children            8015 non-null   int64  \n",
            " 6   Age                 8015 non-null   int64  \n",
            " 7   Income              8015 non-null   float64\n",
            " 8   Gender              8015 non-null   object \n",
            " 9   ReAdmis             8015 non-null   int64  \n",
            " 10  VitD_levels         8015 non-null   float64\n",
            " 11  Doc_visits          8015 non-null   int64  \n",
            " 12  Full_meals_eaten    8015 non-null   int64  \n",
            " 13  vitD_supp           8015 non-null   int64  \n",
            " 14  Soft_drink          8015 non-null   object \n",
            " 15  Initial_admin       8015 non-null   object \n",
            " 16  HighBlood           8015 non-null   object \n",
            " 17  Stroke              8015 non-null   object \n",
            " 18  Complication_risk   8015 non-null   object \n",
            " 19  Overweight          8015 non-null   object \n",
            " 20  Arthritis           8015 non-null   object \n",
            " 21  Diabetes            8015 non-null   object \n",
            " 22  Hyperlipidemia      8015 non-null   object \n",
            " 23  BackPain            8015 non-null   object \n",
            " 24  Anxiety             8015 non-null   object \n",
            " 25  Allergic_rhinitis   8015 non-null   object \n",
            " 26  Reflux_esophagitis  8015 non-null   object \n",
            " 27  Asthma              8015 non-null   object \n",
            " 28  Services            8015 non-null   object \n",
            " 29  Initial_days        8015 non-null   float64\n",
            " 30  TotalCharge         8015 non-null   float64\n",
            " 31  Additional_charges  8015 non-null   float64\n",
            " 32  Timely_admission    8015 non-null   int64  \n",
            " 33  Timely_treatment    8015 non-null   int64  \n",
            " 34  Timely_visits       8015 non-null   int64  \n",
            " 35  Reliability         8015 non-null   int64  \n",
            " 36  Options             8015 non-null   int64  \n",
            " 37  Hours_of_treatment  8015 non-null   int64  \n",
            " 38  Courteous_staff     8015 non-null   int64  \n",
            " 39  Listening_doctor    8015 non-null   int64  \n",
            "dtypes: float64(7), int64(16), object(17)\n",
            "memory usage: 2.5+ MB\n"
          ]
        }
      ],
      "source": [
        "# Drop features not relevent to task\n",
        "\n",
        "df.drop(columns = ['CaseOrder', 'Customer_id', 'Interaction', 'UID', 'City', 'State', 'County', 'TimeZone', 'Job', 'Marital'], axis = 1, inplace = True)\n",
        "\n",
        "df.info()\n",
        "\n"
      ]
    },
    {
      "cell_type": "code",
      "execution_count": null,
      "id": "MUf8X3ombCLl",
      "metadata": {
        "colab": {
          "base_uri": "https://localhost:8080/",
          "height": 394
        },
        "id": "MUf8X3ombCLl",
        "outputId": "8969a6a7-4ff2-41e6-9ccc-b779aa7cf963"
      },
      "outputs": [
        {
          "data": {
            "text/html": [
              "<div>\n",
              "<style scoped>\n",
              "    .dataframe tbody tr th:only-of-type {\n",
              "        vertical-align: middle;\n",
              "    }\n",
              "\n",
              "    .dataframe tbody tr th {\n",
              "        vertical-align: top;\n",
              "    }\n",
              "\n",
              "    .dataframe thead th {\n",
              "        text-align: right;\n",
              "    }\n",
              "</style>\n",
              "<table border=\"1\" class=\"dataframe\">\n",
              "  <thead>\n",
              "    <tr style=\"text-align: right;\">\n",
              "      <th></th>\n",
              "      <th>Zip</th>\n",
              "      <th>Lat</th>\n",
              "      <th>Lng</th>\n",
              "      <th>Population</th>\n",
              "      <th>Children</th>\n",
              "      <th>Age</th>\n",
              "      <th>Income</th>\n",
              "      <th>ReAdmis</th>\n",
              "      <th>VitD_levels</th>\n",
              "      <th>Doc_visits</th>\n",
              "      <th>...</th>\n",
              "      <th>TotalCharge</th>\n",
              "      <th>Additional_charges</th>\n",
              "      <th>Timely_admission</th>\n",
              "      <th>Timely_treatment</th>\n",
              "      <th>Timely_visits</th>\n",
              "      <th>Reliability</th>\n",
              "      <th>Options</th>\n",
              "      <th>Hours_of_treatment</th>\n",
              "      <th>Courteous_staff</th>\n",
              "      <th>Listening_doctor</th>\n",
              "    </tr>\n",
              "  </thead>\n",
              "  <tbody>\n",
              "    <tr>\n",
              "      <th>count</th>\n",
              "      <td>8015.000000</td>\n",
              "      <td>8015.000000</td>\n",
              "      <td>8015.000000</td>\n",
              "      <td>8015.000000</td>\n",
              "      <td>8015.000000</td>\n",
              "      <td>8015.000000</td>\n",
              "      <td>8015.000000</td>\n",
              "      <td>8015.000000</td>\n",
              "      <td>8015.000000</td>\n",
              "      <td>8015.000000</td>\n",
              "      <td>...</td>\n",
              "      <td>8015.000000</td>\n",
              "      <td>8015.000000</td>\n",
              "      <td>8015.000000</td>\n",
              "      <td>8015.000000</td>\n",
              "      <td>8015.000000</td>\n",
              "      <td>8015.000000</td>\n",
              "      <td>8015.000000</td>\n",
              "      <td>8015.000000</td>\n",
              "      <td>8015.000000</td>\n",
              "      <td>8015.000000</td>\n",
              "    </tr>\n",
              "    <tr>\n",
              "      <th>mean</th>\n",
              "      <td>49328.613225</td>\n",
              "      <td>38.978898</td>\n",
              "      <td>-90.741039</td>\n",
              "      <td>6374.598628</td>\n",
              "      <td>1.813974</td>\n",
              "      <td>52.079975</td>\n",
              "      <td>37398.143970</td>\n",
              "      <td>0.367810</td>\n",
              "      <td>17.949930</td>\n",
              "      <td>5.006737</td>\n",
              "      <td>...</td>\n",
              "      <td>5306.959100</td>\n",
              "      <td>12220.012176</td>\n",
              "      <td>3.513288</td>\n",
              "      <td>3.498815</td>\n",
              "      <td>3.509420</td>\n",
              "      <td>3.514910</td>\n",
              "      <td>3.490206</td>\n",
              "      <td>3.521647</td>\n",
              "      <td>3.498316</td>\n",
              "      <td>3.519401</td>\n",
              "    </tr>\n",
              "    <tr>\n",
              "      <th>std</th>\n",
              "      <td>26932.488283</td>\n",
              "      <td>5.302044</td>\n",
              "      <td>14.727676</td>\n",
              "      <td>8420.426774</td>\n",
              "      <td>1.697325</td>\n",
              "      <td>19.899710</td>\n",
              "      <td>23288.592847</td>\n",
              "      <td>0.482239</td>\n",
              "      <td>1.981921</td>\n",
              "      <td>1.035533</td>\n",
              "      <td>...</td>\n",
              "      <td>2181.889071</td>\n",
              "      <td>5808.887839</td>\n",
              "      <td>1.034852</td>\n",
              "      <td>1.036141</td>\n",
              "      <td>1.030665</td>\n",
              "      <td>1.039522</td>\n",
              "      <td>1.031751</td>\n",
              "      <td>1.040723</td>\n",
              "      <td>1.017057</td>\n",
              "      <td>1.040887</td>\n",
              "    </tr>\n",
              "    <tr>\n",
              "      <th>min</th>\n",
              "      <td>610.000000</td>\n",
              "      <td>17.967190</td>\n",
              "      <td>-174.209700</td>\n",
              "      <td>0.000000</td>\n",
              "      <td>0.000000</td>\n",
              "      <td>18.000000</td>\n",
              "      <td>300.790000</td>\n",
              "      <td>0.000000</td>\n",
              "      <td>12.038470</td>\n",
              "      <td>2.000000</td>\n",
              "      <td>...</td>\n",
              "      <td>1938.312067</td>\n",
              "      <td>3125.703000</td>\n",
              "      <td>1.000000</td>\n",
              "      <td>1.000000</td>\n",
              "      <td>1.000000</td>\n",
              "      <td>1.000000</td>\n",
              "      <td>1.000000</td>\n",
              "      <td>1.000000</td>\n",
              "      <td>1.000000</td>\n",
              "      <td>1.000000</td>\n",
              "    </tr>\n",
              "    <tr>\n",
              "      <th>25%</th>\n",
              "      <td>26697.500000</td>\n",
              "      <td>35.659095</td>\n",
              "      <td>-96.874170</td>\n",
              "      <td>609.500000</td>\n",
              "      <td>0.000000</td>\n",
              "      <td>35.000000</td>\n",
              "      <td>19142.740000</td>\n",
              "      <td>0.000000</td>\n",
              "      <td>16.618482</td>\n",
              "      <td>4.000000</td>\n",
              "      <td>...</td>\n",
              "      <td>3176.195615</td>\n",
              "      <td>7811.016000</td>\n",
              "      <td>3.000000</td>\n",
              "      <td>3.000000</td>\n",
              "      <td>3.000000</td>\n",
              "      <td>3.000000</td>\n",
              "      <td>3.000000</td>\n",
              "      <td>3.000000</td>\n",
              "      <td>3.000000</td>\n",
              "      <td>3.000000</td>\n",
              "    </tr>\n",
              "    <tr>\n",
              "      <th>50%</th>\n",
              "      <td>49819.000000</td>\n",
              "      <td>39.630330</td>\n",
              "      <td>-88.275680</td>\n",
              "      <td>2217.000000</td>\n",
              "      <td>1.000000</td>\n",
              "      <td>52.000000</td>\n",
              "      <td>32612.150000</td>\n",
              "      <td>0.000000</td>\n",
              "      <td>17.926359</td>\n",
              "      <td>5.000000</td>\n",
              "      <td>...</td>\n",
              "      <td>5164.982000</td>\n",
              "      <td>11256.620000</td>\n",
              "      <td>4.000000</td>\n",
              "      <td>3.000000</td>\n",
              "      <td>4.000000</td>\n",
              "      <td>4.000000</td>\n",
              "      <td>3.000000</td>\n",
              "      <td>4.000000</td>\n",
              "      <td>3.000000</td>\n",
              "      <td>4.000000</td>\n",
              "    </tr>\n",
              "    <tr>\n",
              "      <th>75%</th>\n",
              "      <td>70664.000000</td>\n",
              "      <td>42.197510</td>\n",
              "      <td>-80.411315</td>\n",
              "      <td>9024.000000</td>\n",
              "      <td>3.000000</td>\n",
              "      <td>69.000000</td>\n",
              "      <td>51417.775000</td>\n",
              "      <td>1.000000</td>\n",
              "      <td>19.321476</td>\n",
              "      <td>6.000000</td>\n",
              "      <td>...</td>\n",
              "      <td>7458.887500</td>\n",
              "      <td>14788.967060</td>\n",
              "      <td>4.000000</td>\n",
              "      <td>4.000000</td>\n",
              "      <td>4.000000</td>\n",
              "      <td>4.000000</td>\n",
              "      <td>4.000000</td>\n",
              "      <td>4.000000</td>\n",
              "      <td>4.000000</td>\n",
              "      <td>4.000000</td>\n",
              "    </tr>\n",
              "    <tr>\n",
              "      <th>max</th>\n",
              "      <td>99929.000000</td>\n",
              "      <td>70.560990</td>\n",
              "      <td>-65.290170</td>\n",
              "      <td>33769.000000</td>\n",
              "      <td>7.000000</td>\n",
              "      <td>89.000000</td>\n",
              "      <td>105596.200000</td>\n",
              "      <td>1.000000</td>\n",
              "      <td>23.941426</td>\n",
              "      <td>8.000000</td>\n",
              "      <td>...</td>\n",
              "      <td>9169.248000</td>\n",
              "      <td>27038.530000</td>\n",
              "      <td>8.000000</td>\n",
              "      <td>7.000000</td>\n",
              "      <td>8.000000</td>\n",
              "      <td>7.000000</td>\n",
              "      <td>7.000000</td>\n",
              "      <td>7.000000</td>\n",
              "      <td>7.000000</td>\n",
              "      <td>7.000000</td>\n",
              "    </tr>\n",
              "  </tbody>\n",
              "</table>\n",
              "<p>8 rows × 23 columns</p>\n",
              "</div>"
            ],
            "text/plain": [
              "                Zip          Lat          Lng    Population     Children  \\\n",
              "count   8015.000000  8015.000000  8015.000000   8015.000000  8015.000000   \n",
              "mean   49328.613225    38.978898   -90.741039   6374.598628     1.813974   \n",
              "std    26932.488283     5.302044    14.727676   8420.426774     1.697325   \n",
              "min      610.000000    17.967190  -174.209700      0.000000     0.000000   \n",
              "25%    26697.500000    35.659095   -96.874170    609.500000     0.000000   \n",
              "50%    49819.000000    39.630330   -88.275680   2217.000000     1.000000   \n",
              "75%    70664.000000    42.197510   -80.411315   9024.000000     3.000000   \n",
              "max    99929.000000    70.560990   -65.290170  33769.000000     7.000000   \n",
              "\n",
              "               Age         Income      ReAdmis  VitD_levels   Doc_visits  ...  \\\n",
              "count  8015.000000    8015.000000  8015.000000  8015.000000  8015.000000  ...   \n",
              "mean     52.079975   37398.143970     0.367810    17.949930     5.006737  ...   \n",
              "std      19.899710   23288.592847     0.482239     1.981921     1.035533  ...   \n",
              "min      18.000000     300.790000     0.000000    12.038470     2.000000  ...   \n",
              "25%      35.000000   19142.740000     0.000000    16.618482     4.000000  ...   \n",
              "50%      52.000000   32612.150000     0.000000    17.926359     5.000000  ...   \n",
              "75%      69.000000   51417.775000     1.000000    19.321476     6.000000  ...   \n",
              "max      89.000000  105596.200000     1.000000    23.941426     8.000000  ...   \n",
              "\n",
              "       TotalCharge  Additional_charges  Timely_admission  Timely_treatment  \\\n",
              "count  8015.000000         8015.000000       8015.000000       8015.000000   \n",
              "mean   5306.959100        12220.012176          3.513288          3.498815   \n",
              "std    2181.889071         5808.887839          1.034852          1.036141   \n",
              "min    1938.312067         3125.703000          1.000000          1.000000   \n",
              "25%    3176.195615         7811.016000          3.000000          3.000000   \n",
              "50%    5164.982000        11256.620000          4.000000          3.000000   \n",
              "75%    7458.887500        14788.967060          4.000000          4.000000   \n",
              "max    9169.248000        27038.530000          8.000000          7.000000   \n",
              "\n",
              "       Timely_visits  Reliability      Options  Hours_of_treatment  \\\n",
              "count    8015.000000  8015.000000  8015.000000         8015.000000   \n",
              "mean        3.509420     3.514910     3.490206            3.521647   \n",
              "std         1.030665     1.039522     1.031751            1.040723   \n",
              "min         1.000000     1.000000     1.000000            1.000000   \n",
              "25%         3.000000     3.000000     3.000000            3.000000   \n",
              "50%         4.000000     4.000000     3.000000            4.000000   \n",
              "75%         4.000000     4.000000     4.000000            4.000000   \n",
              "max         8.000000     7.000000     7.000000            7.000000   \n",
              "\n",
              "       Courteous_staff  Listening_doctor  \n",
              "count      8015.000000       8015.000000  \n",
              "mean          3.498316          3.519401  \n",
              "std           1.017057          1.040887  \n",
              "min           1.000000          1.000000  \n",
              "25%           3.000000          3.000000  \n",
              "50%           3.000000          4.000000  \n",
              "75%           4.000000          4.000000  \n",
              "max           7.000000          7.000000  \n",
              "\n",
              "[8 rows x 23 columns]"
            ]
          },
          "execution_count": 229,
          "metadata": {},
          "output_type": "execute_result"
        }
      ],
      "source": [
        "# Summary statisics of cleaned data\n",
        "df.describe()"
      ]
    },
    {
      "cell_type": "code",
      "execution_count": null,
      "id": "24HqguyLbORS",
      "metadata": {
        "colab": {
          "base_uri": "https://localhost:8080/",
          "height": 175
        },
        "id": "24HqguyLbORS",
        "outputId": "9c8a0cbb-c21a-4264-f41a-b3d4f7ac70f4"
      },
      "outputs": [
        {
          "data": {
            "text/html": [
              "<div>\n",
              "<style scoped>\n",
              "    .dataframe tbody tr th:only-of-type {\n",
              "        vertical-align: middle;\n",
              "    }\n",
              "\n",
              "    .dataframe tbody tr th {\n",
              "        vertical-align: top;\n",
              "    }\n",
              "\n",
              "    .dataframe thead th {\n",
              "        text-align: right;\n",
              "    }\n",
              "</style>\n",
              "<table border=\"1\" class=\"dataframe\">\n",
              "  <thead>\n",
              "    <tr style=\"text-align: right;\">\n",
              "      <th></th>\n",
              "      <th>Area</th>\n",
              "      <th>Gender</th>\n",
              "      <th>Soft_drink</th>\n",
              "      <th>Initial_admin</th>\n",
              "      <th>HighBlood</th>\n",
              "      <th>Stroke</th>\n",
              "      <th>Complication_risk</th>\n",
              "      <th>Overweight</th>\n",
              "      <th>Arthritis</th>\n",
              "      <th>Diabetes</th>\n",
              "      <th>Hyperlipidemia</th>\n",
              "      <th>BackPain</th>\n",
              "      <th>Anxiety</th>\n",
              "      <th>Allergic_rhinitis</th>\n",
              "      <th>Reflux_esophagitis</th>\n",
              "      <th>Asthma</th>\n",
              "      <th>Services</th>\n",
              "    </tr>\n",
              "  </thead>\n",
              "  <tbody>\n",
              "    <tr>\n",
              "      <th>count</th>\n",
              "      <td>8015</td>\n",
              "      <td>8015</td>\n",
              "      <td>8015</td>\n",
              "      <td>8015</td>\n",
              "      <td>8015</td>\n",
              "      <td>8015</td>\n",
              "      <td>8015</td>\n",
              "      <td>8015</td>\n",
              "      <td>8015</td>\n",
              "      <td>8015</td>\n",
              "      <td>8015</td>\n",
              "      <td>8015</td>\n",
              "      <td>8015</td>\n",
              "      <td>8015</td>\n",
              "      <td>8015</td>\n",
              "      <td>8015</td>\n",
              "      <td>8015</td>\n",
              "    </tr>\n",
              "    <tr>\n",
              "      <th>unique</th>\n",
              "      <td>3</td>\n",
              "      <td>3</td>\n",
              "      <td>2</td>\n",
              "      <td>3</td>\n",
              "      <td>2</td>\n",
              "      <td>2</td>\n",
              "      <td>3</td>\n",
              "      <td>2</td>\n",
              "      <td>2</td>\n",
              "      <td>2</td>\n",
              "      <td>2</td>\n",
              "      <td>2</td>\n",
              "      <td>2</td>\n",
              "      <td>2</td>\n",
              "      <td>2</td>\n",
              "      <td>2</td>\n",
              "      <td>4</td>\n",
              "    </tr>\n",
              "    <tr>\n",
              "      <th>top</th>\n",
              "      <td>Rural</td>\n",
              "      <td>Female</td>\n",
              "      <td>No</td>\n",
              "      <td>Emergency Admission</td>\n",
              "      <td>No</td>\n",
              "      <td>No</td>\n",
              "      <td>Medium</td>\n",
              "      <td>Yes</td>\n",
              "      <td>No</td>\n",
              "      <td>No</td>\n",
              "      <td>No</td>\n",
              "      <td>No</td>\n",
              "      <td>No</td>\n",
              "      <td>No</td>\n",
              "      <td>No</td>\n",
              "      <td>No</td>\n",
              "      <td>Blood Work</td>\n",
              "    </tr>\n",
              "    <tr>\n",
              "      <th>freq</th>\n",
              "      <td>2715</td>\n",
              "      <td>4053</td>\n",
              "      <td>5964</td>\n",
              "      <td>4042</td>\n",
              "      <td>4970</td>\n",
              "      <td>6434</td>\n",
              "      <td>3665</td>\n",
              "      <td>5681</td>\n",
              "      <td>5119</td>\n",
              "      <td>5826</td>\n",
              "      <td>5306</td>\n",
              "      <td>4727</td>\n",
              "      <td>5429</td>\n",
              "      <td>4864</td>\n",
              "      <td>4723</td>\n",
              "      <td>5703</td>\n",
              "      <td>4219</td>\n",
              "    </tr>\n",
              "  </tbody>\n",
              "</table>\n",
              "</div>"
            ],
            "text/plain": [
              "         Area  Gender Soft_drink        Initial_admin HighBlood Stroke  \\\n",
              "count    8015    8015       8015                 8015      8015   8015   \n",
              "unique      3       3          2                    3         2      2   \n",
              "top     Rural  Female         No  Emergency Admission        No     No   \n",
              "freq     2715    4053       5964                 4042      4970   6434   \n",
              "\n",
              "       Complication_risk Overweight Arthritis Diabetes Hyperlipidemia  \\\n",
              "count               8015       8015      8015     8015           8015   \n",
              "unique                 3          2         2        2              2   \n",
              "top               Medium        Yes        No       No             No   \n",
              "freq                3665       5681      5119     5826           5306   \n",
              "\n",
              "       BackPain Anxiety Allergic_rhinitis Reflux_esophagitis Asthma  \\\n",
              "count      8015    8015              8015               8015   8015   \n",
              "unique        2       2                 2                  2      2   \n",
              "top          No      No                No                 No     No   \n",
              "freq       4727    5429              4864               4723   5703   \n",
              "\n",
              "          Services  \n",
              "count         8015  \n",
              "unique           4  \n",
              "top     Blood Work  \n",
              "freq          4219  "
            ]
          },
          "execution_count": 230,
          "metadata": {},
          "output_type": "execute_result"
        }
      ],
      "source": [
        "# Summary statistics of categorical data\n",
        "# Look for binary variables to encode\n",
        "df.describe(include = 'object')"
      ]
    },
    {
      "cell_type": "code",
      "execution_count": null,
      "id": "aJI7-Xwvf8fs",
      "metadata": {
        "colab": {
          "base_uri": "https://localhost:8080/"
        },
        "id": "aJI7-Xwvf8fs",
        "outputId": "92037359-d6d9-4c7a-e6f0-f17972256058"
      },
      "outputs": [
        {
          "name": "stdout",
          "output_type": "stream",
          "text": [
            "<class 'pandas.core.frame.DataFrame'>\n",
            "Int64Index: 8015 entries, 0 to 9998\n",
            "Data columns (total 40 columns):\n",
            " #   Column              Non-Null Count  Dtype  \n",
            "---  ------              --------------  -----  \n",
            " 0   Zip                 8015 non-null   int64  \n",
            " 1   Lat                 8015 non-null   float64\n",
            " 2   Lng                 8015 non-null   float64\n",
            " 3   Population          8015 non-null   int64  \n",
            " 4   Area                8015 non-null   object \n",
            " 5   Children            8015 non-null   int64  \n",
            " 6   Age                 8015 non-null   int64  \n",
            " 7   Income              8015 non-null   float64\n",
            " 8   Gender              8015 non-null   object \n",
            " 9   ReAdmis             8015 non-null   int64  \n",
            " 10  VitD_levels         8015 non-null   float64\n",
            " 11  Doc_visits          8015 non-null   int64  \n",
            " 12  Full_meals_eaten    8015 non-null   int64  \n",
            " 13  vitD_supp           8015 non-null   int64  \n",
            " 14  Soft_drink          8015 non-null   int64  \n",
            " 15  Initial_admin       8015 non-null   object \n",
            " 16  HighBlood           8015 non-null   int64  \n",
            " 17  Stroke              8015 non-null   int64  \n",
            " 18  Complication_risk   8015 non-null   object \n",
            " 19  Overweight          8015 non-null   int64  \n",
            " 20  Arthritis           8015 non-null   int64  \n",
            " 21  Diabetes            8015 non-null   int64  \n",
            " 22  Hyperlipidemia      8015 non-null   int64  \n",
            " 23  BackPain            8015 non-null   int64  \n",
            " 24  Anxiety             8015 non-null   int64  \n",
            " 25  Allergic_rhinitis   8015 non-null   int64  \n",
            " 26  Reflux_esophagitis  8015 non-null   int64  \n",
            " 27  Asthma              8015 non-null   int64  \n",
            " 28  Services            8015 non-null   object \n",
            " 29  Initial_days        8015 non-null   float64\n",
            " 30  TotalCharge         8015 non-null   float64\n",
            " 31  Additional_charges  8015 non-null   float64\n",
            " 32  Timely_admission    8015 non-null   int64  \n",
            " 33  Timely_treatment    8015 non-null   int64  \n",
            " 34  Timely_visits       8015 non-null   int64  \n",
            " 35  Reliability         8015 non-null   int64  \n",
            " 36  Options             8015 non-null   int64  \n",
            " 37  Hours_of_treatment  8015 non-null   int64  \n",
            " 38  Courteous_staff     8015 non-null   int64  \n",
            " 39  Listening_doctor    8015 non-null   int64  \n",
            "dtypes: float64(7), int64(28), object(5)\n",
            "memory usage: 2.5+ MB\n"
          ]
        }
      ],
      "source": [
        "# Encoding binary variables\n",
        "# Binary features: Soft Drink, High Blood, Stroke, Overweight, Arthritis, Diabetes, Hyperlipidemia, Back Pain, Anxiety, Allergic Rhinitis, Reflux Esophagitis, and Asthma\n",
        "binary_cols = ['Soft_drink', 'HighBlood', 'Stroke', 'Overweight', 'Arthritis', 'Diabetes', 'Hyperlipidemia', 'BackPain', 'Anxiety', 'Allergic_rhinitis', 'Reflux_esophagitis', 'Asthma' ]\n",
        "binary_values = {'Yes': 1, 'No': 0}\n",
        "\n",
        "for col in binary_cols:\n",
        "  df[col] = df[col].replace(binary_values)\n",
        "\n",
        "# Confirm binary encoding\n",
        "\n",
        "df.info()"
      ]
    },
    {
      "cell_type": "code",
      "execution_count": null,
      "id": "bLm9FXOlhn90",
      "metadata": {
        "colab": {
          "base_uri": "https://localhost:8080/",
          "height": 175
        },
        "id": "bLm9FXOlhn90",
        "outputId": "71ce9295-9d0d-453f-d73b-9b18392aebfb"
      },
      "outputs": [
        {
          "data": {
            "text/html": [
              "<div>\n",
              "<style scoped>\n",
              "    .dataframe tbody tr th:only-of-type {\n",
              "        vertical-align: middle;\n",
              "    }\n",
              "\n",
              "    .dataframe tbody tr th {\n",
              "        vertical-align: top;\n",
              "    }\n",
              "\n",
              "    .dataframe thead th {\n",
              "        text-align: right;\n",
              "    }\n",
              "</style>\n",
              "<table border=\"1\" class=\"dataframe\">\n",
              "  <thead>\n",
              "    <tr style=\"text-align: right;\">\n",
              "      <th></th>\n",
              "      <th>Area</th>\n",
              "      <th>Gender</th>\n",
              "      <th>Initial_admin</th>\n",
              "      <th>Complication_risk</th>\n",
              "      <th>Services</th>\n",
              "    </tr>\n",
              "  </thead>\n",
              "  <tbody>\n",
              "    <tr>\n",
              "      <th>count</th>\n",
              "      <td>8015</td>\n",
              "      <td>8015</td>\n",
              "      <td>8015</td>\n",
              "      <td>8015</td>\n",
              "      <td>8015</td>\n",
              "    </tr>\n",
              "    <tr>\n",
              "      <th>unique</th>\n",
              "      <td>3</td>\n",
              "      <td>3</td>\n",
              "      <td>3</td>\n",
              "      <td>3</td>\n",
              "      <td>4</td>\n",
              "    </tr>\n",
              "    <tr>\n",
              "      <th>top</th>\n",
              "      <td>Rural</td>\n",
              "      <td>Female</td>\n",
              "      <td>Emergency Admission</td>\n",
              "      <td>Medium</td>\n",
              "      <td>Blood Work</td>\n",
              "    </tr>\n",
              "    <tr>\n",
              "      <th>freq</th>\n",
              "      <td>2715</td>\n",
              "      <td>4053</td>\n",
              "      <td>4042</td>\n",
              "      <td>3665</td>\n",
              "      <td>4219</td>\n",
              "    </tr>\n",
              "  </tbody>\n",
              "</table>\n",
              "</div>"
            ],
            "text/plain": [
              "         Area  Gender        Initial_admin Complication_risk    Services\n",
              "count    8015    8015                 8015              8015        8015\n",
              "unique      3       3                    3                 3           4\n",
              "top     Rural  Female  Emergency Admission            Medium  Blood Work\n",
              "freq     2715    4053                 4042              3665        4219"
            ]
          },
          "execution_count": 232,
          "metadata": {},
          "output_type": "execute_result"
        }
      ],
      "source": [
        "# View summary stats of remaining categorical types before one-hot encoding\n",
        "# Area, Gender, Initial Admin, Complication Risk, and Services to be encoded\n",
        "\n",
        "df.describe(include = 'object')"
      ]
    },
    {
      "cell_type": "code",
      "execution_count": null,
      "id": "QAalu87jZ2c_",
      "metadata": {
        "colab": {
          "base_uri": "https://localhost:8080/",
          "height": 317
        },
        "id": "QAalu87jZ2c_",
        "outputId": "5086a896-43da-4819-ab5c-7e6b8d3aef83"
      },
      "outputs": [
        {
          "data": {
            "text/html": [
              "<div>\n",
              "<style scoped>\n",
              "    .dataframe tbody tr th:only-of-type {\n",
              "        vertical-align: middle;\n",
              "    }\n",
              "\n",
              "    .dataframe tbody tr th {\n",
              "        vertical-align: top;\n",
              "    }\n",
              "\n",
              "    .dataframe thead th {\n",
              "        text-align: right;\n",
              "    }\n",
              "</style>\n",
              "<table border=\"1\" class=\"dataframe\">\n",
              "  <thead>\n",
              "    <tr style=\"text-align: right;\">\n",
              "      <th></th>\n",
              "      <th>Zip</th>\n",
              "      <th>Lat</th>\n",
              "      <th>Lng</th>\n",
              "      <th>Population</th>\n",
              "      <th>Children</th>\n",
              "      <th>Age</th>\n",
              "      <th>Income</th>\n",
              "      <th>ReAdmis</th>\n",
              "      <th>VitD_levels</th>\n",
              "      <th>Doc_visits</th>\n",
              "      <th>...</th>\n",
              "      <th>Initial_admin_Elective Admission</th>\n",
              "      <th>Initial_admin_Emergency Admission</th>\n",
              "      <th>Initial_admin_Observation Admission</th>\n",
              "      <th>Complication_risk_High</th>\n",
              "      <th>Complication_risk_Low</th>\n",
              "      <th>Complication_risk_Medium</th>\n",
              "      <th>Services_Blood Work</th>\n",
              "      <th>Services_CT Scan</th>\n",
              "      <th>Services_Intravenous</th>\n",
              "      <th>Services_MRI</th>\n",
              "    </tr>\n",
              "  </thead>\n",
              "  <tbody>\n",
              "    <tr>\n",
              "      <th>0</th>\n",
              "      <td>35621</td>\n",
              "      <td>34.34960</td>\n",
              "      <td>-86.72508</td>\n",
              "      <td>2951</td>\n",
              "      <td>1</td>\n",
              "      <td>53</td>\n",
              "      <td>86575.93</td>\n",
              "      <td>0</td>\n",
              "      <td>19.141466</td>\n",
              "      <td>6</td>\n",
              "      <td>...</td>\n",
              "      <td>0</td>\n",
              "      <td>1</td>\n",
              "      <td>0</td>\n",
              "      <td>0</td>\n",
              "      <td>0</td>\n",
              "      <td>1</td>\n",
              "      <td>1</td>\n",
              "      <td>0</td>\n",
              "      <td>0</td>\n",
              "      <td>0</td>\n",
              "    </tr>\n",
              "    <tr>\n",
              "      <th>1</th>\n",
              "      <td>32446</td>\n",
              "      <td>30.84513</td>\n",
              "      <td>-85.22907</td>\n",
              "      <td>11303</td>\n",
              "      <td>3</td>\n",
              "      <td>51</td>\n",
              "      <td>46805.99</td>\n",
              "      <td>0</td>\n",
              "      <td>18.940352</td>\n",
              "      <td>4</td>\n",
              "      <td>...</td>\n",
              "      <td>0</td>\n",
              "      <td>1</td>\n",
              "      <td>0</td>\n",
              "      <td>1</td>\n",
              "      <td>0</td>\n",
              "      <td>0</td>\n",
              "      <td>0</td>\n",
              "      <td>0</td>\n",
              "      <td>1</td>\n",
              "      <td>0</td>\n",
              "    </tr>\n",
              "    <tr>\n",
              "      <th>2</th>\n",
              "      <td>57110</td>\n",
              "      <td>43.54321</td>\n",
              "      <td>-96.63772</td>\n",
              "      <td>17125</td>\n",
              "      <td>3</td>\n",
              "      <td>53</td>\n",
              "      <td>14370.14</td>\n",
              "      <td>0</td>\n",
              "      <td>18.057507</td>\n",
              "      <td>4</td>\n",
              "      <td>...</td>\n",
              "      <td>1</td>\n",
              "      <td>0</td>\n",
              "      <td>0</td>\n",
              "      <td>0</td>\n",
              "      <td>0</td>\n",
              "      <td>1</td>\n",
              "      <td>1</td>\n",
              "      <td>0</td>\n",
              "      <td>0</td>\n",
              "      <td>0</td>\n",
              "    </tr>\n",
              "    <tr>\n",
              "      <th>3</th>\n",
              "      <td>56072</td>\n",
              "      <td>43.89744</td>\n",
              "      <td>-93.51479</td>\n",
              "      <td>2162</td>\n",
              "      <td>0</td>\n",
              "      <td>78</td>\n",
              "      <td>39741.49</td>\n",
              "      <td>0</td>\n",
              "      <td>16.576858</td>\n",
              "      <td>4</td>\n",
              "      <td>...</td>\n",
              "      <td>1</td>\n",
              "      <td>0</td>\n",
              "      <td>0</td>\n",
              "      <td>0</td>\n",
              "      <td>0</td>\n",
              "      <td>1</td>\n",
              "      <td>1</td>\n",
              "      <td>0</td>\n",
              "      <td>0</td>\n",
              "      <td>0</td>\n",
              "    </tr>\n",
              "    <tr>\n",
              "      <th>4</th>\n",
              "      <td>23181</td>\n",
              "      <td>37.59894</td>\n",
              "      <td>-76.88958</td>\n",
              "      <td>5287</td>\n",
              "      <td>1</td>\n",
              "      <td>22</td>\n",
              "      <td>1209.56</td>\n",
              "      <td>0</td>\n",
              "      <td>17.439069</td>\n",
              "      <td>5</td>\n",
              "      <td>...</td>\n",
              "      <td>1</td>\n",
              "      <td>0</td>\n",
              "      <td>0</td>\n",
              "      <td>0</td>\n",
              "      <td>1</td>\n",
              "      <td>0</td>\n",
              "      <td>0</td>\n",
              "      <td>1</td>\n",
              "      <td>0</td>\n",
              "      <td>0</td>\n",
              "    </tr>\n",
              "  </tbody>\n",
              "</table>\n",
              "<p>5 rows × 51 columns</p>\n",
              "</div>"
            ],
            "text/plain": [
              "     Zip       Lat       Lng  Population  Children  Age    Income  ReAdmis  \\\n",
              "0  35621  34.34960 -86.72508        2951         1   53  86575.93        0   \n",
              "1  32446  30.84513 -85.22907       11303         3   51  46805.99        0   \n",
              "2  57110  43.54321 -96.63772       17125         3   53  14370.14        0   \n",
              "3  56072  43.89744 -93.51479        2162         0   78  39741.49        0   \n",
              "4  23181  37.59894 -76.88958        5287         1   22   1209.56        0   \n",
              "\n",
              "   VitD_levels  Doc_visits  ...  Initial_admin_Elective Admission  \\\n",
              "0    19.141466           6  ...                                 0   \n",
              "1    18.940352           4  ...                                 0   \n",
              "2    18.057507           4  ...                                 1   \n",
              "3    16.576858           4  ...                                 1   \n",
              "4    17.439069           5  ...                                 1   \n",
              "\n",
              "   Initial_admin_Emergency Admission  Initial_admin_Observation Admission  \\\n",
              "0                                  1                                    0   \n",
              "1                                  1                                    0   \n",
              "2                                  0                                    0   \n",
              "3                                  0                                    0   \n",
              "4                                  0                                    0   \n",
              "\n",
              "   Complication_risk_High  Complication_risk_Low  Complication_risk_Medium  \\\n",
              "0                       0                      0                         1   \n",
              "1                       1                      0                         0   \n",
              "2                       0                      0                         1   \n",
              "3                       0                      0                         1   \n",
              "4                       0                      1                         0   \n",
              "\n",
              "   Services_Blood Work  Services_CT Scan  Services_Intravenous  Services_MRI  \n",
              "0                    1                 0                     0             0  \n",
              "1                    0                 0                     1             0  \n",
              "2                    1                 0                     0             0  \n",
              "3                    1                 0                     0             0  \n",
              "4                    0                 1                     0             0  \n",
              "\n",
              "[5 rows x 51 columns]"
            ]
          },
          "execution_count": 233,
          "metadata": {},
          "output_type": "execute_result"
        }
      ],
      "source": [
        "# Loop to create dummy variables\n",
        "for col in df:\n",
        "  if not pd.api.types.is_numeric_dtype(df[col]):\n",
        "    df = pd.get_dummies(df, columns = [col], prefix = col)\n",
        "\n",
        "# Confirm addition of dummies\n",
        "df.head()"
      ]
    },
    {
      "cell_type": "code",
      "execution_count": null,
      "id": "t7gH3j2DNjdU",
      "metadata": {
        "colab": {
          "base_uri": "https://localhost:8080/"
        },
        "id": "t7gH3j2DNjdU",
        "outputId": "2d1d3c62-89d8-46e7-c07c-f8831fd555ae"
      },
      "outputs": [
        {
          "name": "stdout",
          "output_type": "stream",
          "text": [
            "<class 'pandas.core.frame.DataFrame'>\n",
            "Int64Index: 8015 entries, 0 to 9998\n",
            "Data columns (total 51 columns):\n",
            " #   Column                               Non-Null Count  Dtype  \n",
            "---  ------                               --------------  -----  \n",
            " 0   Zip                                  8015 non-null   int64  \n",
            " 1   Lat                                  8015 non-null   float64\n",
            " 2   Lng                                  8015 non-null   float64\n",
            " 3   Population                           8015 non-null   int64  \n",
            " 4   Children                             8015 non-null   int64  \n",
            " 5   Age                                  8015 non-null   int64  \n",
            " 6   Income                               8015 non-null   float64\n",
            " 7   ReAdmis                              8015 non-null   int64  \n",
            " 8   VitD_levels                          8015 non-null   float64\n",
            " 9   Doc_visits                           8015 non-null   int64  \n",
            " 10  Full_meals_eaten                     8015 non-null   int64  \n",
            " 11  vitD_supp                            8015 non-null   int64  \n",
            " 12  Soft_drink                           8015 non-null   int64  \n",
            " 13  HighBlood                            8015 non-null   int64  \n",
            " 14  Stroke                               8015 non-null   int64  \n",
            " 15  Overweight                           8015 non-null   int64  \n",
            " 16  Arthritis                            8015 non-null   int64  \n",
            " 17  Diabetes                             8015 non-null   int64  \n",
            " 18  Hyperlipidemia                       8015 non-null   int64  \n",
            " 19  BackPain                             8015 non-null   int64  \n",
            " 20  Anxiety                              8015 non-null   int64  \n",
            " 21  Allergic_rhinitis                    8015 non-null   int64  \n",
            " 22  Reflux_esophagitis                   8015 non-null   int64  \n",
            " 23  Asthma                               8015 non-null   int64  \n",
            " 24  Initial_days                         8015 non-null   float64\n",
            " 25  TotalCharge                          8015 non-null   float64\n",
            " 26  Additional_charges                   8015 non-null   float64\n",
            " 27  Timely_admission                     8015 non-null   int64  \n",
            " 28  Timely_treatment                     8015 non-null   int64  \n",
            " 29  Timely_visits                        8015 non-null   int64  \n",
            " 30  Reliability                          8015 non-null   int64  \n",
            " 31  Options                              8015 non-null   int64  \n",
            " 32  Hours_of_treatment                   8015 non-null   int64  \n",
            " 33  Courteous_staff                      8015 non-null   int64  \n",
            " 34  Listening_doctor                     8015 non-null   int64  \n",
            " 35  Area_Rural                           8015 non-null   uint8  \n",
            " 36  Area_Suburban                        8015 non-null   uint8  \n",
            " 37  Area_Urban                           8015 non-null   uint8  \n",
            " 38  Gender_Female                        8015 non-null   uint8  \n",
            " 39  Gender_Male                          8015 non-null   uint8  \n",
            " 40  Gender_Nonbinary                     8015 non-null   uint8  \n",
            " 41  Initial_admin_Elective Admission     8015 non-null   uint8  \n",
            " 42  Initial_admin_Emergency Admission    8015 non-null   uint8  \n",
            " 43  Initial_admin_Observation Admission  8015 non-null   uint8  \n",
            " 44  Complication_risk_High               8015 non-null   uint8  \n",
            " 45  Complication_risk_Low                8015 non-null   uint8  \n",
            " 46  Complication_risk_Medium             8015 non-null   uint8  \n",
            " 47  Services_Blood Work                  8015 non-null   uint8  \n",
            " 48  Services_CT Scan                     8015 non-null   uint8  \n",
            " 49  Services_Intravenous                 8015 non-null   uint8  \n",
            " 50  Services_MRI                         8015 non-null   uint8  \n",
            "dtypes: float64(7), int64(28), uint8(16)\n",
            "memory usage: 2.3 MB\n"
          ]
        }
      ],
      "source": [
        "# Confrim all numeric data\n",
        "df.info()"
      ]
    },
    {
      "cell_type": "code",
      "execution_count": null,
      "id": "75f444f8-18c4-4c27-a71f-c7632a3e9417",
      "metadata": {
        "id": "75f444f8-18c4-4c27-a71f-c7632a3e9417"
      },
      "outputs": [],
      "source": [
        "# Calculate correlation values relative to target variable - Readmissions\n",
        "# Dataframe correlations relative to Readmissions\n",
        "df_corr = df.corr()['ReAdmis']"
      ]
    },
    {
      "cell_type": "code",
      "execution_count": null,
      "id": "Za_oquOpQgjp",
      "metadata": {
        "colab": {
          "base_uri": "https://localhost:8080/"
        },
        "id": "Za_oquOpQgjp",
        "outputId": "36394e2a-d4d3-43dd-f69f-3cbe6e191b86"
      },
      "outputs": [
        {
          "name": "stdout",
          "output_type": "stream",
          "text": [
            "ReAdmis                                1.000000\n",
            "Initial_days                           0.851399\n",
            "TotalCharge                            0.844674\n",
            "Services_CT Scan                       0.032910\n",
            "vitD_supp                              0.024866\n",
            "Initial_admin_Emergency Admission      0.023448\n",
            "Population                             0.016652\n",
            "Children                               0.016374\n",
            "VitD_levels                            0.015261\n",
            "BackPain                               0.015065\n",
            "Gender_Male                            0.013012\n",
            "Age                                    0.012902\n",
            "Soft_drink                             0.012820\n",
            "Services_MRI                           0.011999\n",
            "Complication_risk_Medium               0.011933\n",
            "Arthritis                              0.007983\n",
            "Hyperlipidemia                         0.007440\n",
            "Area_Urban                             0.007022\n",
            "Options                                0.006489\n",
            "Anxiety                                0.004894\n",
            "Zip                                    0.004799\n",
            "Additional_charges                     0.001384\n",
            "Gender_Nonbinary                       0.001164\n",
            "Doc_visits                             0.001034\n",
            "Lng                                    0.001011\n",
            "Timely_treatment                       0.000623\n",
            "Reflux_esophagitis                     0.000614\n",
            "Area_Suburban                          0.000451\n",
            "Overweight                            -0.003719\n",
            "Complication_risk_High                -0.004450\n",
            "Services_Blood Work                   -0.005074\n",
            "Diabetes                              -0.005306\n",
            "Initial_admin_Observation Admission   -0.006303\n",
            "Allergic_rhinitis                     -0.006871\n",
            "Area_Rural                            -0.007438\n",
            "Stroke                                -0.007483\n",
            "Income                                -0.008058\n",
            "Reliability                           -0.008700\n",
            "HighBlood                             -0.009053\n",
            "Complication_risk_Low                 -0.009393\n",
            "Full_meals_eaten                      -0.012951\n",
            "Courteous_staff                       -0.012984\n",
            "Gender_Female                         -0.013318\n",
            "Lat                                   -0.013451\n",
            "Listening_doctor                      -0.013472\n",
            "Hours_of_treatment                    -0.013629\n",
            "Asthma                                -0.015064\n",
            "Timely_visits                         -0.016261\n",
            "Timely_admission                      -0.020046\n",
            "Initial_admin_Elective Admission      -0.020803\n",
            "Services_Intravenous                  -0.022939\n",
            "Name: ReAdmis, dtype: float64\n"
          ]
        }
      ],
      "source": [
        "# Sort correlations\n",
        "correlations = df_corr.sort_values(ascending = False)\n",
        "print(correlations)"
      ]
    },
    {
      "cell_type": "code",
      "execution_count": null,
      "id": "Eqm08RHHLe9r",
      "metadata": {
        "colab": {
          "base_uri": "https://localhost:8080/",
          "height": 671
        },
        "id": "Eqm08RHHLe9r",
        "outputId": "2ed062ba-ec2b-4547-9eb9-338fcb16a6f7"
      },
      "outputs": [
        {
          "data": {
            "image/png": "[encoded data removed]",
            "text/plain": [
              "<Figure size 432x288 with 2 Axes>"
            ]
          },
          "metadata": {
            "needs_background": "light"
          },
          "output_type": "display_data"
        }
      ],
      "source": [
        "# Heatmap of correlations\n",
        "\n",
        "sns.heatmap(df.corr(), cmap = 'RdYlGn');"
      ]
    },
    {
      "cell_type": "code",
      "execution_count": null,
      "id": "3916867e-8258-416b-a030-270b12a1dce4",
      "metadata": {
        "colab": {
          "base_uri": "https://localhost:8080/"
        },
        "id": "3916867e-8258-416b-a030-270b12a1dce4",
        "outputId": "2e5becb5-59a2-4cab-c741-9fce8224e3d0"
      },
      "outputs": [
        {
          "name": "stdout",
          "output_type": "stream",
          "text": [
            "Percentages of Readmissions from Original Dataset: \n",
            "No     0.6331\n",
            "Yes    0.3669\n",
            "Name: ReAdmis, dtype: float64\n",
            "\n",
            " ---------------------------- \n",
            "\n",
            "Percentages of Readmissions from Cleaned Data: \n",
            "0    0.63219\n",
            "1    0.36781\n",
            "Name: ReAdmis, dtype: float64\n"
          ]
        }
      ],
      "source": [
        "# Compare percentages of readmissions before and after cleaning dataframe\n",
        "pct_readmis_full = data['ReAdmis'].value_counts() / (data['ReAdmis']).shape[0]\n",
        "pct_readmis_clean = df['ReAdmis'].value_counts() / (df['ReAdmis']).shape[0]\n",
        "\n",
        "print(\"Percentages of Readmissions from Original Dataset: \" + '\\n' + str(pct_readmis_full))\n",
        "print('\\n ---------------------------- \\n')\n",
        "print(\"Percentages of Readmissions from Cleaned Data: \"  + '\\n' + str(pct_readmis_clean))"
      ]
    },
    {
      "cell_type": "markdown",
      "source": [
        "<a name=\"model-tune\"></a>\n",
        "# Model Refining\n",
        "- Use Select K Best to identify features relative to target feature, Readmissions\n",
        "  - Retain features that measure below alpha or 0.05\n",
        "- Create new dataframe with best features\n",
        "- Use standard scaler to standardize data\n",
        "- Use 70/30 train/test split for model training and validation\n",
        "- Hyperparameter tuning with GridSearchCV\n",
        "- Plot model complexity and corroborate optimized number of neighbors"
      ],
      "metadata": {
        "id": "kCtc-xn6Gb7-"
      },
      "id": "kCtc-xn6Gb7-"
    },
    {
      "cell_type": "code",
      "execution_count": null,
      "id": "9dQVhdZRanmn",
      "metadata": {
        "colab": {
          "base_uri": "https://localhost:8080/"
        },
        "id": "9dQVhdZRanmn",
        "outputId": "e972715b-66cc-4736-c42b-41739dd7702f"
      },
      "outputs": [
        {
          "name": "stdout",
          "output_type": "stream",
          "text": [
            "(8015, 50)\n",
            "(8015,)\n"
          ]
        }
      ],
      "source": [
        "# Feature selection for knn analysis\n",
        "# SELECT K BEST\n",
        "\n",
        "# assign values for x and y\n",
        "x_best = df.drop(['ReAdmis'], axis = 1)\n",
        "y_best = df['ReAdmis']\n",
        "\n",
        "print(x_best.shape)\n",
        "print(y_best.shape)"
      ]
    },
    {
      "cell_type": "code",
      "execution_count": null,
      "id": "NSbsMQmwarT9",
      "metadata": {
        "id": "NSbsMQmwarT9"
      },
      "outputs": [],
      "source": [
        "# Make SelectKBest model\n",
        "features = x_best.columns\n",
        "\n",
        "from sklearn.feature_selection import SelectKBest\n",
        "from sklearn.feature_selection import f_classif\n",
        "\n",
        "best = SelectKBest(score_func = f_classif, k = 'all')\n",
        "\n",
        "x_best_model = best.fit_transform(x_best, y_best)\n"
      ]
    },
    {
      "cell_type": "code",
      "execution_count": null,
      "id": "yg0aeTXrarX1",
      "metadata": {
        "colab": {
          "base_uri": "https://localhost:8080/"
        },
        "id": "yg0aeTXrarX1",
        "outputId": "b1960e47-1182-460a-f3bf-fa2d6ed13fc1"
      },
      "outputs": [
        {
          "name": "stdout",
          "output_type": "stream",
          "text": [
            "                                Feature   p_value\n",
            "24                          TotalCharge  0.000000\n",
            "23                         Initial_days  0.000000\n",
            "47                     Services_CT Scan  0.003212\n",
            "10                            vitD_supp  0.026003\n",
            "41    Initial_admin_Emergency Admission  0.035801\n",
            "48                 Services_Intravenous  0.040015\n",
            "40     Initial_admin_Elective Admission  0.062559\n",
            "26                     Timely_admission  0.072723\n",
            "3                            Population  0.136052\n",
            "4                              Children  0.142715\n",
            "28                        Timely_visits  0.145491\n",
            "7                           VitD_levels  0.171910\n",
            "18                             BackPain  0.177468\n",
            "22                               Asthma  0.177487\n",
            "31                   Hours_of_treatment  0.222468\n",
            "33                     Listening_doctor  0.227822\n",
            "1                                   Lat  0.228562\n",
            "37                        Gender_Female  0.233179\n",
            "38                          Gender_Male  0.244096\n",
            "32                      Courteous_staff  0.245123\n",
            "9                      Full_meals_eaten  0.246319\n",
            "5                                   Age  0.248117\n",
            "11                           Soft_drink  0.251135\n",
            "49                         Services_MRI  0.282768\n",
            "45             Complication_risk_Medium  0.285446\n",
            "44                Complication_risk_Low  0.400438\n",
            "12                            HighBlood  0.417723\n",
            "29                          Reliability  0.436088\n",
            "6                                Income  0.470743\n",
            "15                            Arthritis  0.474872\n",
            "13                               Stroke  0.502976\n",
            "17                       Hyperlipidemia  0.505424\n",
            "34                           Area_Rural  0.505549\n",
            "36                           Area_Urban  0.529641\n",
            "20                    Allergic_rhinitis  0.538544\n",
            "30                              Options  0.561354\n",
            "42  Initial_admin_Observation Admission  0.572622\n",
            "16                             Diabetes  0.634828\n",
            "46                  Services_Blood Work  0.649683\n",
            "19                              Anxiety  0.661332\n",
            "0                                   Zip  0.667512\n",
            "43               Complication_risk_High  0.690391\n",
            "14                           Overweight  0.739193\n",
            "25                   Additional_charges  0.901397\n",
            "39                     Gender_Nonbinary  0.917004\n",
            "8                            Doc_visits  0.926253\n",
            "2                                   Lng  0.927871\n",
            "27                     Timely_treatment  0.955537\n",
            "21                   Reflux_esophagitis  0.956138\n",
            "35                        Area_Suburban  0.967763\n"
          ]
        }
      ],
      "source": [
        "# Finding p-values\n",
        "p_values = pd.DataFrame({'Feature': x_best.columns, 'p_value': best.pvalues_}).sort_values('p_value')\n",
        "\n",
        "print(p_values)"
      ]
    },
    {
      "cell_type": "code",
      "execution_count": null,
      "id": "khscUdN6arar",
      "metadata": {
        "colab": {
          "base_uri": "https://localhost:8080/",
          "height": 238
        },
        "id": "khscUdN6arar",
        "outputId": "eb2d98de-87d8-45ef-87e8-4009ec513270"
      },
      "outputs": [
        {
          "data": {
            "text/html": [
              "<div>\n",
              "<style scoped>\n",
              "    .dataframe tbody tr th:only-of-type {\n",
              "        vertical-align: middle;\n",
              "    }\n",
              "\n",
              "    .dataframe tbody tr th {\n",
              "        vertical-align: top;\n",
              "    }\n",
              "\n",
              "    .dataframe thead th {\n",
              "        text-align: right;\n",
              "    }\n",
              "</style>\n",
              "<table border=\"1\" class=\"dataframe\">\n",
              "  <thead>\n",
              "    <tr style=\"text-align: right;\">\n",
              "      <th></th>\n",
              "      <th>Feature</th>\n",
              "      <th>p_value</th>\n",
              "    </tr>\n",
              "  </thead>\n",
              "  <tbody>\n",
              "    <tr>\n",
              "      <th>24</th>\n",
              "      <td>TotalCharge</td>\n",
              "      <td>0.000000</td>\n",
              "    </tr>\n",
              "    <tr>\n",
              "      <th>23</th>\n",
              "      <td>Initial_days</td>\n",
              "      <td>0.000000</td>\n",
              "    </tr>\n",
              "    <tr>\n",
              "      <th>47</th>\n",
              "      <td>Services_CT Scan</td>\n",
              "      <td>0.003212</td>\n",
              "    </tr>\n",
              "    <tr>\n",
              "      <th>10</th>\n",
              "      <td>vitD_supp</td>\n",
              "      <td>0.026003</td>\n",
              "    </tr>\n",
              "    <tr>\n",
              "      <th>41</th>\n",
              "      <td>Initial_admin_Emergency Admission</td>\n",
              "      <td>0.035801</td>\n",
              "    </tr>\n",
              "    <tr>\n",
              "      <th>48</th>\n",
              "      <td>Services_Intravenous</td>\n",
              "      <td>0.040015</td>\n",
              "    </tr>\n",
              "  </tbody>\n",
              "</table>\n",
              "</div>"
            ],
            "text/plain": [
              "                              Feature   p_value\n",
              "24                        TotalCharge  0.000000\n",
              "23                       Initial_days  0.000000\n",
              "47                   Services_CT Scan  0.003212\n",
              "10                          vitD_supp  0.026003\n",
              "41  Initial_admin_Emergency Admission  0.035801\n",
              "48               Services_Intravenous  0.040015"
            ]
          },
          "execution_count": 242,
          "metadata": {},
          "output_type": "execute_result"
        }
      ],
      "source": [
        "# View features that measure below alpha (0.05)\n",
        "p_values[p_values['p_value'] < 0.05]"
      ]
    },
    {
      "cell_type": "code",
      "execution_count": null,
      "id": "wAMF__3Earde",
      "metadata": {
        "colab": {
          "base_uri": "https://localhost:8080/"
        },
        "id": "wAMF__3Earde",
        "outputId": "a5516bd5-a02c-43c7-856d-2209498f1d05"
      },
      "outputs": [
        {
          "name": "stdout",
          "output_type": "stream",
          "text": [
            "24                          TotalCharge\n",
            "23                         Initial_days\n",
            "47                     Services_CT Scan\n",
            "10                            vitD_supp\n",
            "41    Initial_admin_Emergency Admission\n",
            "48                 Services_Intravenous\n",
            "Name: Feature, dtype: object\n"
          ]
        }
      ],
      "source": [
        "# Print features to keep\n",
        "features_to_keep = p_values['Feature'][p_values['p_value'] < 0.05]\n",
        "\n",
        "print(features_to_keep)"
      ]
    },
    {
      "cell_type": "code",
      "execution_count": null,
      "id": "t1BupTLGbBry",
      "metadata": {
        "colab": {
          "base_uri": "https://localhost:8080/"
        },
        "id": "t1BupTLGbBry",
        "outputId": "512b3877-c4d8-40c0-fbd1-eb5dfb638bf5"
      },
      "outputs": [
        {
          "name": "stdout",
          "output_type": "stream",
          "text": [
            "<class 'pandas.core.frame.DataFrame'>\n",
            "Int64Index: 8015 entries, 0 to 9998\n",
            "Data columns (total 7 columns):\n",
            " #   Column                             Non-Null Count  Dtype  \n",
            "---  ------                             --------------  -----  \n",
            " 0   ReAdmis                            8015 non-null   int64  \n",
            " 1   TotalCharge                        8015 non-null   float64\n",
            " 2   Initial_days                       8015 non-null   float64\n",
            " 3   Services_CT Scan                   8015 non-null   uint8  \n",
            " 4   vitD_supp                          8015 non-null   int64  \n",
            " 5   Initial_admin_Emergency Admission  8015 non-null   uint8  \n",
            " 6   Services_Intravenous               8015 non-null   uint8  \n",
            "dtypes: float64(2), int64(2), uint8(3)\n",
            "memory usage: 336.6 KB\n"
          ]
        }
      ],
      "source": [
        "# Filter df and include only features found significant using SelectKBest\n",
        "\n",
        "t1 = df [['ReAdmis', 'TotalCharge', 'Initial_days', 'Services_CT Scan', 'vitD_supp', 'Initial_admin_Emergency Admission', 'Services_Intravenous']]\n",
        "\n",
        "# View new df\n",
        "t1.info()"
      ]
    },
    {
      "cell_type": "code",
      "execution_count": null,
      "id": "Ol2q5xTPoW2e",
      "metadata": {
        "colab": {
          "base_uri": "https://localhost:8080/",
          "height": 143
        },
        "id": "Ol2q5xTPoW2e",
        "outputId": "2e2be08d-fd6f-4cb9-bdd2-5cc7440509be"
      },
      "outputs": [
        {
          "data": {
            "text/html": [
              "<div>\n",
              "<style scoped>\n",
              "    .dataframe tbody tr th:only-of-type {\n",
              "        vertical-align: middle;\n",
              "    }\n",
              "\n",
              "    .dataframe tbody tr th {\n",
              "        vertical-align: top;\n",
              "    }\n",
              "\n",
              "    .dataframe thead th {\n",
              "        text-align: right;\n",
              "    }\n",
              "</style>\n",
              "<table border=\"1\" class=\"dataframe\">\n",
              "  <thead>\n",
              "    <tr style=\"text-align: right;\">\n",
              "      <th></th>\n",
              "      <th>ReAdmis</th>\n",
              "      <th>TotalCharge</th>\n",
              "      <th>Initial_days</th>\n",
              "      <th>Services_CT Scan</th>\n",
              "      <th>vitD_supp</th>\n",
              "      <th>Initial_admin_Emergency Admission</th>\n",
              "      <th>Services_Intravenous</th>\n",
              "    </tr>\n",
              "  </thead>\n",
              "  <tbody>\n",
              "    <tr>\n",
              "      <th>0</th>\n",
              "      <td>0.0</td>\n",
              "      <td>-0.724306</td>\n",
              "      <td>-0.907278</td>\n",
              "      <td>-0.378207</td>\n",
              "      <td>-0.639219</td>\n",
              "      <td>0.991428</td>\n",
              "      <td>-0.67250</td>\n",
              "    </tr>\n",
              "    <tr>\n",
              "      <th>1</th>\n",
              "      <td>0.0</td>\n",
              "      <td>-0.510493</td>\n",
              "      <td>-0.734737</td>\n",
              "      <td>-0.378207</td>\n",
              "      <td>1.072554</td>\n",
              "      <td>0.991428</td>\n",
              "      <td>1.48699</td>\n",
              "    </tr>\n",
              "    <tr>\n",
              "      <th>2</th>\n",
              "      <td>0.0</td>\n",
              "      <td>-1.316705</td>\n",
              "      <td>-1.128036</td>\n",
              "      <td>-0.378207</td>\n",
              "      <td>-0.639219</td>\n",
              "      <td>-1.008646</td>\n",
              "      <td>-0.67250</td>\n",
              "    </tr>\n",
              "  </tbody>\n",
              "</table>\n",
              "</div>"
            ],
            "text/plain": [
              "   ReAdmis  TotalCharge  Initial_days  Services_CT Scan  vitD_supp  \\\n",
              "0      0.0    -0.724306     -0.907278         -0.378207  -0.639219   \n",
              "1      0.0    -0.510493     -0.734737         -0.378207   1.072554   \n",
              "2      0.0    -1.316705     -1.128036         -0.378207  -0.639219   \n",
              "\n",
              "   Initial_admin_Emergency Admission  Services_Intravenous  \n",
              "0                           0.991428              -0.67250  \n",
              "1                           0.991428               1.48699  \n",
              "2                          -1.008646              -0.67250  "
            ]
          },
          "execution_count": 245,
          "metadata": {},
          "output_type": "execute_result"
        }
      ],
      "source": [
        "# Import Standard Scaler to standardize data\n",
        "from sklearn.preprocessing import StandardScaler\n",
        "\n",
        "# Define standard scaler\n",
        "scaler = StandardScaler()\n",
        "\n",
        "# For PA dataframe of cleaned and standardize data\n",
        "# Separate explanatory variables and use fit_transrorm\n",
        "t1_x = t1.drop(['ReAdmis'], axis = 1)\n",
        "t1_x_std = pd.DataFrame(scaler.fit_transform(t1_x), columns = t1_x.columns)\n",
        "\n",
        "# Isolate response variable\n",
        "t1_y = t1['ReAdmis']\n",
        "\n",
        "# Prepare for concat\n",
        "std_df = [t1_y, t1_x_std]\n",
        "\n",
        "# Concat for pa submission\n",
        "data_std = pd.concat(std_df, axis = 1)\n",
        "\n",
        "data_std.head(3)"
      ]
    },
    {
      "cell_type": "code",
      "execution_count": null,
      "id": "bm1nn-HOmTbR",
      "metadata": {
        "colab": {
          "base_uri": "https://localhost:8080/"
        },
        "id": "bm1nn-HOmTbR",
        "outputId": "79b10d30-a5a8-4e85-fd28-123895286be1"
      },
      "outputs": [
        {
          "name": "stdout",
          "output_type": "stream",
          "text": [
            "Train Set\n",
            "(5610, 6)\n",
            "(5610,)\n",
            "\n",
            " ----- \n",
            "\n",
            "Test Set\n",
            "(2405, 6)\n",
            "(2405,)\n"
          ]
        }
      ],
      "source": [
        "# Train/Test split Post Select K Best\n",
        "# Import train test split\n",
        "from sklearn.model_selection import train_test_split\n",
        "\n",
        "# Define response and explanatory variables\n",
        "X = t1.drop(['ReAdmis'], axis = 1)\n",
        "y = t1['ReAdmis']\n",
        "\n",
        "# Split response and explanatory variables into train and test sets\n",
        "# Stratify to retain proportional response data representation\n",
        "x_train, x_test, y_train, y_test = train_test_split(X, y, train_size = 0.7, test_size = 0.3, random_state = 61, stratify=y)\n",
        "\n",
        "# Print shape of train/test sets\n",
        "print('Train Set')\n",
        "print(x_train.shape)\n",
        "print(y_train.shape)\n",
        "print('\\n ----- \\n')\n",
        "print('Test Set')\n",
        "print(x_test.shape)\n",
        "print(y_test.shape)"
      ]
    },
    {
      "cell_type": "code",
      "execution_count": null,
      "id": "qzyXgNQqk08d",
      "metadata": {
        "id": "qzyXgNQqk08d"
      },
      "outputs": [],
      "source": [
        "# Files for Performance Assessment\n",
        "# Standardize train and test data and put into data frames\n",
        "x_train_std_pa = pd.DataFrame(scaler.fit_transform(x_train), columns = x_train.columns)\n",
        "x_test_std_pa = pd.DataFrame(scaler.transform(x_test), columns = x_test.columns)\n",
        "\n",
        "# Make copy of response variables for y train/test\n",
        "y_train_pa = y_train.copy(deep = True)\n",
        "y_test_pa = y_test.copy(deep = True)\n",
        "\n",
        "# Prep df's for concat\n",
        "train_df = [y_train_pa, x_train_std_pa]\n",
        "test_df = [y_test_pa, x_test_std_pa]\n",
        "\n",
        "# Combine train/test for corresponding df's\n",
        "train_std = pd.concat(train_df, axis = 1)\n",
        "test_std = pd.concat(test_df, axis = 1)"
      ]
    },
    {
      "cell_type": "code",
      "execution_count": null,
      "id": "UblseVYzqf_m",
      "metadata": {
        "id": "UblseVYzqf_m"
      },
      "outputs": [],
      "source": [
        "# Standardize train/test data - using Standard Scaler\n",
        "\n",
        "# Standardize data\n",
        "# Train data uses method fit_transform()\n",
        "x_train_std =  scaler.fit_transform(x_train)\n",
        "\n",
        "# Test data standardized with transform() method - want to keep the scale from train data to use on test data, not include test data in the scaling\n",
        "x_test_std = scaler.transform(x_test)"
      ]
    },
    {
      "cell_type": "code",
      "execution_count": null,
      "id": "dgF5cOzzDC5C",
      "metadata": {
        "id": "dgF5cOzzDC5C"
      },
      "outputs": [],
      "source": [
        "# Employ GridSearchCV for hyperparameter tuning and KNN optimization\n",
        "# Import KNN classification model\n",
        "from sklearn.neighbors import KNeighborsClassifier\n",
        "from sklearn.model_selection import GridSearchCV\n",
        "\n",
        "# Define parameters, selecting upto 1% of train data for k-neighbor optimization, look for optimized weights, algorithm, and metric\n",
        "params = {'n_neighbors': np.arange(1, 56), 'weights': ('uniform', 'distance'), 'algorithm': ('auto', 'ball_tree', 'kd_tree', 'brute'), 'metric': ('manhattan', 'euclidean', 'minkowski')}"
      ]
    },
    {
      "cell_type": "code",
      "execution_count": null,
      "id": "LaJ80E6jDC9T",
      "metadata": {
        "colab": {
          "base_uri": "https://localhost:8080/"
        },
        "id": "LaJ80E6jDC9T",
        "outputId": "ed6586b8-b6ce-4ae8-9b6d-dc7bae294900"
      },
      "outputs": [
        {
          "name": "stdout",
          "output_type": "stream",
          "text": [
            "Best Parameters: {'algorithm': 'auto', 'metric': 'manhattan', 'n_neighbors': 14, 'weights': 'distance'}\n",
            "Best Score: 0.97825311942959\n"
          ]
        }
      ],
      "source": [
        "# K-nearest neighbors\n",
        "# Define knn classifier --- NOTE: default values --- n_neighbors = '5', weights = 'uniform', metric = 'minkowski', algorithm = 'auto'\n",
        "knn = KNeighborsClassifier()\n",
        "\n",
        "# KNN GridSearchCV using 5-fold cross validation\n",
        "knn_cv = GridSearchCV(knn, params, cv = 5)\n",
        "\n",
        "# Fit model\n",
        "grid_fit = knn_cv.fit(x_train_std, y_train)\n",
        "\n",
        "# Print results\n",
        "print(\"Best Parameters: \" + str(grid_fit.best_params_))\n",
        "print(\"Best Score: \" + str(grid_fit.best_score_))"
      ]
    },
    {
      "cell_type": "code",
      "execution_count": null,
      "id": "aZc26jsYkWAu",
      "metadata": {
        "colab": {
          "base_uri": "https://localhost:8080/",
          "height": 472
        },
        "id": "aZc26jsYkWAu",
        "outputId": "fed24c0d-3d60-4e83-9ce6-d87ea5c5a990"
      },
      "outputs": [
        {
          "data": {
            "image/png": "[encoded data removed]",
            "text/plain": [
              "<Figure size 432x288 with 1 Axes>"
            ]
          },
          "metadata": {
            "needs_background": "light"
          },
          "output_type": "display_data"
        }
      ],
      "source": [
        "# Model complexity of k neighbors\n",
        "# (Geeks for Geeks, 2020)\n",
        "\n",
        "neighbors = list(range(1, 56))\n",
        "n_test =[]\n",
        "n_train =[]\n",
        "for i in neighbors:\n",
        "    knn = KNeighborsClassifier(n_neighbors = i)\n",
        "    knn.fit(x_train_std, y_train)\n",
        "    z = knn.score(x_test_std, y_test)\n",
        "    t = knn.score(x_train_std, y_train)\n",
        "    n_test.append(z)\n",
        "    n_train.append(t)\n",
        "\n",
        "plt.plot(neighbors, n_test, color ='red', label ='Test Accuracy')\n",
        "plt.plot(neighbors, n_train, color ='b', label ='Train Accuracy')\n",
        "plt.xlabel('K-neighbor Values')\n",
        "plt.title('Best Value for K')\n",
        "plt.legend()\n",
        "plt.show()"
      ]
    },
    {
      "cell_type": "markdown",
      "source": [
        "<a name=\"model\"></a>\n",
        "# Model\n",
        "- Instantiate k-nearest neighbor classifier\n",
        "- Set knn classifier parameters to optimized perfomance as found through GridSearchCV\n",
        "- Fit model to train data\n",
        "- Calculate model predictions\n",
        "- Calculate accuracy scores based on test data set\n",
        "- Compute confusion matrix and visualize"
      ],
      "metadata": {
        "id": "aCVpV0APP5Sh"
      },
      "id": "aCVpV0APP5Sh"
    },
    {
      "cell_type": "code",
      "execution_count": null,
      "id": "MoY_VtFqDC_0",
      "metadata": {
        "id": "MoY_VtFqDC_0"
      },
      "outputs": [],
      "source": [
        "# Classification model after finding best parameters\n",
        "# Define best classifier based on GridSearchCV results\n",
        "best_knn = KNeighborsClassifier(n_neighbors = 14, weights = 'distance', algorithm = 'auto', metric = 'manhattan')\n",
        "\n",
        "# Fit best model\n",
        "model = best_knn.fit(x_train_std, y_train)\n",
        "\n",
        "# Best Predictions\n",
        "predictions = model.predict(x_test_std)"
      ]
    },
    {
      "cell_type": "code",
      "execution_count": null,
      "id": "OVu8nk4uoqdF",
      "metadata": {
        "colab": {
          "base_uri": "https://localhost:8080/"
        },
        "id": "OVu8nk4uoqdF",
        "outputId": "58f48e0c-0455-4e3f-cc39-3b07743d1133"
      },
      "outputs": [
        {
          "name": "stdout",
          "output_type": "stream",
          "text": [
            "Accuracy Score: 97.630%\n"
          ]
        }
      ],
      "source": [
        "# Import accruacy_score\n",
        "from sklearn.metrics import accuracy_score\n",
        "\n",
        "# Calculate Accuracy score of test predictions\n",
        "accuracy_score = accuracy_score(y_test, predictions)\n",
        "\n",
        "print(\"Accuracy Score: %0.3f\" % (accuracy_score*100) + \"%\")"
      ]
    },
    {
      "cell_type": "markdown",
      "source": [
        "<a name=\"results\"></a>\n",
        "# Results\n",
        "- Compute confusion matrix and visualize\n",
        "- Performance Calculations: Accruacy, Precision, Sensitivity/Recall, Specificity\n",
        "- Classificaiton report\n",
        "- Plot ROC curve\n",
        "- Calculate ROC-AUC score"
      ],
      "metadata": {
        "id": "0Zc3jRx_PLw-"
      },
      "id": "0Zc3jRx_PLw-"
    },
    {
      "cell_type": "code",
      "execution_count": null,
      "id": "n4nN8eLy8Vdo",
      "metadata": {
        "colab": {
          "base_uri": "https://localhost:8080/",
          "height": 576
        },
        "id": "n4nN8eLy8Vdo",
        "outputId": "222488b8-4c55-4702-c960-b4846dee5a67"
      },
      "outputs": [
        {
          "name": "stdout",
          "output_type": "stream",
          "text": [
            "Confusion Matrix \n",
            "\n",
            "[[1497   23]\n",
            " [  34  851]]\n",
            "\n",
            "\n"
          ]
        },
        {
          "data": {
            "image/png": "[encoded data removed]",
            "text/plain": [
              "<Figure size 432x288 with 2 Axes>"
            ]
          },
          "metadata": {
            "needs_background": "light"
          },
          "output_type": "display_data"
        }
      ],
      "source": [
        "# Assess metrics\n",
        "from sklearn.metrics import confusion_matrix\n",
        "from sklearn import metrics\n",
        "\n",
        "# Run confusion matrix\n",
        "matrix = confusion_matrix(y_test, predictions)\n",
        "\n",
        "# Print results\n",
        "# SOURCE https://www.w3schools.com/python/python_ml_confusion_matrix.asp\n",
        "print(\"Confusion Matrix\", '\\n')\n",
        "print(matrix)\n",
        "print('\\n')\n",
        "matrix_visual = metrics.ConfusionMatrixDisplay(confusion_matrix = matrix, display_labels = [False, True])\n",
        "matrix_visual.plot()\n",
        "plt.title(\"Confusion Matrix Results\")\n",
        "plt.show()"
      ]
    },
    {
      "cell_type": "code",
      "execution_count": null,
      "id": "dDNEa3xqocQd",
      "metadata": {
        "colab": {
          "base_uri": "https://localhost:8080/"
        },
        "id": "dDNEa3xqocQd",
        "outputId": "88157caf-8314-423e-e656-9fdb665803e0"
      },
      "outputs": [
        {
          "name": "stdout",
          "output_type": "stream",
          "text": [
            "True Negatives: 1497\n",
            "False Negatives: 34\n",
            "True Positives: 851\n",
            "False Positives: 23\n"
          ]
        }
      ],
      "source": [
        "# define true postive, true negative, false positive, false negative variables\n",
        "tn = matrix[0,0]\n",
        "fp = matrix[0,1]\n",
        "fn = matrix[1,0]\n",
        "tp = matrix[1,1]\n",
        "\n",
        "print('True Negatives: ' + str(tn))\n",
        "print('False Negatives: ' + str(fn))\n",
        "print('True Positives: ' + str(tp))\n",
        "print('False Positives: ' + str(fp))\n",
        "\n"
      ]
    },
    {
      "cell_type": "code",
      "execution_count": null,
      "id": "ClA8mwj227_q",
      "metadata": {
        "colab": {
          "base_uri": "https://localhost:8080/"
        },
        "id": "ClA8mwj227_q",
        "outputId": "c4c9723d-f3c4-4032-bb08-b2997532d855"
      },
      "outputs": [
        {
          "name": "stdout",
          "output_type": "stream",
          "text": [
            "Accuracy: 0.976\n",
            "Precision:  0.974\n",
            "Sensitivity/Recall: 0.962\n",
            "Specificty: 0.985\n"
          ]
        }
      ],
      "source": [
        "# Performance Calculations - Accruacy, Precision, Sensitivity/Recall, Specificity\n",
        "# Population total\n",
        "population = tp + tn + fp + fn\n",
        "\n",
        "\n",
        "# Accuracy calculation --- sum true pos + true neg / population\n",
        "# How often is the model correct?\n",
        "accuracy = (tp + tn) / population\n",
        "\n",
        "# Precision calcualtion --- true pos / sum of true pos + false pos\n",
        "# Of the positives predicted, what percentage is truly positive?\n",
        "precision = tp / (tp+fp)\n",
        "\n",
        "\n",
        "# Sensitivity/Recall calculation --- true positivies / sum of true pos + false neg\n",
        "# Of all the positive cases, what percentage are predicted positive? / how good is model at predicting positive cases\n",
        "sensitivity = tp / (tp + fn)\n",
        "\n",
        "# Specificity calculation --- true negatives / sum of true neg + false pos\n",
        "# How well the model is at prediciting negative results?\n",
        "specificity = tn / (tn + fp)\n",
        "\n",
        "\n",
        "print(\"Accuracy: %0.3f\" % (accuracy))\n",
        "print(\"Precision:  %0.3f\" % (precision))\n",
        "print(\"Sensitivity/Recall: %0.3f\" % (sensitivity))\n",
        "print(\"Specificty: %0.3f\" % (specificity))\n"
      ]
    },
    {
      "cell_type": "code",
      "execution_count": null,
      "id": "IlYpwfTPqeHS",
      "metadata": {
        "colab": {
          "base_uri": "https://localhost:8080/"
        },
        "id": "IlYpwfTPqeHS",
        "outputId": "b9a12768-46c2-4c9f-a5f0-c29c1927916d"
      },
      "outputs": [
        {
          "name": "stdout",
          "output_type": "stream",
          "text": [
            "\n",
            "\n",
            "Classification Report \n",
            "\n",
            "              precision    recall  f1-score   support\n",
            "\n",
            "           0       0.98      0.98      0.98      1520\n",
            "           1       0.97      0.96      0.97       885\n",
            "\n",
            "    accuracy                           0.98      2405\n",
            "   macro avg       0.98      0.97      0.97      2405\n",
            "weighted avg       0.98      0.98      0.98      2405\n",
            "\n"
          ]
        }
      ],
      "source": [
        "# Assess metrics - Classification Report\n",
        "from sklearn.metrics import classification_report\n",
        "\n",
        "\n",
        "# Confusiton Matrix and Classification Report\n",
        "class_report = classification_report(y_test, predictions)\n",
        "\n",
        "\n",
        "print('\\n')\n",
        "print(\"Classification Report\", '\\n')\n",
        "print(class_report)"
      ]
    },
    {
      "cell_type": "code",
      "execution_count": null,
      "id": "wfVLzlt_b0zs",
      "metadata": {
        "colab": {
          "base_uri": "https://localhost:8080/",
          "height": 472
        },
        "id": "wfVLzlt_b0zs",
        "outputId": "93c8651b-307f-457e-8642-62d82069a65e"
      },
      "outputs": [
        {
          "data": {
            "image/png": "[encoded data removed]",
            "text/plain": [
              "<Figure size 432x288 with 1 Axes>"
            ]
          },
          "metadata": {
            "needs_background": "light"
          },
          "output_type": "display_data"
        }
      ],
      "source": [
        "# Continuing with python tutorial from wgu webinar / data camp\n",
        "# Compare models\n",
        "from sklearn.metrics import roc_curve\n",
        "\n",
        "# Define prediction probability\n",
        "prediction_prob = best_knn.predict_proba(x_test_std)[:, 1]\n",
        "\n",
        "# Calculate ROC (false postive rate, true positive rate, thresholds)\n",
        "fpr, tpr, thresholds = roc_curve(y_test, prediction_prob)\n",
        "\n",
        "\n",
        "# Plot ROC curve\n",
        "plt.plot([0,1], [0,1], 'k--')\n",
        "plt.plot(fpr, tpr)\n",
        "plt.xlabel('False Positive Rate')\n",
        "plt.ylabel('True Positive Rate')\n",
        "plt.title('KNN ROC Curve')\n",
        "plt.show()"
      ]
    },
    {
      "cell_type": "code",
      "execution_count": null,
      "id": "9OEfPOJ5b022",
      "metadata": {
        "colab": {
          "base_uri": "https://localhost:8080/"
        },
        "id": "9OEfPOJ5b022",
        "outputId": "67438bdf-fcd6-45f7-a135-aa40278b9ea8"
      },
      "outputs": [
        {
          "name": "stdout",
          "output_type": "stream",
          "text": [
            "ROC-AUC Score: 0.997\n"
          ]
        }
      ],
      "source": [
        "# Import ROC_AUC score\n",
        "from sklearn.metrics import roc_auc_score\n",
        "\n",
        "# Calculate ROC_AUC score using best parameters\n",
        "roc_auc_score = roc_auc_score(y_test, prediction_prob)\n",
        "\n",
        "# Print AUC score\n",
        "print(\"ROC-AUC Score: %0.3f\" % (roc_auc_score))"
      ]
    },
    {
      "cell_type": "code",
      "execution_count": null,
      "id": "2a409af2-72bd-4d78-a7b2-684ee93ce6e4",
      "metadata": {
        "id": "2a409af2-72bd-4d78-a7b2-684ee93ce6e4"
      },
      "outputs": [],
      "source": []
    }
  ],
  "metadata": {
    "colab": {
      "provenance": []
    },
    "kernelspec": {
      "display_name": "Python 3 (ipykernel)",
      "language": "python",
      "name": "python3"
    },
    "language_info": {
      "codemirror_mode": {
        "name": "ipython",
        "version": 3
      },
      "file_extension": ".py",
      "mimetype": "text/x-python",
      "name": "python",
      "nbconvert_exporter": "python",
      "pygments_lexer": "ipython3",
      "version": "3.9.12"
    }
  },
  "nbformat": 4,
  "nbformat_minor": 5
}