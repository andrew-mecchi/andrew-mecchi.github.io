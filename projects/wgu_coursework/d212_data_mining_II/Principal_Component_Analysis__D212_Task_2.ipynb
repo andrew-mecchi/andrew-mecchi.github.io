{
  "cells": [
    {
      "cell_type": "markdown",
      "source": [
        "# **Principal Component Analysis Project**\n",
        "\n",
        "**Project Summary:**\n",
        "The goal of this analysis is to successfully reduce the dimensionality of the WGU Telecom dataset. The results of an effective principal component analysis allows for subsequent analysis of the targeted principal components and will assist with further assessment of customer habits which will lead to better, informed decision-making.\n",
        "<br><br>\n",
        "\n",
        "**Research Question:**\n",
        "Can principal component analysis be used to identify important features that contribute to common characteristics of WGU Telecom subscribers?\n",
        "<br><br>\n",
        "## **Table of Contents**\n",
        "1. [Importing Dataset](#import-data)\n",
        "\n",
        "2. [Preprocessing](#preprocessing)\n",
        "\n",
        "3. [Principal Component Analysis](#pca)\n",
        "\n",
        "4. [Results](#results)"
      ],
      "metadata": {
        "id": "awID67gCFL5B"
      },
      "id": "awID67gCFL5B"
    },
    {
      "cell_type": "code",
      "execution_count": null,
      "id": "60a82bb2-62aa-4c69-8eb2-1193436437a2",
      "metadata": {
        "id": "60a82bb2-62aa-4c69-8eb2-1193436437a2"
      },
      "outputs": [],
      "source": [
        "# Import libraries\n",
        "\n",
        "import pandas as pd\n",
        "import numpy as np\n",
        "import matplotlib.pyplot as plt\n",
        "%matplotlib inline\n",
        "import seaborn as sns\n",
        "from sklearn.preprocessing import StandardScaler\n",
        "from sklearn.decomposition import PCA"
      ]
    },
    {
      "cell_type": "code",
      "source": [
        "from google.colab import drive\n",
        "drive.mount('/content/drive')"
      ],
      "metadata": {
        "colab": {
          "base_uri": "https://localhost:8080/"
        },
        "id": "hKObvzyQOhV_",
        "outputId": "1dc2bbe9-302a-4452-fa3c-8e0b7d23bda3"
      },
      "id": "hKObvzyQOhV_",
      "execution_count": null,
      "outputs": [
        {
          "output_type": "stream",
          "name": "stdout",
          "text": [
            "Mounted at /content/drive\n"
          ]
        }
      ]
    },
    {
      "cell_type": "markdown",
      "source": [
        "<a name=\"import-data\"></a>\n",
        "# Import Dataset\n",
        "- Rename itemized categical columns to fit description in data dictionary\n",
        "- Search for dupilcate entries\n",
        "- Identify any null values\n",
        "- Explore data types"
      ],
      "metadata": {
        "id": "Vu1m7Kkzuu-y"
      },
      "id": "Vu1m7Kkzuu-y"
    },
    {
      "cell_type": "code",
      "execution_count": null,
      "id": "2ba85b69-e1f3-4af4-8ccd-63914f0235e8",
      "metadata": {
        "colab": {
          "base_uri": "https://localhost:8080/",
          "height": 349
        },
        "id": "2ba85b69-e1f3-4af4-8ccd-63914f0235e8",
        "outputId": "db6027b5-1de6-42ed-99df-5f82b7220064"
      },
      "outputs": [
        {
          "output_type": "execute_result",
          "data": {
            "text/plain": [
              "   CaseOrder Customer_id                           Interaction  \\\n",
              "0          1     K409198  aa90260b-4141-4a24-8e36-b04ce1f4f77b   \n",
              "1          2     S120509  fb76459f-c047-4a9d-8af9-e0f7d4ac2524   \n",
              "2          3     K191035  344d114c-3736-4be5-98f7-c72c281e2d35   \n",
              "\n",
              "                                UID         City State                 County  \\\n",
              "0  e885b299883d4f9fb18e39c75155d990  Point Baker    AK  Prince of Wales-Hyder   \n",
              "1  f2de8bef964785f41a2959829830fb8a  West Branch    MI                 Ogemaw   \n",
              "2  f1784cfa9f6d92ae816197eb175d3c71      Yamhill    OR                Yamhill   \n",
              "\n",
              "     Zip       Lat        Lng  ...  MonthlyCharge Bandwidth_GB_Year  \\\n",
              "0  99927  56.25100 -133.37571  ...     172.455519        904.536110   \n",
              "1  48661  44.32893  -84.24080  ...     242.632554        800.982766   \n",
              "2  97148  45.35589 -123.24657  ...     159.947583       2054.706961   \n",
              "\n",
              "  Timely_response Timely_fixes  Timely_replacements  Reliability  Options  \\\n",
              "0               5            5                    5            3        4   \n",
              "1               3            4                    3            3        4   \n",
              "2               4            4                    2            4        4   \n",
              "\n",
              "  Respectful_response Courteous_staff Active_listeners  \n",
              "0                   4               3                4  \n",
              "1                   3               4                4  \n",
              "2                   3               3                3  \n",
              "\n",
              "[3 rows x 50 columns]"
            ],
            "text/html": [
              "\n",
              "  <div id=\"df-0a3c5629-eba4-4ab5-89f0-d0e9a1b0c35b\" class=\"colab-df-container\">\n",
              "    <div>\n",
              "<style scoped>\n",
              "    .dataframe tbody tr th:only-of-type {\n",
              "        vertical-align: middle;\n",
              "    }\n",
              "\n",
              "    .dataframe tbody tr th {\n",
              "        vertical-align: top;\n",
              "    }\n",
              "\n",
              "    .dataframe thead th {\n",
              "        text-align: right;\n",
              "    }\n",
              "</style>\n",
              "<table border=\"1\" class=\"dataframe\">\n",
              "  <thead>\n",
              "    <tr style=\"text-align: right;\">\n",
              "      <th></th>\n",
              "      <th>CaseOrder</th>\n",
              "      <th>Customer_id</th>\n",
              "      <th>Interaction</th>\n",
              "      <th>UID</th>\n",
              "      <th>City</th>\n",
              "      <th>State</th>\n",
              "      <th>County</th>\n",
              "      <th>Zip</th>\n",
              "      <th>Lat</th>\n",
              "      <th>Lng</th>\n",
              "      <th>...</th>\n",
              "      <th>MonthlyCharge</th>\n",
              "      <th>Bandwidth_GB_Year</th>\n",
              "      <th>Timely_response</th>\n",
              "      <th>Timely_fixes</th>\n",
              "      <th>Timely_replacements</th>\n",
              "      <th>Reliability</th>\n",
              "      <th>Options</th>\n",
              "      <th>Respectful_response</th>\n",
              "      <th>Courteous_staff</th>\n",
              "      <th>Active_listeners</th>\n",
              "    </tr>\n",
              "  </thead>\n",
              "  <tbody>\n",
              "    <tr>\n",
              "      <th>0</th>\n",
              "      <td>1</td>\n",
              "      <td>K409198</td>\n",
              "      <td>aa90260b-4141-4a24-8e36-b04ce1f4f77b</td>\n",
              "      <td>e885b299883d4f9fb18e39c75155d990</td>\n",
              "      <td>Point Baker</td>\n",
              "      <td>AK</td>\n",
              "      <td>Prince of Wales-Hyder</td>\n",
              "      <td>99927</td>\n",
              "      <td>56.25100</td>\n",
              "      <td>-133.37571</td>\n",
              "      <td>...</td>\n",
              "      <td>172.455519</td>\n",
              "      <td>904.536110</td>\n",
              "      <td>5</td>\n",
              "      <td>5</td>\n",
              "      <td>5</td>\n",
              "      <td>3</td>\n",
              "      <td>4</td>\n",
              "      <td>4</td>\n",
              "      <td>3</td>\n",
              "      <td>4</td>\n",
              "    </tr>\n",
              "    <tr>\n",
              "      <th>1</th>\n",
              "      <td>2</td>\n",
              "      <td>S120509</td>\n",
              "      <td>fb76459f-c047-4a9d-8af9-e0f7d4ac2524</td>\n",
              "      <td>f2de8bef964785f41a2959829830fb8a</td>\n",
              "      <td>West Branch</td>\n",
              "      <td>MI</td>\n",
              "      <td>Ogemaw</td>\n",
              "      <td>48661</td>\n",
              "      <td>44.32893</td>\n",
              "      <td>-84.24080</td>\n",
              "      <td>...</td>\n",
              "      <td>242.632554</td>\n",
              "      <td>800.982766</td>\n",
              "      <td>3</td>\n",
              "      <td>4</td>\n",
              "      <td>3</td>\n",
              "      <td>3</td>\n",
              "      <td>4</td>\n",
              "      <td>3</td>\n",
              "      <td>4</td>\n",
              "      <td>4</td>\n",
              "    </tr>\n",
              "    <tr>\n",
              "      <th>2</th>\n",
              "      <td>3</td>\n",
              "      <td>K191035</td>\n",
              "      <td>344d114c-3736-4be5-98f7-c72c281e2d35</td>\n",
              "      <td>f1784cfa9f6d92ae816197eb175d3c71</td>\n",
              "      <td>Yamhill</td>\n",
              "      <td>OR</td>\n",
              "      <td>Yamhill</td>\n",
              "      <td>97148</td>\n",
              "      <td>45.35589</td>\n",
              "      <td>-123.24657</td>\n",
              "      <td>...</td>\n",
              "      <td>159.947583</td>\n",
              "      <td>2054.706961</td>\n",
              "      <td>4</td>\n",
              "      <td>4</td>\n",
              "      <td>2</td>\n",
              "      <td>4</td>\n",
              "      <td>4</td>\n",
              "      <td>3</td>\n",
              "      <td>3</td>\n",
              "      <td>3</td>\n",
              "    </tr>\n",
              "  </tbody>\n",
              "</table>\n",
              "<p>3 rows × 50 columns</p>\n",
              "</div>\n",
              "    <div class=\"colab-df-buttons\">\n",
              "\n",
              "  <div class=\"colab-df-container\">\n",
              "    <button class=\"colab-df-convert\" onclick=\"convertToInteractive('df-0a3c5629-eba4-4ab5-89f0-d0e9a1b0c35b')\"\n",
              "            title=\"Convert this dataframe to an interactive table.\"\n",
              "            style=\"display:none;\">\n",
              "\n",
              "  <svg xmlns=\"http://www.w3.org/2000/svg\" height=\"24px\" viewBox=\"0 -960 960 960\">\n",
              "    <path d=\"M120-120v-720h720v720H120Zm60-500h600v-160H180v160Zm220 220h160v-160H400v160Zm0 220h160v-160H400v160ZM180-400h160v-160H180v160Zm440 0h160v-160H620v160ZM180-180h160v-160H180v160Zm440 0h160v-160H620v160Z\"/>\n",
              "  </svg>\n",
              "    </button>\n",
              "\n",
              "  <style>\n",
              "    .colab-df-container {\n",
              "      display:flex;\n",
              "      gap: 12px;\n",
              "    }\n",
              "\n",
              "    .colab-df-convert {\n",
              "      background-color: #E8F0FE;\n",
              "      border: none;\n",
              "      border-radius: 50%;\n",
              "      cursor: pointer;\n",
              "      display: none;\n",
              "      fill: #1967D2;\n",
              "      height: 32px;\n",
              "      padding: 0 0 0 0;\n",
              "      width: 32px;\n",
              "    }\n",
              "\n",
              "    .colab-df-convert:hover {\n",
              "      background-color: #E2EBFA;\n",
              "      box-shadow: 0px 1px 2px rgba(60, 64, 67, 0.3), 0px 1px 3px 1px rgba(60, 64, 67, 0.15);\n",
              "      fill: #174EA6;\n",
              "    }\n",
              "\n",
              "    .colab-df-buttons div {\n",
              "      margin-bottom: 4px;\n",
              "    }\n",
              "\n",
              "    [theme=dark] .colab-df-convert {\n",
              "      background-color: #3B4455;\n",
              "      fill: #D2E3FC;\n",
              "    }\n",
              "\n",
              "    [theme=dark] .colab-df-convert:hover {\n",
              "      background-color: #434B5C;\n",
              "      box-shadow: 0px 1px 3px 1px rgba(0, 0, 0, 0.15);\n",
              "      filter: drop-shadow(0px 1px 2px rgba(0, 0, 0, 0.3));\n",
              "      fill: #FFFFFF;\n",
              "    }\n",
              "  </style>\n",
              "\n",
              "    <script>\n",
              "      const buttonEl =\n",
              "        document.querySelector('#df-0a3c5629-eba4-4ab5-89f0-d0e9a1b0c35b button.colab-df-convert');\n",
              "      buttonEl.style.display =\n",
              "        google.colab.kernel.accessAllowed ? 'block' : 'none';\n",
              "\n",
              "      async function convertToInteractive(key) {\n",
              "        const element = document.querySelector('#df-0a3c5629-eba4-4ab5-89f0-d0e9a1b0c35b');\n",
              "        const dataTable =\n",
              "          await google.colab.kernel.invokeFunction('convertToInteractive',\n",
              "                                                    [key], {});\n",
              "        if (!dataTable) return;\n",
              "\n",
              "        const docLinkHtml = 'Like what you see? Visit the ' +\n",
              "          '<a target=\"_blank\" href=https://colab.research.google.com/notebooks/data_table.ipynb>data table notebook</a>'\n",
              "          + ' to learn more about interactive tables.';\n",
              "        element.innerHTML = '';\n",
              "        dataTable['output_type'] = 'display_data';\n",
              "        await google.colab.output.renderOutput(dataTable, element);\n",
              "        const docLink = document.createElement('div');\n",
              "        docLink.innerHTML = docLinkHtml;\n",
              "        element.appendChild(docLink);\n",
              "      }\n",
              "    </script>\n",
              "  </div>\n",
              "\n",
              "\n",
              "<div id=\"df-bcbc9f8b-6ef3-4cb9-8213-09fe926cc06f\">\n",
              "  <button class=\"colab-df-quickchart\" onclick=\"quickchart('df-bcbc9f8b-6ef3-4cb9-8213-09fe926cc06f')\"\n",
              "            title=\"Suggest charts\"\n",
              "            style=\"display:none;\">\n",
              "\n",
              "<svg xmlns=\"http://www.w3.org/2000/svg\" height=\"24px\"viewBox=\"0 0 24 24\"\n",
              "     width=\"24px\">\n",
              "    <g>\n",
              "        <path d=\"M19 3H5c-1.1 0-2 .9-2 2v14c0 1.1.9 2 2 2h14c1.1 0 2-.9 2-2V5c0-1.1-.9-2-2-2zM9 17H7v-7h2v7zm4 0h-2V7h2v10zm4 0h-2v-4h2v4z\"/>\n",
              "    </g>\n",
              "</svg>\n",
              "  </button>\n",
              "\n",
              "<style>\n",
              "  .colab-df-quickchart {\n",
              "      --bg-color: #E8F0FE;\n",
              "      --fill-color: #1967D2;\n",
              "      --hover-bg-color: #E2EBFA;\n",
              "      --hover-fill-color: #174EA6;\n",
              "      --disabled-fill-color: #AAA;\n",
              "      --disabled-bg-color: #DDD;\n",
              "  }\n",
              "\n",
              "  [theme=dark] .colab-df-quickchart {\n",
              "      --bg-color: #3B4455;\n",
              "      --fill-color: #D2E3FC;\n",
              "      --hover-bg-color: #434B5C;\n",
              "      --hover-fill-color: #FFFFFF;\n",
              "      --disabled-bg-color: #3B4455;\n",
              "      --disabled-fill-color: #666;\n",
              "  }\n",
              "\n",
              "  .colab-df-quickchart {\n",
              "    background-color: var(--bg-color);\n",
              "    border: none;\n",
              "    border-radius: 50%;\n",
              "    cursor: pointer;\n",
              "    display: none;\n",
              "    fill: var(--fill-color);\n",
              "    height: 32px;\n",
              "    padding: 0;\n",
              "    width: 32px;\n",
              "  }\n",
              "\n",
              "  .colab-df-quickchart:hover {\n",
              "    background-color: var(--hover-bg-color);\n",
              "    box-shadow: 0 1px 2px rgba(60, 64, 67, 0.3), 0 1px 3px 1px rgba(60, 64, 67, 0.15);\n",
              "    fill: var(--button-hover-fill-color);\n",
              "  }\n",
              "\n",
              "  .colab-df-quickchart-complete:disabled,\n",
              "  .colab-df-quickchart-complete:disabled:hover {\n",
              "    background-color: var(--disabled-bg-color);\n",
              "    fill: var(--disabled-fill-color);\n",
              "    box-shadow: none;\n",
              "  }\n",
              "\n",
              "  .colab-df-spinner {\n",
              "    border: 2px solid var(--fill-color);\n",
              "    border-color: transparent;\n",
              "    border-bottom-color: var(--fill-color);\n",
              "    animation:\n",
              "      spin 1s steps(1) infinite;\n",
              "  }\n",
              "\n",
              "  @keyframes spin {\n",
              "    0% {\n",
              "      border-color: transparent;\n",
              "      border-bottom-color: var(--fill-color);\n",
              "      border-left-color: var(--fill-color);\n",
              "    }\n",
              "    20% {\n",
              "      border-color: transparent;\n",
              "      border-left-color: var(--fill-color);\n",
              "      border-top-color: var(--fill-color);\n",
              "    }\n",
              "    30% {\n",
              "      border-color: transparent;\n",
              "      border-left-color: var(--fill-color);\n",
              "      border-top-color: var(--fill-color);\n",
              "      border-right-color: var(--fill-color);\n",
              "    }\n",
              "    40% {\n",
              "      border-color: transparent;\n",
              "      border-right-color: var(--fill-color);\n",
              "      border-top-color: var(--fill-color);\n",
              "    }\n",
              "    60% {\n",
              "      border-color: transparent;\n",
              "      border-right-color: var(--fill-color);\n",
              "    }\n",
              "    80% {\n",
              "      border-color: transparent;\n",
              "      border-right-color: var(--fill-color);\n",
              "      border-bottom-color: var(--fill-color);\n",
              "    }\n",
              "    90% {\n",
              "      border-color: transparent;\n",
              "      border-bottom-color: var(--fill-color);\n",
              "    }\n",
              "  }\n",
              "</style>\n",
              "\n",
              "  <script>\n",
              "    async function quickchart(key) {\n",
              "      const quickchartButtonEl =\n",
              "        document.querySelector('#' + key + ' button');\n",
              "      quickchartButtonEl.disabled = true;  // To prevent multiple clicks.\n",
              "      quickchartButtonEl.classList.add('colab-df-spinner');\n",
              "      try {\n",
              "        const charts = await google.colab.kernel.invokeFunction(\n",
              "            'suggestCharts', [key], {});\n",
              "      } catch (error) {\n",
              "        console.error('Error during call to suggestCharts:', error);\n",
              "      }\n",
              "      quickchartButtonEl.classList.remove('colab-df-spinner');\n",
              "      quickchartButtonEl.classList.add('colab-df-quickchart-complete');\n",
              "    }\n",
              "    (() => {\n",
              "      let quickchartButtonEl =\n",
              "        document.querySelector('#df-bcbc9f8b-6ef3-4cb9-8213-09fe926cc06f button');\n",
              "      quickchartButtonEl.style.display =\n",
              "        google.colab.kernel.accessAllowed ? 'block' : 'none';\n",
              "    })();\n",
              "  </script>\n",
              "</div>\n",
              "\n",
              "    </div>\n",
              "  </div>\n"
            ],
            "application/vnd.google.colaboratory.intrinsic+json": {
              "type": "dataframe",
              "variable_name": "data"
            }
          },
          "metadata": {},
          "execution_count": 3
        }
      ],
      "source": [
        "# Upload CSV file and create backup\n",
        "data = pd.read_csv(r'/content/drive/MyDrive/data_files/churn_clean_d212_t2.csv')\n",
        "data_backup = data.copy(deep = True)\n",
        "\n",
        "# Rename Item columns to represent their corresponding survey category\n",
        "data.rename(columns = {'Item1':'Timely_response',\n",
        "                       'Item2': 'Timely_fixes',\n",
        "                       'Item3':'Timely_replacements',\n",
        "                       'Item4':'Reliability',\n",
        "                       'Item5':'Options',\n",
        "                       'Item6':'Respectful_response',\n",
        "                       'Item7':'Courteous_staff',\n",
        "                       'Item8':'Active_listeners'}, inplace = True)\n",
        "\n",
        "\n",
        "# View first 3 rows of dataframe\n",
        "data.head(3)\n"
      ]
    },
    {
      "cell_type": "code",
      "execution_count": null,
      "id": "4642d134-ba1d-4a80-82b7-0a15e7b0c50b",
      "metadata": {
        "colab": {
          "base_uri": "https://localhost:8080/"
        },
        "id": "4642d134-ba1d-4a80-82b7-0a15e7b0c50b",
        "outputId": "d7b78a10-2856-441b-b52b-558660a6bbfc"
      },
      "outputs": [
        {
          "output_type": "execute_result",
          "data": {
            "text/plain": [
              "False    10000\n",
              "Name: Customer_id, dtype: int64"
            ]
          },
          "metadata": {},
          "execution_count": 4
        }
      ],
      "source": [
        "# Explore data\n",
        "# Confirm no duplicate entries for data by checking for unique customer ids\n",
        "\n",
        "data['Customer_id'].duplicated().value_counts()\n"
      ]
    },
    {
      "cell_type": "code",
      "execution_count": null,
      "id": "36c638c1-3515-49c5-867a-d30672a8c3cc",
      "metadata": {
        "colab": {
          "base_uri": "https://localhost:8080/"
        },
        "id": "36c638c1-3515-49c5-867a-d30672a8c3cc",
        "outputId": "c513ab23-ba5b-415e-e059-c993f0f6b796"
      },
      "outputs": [
        {
          "output_type": "execute_result",
          "data": {
            "text/plain": [
              "CaseOrder               0\n",
              "Customer_id             0\n",
              "Interaction             0\n",
              "UID                     0\n",
              "City                    0\n",
              "State                   0\n",
              "County                  0\n",
              "Zip                     0\n",
              "Lat                     0\n",
              "Lng                     0\n",
              "Population              0\n",
              "Area                    0\n",
              "TimeZone                0\n",
              "Job                     0\n",
              "Children                0\n",
              "Age                     0\n",
              "Income                  0\n",
              "Marital                 0\n",
              "Gender                  0\n",
              "Churn                   0\n",
              "Outage_sec_perweek      0\n",
              "Email                   0\n",
              "Contacts                0\n",
              "Yearly_equip_failure    0\n",
              "Techie                  0\n",
              "Contract                0\n",
              "Port_modem              0\n",
              "Tablet                  0\n",
              "InternetService         0\n",
              "Phone                   0\n",
              "Multiple                0\n",
              "OnlineSecurity          0\n",
              "OnlineBackup            0\n",
              "DeviceProtection        0\n",
              "TechSupport             0\n",
              "StreamingTV             0\n",
              "StreamingMovies         0\n",
              "PaperlessBilling        0\n",
              "PaymentMethod           0\n",
              "Tenure                  0\n",
              "MonthlyCharge           0\n",
              "Bandwidth_GB_Year       0\n",
              "Timely_response         0\n",
              "Timely_fixes            0\n",
              "Timely_replacements     0\n",
              "Reliability             0\n",
              "Options                 0\n",
              "Respectful_response     0\n",
              "Courteous_staff         0\n",
              "Active_listeners        0\n",
              "dtype: int64"
            ]
          },
          "metadata": {},
          "execution_count": 5
        }
      ],
      "source": [
        "# Search for null values\n",
        "\n",
        "data.isnull().sum()\n"
      ]
    },
    {
      "cell_type": "code",
      "execution_count": null,
      "id": "8ac183a9-569d-4811-9306-ae9c7978bf47",
      "metadata": {
        "colab": {
          "base_uri": "https://localhost:8080/"
        },
        "id": "8ac183a9-569d-4811-9306-ae9c7978bf47",
        "outputId": "e4ae840b-0e61-472b-da9d-e521c199af6e"
      },
      "outputs": [
        {
          "name": "stdout",
          "output_type": "stream",
          "text": [
            "<class 'pandas.core.frame.DataFrame'>\n",
            "RangeIndex: 10000 entries, 0 to 9999\n",
            "Data columns (total 50 columns):\n",
            " #   Column                Non-Null Count  Dtype  \n",
            "---  ------                --------------  -----  \n",
            " 0   CaseOrder             10000 non-null  int64  \n",
            " 1   Customer_id           10000 non-null  object \n",
            " 2   Interaction           10000 non-null  object \n",
            " 3   UID                   10000 non-null  object \n",
            " 4   City                  10000 non-null  object \n",
            " 5   State                 10000 non-null  object \n",
            " 6   County                10000 non-null  object \n",
            " 7   Zip                   10000 non-null  int64  \n",
            " 8   Lat                   10000 non-null  float64\n",
            " 9   Lng                   10000 non-null  float64\n",
            " 10  Population            10000 non-null  int64  \n",
            " 11  Area                  10000 non-null  object \n",
            " 12  TimeZone              10000 non-null  object \n",
            " 13  Job                   10000 non-null  object \n",
            " 14  Children              10000 non-null  int64  \n",
            " 15  Age                   10000 non-null  int64  \n",
            " 16  Income                10000 non-null  float64\n",
            " 17  Marital               10000 non-null  object \n",
            " 18  Gender                10000 non-null  object \n",
            " 19  Churn                 10000 non-null  object \n",
            " 20  Outage_sec_perweek    10000 non-null  float64\n",
            " 21  Email                 10000 non-null  int64  \n",
            " 22  Contacts              10000 non-null  int64  \n",
            " 23  Yearly_equip_failure  10000 non-null  int64  \n",
            " 24  Techie                10000 non-null  object \n",
            " 25  Contract              10000 non-null  object \n",
            " 26  Port_modem            10000 non-null  object \n",
            " 27  Tablet                10000 non-null  object \n",
            " 28  InternetService       10000 non-null  object \n",
            " 29  Phone                 10000 non-null  object \n",
            " 30  Multiple              10000 non-null  object \n",
            " 31  OnlineSecurity        10000 non-null  object \n",
            " 32  OnlineBackup          10000 non-null  object \n",
            " 33  DeviceProtection      10000 non-null  object \n",
            " 34  TechSupport           10000 non-null  object \n",
            " 35  StreamingTV           10000 non-null  object \n",
            " 36  StreamingMovies       10000 non-null  object \n",
            " 37  PaperlessBilling      10000 non-null  object \n",
            " 38  PaymentMethod         10000 non-null  object \n",
            " 39  Tenure                10000 non-null  float64\n",
            " 40  MonthlyCharge         10000 non-null  float64\n",
            " 41  Bandwidth_GB_Year     10000 non-null  float64\n",
            " 42  Timely_response       10000 non-null  int64  \n",
            " 43  Timely_fixes          10000 non-null  int64  \n",
            " 44  Timely_replacements   10000 non-null  int64  \n",
            " 45  Reliability           10000 non-null  int64  \n",
            " 46  Options               10000 non-null  int64  \n",
            " 47  Respectful_response   10000 non-null  int64  \n",
            " 48  Courteous_staff       10000 non-null  int64  \n",
            " 49  Active_listeners      10000 non-null  int64  \n",
            "dtypes: float64(7), int64(16), object(27)\n",
            "memory usage: 3.8+ MB\n"
          ]
        }
      ],
      "source": [
        "# Explore data types, identify target variables\n",
        "# Search df info\n",
        "\n",
        "data.info()"
      ]
    },
    {
      "cell_type": "markdown",
      "source": [
        "<a name=\"preprocessing\"></a>\n",
        "# Preprocessing\n",
        "- Isolate continuous numeric data for principal component analysis\n",
        "- Remove latitude and longitude from new dataframe\n",
        "- Scale data using Standard Scaler"
      ],
      "metadata": {
        "id": "0u8NPmWfvfl1"
      },
      "id": "0u8NPmWfvfl1"
    },
    {
      "cell_type": "code",
      "execution_count": null,
      "id": "hNgcqQNhTzRS",
      "metadata": {
        "colab": {
          "base_uri": "https://localhost:8080/"
        },
        "id": "hNgcqQNhTzRS",
        "outputId": "99563890-2c06-4a88-d4c9-633dbedb89a0"
      },
      "outputs": [
        {
          "name": "stdout",
          "output_type": "stream",
          "text": [
            "<class 'pandas.core.frame.DataFrame'>\n",
            "RangeIndex: 10000 entries, 0 to 9999\n",
            "Data columns (total 7 columns):\n",
            " #   Column              Non-Null Count  Dtype  \n",
            "---  ------              --------------  -----  \n",
            " 0   Lat                 10000 non-null  float64\n",
            " 1   Lng                 10000 non-null  float64\n",
            " 2   Income              10000 non-null  float64\n",
            " 3   Outage_sec_perweek  10000 non-null  float64\n",
            " 4   Tenure              10000 non-null  float64\n",
            " 5   MonthlyCharge       10000 non-null  float64\n",
            " 6   Bandwidth_GB_Year   10000 non-null  float64\n",
            "dtypes: float64(7)\n",
            "memory usage: 547.0 KB\n"
          ]
        }
      ],
      "source": [
        "# PCA dataframe creation\n",
        "# Search for CONTINUOUS numerical data only\n",
        "t2 = pd.DataFrame(data.select_dtypes(include = 'float64'))\n",
        "\n",
        "# View new df\n",
        "t2.info()\n"
      ]
    },
    {
      "cell_type": "code",
      "execution_count": null,
      "id": "b85NTAclfBDZ",
      "metadata": {
        "colab": {
          "base_uri": "https://localhost:8080/",
          "height": 300
        },
        "id": "b85NTAclfBDZ",
        "outputId": "63c34b38-9fe0-4aeb-f10d-2a3e5cebd5e2"
      },
      "outputs": [
        {
          "data": {
            "text/html": [
              "<div>\n",
              "<style scoped>\n",
              "    .dataframe tbody tr th:only-of-type {\n",
              "        vertical-align: middle;\n",
              "    }\n",
              "\n",
              "    .dataframe tbody tr th {\n",
              "        vertical-align: top;\n",
              "    }\n",
              "\n",
              "    .dataframe thead th {\n",
              "        text-align: right;\n",
              "    }\n",
              "</style>\n",
              "<table border=\"1\" class=\"dataframe\">\n",
              "  <thead>\n",
              "    <tr style=\"text-align: right;\">\n",
              "      <th></th>\n",
              "      <th>Lat</th>\n",
              "      <th>Lng</th>\n",
              "      <th>Income</th>\n",
              "      <th>Outage_sec_perweek</th>\n",
              "      <th>Tenure</th>\n",
              "      <th>MonthlyCharge</th>\n",
              "      <th>Bandwidth_GB_Year</th>\n",
              "    </tr>\n",
              "  </thead>\n",
              "  <tbody>\n",
              "    <tr>\n",
              "      <th>count</th>\n",
              "      <td>10000.000000</td>\n",
              "      <td>10000.000000</td>\n",
              "      <td>10000.000000</td>\n",
              "      <td>10000.000000</td>\n",
              "      <td>10000.000000</td>\n",
              "      <td>10000.000000</td>\n",
              "      <td>10000.000000</td>\n",
              "    </tr>\n",
              "    <tr>\n",
              "      <th>mean</th>\n",
              "      <td>38.757567</td>\n",
              "      <td>-90.782536</td>\n",
              "      <td>39806.926771</td>\n",
              "      <td>10.001848</td>\n",
              "      <td>34.526188</td>\n",
              "      <td>172.624816</td>\n",
              "      <td>3392.341550</td>\n",
              "    </tr>\n",
              "    <tr>\n",
              "      <th>std</th>\n",
              "      <td>5.437389</td>\n",
              "      <td>15.156142</td>\n",
              "      <td>28199.916702</td>\n",
              "      <td>2.976019</td>\n",
              "      <td>26.443063</td>\n",
              "      <td>42.943094</td>\n",
              "      <td>2185.294852</td>\n",
              "    </tr>\n",
              "    <tr>\n",
              "      <th>min</th>\n",
              "      <td>17.966120</td>\n",
              "      <td>-171.688150</td>\n",
              "      <td>348.670000</td>\n",
              "      <td>0.099747</td>\n",
              "      <td>1.000259</td>\n",
              "      <td>79.978860</td>\n",
              "      <td>155.506715</td>\n",
              "    </tr>\n",
              "    <tr>\n",
              "      <th>25%</th>\n",
              "      <td>35.341828</td>\n",
              "      <td>-97.082812</td>\n",
              "      <td>19224.717500</td>\n",
              "      <td>8.018214</td>\n",
              "      <td>7.917694</td>\n",
              "      <td>139.979239</td>\n",
              "      <td>1236.470827</td>\n",
              "    </tr>\n",
              "    <tr>\n",
              "      <th>50%</th>\n",
              "      <td>39.395800</td>\n",
              "      <td>-87.918800</td>\n",
              "      <td>33170.605000</td>\n",
              "      <td>10.018560</td>\n",
              "      <td>35.430507</td>\n",
              "      <td>167.484700</td>\n",
              "      <td>3279.536903</td>\n",
              "    </tr>\n",
              "    <tr>\n",
              "      <th>75%</th>\n",
              "      <td>42.106908</td>\n",
              "      <td>-80.088745</td>\n",
              "      <td>53246.170000</td>\n",
              "      <td>11.969485</td>\n",
              "      <td>61.479795</td>\n",
              "      <td>200.734725</td>\n",
              "      <td>5586.141370</td>\n",
              "    </tr>\n",
              "    <tr>\n",
              "      <th>max</th>\n",
              "      <td>70.640660</td>\n",
              "      <td>-65.667850</td>\n",
              "      <td>258900.700000</td>\n",
              "      <td>21.207230</td>\n",
              "      <td>71.999280</td>\n",
              "      <td>290.160419</td>\n",
              "      <td>7158.981530</td>\n",
              "    </tr>\n",
              "  </tbody>\n",
              "</table>\n",
              "</div>"
            ],
            "text/plain": [
              "                Lat           Lng         Income  Outage_sec_perweek  \\\n",
              "count  10000.000000  10000.000000   10000.000000        10000.000000   \n",
              "mean      38.757567    -90.782536   39806.926771           10.001848   \n",
              "std        5.437389     15.156142   28199.916702            2.976019   \n",
              "min       17.966120   -171.688150     348.670000            0.099747   \n",
              "25%       35.341828    -97.082812   19224.717500            8.018214   \n",
              "50%       39.395800    -87.918800   33170.605000           10.018560   \n",
              "75%       42.106908    -80.088745   53246.170000           11.969485   \n",
              "max       70.640660    -65.667850  258900.700000           21.207230   \n",
              "\n",
              "             Tenure  MonthlyCharge  Bandwidth_GB_Year  \n",
              "count  10000.000000   10000.000000       10000.000000  \n",
              "mean      34.526188     172.624816        3392.341550  \n",
              "std       26.443063      42.943094        2185.294852  \n",
              "min        1.000259      79.978860         155.506715  \n",
              "25%        7.917694     139.979239        1236.470827  \n",
              "50%       35.430507     167.484700        3279.536903  \n",
              "75%       61.479795     200.734725        5586.141370  \n",
              "max       71.999280     290.160419        7158.981530  "
            ]
          },
          "execution_count": 44,
          "metadata": {},
          "output_type": "execute_result"
        }
      ],
      "source": [
        "# View summary statistics - data to be scaled using standard scaler\n",
        "t2.describe()\n"
      ]
    },
    {
      "cell_type": "code",
      "execution_count": null,
      "id": "aUvptIpSfHAk",
      "metadata": {
        "colab": {
          "base_uri": "https://localhost:8080/",
          "height": 143
        },
        "id": "aUvptIpSfHAk",
        "outputId": "232e0e98-6b71-406f-a59a-6d94dc7c70b5"
      },
      "outputs": [
        {
          "data": {
            "text/html": [
              "<div>\n",
              "<style scoped>\n",
              "    .dataframe tbody tr th:only-of-type {\n",
              "        vertical-align: middle;\n",
              "    }\n",
              "\n",
              "    .dataframe tbody tr th {\n",
              "        vertical-align: top;\n",
              "    }\n",
              "\n",
              "    .dataframe thead th {\n",
              "        text-align: right;\n",
              "    }\n",
              "</style>\n",
              "<table border=\"1\" class=\"dataframe\">\n",
              "  <thead>\n",
              "    <tr style=\"text-align: right;\">\n",
              "      <th></th>\n",
              "      <th>Income</th>\n",
              "      <th>Outage_sec_perweek</th>\n",
              "      <th>Tenure</th>\n",
              "      <th>MonthlyCharge</th>\n",
              "      <th>Bandwidth_GB_Year</th>\n",
              "    </tr>\n",
              "  </thead>\n",
              "  <tbody>\n",
              "    <tr>\n",
              "      <th>0</th>\n",
              "      <td>28561.99</td>\n",
              "      <td>7.978323</td>\n",
              "      <td>6.795513</td>\n",
              "      <td>172.455519</td>\n",
              "      <td>904.536110</td>\n",
              "    </tr>\n",
              "    <tr>\n",
              "      <th>1</th>\n",
              "      <td>21704.77</td>\n",
              "      <td>11.699080</td>\n",
              "      <td>1.156681</td>\n",
              "      <td>242.632554</td>\n",
              "      <td>800.982766</td>\n",
              "    </tr>\n",
              "    <tr>\n",
              "      <th>2</th>\n",
              "      <td>9609.57</td>\n",
              "      <td>10.752800</td>\n",
              "      <td>15.754144</td>\n",
              "      <td>159.947583</td>\n",
              "      <td>2054.706961</td>\n",
              "    </tr>\n",
              "  </tbody>\n",
              "</table>\n",
              "</div>"
            ],
            "text/plain": [
              "     Income  Outage_sec_perweek     Tenure  MonthlyCharge  Bandwidth_GB_Year\n",
              "0  28561.99            7.978323   6.795513     172.455519         904.536110\n",
              "1  21704.77           11.699080   1.156681     242.632554         800.982766\n",
              "2   9609.57           10.752800  15.754144     159.947583        2054.706961"
            ]
          },
          "execution_count": 45,
          "metadata": {},
          "output_type": "execute_result"
        }
      ],
      "source": [
        "# Create df with only continuous quantitative variables - drop lat and lng\n",
        "df = t2.drop(columns = ['Lat', 'Lng'])\n",
        "\n",
        "# View first three rows of new df, confirm drop of lat and lng\n",
        "df.head(3)"
      ]
    },
    {
      "cell_type": "code",
      "execution_count": null,
      "id": "spNtHrc2IFQZ",
      "metadata": {
        "id": "spNtHrc2IFQZ"
      },
      "outputs": [],
      "source": [
        "# Instantiate Standard Scaler\n",
        "scaler = StandardScaler()"
      ]
    },
    {
      "cell_type": "code",
      "execution_count": null,
      "id": "S6EZJ8PXEhdT",
      "metadata": {
        "colab": {
          "base_uri": "https://localhost:8080/",
          "height": 74
        },
        "id": "S6EZJ8PXEhdT",
        "outputId": "fab8b829-82f0-4290-b4f8-c8084cf6f531"
      },
      "outputs": [
        {
          "data": {
            "text/plain": [
              "StandardScaler()"
            ]
          },
          "execution_count": 47,
          "metadata": {},
          "output_type": "execute_result"
        }
      ],
      "source": [
        "# Fit scaler to dataset\n",
        "scaler.fit(df)"
      ]
    },
    {
      "cell_type": "code",
      "execution_count": null,
      "id": "BcedHGkZdtxx",
      "metadata": {
        "id": "BcedHGkZdtxx"
      },
      "outputs": [],
      "source": [
        "# Scale samples to transfrom values\n",
        "scaled = scaler.transform(df)"
      ]
    },
    {
      "cell_type": "code",
      "execution_count": null,
      "id": "UfANNWLBaI_9",
      "metadata": {
        "id": "UfANNWLBaI_9"
      },
      "outputs": [],
      "source": [
        "# Export copy of scaled data in a dataframe\n",
        "df_scaled = pd.DataFrame(scaled, index = df.index, columns = df.columns)\n"
      ]
    },
    {
      "cell_type": "code",
      "execution_count": null,
      "id": "ZbeH2vFfbIyl",
      "metadata": {
        "colab": {
          "base_uri": "https://localhost:8080/",
          "height": 300
        },
        "id": "ZbeH2vFfbIyl",
        "outputId": "64f7bdda-f910-4f54-99a1-42b37da74a20"
      },
      "outputs": [
        {
          "data": {
            "text/html": [
              "<div>\n",
              "<style scoped>\n",
              "    .dataframe tbody tr th:only-of-type {\n",
              "        vertical-align: middle;\n",
              "    }\n",
              "\n",
              "    .dataframe tbody tr th {\n",
              "        vertical-align: top;\n",
              "    }\n",
              "\n",
              "    .dataframe thead th {\n",
              "        text-align: right;\n",
              "    }\n",
              "</style>\n",
              "<table border=\"1\" class=\"dataframe\">\n",
              "  <thead>\n",
              "    <tr style=\"text-align: right;\">\n",
              "      <th></th>\n",
              "      <th>Income</th>\n",
              "      <th>Outage_sec_perweek</th>\n",
              "      <th>Tenure</th>\n",
              "      <th>MonthlyCharge</th>\n",
              "      <th>Bandwidth_GB_Year</th>\n",
              "    </tr>\n",
              "  </thead>\n",
              "  <tbody>\n",
              "    <tr>\n",
              "      <th>count</th>\n",
              "      <td>10000.0</td>\n",
              "      <td>10000.0</td>\n",
              "      <td>10000.0</td>\n",
              "      <td>10000.0</td>\n",
              "      <td>10000.0</td>\n",
              "    </tr>\n",
              "    <tr>\n",
              "      <th>mean</th>\n",
              "      <td>0.0</td>\n",
              "      <td>0.0</td>\n",
              "      <td>0.0</td>\n",
              "      <td>-0.0</td>\n",
              "      <td>0.0</td>\n",
              "    </tr>\n",
              "    <tr>\n",
              "      <th>std</th>\n",
              "      <td>1.0</td>\n",
              "      <td>1.0</td>\n",
              "      <td>1.0</td>\n",
              "      <td>1.0</td>\n",
              "      <td>1.0</td>\n",
              "    </tr>\n",
              "    <tr>\n",
              "      <th>min</th>\n",
              "      <td>-1.4</td>\n",
              "      <td>-3.3</td>\n",
              "      <td>-1.3</td>\n",
              "      <td>-2.2</td>\n",
              "      <td>-1.5</td>\n",
              "    </tr>\n",
              "    <tr>\n",
              "      <th>25%</th>\n",
              "      <td>-0.7</td>\n",
              "      <td>-0.7</td>\n",
              "      <td>-1.0</td>\n",
              "      <td>-0.8</td>\n",
              "      <td>-1.0</td>\n",
              "    </tr>\n",
              "    <tr>\n",
              "      <th>50%</th>\n",
              "      <td>-0.2</td>\n",
              "      <td>0.0</td>\n",
              "      <td>0.0</td>\n",
              "      <td>-0.1</td>\n",
              "      <td>-0.1</td>\n",
              "    </tr>\n",
              "    <tr>\n",
              "      <th>75%</th>\n",
              "      <td>0.5</td>\n",
              "      <td>0.7</td>\n",
              "      <td>1.0</td>\n",
              "      <td>0.7</td>\n",
              "      <td>1.0</td>\n",
              "    </tr>\n",
              "    <tr>\n",
              "      <th>max</th>\n",
              "      <td>7.8</td>\n",
              "      <td>3.8</td>\n",
              "      <td>1.4</td>\n",
              "      <td>2.7</td>\n",
              "      <td>1.7</td>\n",
              "    </tr>\n",
              "  </tbody>\n",
              "</table>\n",
              "</div>"
            ],
            "text/plain": [
              "        Income  Outage_sec_perweek   Tenure  MonthlyCharge  Bandwidth_GB_Year\n",
              "count  10000.0             10000.0  10000.0        10000.0            10000.0\n",
              "mean       0.0                 0.0      0.0           -0.0                0.0\n",
              "std        1.0                 1.0      1.0            1.0                1.0\n",
              "min       -1.4                -3.3     -1.3           -2.2               -1.5\n",
              "25%       -0.7                -0.7     -1.0           -0.8               -1.0\n",
              "50%       -0.2                 0.0      0.0           -0.1               -0.1\n",
              "75%        0.5                 0.7      1.0            0.7                1.0\n",
              "max        7.8                 3.8      1.4            2.7                1.7"
            ]
          },
          "execution_count": 50,
          "metadata": {},
          "output_type": "execute_result"
        }
      ],
      "source": [
        "# Confirm scaled data\n",
        "scaled_summary_stats = df_scaled.describe()\n",
        "\n",
        "# Observe mean of 0 and standard deviation  of 1\n",
        "scaled_summary_stats.round(1)"
      ]
    },
    {
      "cell_type": "markdown",
      "source": [
        "<a name=\"pca\"></a>\n",
        "# Principal Component Analysis\n",
        "- Instantiate principal compnent analysis\n",
        "- Fit PCA to data, limited to Top-5 principal compnents"
      ],
      "metadata": {
        "id": "8dSFqD5ow0Qx"
      },
      "id": "8dSFqD5ow0Qx"
    },
    {
      "cell_type": "code",
      "execution_count": null,
      "id": "GYdXgBUnd0yX",
      "metadata": {
        "colab": {
          "base_uri": "https://localhost:8080/",
          "height": 74
        },
        "id": "GYdXgBUnd0yX",
        "outputId": "94aaad4e-848a-497c-9ec0-5be2c36649d2"
      },
      "outputs": [
        {
          "data": {
            "text/plain": [
              "PCA(n_components=5, random_state=61)"
            ]
          },
          "execution_count": 51,
          "metadata": {},
          "output_type": "execute_result"
        }
      ],
      "source": [
        "# Instantiate PCA with all features in df\n",
        "pca = PCA(n_components = df.shape[1], random_state = 61)\n",
        "\n",
        "pca.fit(scaled)"
      ]
    },
    {
      "cell_type": "code",
      "execution_count": null,
      "id": "RGzJPCBs4EK9",
      "metadata": {
        "id": "RGzJPCBs4EK9"
      },
      "outputs": [],
      "source": [
        "# Fit and transform  pca to scaled data - scaled\n",
        "pc = pca.transform(scaled)"
      ]
    },
    {
      "cell_type": "code",
      "execution_count": null,
      "id": "XvArJdUufnBq",
      "metadata": {
        "colab": {
          "base_uri": "https://localhost:8080/",
          "height": 143
        },
        "id": "XvArJdUufnBq",
        "outputId": "bdd97617-389c-4287-9188-b7196b64b4b6"
      },
      "outputs": [
        {
          "data": {
            "text/html": [
              "<div>\n",
              "<style scoped>\n",
              "    .dataframe tbody tr th:only-of-type {\n",
              "        vertical-align: middle;\n",
              "    }\n",
              "\n",
              "    .dataframe tbody tr th {\n",
              "        vertical-align: top;\n",
              "    }\n",
              "\n",
              "    .dataframe thead th {\n",
              "        text-align: right;\n",
              "    }\n",
              "</style>\n",
              "<table border=\"1\" class=\"dataframe\">\n",
              "  <thead>\n",
              "    <tr style=\"text-align: right;\">\n",
              "      <th></th>\n",
              "      <th>PC_1,</th>\n",
              "      <th>PC_2</th>\n",
              "      <th>PC_3</th>\n",
              "      <th>PC_4</th>\n",
              "      <th>PC_5</th>\n",
              "    </tr>\n",
              "  </thead>\n",
              "  <tbody>\n",
              "    <tr>\n",
              "      <th>0</th>\n",
              "      <td>-1.551056</td>\n",
              "      <td>0.279016</td>\n",
              "      <td>-0.380379</td>\n",
              "      <td>-0.620483</td>\n",
              "      <td>-0.064167</td>\n",
              "    </tr>\n",
              "    <tr>\n",
              "      <th>1</th>\n",
              "      <td>-1.662133</td>\n",
              "      <td>-1.703695</td>\n",
              "      <td>0.213964</td>\n",
              "      <td>-0.826325</td>\n",
              "      <td>-0.020960</td>\n",
              "    </tr>\n",
              "    <tr>\n",
              "      <th>2</th>\n",
              "      <td>-0.948752</td>\n",
              "      <td>-0.406056</td>\n",
              "      <td>-1.047420</td>\n",
              "      <td>0.085881</td>\n",
              "      <td>0.082959</td>\n",
              "    </tr>\n",
              "  </tbody>\n",
              "</table>\n",
              "</div>"
            ],
            "text/plain": [
              "      PC_1,      PC_2      PC_3      PC_4      PC_5\n",
              "0 -1.551056  0.279016 -0.380379 -0.620483 -0.064167\n",
              "1 -1.662133 -1.703695  0.213964 -0.826325 -0.020960\n",
              "2 -0.948752 -0.406056 -1.047420  0.085881  0.082959"
            ]
          },
          "execution_count": 53,
          "metadata": {},
          "output_type": "execute_result"
        }
      ],
      "source": [
        "# Create new df with fit and transformed pc's\n",
        "df_pc = pd.DataFrame(pc, columns = ['PC_1,', 'PC_2', 'PC_3', 'PC_4', 'PC_5'])\n",
        "\n",
        "# View first three rows of new pc df\n",
        "df_pc.head(3)"
      ]
    },
    {
      "cell_type": "markdown",
      "source": [
        "<a name=\"results\"></a>\n",
        "# Results\n",
        "- Identify principal components\n",
        "- Fit PC's into covariance matrix\n",
        "- Plot covariance matrix using heatmap\n",
        "- Calculate eigenvalue\n",
        "- Vizualize eigenvalues on Scree plot\n",
        "- Calculate total variance explained by PC's\n",
        "  - Visualize explained variance using heatmap\n",
        "  - Scree plot of total explained variance"
      ],
      "metadata": {
        "id": "gJEf9iu_xWGD"
      },
      "id": "gJEf9iu_xWGD"
    },
    {
      "cell_type": "code",
      "execution_count": null,
      "id": "MnCXjxLwfnDV",
      "metadata": {
        "colab": {
          "base_uri": "https://localhost:8080/",
          "height": 143
        },
        "id": "MnCXjxLwfnDV",
        "outputId": "128c38ff-09ce-4545-aae4-0db021a1f610"
      },
      "outputs": [
        {
          "data": {
            "text/html": [
              "<div>\n",
              "<style scoped>\n",
              "    .dataframe tbody tr th:only-of-type {\n",
              "        vertical-align: middle;\n",
              "    }\n",
              "\n",
              "    .dataframe tbody tr th {\n",
              "        vertical-align: top;\n",
              "    }\n",
              "\n",
              "    .dataframe thead th {\n",
              "        text-align: right;\n",
              "    }\n",
              "</style>\n",
              "<table border=\"1\" class=\"dataframe\">\n",
              "  <thead>\n",
              "    <tr style=\"text-align: right;\">\n",
              "      <th></th>\n",
              "      <th>Income</th>\n",
              "      <th>Outage_sec_perweek</th>\n",
              "      <th>Tenure</th>\n",
              "      <th>MonthlyCharge</th>\n",
              "      <th>Bandwidth_GB_Year</th>\n",
              "    </tr>\n",
              "  </thead>\n",
              "  <tbody>\n",
              "    <tr>\n",
              "      <th>0</th>\n",
              "      <td>-0.398778</td>\n",
              "      <td>-0.679978</td>\n",
              "      <td>-1.048746</td>\n",
              "      <td>-0.003943</td>\n",
              "      <td>-1.138487</td>\n",
              "    </tr>\n",
              "    <tr>\n",
              "      <th>1</th>\n",
              "      <td>-0.641954</td>\n",
              "      <td>0.570331</td>\n",
              "      <td>-1.262001</td>\n",
              "      <td>1.630326</td>\n",
              "      <td>-1.185876</td>\n",
              "    </tr>\n",
              "    <tr>\n",
              "      <th>2</th>\n",
              "      <td>-1.070885</td>\n",
              "      <td>0.252347</td>\n",
              "      <td>-0.709940</td>\n",
              "      <td>-0.295225</td>\n",
              "      <td>-0.612138</td>\n",
              "    </tr>\n",
              "  </tbody>\n",
              "</table>\n",
              "</div>"
            ],
            "text/plain": [
              "     Income  Outage_sec_perweek    Tenure  MonthlyCharge  Bandwidth_GB_Year\n",
              "0 -0.398778           -0.679978 -1.048746      -0.003943          -1.138487\n",
              "1 -0.641954            0.570331 -1.262001       1.630326          -1.185876\n",
              "2 -1.070885            0.252347 -0.709940      -0.295225          -0.612138"
            ]
          },
          "execution_count": 54,
          "metadata": {},
          "output_type": "execute_result"
        }
      ],
      "source": [
        "# Prepare df for covariance matrix\n",
        "# Apply fit_transform of scaler to original continuous data df\n",
        "scaled_continuous = scaler.fit_transform(df)\n",
        "\n",
        "# Create new df for covariance matrix\n",
        "df_cov_matrix = pd.DataFrame(scaled_continuous, columns = df.columns)\n",
        "\n",
        "# View first three rows new covariance matrix df\n",
        "df_cov_matrix.head(3)"
      ]
    },
    {
      "cell_type": "code",
      "execution_count": null,
      "id": "sDNegmz0e-zo",
      "metadata": {
        "colab": {
          "base_uri": "https://localhost:8080/",
          "height": 206
        },
        "id": "sDNegmz0e-zo",
        "outputId": "de5dc751-d8e6-4c79-b3e7-3121718fa25a"
      },
      "outputs": [
        {
          "data": {
            "text/html": [
              "<div>\n",
              "<style scoped>\n",
              "    .dataframe tbody tr th:only-of-type {\n",
              "        vertical-align: middle;\n",
              "    }\n",
              "\n",
              "    .dataframe tbody tr th {\n",
              "        vertical-align: top;\n",
              "    }\n",
              "\n",
              "    .dataframe thead th {\n",
              "        text-align: right;\n",
              "    }\n",
              "</style>\n",
              "<table border=\"1\" class=\"dataframe\">\n",
              "  <thead>\n",
              "    <tr style=\"text-align: right;\">\n",
              "      <th></th>\n",
              "      <th>Income</th>\n",
              "      <th>Outage_sec_perweek</th>\n",
              "      <th>Tenure</th>\n",
              "      <th>MonthlyCharge</th>\n",
              "      <th>Bandwidth_GB_Year</th>\n",
              "    </tr>\n",
              "  </thead>\n",
              "  <tbody>\n",
              "    <tr>\n",
              "      <th>Income</th>\n",
              "      <td>1.000100</td>\n",
              "      <td>-0.010012</td>\n",
              "      <td>0.002115</td>\n",
              "      <td>-0.003014</td>\n",
              "      <td>0.003674</td>\n",
              "    </tr>\n",
              "    <tr>\n",
              "      <th>Outage_sec_perweek</th>\n",
              "      <td>-0.010012</td>\n",
              "      <td>1.000100</td>\n",
              "      <td>0.002932</td>\n",
              "      <td>0.020498</td>\n",
              "      <td>0.004176</td>\n",
              "    </tr>\n",
              "    <tr>\n",
              "      <th>Tenure</th>\n",
              "      <td>0.002115</td>\n",
              "      <td>0.002932</td>\n",
              "      <td>1.000100</td>\n",
              "      <td>-0.003337</td>\n",
              "      <td>0.991594</td>\n",
              "    </tr>\n",
              "    <tr>\n",
              "      <th>MonthlyCharge</th>\n",
              "      <td>-0.003014</td>\n",
              "      <td>0.020498</td>\n",
              "      <td>-0.003337</td>\n",
              "      <td>1.000100</td>\n",
              "      <td>0.060412</td>\n",
              "    </tr>\n",
              "    <tr>\n",
              "      <th>Bandwidth_GB_Year</th>\n",
              "      <td>0.003674</td>\n",
              "      <td>0.004176</td>\n",
              "      <td>0.991594</td>\n",
              "      <td>0.060412</td>\n",
              "      <td>1.000100</td>\n",
              "    </tr>\n",
              "  </tbody>\n",
              "</table>\n",
              "</div>"
            ],
            "text/plain": [
              "                      Income  Outage_sec_perweek    Tenure  MonthlyCharge  \\\n",
              "Income              1.000100           -0.010012  0.002115      -0.003014   \n",
              "Outage_sec_perweek -0.010012            1.000100  0.002932       0.020498   \n",
              "Tenure              0.002115            0.002932  1.000100      -0.003337   \n",
              "MonthlyCharge      -0.003014            0.020498 -0.003337       1.000100   \n",
              "Bandwidth_GB_Year   0.003674            0.004176  0.991594       0.060412   \n",
              "\n",
              "                    Bandwidth_GB_Year  \n",
              "Income                       0.003674  \n",
              "Outage_sec_perweek           0.004176  \n",
              "Tenure                       0.991594  \n",
              "MonthlyCharge                0.060412  \n",
              "Bandwidth_GB_Year            1.000100  "
            ]
          },
          "execution_count": 55,
          "metadata": {},
          "output_type": "execute_result"
        }
      ],
      "source": [
        "# Compute covariance matrix - put into new df\n",
        "covariance_matrix =  pd.DataFrame.cov(df_cov_matrix)\n",
        "\n",
        "# View covariance matrix\n",
        "covariance_matrix"
      ]
    },
    {
      "cell_type": "code",
      "execution_count": null,
      "id": "69Ju-aixgOpW",
      "metadata": {
        "colab": {
          "base_uri": "https://localhost:8080/",
          "height": 569
        },
        "id": "69Ju-aixgOpW",
        "outputId": "a38df499-e9ea-4aa0-af8f-f0f01d2ec57f"
      },
      "outputs": [
        {
          "data": {
            "image/png": "[encoded data removed]",
            "text/plain": [
              "<Figure size 432x288 with 2 Axes>"
            ]
          },
          "metadata": {
            "needs_background": "light"
          },
          "output_type": "display_data"
        }
      ],
      "source": [
        "# Show heatmap of covariance matrix\n",
        "sns.heatmap(covariance_matrix, annot = True, cmap = 'icefire', fmt = '.3f');"
      ]
    },
    {
      "cell_type": "code",
      "execution_count": null,
      "id": "59rqXtkRWBR5",
      "metadata": {
        "colab": {
          "base_uri": "https://localhost:8080/",
          "height": 206
        },
        "id": "59rqXtkRWBR5",
        "outputId": "3c6d6613-3c38-4aa1-de29-71f21b5b1e5c"
      },
      "outputs": [
        {
          "data": {
            "text/html": [
              "<div>\n",
              "<style scoped>\n",
              "    .dataframe tbody tr th:only-of-type {\n",
              "        vertical-align: middle;\n",
              "    }\n",
              "\n",
              "    .dataframe tbody tr th {\n",
              "        vertical-align: top;\n",
              "    }\n",
              "\n",
              "    .dataframe thead th {\n",
              "        text-align: right;\n",
              "    }\n",
              "</style>\n",
              "<table border=\"1\" class=\"dataframe\">\n",
              "  <thead>\n",
              "    <tr style=\"text-align: right;\">\n",
              "      <th></th>\n",
              "      <th>Eigenvalue per PC</th>\n",
              "    </tr>\n",
              "  </thead>\n",
              "  <tbody>\n",
              "    <tr>\n",
              "      <th>PC_1</th>\n",
              "      <td>1.993</td>\n",
              "    </tr>\n",
              "    <tr>\n",
              "      <th>PC_2</th>\n",
              "      <td>1.024</td>\n",
              "    </tr>\n",
              "    <tr>\n",
              "      <th>PC_3</th>\n",
              "      <td>0.998</td>\n",
              "    </tr>\n",
              "    <tr>\n",
              "      <th>PC_4</th>\n",
              "      <td>0.979</td>\n",
              "    </tr>\n",
              "    <tr>\n",
              "      <th>PC_5</th>\n",
              "      <td>0.006</td>\n",
              "    </tr>\n",
              "  </tbody>\n",
              "</table>\n",
              "</div>"
            ],
            "text/plain": [
              "      Eigenvalue per PC\n",
              "PC_1              1.993\n",
              "PC_2              1.024\n",
              "PC_3              0.998\n",
              "PC_4              0.979\n",
              "PC_5              0.006"
            ]
          },
          "execution_count": 57,
          "metadata": {},
          "output_type": "execute_result"
        }
      ],
      "source": [
        "# Eigenvalues\n",
        "# Calculate Eigenvalues\n",
        "eigenvalues = pca.explained_variance_\n",
        "\n",
        "# Create df with eigenvalues and pc's\n",
        "df_eigenvalues = pd.DataFrame(eigenvalues.round(3), columns = ['Eigenvalue per PC'], index = ['PC_1', 'PC_2', 'PC_3', 'PC_4', 'PC_5'])\n",
        "\n",
        "# View eigenvalue df\n",
        "df_eigenvalues"
      ]
    },
    {
      "cell_type": "code",
      "execution_count": null,
      "id": "oMgRyo8oXmL1",
      "metadata": {
        "colab": {
          "base_uri": "https://localhost:8080/",
          "height": 472
        },
        "id": "oMgRyo8oXmL1",
        "outputId": "ed636e20-db00-4f6c-b707-c4923a07fe5b"
      },
      "outputs": [
        {
          "data": {
            "image/png": "[encoded data removed]",
            "text/plain": [
              "<Figure size 432x288 with 1 Axes>"
            ]
          },
          "metadata": {
            "needs_background": "light"
          },
          "output_type": "display_data"
        }
      ],
      "source": [
        "# Scree Plot\n",
        "plt.plot(eigenvalues)\n",
        "plt.title(\"Scree Plot of Eigenvalues\")\n",
        "plt.xlabel(\"Number of Components\")\n",
        "plt.ylabel(\"Eigenvalue\")\n",
        "plt.axhline(y = 1, color = 'red', linestyle = '--')\n",
        "plt.xticks(range(0, 5))\n",
        "plt.show()"
      ]
    },
    {
      "cell_type": "code",
      "execution_count": null,
      "id": "aGrUmSED-6xu",
      "metadata": {
        "colab": {
          "base_uri": "https://localhost:8080/",
          "height": 206
        },
        "id": "aGrUmSED-6xu",
        "outputId": "aaefea71-5354-4828-f9be-951cea0a1bf8"
      },
      "outputs": [
        {
          "data": {
            "text/html": [
              "<div>\n",
              "<style scoped>\n",
              "    .dataframe tbody tr th:only-of-type {\n",
              "        vertical-align: middle;\n",
              "    }\n",
              "\n",
              "    .dataframe tbody tr th {\n",
              "        vertical-align: top;\n",
              "    }\n",
              "\n",
              "    .dataframe thead th {\n",
              "        text-align: right;\n",
              "    }\n",
              "</style>\n",
              "<table border=\"1\" class=\"dataframe\">\n",
              "  <thead>\n",
              "    <tr style=\"text-align: right;\">\n",
              "      <th></th>\n",
              "      <th>PC_1</th>\n",
              "      <th>PC_2</th>\n",
              "      <th>PC_3</th>\n",
              "      <th>PC_4</th>\n",
              "      <th>PC_5</th>\n",
              "    </tr>\n",
              "  </thead>\n",
              "  <tbody>\n",
              "    <tr>\n",
              "      <th>Income</th>\n",
              "      <td>0.003936</td>\n",
              "      <td>0.365683</td>\n",
              "      <td>0.897256</td>\n",
              "      <td>0.247368</td>\n",
              "      <td>-0.001250</td>\n",
              "    </tr>\n",
              "    <tr>\n",
              "      <th>Outage_sec_perweek</th>\n",
              "      <td>0.005858</td>\n",
              "      <td>-0.682929</td>\n",
              "      <td>0.078077</td>\n",
              "      <td>0.726276</td>\n",
              "      <td>0.000034</td>\n",
              "    </tr>\n",
              "    <tr>\n",
              "      <th>Tenure</th>\n",
              "      <td>0.705844</td>\n",
              "      <td>0.039973</td>\n",
              "      <td>-0.030063</td>\n",
              "      <td>0.035159</td>\n",
              "      <td>-0.705724</td>\n",
              "    </tr>\n",
              "    <tr>\n",
              "      <th>MonthlyCharge</th>\n",
              "      <td>0.040748</td>\n",
              "      <td>-0.631099</td>\n",
              "      <td>0.433512</td>\n",
              "      <td>-0.640363</td>\n",
              "      <td>-0.045361</td>\n",
              "    </tr>\n",
              "    <tr>\n",
              "      <th>Bandwidth_GB_Year</th>\n",
              "      <td>0.707159</td>\n",
              "      <td>0.000089</td>\n",
              "      <td>-0.000613</td>\n",
              "      <td>-0.005588</td>\n",
              "      <td>0.707032</td>\n",
              "    </tr>\n",
              "  </tbody>\n",
              "</table>\n",
              "</div>"
            ],
            "text/plain": [
              "                        PC_1      PC_2      PC_3      PC_4      PC_5\n",
              "Income              0.003936  0.365683  0.897256  0.247368 -0.001250\n",
              "Outage_sec_perweek  0.005858 -0.682929  0.078077  0.726276  0.000034\n",
              "Tenure              0.705844  0.039973 -0.030063  0.035159 -0.705724\n",
              "MonthlyCharge       0.040748 -0.631099  0.433512 -0.640363 -0.045361\n",
              "Bandwidth_GB_Year   0.707159  0.000089 -0.000613 -0.005588  0.707032"
            ]
          },
          "execution_count": 59,
          "metadata": {},
          "output_type": "execute_result"
        }
      ],
      "source": [
        "# Create loadings df\n",
        "loadings = pd.DataFrame(pca.components_.T, columns = ['PC_1', 'PC_2', 'PC_3', 'PC_4', 'PC_5'], index = df.columns)\n",
        "\n",
        "# View principal component loadings\n",
        "loadings"
      ]
    },
    {
      "cell_type": "code",
      "execution_count": null,
      "id": "rPlKegZaiAfg",
      "metadata": {
        "colab": {
          "base_uri": "https://localhost:8080/"
        },
        "id": "rPlKegZaiAfg",
        "outputId": "ce7c2da5-65a0-4b73-bcdc-56ec4ee0d039"
      },
      "outputs": [
        {
          "name": "stdout",
          "output_type": "stream",
          "text": [
            "Variance Explained by all PC's =  100\n"
          ]
        }
      ],
      "source": [
        "# Explained variance confirmation\n",
        "print(\"Variance Explained by all PC's = \", round(sum((pca.explained_variance_ratio_ * 100))))"
      ]
    },
    {
      "cell_type": "code",
      "execution_count": null,
      "id": "aAx0AUdAiss6",
      "metadata": {
        "colab": {
          "base_uri": "https://localhost:8080/",
          "height": 206
        },
        "id": "aAx0AUdAiss6",
        "outputId": "e16ef45f-67a9-48bb-8fc3-873cf9de9ced"
      },
      "outputs": [
        {
          "data": {
            "text/html": [
              "<div>\n",
              "<style scoped>\n",
              "    .dataframe tbody tr th:only-of-type {\n",
              "        vertical-align: middle;\n",
              "    }\n",
              "\n",
              "    .dataframe tbody tr th {\n",
              "        vertical-align: top;\n",
              "    }\n",
              "\n",
              "    .dataframe thead th {\n",
              "        text-align: right;\n",
              "    }\n",
              "</style>\n",
              "<table border=\"1\" class=\"dataframe\">\n",
              "  <thead>\n",
              "    <tr style=\"text-align: right;\">\n",
              "      <th></th>\n",
              "      <th>Percent Variance Explained per PC</th>\n",
              "    </tr>\n",
              "  </thead>\n",
              "  <tbody>\n",
              "    <tr>\n",
              "      <th>PC_1</th>\n",
              "      <td>39.86</td>\n",
              "    </tr>\n",
              "    <tr>\n",
              "      <th>PC_2</th>\n",
              "      <td>20.48</td>\n",
              "    </tr>\n",
              "    <tr>\n",
              "      <th>PC_3</th>\n",
              "      <td>19.95</td>\n",
              "    </tr>\n",
              "    <tr>\n",
              "      <th>PC_4</th>\n",
              "      <td>19.57</td>\n",
              "    </tr>\n",
              "    <tr>\n",
              "      <th>PC_5</th>\n",
              "      <td>0.13</td>\n",
              "    </tr>\n",
              "  </tbody>\n",
              "</table>\n",
              "</div>"
            ],
            "text/plain": [
              "      Percent Variance Explained per PC\n",
              "PC_1                              39.86\n",
              "PC_2                              20.48\n",
              "PC_3                              19.95\n",
              "PC_4                              19.57\n",
              "PC_5                               0.13"
            ]
          },
          "execution_count": 61,
          "metadata": {},
          "output_type": "execute_result"
        }
      ],
      "source": [
        "# Captured variance per PC\n",
        "explained_variance = pca.explained_variance_ratio_ * 100\n",
        "\n",
        "# Create explained variance df\n",
        "df_explained_variance = pd.DataFrame(explained_variance.round(2), columns = ['Percent Variance Explained per PC'], index = ['PC_1', 'PC_2', 'PC_3', 'PC_4', 'PC_5'])\n",
        "\n",
        "# View explained variance df\n",
        "df_explained_variance"
      ]
    },
    {
      "cell_type": "code",
      "execution_count": null,
      "id": "86lI5koR_Hzq",
      "metadata": {
        "colab": {
          "base_uri": "https://localhost:8080/",
          "height": 430
        },
        "id": "86lI5koR_Hzq",
        "outputId": "591188f9-e795-4898-d2b8-30450f5dd655"
      },
      "outputs": [
        {
          "data": {
            "image/png": "[encoded data removed]",
            "text/plain": [
              "<Figure size 432x288 with 2 Axes>"
            ]
          },
          "metadata": {
            "needs_background": "light"
          },
          "output_type": "display_data"
        }
      ],
      "source": [
        "# Heatmap of variances\n",
        "sns.heatmap(df_explained_variance, annot = True, linewidths = 1, fmt = '.2f', cmap = 'magma');"
      ]
    },
    {
      "cell_type": "code",
      "execution_count": null,
      "id": "mb47fKYi_4Zc",
      "metadata": {
        "colab": {
          "base_uri": "https://localhost:8080/"
        },
        "id": "mb47fKYi_4Zc",
        "outputId": "855bab1c-3c04-4c12-b09f-ba02c8e000d3"
      },
      "outputs": [
        {
          "data": {
            "text/plain": [
              "60.34"
            ]
          },
          "execution_count": 66,
          "metadata": {},
          "output_type": "execute_result"
        }
      ],
      "source": [
        "# Total variance captured by PC_1 and PC_2\n",
        "# Sum values of PC_1 + PC_2\n",
        "39.86+20.48"
      ]
    },
    {
      "cell_type": "code",
      "execution_count": null,
      "id": "1dsldZZY-D36",
      "metadata": {
        "id": "1dsldZZY-D36"
      },
      "outputs": [],
      "source": [
        "# Cumulative sum of variance covered in terms of percentage\n",
        "pct_sum = np.cumsum(pca.explained_variance_ratio_ * 100)"
      ]
    },
    {
      "cell_type": "code",
      "execution_count": null,
      "id": "qO7aOLcz-nly",
      "metadata": {
        "colab": {
          "base_uri": "https://localhost:8080/",
          "height": 472
        },
        "id": "qO7aOLcz-nly",
        "outputId": "2f16aad7-39df-45ac-a983-29a458ccc1d7"
      },
      "outputs": [
        {
          "data": {
            "image/png": "[encoded data removed]",
            "text/plain": [
              "<Figure size 432x288 with 1 Axes>"
            ]
          },
          "metadata": {
            "needs_background": "light"
          },
          "output_type": "display_data"
        }
      ],
      "source": [
        "# Scree Plot\n",
        "plt.plot(pct_sum)\n",
        "plt.title(\"Scree Plot\")\n",
        "plt.xlabel(\"Number of Components\")\n",
        "plt.ylabel(\"Percentage of Explained Variance\")\n",
        "plt.axhline(y = 60.34, color = 'red', linestyle = '--')\n",
        "plt.xticks(range(0, 5))\n",
        "plt.show()"
      ]
    }
  ],
  "metadata": {
    "colab": {
      "provenance": []
    },
    "kernelspec": {
      "display_name": "Python 3 (ipykernel)",
      "language": "python",
      "name": "python3"
    },
    "language_info": {
      "codemirror_mode": {
        "name": "ipython",
        "version": 3
      },
      "file_extension": ".py",
      "mimetype": "text/x-python",
      "name": "python",
      "nbconvert_exporter": "python",
      "pygments_lexer": "ipython3",
      "version": "3.9.12"
    }
  },
  "nbformat": 4,
  "nbformat_minor": 5
}